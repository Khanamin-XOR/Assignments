{
  "nbformat": 4,
  "nbformat_minor": 0,
  "metadata": {
    "kernelspec": {
      "language": "python",
      "display_name": "Python 3",
      "name": "python3"
    },
    "language_info": {
      "name": "python",
      "version": "3.7.10",
      "mimetype": "text/x-python",
      "codemirror_mode": {
        "name": "ipython",
        "version": 3
      },
      "pygments_lexer": "ipython3",
      "nbconvert_exporter": "python",
      "file_extension": ".py"
    },
    "colab": {
      "name": "Attention_Solution_final.ipynb",
      "provenance": [],
      "collapsed_sections": []
    },
    "accelerator": "GPU"
  },
  "cells": [
    {
      "cell_type": "markdown",
      "metadata": {
        "id": "fwPL0hIlGKoA"
      },
      "source": [
        "# <font color='red'>**Sequence to sequence implementation**</font>"
      ]
    },
    {
      "cell_type": "markdown",
      "metadata": {
        "id": "-nYHE_1ck2az"
      },
      "source": [
        "**There will be some functions that start with the word \"grader\" ex: grader_check_encoder(), grader_check_attention(), grader_onestepdecoder() etc, you should not change those function definition.<br><br>Every Grader function has to return True.**\n",
        "\n",
        "**Note 1:**  There are many blogs on the attention mechanisum which might be misleading you,\n",
        " so do read the references completly and after that only please check the internet.\n",
        " The best things is to read the research papers and try to implement it on your own. \n",
        "\n",
        "**Note 2:** To complete this assignment, the reference that are mentioned will be enough.\n",
        "\n",
        "**Note 3:** If you are starting this assignment, you might have completed minimum of 20 assignment.\n",
        " If  you are still not able to implement this algorithm you might have rushed in the previous assignments \n",
        "with out learning much and didn't spend your time productively."
      ]
    },
    {
      "cell_type": "markdown",
      "metadata": {
        "id": "QyfZo8fmLOec"
      },
      "source": [
        "## Task -1: Simple Encoder and Decoder\n",
        "Implement simple Encoder-Decoder model"
      ]
    },
    {
      "cell_type": "markdown",
      "metadata": {
        "id": "IvNSZXNkkOkO"
      },
      "source": [
        "1. Download the **Italian** to **English** translation dataset from <a href=\"http://www.manythings.org/anki/ita-eng.zip\">here</a>\n",
        "\n",
        "2. You will find **ita.txt** file in that ZIP, \n",
        "you can read that data using python and preprocess that data this way only: \n",
        "<img src='https://i.imgur.com/z0j79Jf.png'>    \n",
        "    \n",
        "3. You have to implement a simple Encoder and Decoder architecture  \n",
        "\n",
        "4. Use BLEU score as metric to evaluate your model. You can use any loss function you need.\n",
        "\n",
        "5. You have to use Tensorboard to plot the Graph, Scores and histograms of gradients. \n",
        "\n",
        "6.  a. Check the reference notebook <br>\n",
        "    b. <a href=\"https://medium.com/analytics-vidhya/understand-sequence-to-sequence-models-in-a-more-intuitive-way-1d517d8795bb\">Resource 2</a>\n",
        "    \n",
        "\n"
      ]
    },
    {
      "cell_type": "markdown",
      "metadata": {
        "id": "3k_AlAuKJqVA"
      },
      "source": [
        "<font color='blue'>**Load the data**</font>"
      ]
    },
    {
      "cell_type": "code",
      "metadata": {
        "execution": {
          "iopub.status.busy": "2021-08-28T13:14:31.538693Z",
          "iopub.execute_input": "2021-08-28T13:14:31.539043Z",
          "iopub.status.idle": "2021-08-28T13:14:35.774834Z",
          "shell.execute_reply.started": "2021-08-28T13:14:31.539010Z",
          "shell.execute_reply": "2021-08-28T13:14:35.773905Z"
        },
        "trusted": true,
        "id": "6j2hUUI9NwD7"
      },
      "source": [
        "import matplotlib.pyplot as plt\n",
        "%matplotlib inline\n",
        "# import seaborn as sns\n",
        "import pandas as pd\n",
        "import re\n",
        "import tensorflow as tf\n",
        "from tensorflow.keras.layers import Embedding, LSTM, Dense\n",
        "from tensorflow.keras.models import Model\n",
        "from tensorflow.keras.preprocessing.text import Tokenizer\n",
        "from tensorflow.keras.preprocessing.sequence import pad_sequences\n",
        "import numpy as np\n",
        "from tensorflow.keras.callbacks import*\n",
        "import os\n",
        "import datetime"
      ],
      "execution_count": null,
      "outputs": []
    },
    {
      "cell_type": "code",
      "metadata": {
        "id": "fU80Ao-AGaob",
        "execution": {
          "iopub.status.busy": "2021-08-28T13:14:35.776535Z",
          "iopub.execute_input": "2021-08-28T13:14:35.776894Z",
          "iopub.status.idle": "2021-08-28T13:14:37.124395Z",
          "shell.execute_reply.started": "2021-08-28T13:14:35.776855Z",
          "shell.execute_reply": "2021-08-28T13:14:37.123457Z"
        },
        "trusted": true,
        "colab": {
          "base_uri": "https://localhost:8080/",
          "height": 221
        },
        "outputId": "75d1ebb5-a49c-494e-ce0a-091b29809dfc"
      },
      "source": [
        "with open('/content/drive/MyDrive/Seq_Seq_attention/ita.txt', 'r', encoding=\"utf8\") as f:\n",
        "    eng=[]\n",
        "    ita=[]\n",
        "    for i in f.readlines():\n",
        "        eng.append(i.split(\"\\t\")[0])\n",
        "        ita.append(i.split(\"\\t\")[1])\n",
        "data = pd.DataFrame(data=list(zip(eng, ita)), columns=['english','italian'])\n",
        "print(data.shape)\n",
        "data.head()"
      ],
      "execution_count": null,
      "outputs": [
        {
          "output_type": "stream",
          "name": "stdout",
          "text": [
            "(352040, 2)\n"
          ]
        },
        {
          "output_type": "execute_result",
          "data": {
            "text/html": [
              "<div>\n",
              "<style scoped>\n",
              "    .dataframe tbody tr th:only-of-type {\n",
              "        vertical-align: middle;\n",
              "    }\n",
              "\n",
              "    .dataframe tbody tr th {\n",
              "        vertical-align: top;\n",
              "    }\n",
              "\n",
              "    .dataframe thead th {\n",
              "        text-align: right;\n",
              "    }\n",
              "</style>\n",
              "<table border=\"1\" class=\"dataframe\">\n",
              "  <thead>\n",
              "    <tr style=\"text-align: right;\">\n",
              "      <th></th>\n",
              "      <th>english</th>\n",
              "      <th>italian</th>\n",
              "    </tr>\n",
              "  </thead>\n",
              "  <tbody>\n",
              "    <tr>\n",
              "      <th>0</th>\n",
              "      <td>Hi.</td>\n",
              "      <td>Ciao!</td>\n",
              "    </tr>\n",
              "    <tr>\n",
              "      <th>1</th>\n",
              "      <td>Hi.</td>\n",
              "      <td>Ciao.</td>\n",
              "    </tr>\n",
              "    <tr>\n",
              "      <th>2</th>\n",
              "      <td>Run!</td>\n",
              "      <td>Corri!</td>\n",
              "    </tr>\n",
              "    <tr>\n",
              "      <th>3</th>\n",
              "      <td>Run!</td>\n",
              "      <td>Corra!</td>\n",
              "    </tr>\n",
              "    <tr>\n",
              "      <th>4</th>\n",
              "      <td>Run!</td>\n",
              "      <td>Correte!</td>\n",
              "    </tr>\n",
              "  </tbody>\n",
              "</table>\n",
              "</div>"
            ],
            "text/plain": [
              "  english   italian\n",
              "0     Hi.     Ciao!\n",
              "1     Hi.     Ciao.\n",
              "2    Run!    Corri!\n",
              "3    Run!    Corra!\n",
              "4    Run!  Correte!"
            ]
          },
          "metadata": {},
          "execution_count": 3
        }
      ]
    },
    {
      "cell_type": "markdown",
      "metadata": {
        "id": "vmGWTdRmKRph"
      },
      "source": [
        "<font color='blue'>**Preprocess data**</font>"
      ]
    },
    {
      "cell_type": "code",
      "metadata": {
        "id": "9QqElB_nKZos",
        "execution": {
          "iopub.status.busy": "2021-08-28T13:14:37.126414Z",
          "iopub.execute_input": "2021-08-28T13:14:37.126692Z",
          "iopub.status.idle": "2021-08-28T13:14:54.683577Z",
          "shell.execute_reply.started": "2021-08-28T13:14:37.126666Z",
          "shell.execute_reply": "2021-08-28T13:14:54.682600Z"
        },
        "trusted": true,
        "colab": {
          "base_uri": "https://localhost:8080/",
          "height": 203
        },
        "outputId": "62c7d563-9451-493f-ddf4-de06f490997e"
      },
      "source": [
        "def decontractions(phrase):\n",
        "    \"\"\"decontracted takes text and convert contractions into natural form.\n",
        "     ref: https://stackoverflow.com/questions/19790188/expanding-english-language-contractions-in-python/47091490#47091490\"\"\"\n",
        "    # specific\n",
        "    phrase = re.sub(r\"won\\'t\", \"will not\", phrase)\n",
        "    phrase = re.sub(r\"can\\'t\", \"can not\", phrase)\n",
        "    phrase = re.sub(r\"won\\’t\", \"will not\", phrase)\n",
        "    phrase = re.sub(r\"can\\’t\", \"can not\", phrase)\n",
        "\n",
        "    # general\n",
        "    phrase = re.sub(r\"n\\'t\", \" not\", phrase)\n",
        "    phrase = re.sub(r\"\\'re\", \" are\", phrase)\n",
        "    phrase = re.sub(r\"\\'s\", \" is\", phrase)\n",
        "    phrase = re.sub(r\"\\'d\", \" would\", phrase)\n",
        "    phrase = re.sub(r\"\\'ll\", \" will\", phrase)\n",
        "    phrase = re.sub(r\"\\'t\", \" not\", phrase)\n",
        "    phrase = re.sub(r\"\\'ve\", \" have\", phrase)\n",
        "    phrase = re.sub(r\"\\'m\", \" am\", phrase)\n",
        "\n",
        "    phrase = re.sub(r\"n\\’t\", \" not\", phrase)\n",
        "    phrase = re.sub(r\"\\’re\", \" are\", phrase)\n",
        "    phrase = re.sub(r\"\\’s\", \" is\", phrase)\n",
        "    phrase = re.sub(r\"\\’d\", \" would\", phrase)\n",
        "    phrase = re.sub(r\"\\’ll\", \" will\", phrase)\n",
        "    phrase = re.sub(r\"\\’t\", \" not\", phrase)\n",
        "    phrase = re.sub(r\"\\’ve\", \" have\", phrase)\n",
        "    phrase = re.sub(r\"\\’m\", \" am\", phrase)\n",
        "\n",
        "    return phrase\n",
        "\n",
        "def preprocess(text):\n",
        "    # convert all the text into lower letters\n",
        "    # use this function to remove the contractions: https://gist.github.com/anandborad/d410a49a493b56dace4f814ab5325bbd\n",
        "    # remove all the spacial characters: except space ' '\n",
        "    text = text.lower()\n",
        "    text = decontractions(text)\n",
        "    text = re.sub('[^A-Za-z0-9 ]+', '', text)\n",
        "    return text\n",
        "\n",
        "def preprocess_ita(text):\n",
        "    # convert all the text into lower letters\n",
        "    # remove the words betweent brakets ()\n",
        "    # remove these characters: {'$', ')', '?', '\"', '’', '.',  '°', '!', ';', '/', \"'\", '€', '%', ':', ',', '('}\n",
        "    # replace these spl characters with space: '\\u200b', '\\xa0', '-', '/'\n",
        "    # we have found these characters after observing the data points, feel free to explore more and see if you can do find more\n",
        "    # you are free to do more proprocessing\n",
        "    # note that the model will learn better with better preprocessed data \n",
        "    \n",
        "    text = text.lower()\n",
        "    text = decontractions(text)\n",
        "    text = re.sub('[$)\\?\"’.°!;\\'€%:,(/]', '', text)\n",
        "    text = re.sub('\\u200b', ' ', text)\n",
        "    text = re.sub('\\xa0', ' ', text)\n",
        "    text = re.sub('-', ' ', text)\n",
        "    return text\n",
        "\n",
        "\n",
        "data['english'] = data['english'].apply(preprocess)\n",
        "data['italian'] = data['italian'].apply(preprocess_ita)\n",
        "data.head()"
      ],
      "execution_count": null,
      "outputs": [
        {
          "output_type": "execute_result",
          "data": {
            "text/html": [
              "<div>\n",
              "<style scoped>\n",
              "    .dataframe tbody tr th:only-of-type {\n",
              "        vertical-align: middle;\n",
              "    }\n",
              "\n",
              "    .dataframe tbody tr th {\n",
              "        vertical-align: top;\n",
              "    }\n",
              "\n",
              "    .dataframe thead th {\n",
              "        text-align: right;\n",
              "    }\n",
              "</style>\n",
              "<table border=\"1\" class=\"dataframe\">\n",
              "  <thead>\n",
              "    <tr style=\"text-align: right;\">\n",
              "      <th></th>\n",
              "      <th>english</th>\n",
              "      <th>italian</th>\n",
              "    </tr>\n",
              "  </thead>\n",
              "  <tbody>\n",
              "    <tr>\n",
              "      <th>0</th>\n",
              "      <td>hi</td>\n",
              "      <td>ciao</td>\n",
              "    </tr>\n",
              "    <tr>\n",
              "      <th>1</th>\n",
              "      <td>hi</td>\n",
              "      <td>ciao</td>\n",
              "    </tr>\n",
              "    <tr>\n",
              "      <th>2</th>\n",
              "      <td>run</td>\n",
              "      <td>corri</td>\n",
              "    </tr>\n",
              "    <tr>\n",
              "      <th>3</th>\n",
              "      <td>run</td>\n",
              "      <td>corra</td>\n",
              "    </tr>\n",
              "    <tr>\n",
              "      <th>4</th>\n",
              "      <td>run</td>\n",
              "      <td>correte</td>\n",
              "    </tr>\n",
              "  </tbody>\n",
              "</table>\n",
              "</div>"
            ],
            "text/plain": [
              "  english  italian\n",
              "0      hi     ciao\n",
              "1      hi     ciao\n",
              "2     run    corri\n",
              "3     run    corra\n",
              "4     run  correte"
            ]
          },
          "metadata": {},
          "execution_count": 4
        }
      ]
    },
    {
      "cell_type": "code",
      "metadata": {
        "execution": {
          "iopub.status.busy": "2021-08-28T13:14:54.685284Z",
          "iopub.execute_input": "2021-08-28T13:14:54.685619Z",
          "iopub.status.idle": "2021-08-28T13:14:56.691203Z",
          "shell.execute_reply.started": "2021-08-28T13:14:54.685584Z",
          "shell.execute_reply": "2021-08-28T13:14:56.690341Z"
        },
        "trusted": true,
        "id": "1LDetg8iNwEC"
      },
      "source": [
        "ita_lengths = data['italian'].str.split().apply(len)\n",
        "eng_lengths = data['english'].str.split().apply(len)"
      ],
      "execution_count": null,
      "outputs": []
    },
    {
      "cell_type": "code",
      "metadata": {
        "execution": {
          "iopub.status.busy": "2021-08-28T13:14:56.692453Z",
          "iopub.execute_input": "2021-08-28T13:14:56.692857Z",
          "iopub.status.idle": "2021-08-28T13:14:56.786990Z",
          "shell.execute_reply.started": "2021-08-28T13:14:56.692813Z",
          "shell.execute_reply": "2021-08-28T13:14:56.786223Z"
        },
        "trusted": true,
        "id": "JavwURVXNwEC",
        "colab": {
          "base_uri": "https://localhost:8080/"
        },
        "outputId": "a42250a0-eb34-4755-b07d-034c2d07be22"
      },
      "source": [
        "for i in range(0,101,10):\n",
        "    print(i,np.percentile(ita_lengths, i))\n",
        "for i in range(90,101):\n",
        "    print(i,np.percentile(ita_lengths, i))\n",
        "for i in [99.1,99.2,99.3,99.4,99.5,99.6,99.7,99.8,99.9,100]:\n",
        "    print(i,np.percentile(ita_lengths, i))"
      ],
      "execution_count": null,
      "outputs": [
        {
          "output_type": "stream",
          "name": "stdout",
          "text": [
            "0 1.0\n",
            "10 3.0\n",
            "20 4.0\n",
            "30 4.0\n",
            "40 5.0\n",
            "50 5.0\n",
            "60 6.0\n",
            "70 6.0\n",
            "80 7.0\n",
            "90 8.0\n",
            "100 92.0\n",
            "90 8.0\n",
            "91 8.0\n",
            "92 8.0\n",
            "93 9.0\n",
            "94 9.0\n",
            "95 9.0\n",
            "96 10.0\n",
            "97 10.0\n",
            "98 11.0\n",
            "99 12.0\n",
            "100 92.0\n",
            "99.1 12.0\n",
            "99.2 12.0\n",
            "99.3 13.0\n",
            "99.4 13.0\n",
            "99.5 13.0\n",
            "99.6 14.0\n",
            "99.7 15.0\n",
            "99.8 16.0\n",
            "99.9 22.0\n",
            "100 92.0\n"
          ]
        }
      ]
    },
    {
      "cell_type": "code",
      "metadata": {
        "execution": {
          "iopub.status.busy": "2021-08-28T13:14:56.788295Z",
          "iopub.execute_input": "2021-08-28T13:14:56.788622Z",
          "iopub.status.idle": "2021-08-28T13:14:56.860275Z",
          "shell.execute_reply.started": "2021-08-28T13:14:56.788585Z",
          "shell.execute_reply": "2021-08-28T13:14:56.859496Z"
        },
        "trusted": true,
        "id": "TaplW35nNwED",
        "colab": {
          "base_uri": "https://localhost:8080/"
        },
        "outputId": "5b23490c-6c8f-434c-a3d2-5b7879c12eb5"
      },
      "source": [
        "for i in range(0,101,10):\n",
        "    print(i,np.percentile(eng_lengths, i))\n",
        "for i in range(90,101):\n",
        "    print(i,np.percentile(eng_lengths, i))\n",
        "for i in [99.1,99.2,99.3,99.4,99.5,99.6,99.7,99.8,99.9,100]:\n",
        "    print(i,np.percentile(eng_lengths, i))"
      ],
      "execution_count": null,
      "outputs": [
        {
          "output_type": "stream",
          "name": "stdout",
          "text": [
            "0 1.0\n",
            "10 4.0\n",
            "20 4.0\n",
            "30 5.0\n",
            "40 5.0\n",
            "50 6.0\n",
            "60 6.0\n",
            "70 7.0\n",
            "80 7.0\n",
            "90 8.0\n",
            "100 101.0\n",
            "90 8.0\n",
            "91 9.0\n",
            "92 9.0\n",
            "93 9.0\n",
            "94 9.0\n",
            "95 9.0\n",
            "96 10.0\n",
            "97 10.0\n",
            "98 11.0\n",
            "99 12.0\n",
            "100 101.0\n",
            "99.1 12.0\n",
            "99.2 13.0\n",
            "99.3 13.0\n",
            "99.4 13.0\n",
            "99.5 14.0\n",
            "99.6 14.0\n",
            "99.7 15.0\n",
            "99.8 16.0\n",
            "99.9 25.0\n",
            "100 101.0\n"
          ]
        }
      ]
    },
    {
      "cell_type": "code",
      "metadata": {
        "execution": {
          "iopub.status.busy": "2021-08-28T13:14:56.863174Z",
          "iopub.execute_input": "2021-08-28T13:14:56.863431Z",
          "iopub.status.idle": "2021-08-28T13:14:59.521602Z",
          "shell.execute_reply.started": "2021-08-28T13:14:56.863405Z",
          "shell.execute_reply": "2021-08-28T13:14:59.520759Z"
        },
        "trusted": true,
        "id": "qnZs7PZmNwED",
        "colab": {
          "base_uri": "https://localhost:8080/",
          "height": 203
        },
        "outputId": "ea5315e7-6669-4f8b-95f3-a07a8883abdf"
      },
      "source": [
        "data['italian_len'] = data['italian'].str.split().apply(len)\n",
        "data = data[data['italian_len'] < 20]\n",
        "\n",
        "data['english_len'] = data['english'].str.split().apply(len)\n",
        "data = data[data['english_len'] < 20]\n",
        "\n",
        "data['english_inp'] = '<start> ' + data['english'].astype(str)\n",
        "data['english_out'] = data['english'].astype(str) + ' <end>'\n",
        "\n",
        "data = data.drop(['english','italian_len','english_len'], axis=1)\n",
        "# only for the first sentance add a toke <end> so that we will have <end> in tokenizer\n",
        "data.head()"
      ],
      "execution_count": null,
      "outputs": [
        {
          "output_type": "execute_result",
          "data": {
            "text/html": [
              "<div>\n",
              "<style scoped>\n",
              "    .dataframe tbody tr th:only-of-type {\n",
              "        vertical-align: middle;\n",
              "    }\n",
              "\n",
              "    .dataframe tbody tr th {\n",
              "        vertical-align: top;\n",
              "    }\n",
              "\n",
              "    .dataframe thead th {\n",
              "        text-align: right;\n",
              "    }\n",
              "</style>\n",
              "<table border=\"1\" class=\"dataframe\">\n",
              "  <thead>\n",
              "    <tr style=\"text-align: right;\">\n",
              "      <th></th>\n",
              "      <th>italian</th>\n",
              "      <th>english_inp</th>\n",
              "      <th>english_out</th>\n",
              "    </tr>\n",
              "  </thead>\n",
              "  <tbody>\n",
              "    <tr>\n",
              "      <th>0</th>\n",
              "      <td>ciao</td>\n",
              "      <td>&lt;start&gt; hi</td>\n",
              "      <td>hi &lt;end&gt;</td>\n",
              "    </tr>\n",
              "    <tr>\n",
              "      <th>1</th>\n",
              "      <td>ciao</td>\n",
              "      <td>&lt;start&gt; hi</td>\n",
              "      <td>hi &lt;end&gt;</td>\n",
              "    </tr>\n",
              "    <tr>\n",
              "      <th>2</th>\n",
              "      <td>corri</td>\n",
              "      <td>&lt;start&gt; run</td>\n",
              "      <td>run &lt;end&gt;</td>\n",
              "    </tr>\n",
              "    <tr>\n",
              "      <th>3</th>\n",
              "      <td>corra</td>\n",
              "      <td>&lt;start&gt; run</td>\n",
              "      <td>run &lt;end&gt;</td>\n",
              "    </tr>\n",
              "    <tr>\n",
              "      <th>4</th>\n",
              "      <td>correte</td>\n",
              "      <td>&lt;start&gt; run</td>\n",
              "      <td>run &lt;end&gt;</td>\n",
              "    </tr>\n",
              "  </tbody>\n",
              "</table>\n",
              "</div>"
            ],
            "text/plain": [
              "   italian  english_inp english_out\n",
              "0     ciao   <start> hi    hi <end>\n",
              "1     ciao   <start> hi    hi <end>\n",
              "2    corri  <start> run   run <end>\n",
              "3    corra  <start> run   run <end>\n",
              "4  correte  <start> run   run <end>"
            ]
          },
          "metadata": {},
          "execution_count": 8
        }
      ]
    },
    {
      "cell_type": "code",
      "metadata": {
        "execution": {
          "iopub.status.busy": "2021-08-28T13:14:59.526677Z",
          "iopub.execute_input": "2021-08-28T13:14:59.528767Z",
          "iopub.status.idle": "2021-08-28T13:14:59.560477Z",
          "shell.execute_reply.started": "2021-08-28T13:14:59.528721Z",
          "shell.execute_reply": "2021-08-28T13:14:59.559706Z"
        },
        "trusted": true,
        "id": "2lvUEaqxNwEE",
        "colab": {
          "base_uri": "https://localhost:8080/",
          "height": 357
        },
        "outputId": "cf04b2c6-797a-4e7c-909f-bb377d03b0cb"
      },
      "source": [
        "data.sample(10)"
      ],
      "execution_count": null,
      "outputs": [
        {
          "output_type": "execute_result",
          "data": {
            "text/html": [
              "<div>\n",
              "<style scoped>\n",
              "    .dataframe tbody tr th:only-of-type {\n",
              "        vertical-align: middle;\n",
              "    }\n",
              "\n",
              "    .dataframe tbody tr th {\n",
              "        vertical-align: top;\n",
              "    }\n",
              "\n",
              "    .dataframe thead th {\n",
              "        text-align: right;\n",
              "    }\n",
              "</style>\n",
              "<table border=\"1\" class=\"dataframe\">\n",
              "  <thead>\n",
              "    <tr style=\"text-align: right;\">\n",
              "      <th></th>\n",
              "      <th>italian</th>\n",
              "      <th>english_inp</th>\n",
              "      <th>english_out</th>\n",
              "    </tr>\n",
              "  </thead>\n",
              "  <tbody>\n",
              "    <tr>\n",
              "      <th>238592</th>\n",
              "      <td>era preoccupata vero</td>\n",
              "      <td>&lt;start&gt; you were worried were not you</td>\n",
              "      <td>you were worried were not you &lt;end&gt;</td>\n",
              "    </tr>\n",
              "    <tr>\n",
              "      <th>48044</th>\n",
              "      <td>so che lho fatto</td>\n",
              "      <td>&lt;start&gt; i know i did that</td>\n",
              "      <td>i know i did that &lt;end&gt;</td>\n",
              "    </tr>\n",
              "    <tr>\n",
              "      <th>123387</th>\n",
              "      <td>per favore correggi il mio conto</td>\n",
              "      <td>&lt;start&gt; please correct my bill</td>\n",
              "      <td>please correct my bill &lt;end&gt;</td>\n",
              "    </tr>\n",
              "    <tr>\n",
              "      <th>297582</th>\n",
              "      <td>tom spiegò la situazione a mary</td>\n",
              "      <td>&lt;start&gt; tom explained the situation to mary</td>\n",
              "      <td>tom explained the situation to mary &lt;end&gt;</td>\n",
              "    </tr>\n",
              "    <tr>\n",
              "      <th>332792</th>\n",
              "      <td>mary è una ragazza con cui è piacevole parlare</td>\n",
              "      <td>&lt;start&gt; mary is a girl who is pleasant to talk...</td>\n",
              "      <td>mary is a girl who is pleasant to talk with &lt;end&gt;</td>\n",
              "    </tr>\n",
              "    <tr>\n",
              "      <th>112251</th>\n",
              "      <td>provate a pensarci</td>\n",
              "      <td>&lt;start&gt; try to think about it</td>\n",
              "      <td>try to think about it &lt;end&gt;</td>\n",
              "    </tr>\n",
              "    <tr>\n",
              "      <th>184716</th>\n",
              "      <td>io sto ascoltando questa band</td>\n",
              "      <td>&lt;start&gt; i am listening to this band</td>\n",
              "      <td>i am listening to this band &lt;end&gt;</td>\n",
              "    </tr>\n",
              "    <tr>\n",
              "      <th>204319</th>\n",
              "      <td>tom accettò linevitabile</td>\n",
              "      <td>&lt;start&gt; tom accepted the inevitable</td>\n",
              "      <td>tom accepted the inevitable &lt;end&gt;</td>\n",
              "    </tr>\n",
              "    <tr>\n",
              "      <th>12245</th>\n",
              "      <td>mi ha mentito</td>\n",
              "      <td>&lt;start&gt; he lied to me</td>\n",
              "      <td>he lied to me &lt;end&gt;</td>\n",
              "    </tr>\n",
              "    <tr>\n",
              "      <th>316662</th>\n",
              "      <td>perché non andate a sedervi al tavolo</td>\n",
              "      <td>&lt;start&gt; why do not you go sit down at the table</td>\n",
              "      <td>why do not you go sit down at the table &lt;end&gt;</td>\n",
              "    </tr>\n",
              "  </tbody>\n",
              "</table>\n",
              "</div>"
            ],
            "text/plain": [
              "                                               italian  ...                                        english_out\n",
              "238592                            era preoccupata vero  ...                you were worried were not you <end>\n",
              "48044                                 so che lho fatto  ...                            i know i did that <end>\n",
              "123387                per favore correggi il mio conto  ...                       please correct my bill <end>\n",
              "297582                 tom spiegò la situazione a mary  ...          tom explained the situation to mary <end>\n",
              "332792  mary è una ragazza con cui è piacevole parlare  ...  mary is a girl who is pleasant to talk with <end>\n",
              "112251                              provate a pensarci  ...                        try to think about it <end>\n",
              "184716                   io sto ascoltando questa band  ...                  i am listening to this band <end>\n",
              "204319                        tom accettò linevitabile  ...                  tom accepted the inevitable <end>\n",
              "12245                                    mi ha mentito  ...                                he lied to me <end>\n",
              "316662           perché non andate a sedervi al tavolo  ...      why do not you go sit down at the table <end>\n",
              "\n",
              "[10 rows x 3 columns]"
            ]
          },
          "metadata": {},
          "execution_count": 9
        }
      ]
    },
    {
      "cell_type": "code",
      "metadata": {
        "execution": {
          "iopub.status.busy": "2021-08-28T13:14:59.564552Z",
          "iopub.execute_input": "2021-08-28T13:14:59.566543Z",
          "iopub.status.idle": "2021-08-28T13:15:00.203580Z",
          "shell.execute_reply.started": "2021-08-28T13:14:59.566503Z",
          "shell.execute_reply": "2021-08-28T13:15:00.202725Z"
        },
        "trusted": true,
        "id": "aG8UBg1KNwEF"
      },
      "source": [
        "from sklearn.model_selection import train_test_split\n",
        "train, test = train_test_split(data, test_size = 0.1, random_state = 0)\n"
      ],
      "execution_count": null,
      "outputs": []
    },
    {
      "cell_type": "code",
      "metadata": {
        "execution": {
          "iopub.status.busy": "2021-08-28T13:15:00.206579Z",
          "iopub.execute_input": "2021-08-28T13:15:00.206849Z",
          "iopub.status.idle": "2021-08-28T13:15:00.215130Z",
          "shell.execute_reply.started": "2021-08-28T13:15:00.206822Z",
          "shell.execute_reply": "2021-08-28T13:15:00.214140Z"
        },
        "trusted": true,
        "id": "a2V04F18NwEF",
        "colab": {
          "base_uri": "https://localhost:8080/"
        },
        "outputId": "d9f4512a-b2a7-4376-801a-c6b4cd5118df"
      },
      "source": [
        "print(train.shape, test.shape)\n",
        "# for one sentence we will be adding <end> token so that the tokanizer learns the word <end>\n",
        "# with this we can use only one tokenizer for both encoder output and decoder output\n",
        "train.iloc[0]['english_inp']= str(train.iloc[0]['english_inp'])+' <end>'\n",
        "train.iloc[0]['english_out']= str(train.iloc[0]['english_out'])+' <end>'"
      ],
      "execution_count": null,
      "outputs": [
        {
          "output_type": "stream",
          "name": "stdout",
          "text": [
            "(316399, 3) (35156, 3)\n"
          ]
        }
      ]
    },
    {
      "cell_type": "code",
      "metadata": {
        "execution": {
          "iopub.status.busy": "2021-08-28T13:15:00.216284Z",
          "iopub.execute_input": "2021-08-28T13:15:00.216709Z",
          "iopub.status.idle": "2021-08-28T13:15:00.231089Z",
          "shell.execute_reply.started": "2021-08-28T13:15:00.216674Z",
          "shell.execute_reply": "2021-08-28T13:15:00.230213Z"
        },
        "trusted": true,
        "id": "3QrSPr7VNwEG",
        "colab": {
          "base_uri": "https://localhost:8080/",
          "height": 203
        },
        "outputId": "4014c3d9-c4e6-421a-92b2-00529d8061f1"
      },
      "source": [
        "train.head()"
      ],
      "execution_count": null,
      "outputs": [
        {
          "output_type": "execute_result",
          "data": {
            "text/html": [
              "<div>\n",
              "<style scoped>\n",
              "    .dataframe tbody tr th:only-of-type {\n",
              "        vertical-align: middle;\n",
              "    }\n",
              "\n",
              "    .dataframe tbody tr th {\n",
              "        vertical-align: top;\n",
              "    }\n",
              "\n",
              "    .dataframe thead th {\n",
              "        text-align: right;\n",
              "    }\n",
              "</style>\n",
              "<table border=\"1\" class=\"dataframe\">\n",
              "  <thead>\n",
              "    <tr style=\"text-align: right;\">\n",
              "      <th></th>\n",
              "      <th>italian</th>\n",
              "      <th>english_inp</th>\n",
              "      <th>english_out</th>\n",
              "    </tr>\n",
              "  </thead>\n",
              "  <tbody>\n",
              "    <tr>\n",
              "      <th>9566</th>\n",
              "      <td>liberi tom</td>\n",
              "      <td>&lt;start&gt; set tom free &lt;end&gt;</td>\n",
              "      <td>set tom free &lt;end&gt; &lt;end&gt;</td>\n",
              "    </tr>\n",
              "    <tr>\n",
              "      <th>333330</th>\n",
              "      <td>tom non sa farsi capire in francese</td>\n",
              "      <td>&lt;start&gt; tom can not make himself understood in...</td>\n",
              "      <td>tom can not make himself understood in french ...</td>\n",
              "    </tr>\n",
              "    <tr>\n",
              "      <th>256099</th>\n",
              "      <td>penso che mi dovrebbe ascoltare</td>\n",
              "      <td>&lt;start&gt; i think you should listen to me</td>\n",
              "      <td>i think you should listen to me &lt;end&gt;</td>\n",
              "    </tr>\n",
              "    <tr>\n",
              "      <th>340320</th>\n",
              "      <td>penso che faremmo meglio ad aspettare altri tr...</td>\n",
              "      <td>&lt;start&gt; i think we would better wait another t...</td>\n",
              "      <td>i think we would better wait another thirty mi...</td>\n",
              "    </tr>\n",
              "    <tr>\n",
              "      <th>127911</th>\n",
              "      <td>non abbiamo detto niente</td>\n",
              "      <td>&lt;start&gt; we did not say anything</td>\n",
              "      <td>we did not say anything &lt;end&gt;</td>\n",
              "    </tr>\n",
              "  </tbody>\n",
              "</table>\n",
              "</div>"
            ],
            "text/plain": [
              "                                                  italian  ...                                        english_out\n",
              "9566                                           liberi tom  ...                           set tom free <end> <end>\n",
              "333330                tom non sa farsi capire in francese  ...  tom can not make himself understood in french ...\n",
              "256099                    penso che mi dovrebbe ascoltare  ...              i think you should listen to me <end>\n",
              "340320  penso che faremmo meglio ad aspettare altri tr...  ...  i think we would better wait another thirty mi...\n",
              "127911                           non abbiamo detto niente  ...                      we did not say anything <end>\n",
              "\n",
              "[5 rows x 3 columns]"
            ]
          },
          "metadata": {},
          "execution_count": 12
        }
      ]
    },
    {
      "cell_type": "code",
      "metadata": {
        "execution": {
          "iopub.status.busy": "2021-08-28T13:15:00.233606Z",
          "iopub.execute_input": "2021-08-28T13:15:00.233851Z",
          "iopub.status.idle": "2021-08-28T13:15:00.244555Z",
          "shell.execute_reply.started": "2021-08-28T13:15:00.233828Z",
          "shell.execute_reply": "2021-08-28T13:15:00.243569Z"
        },
        "trusted": true,
        "id": "H424i0qHNwEH",
        "colab": {
          "base_uri": "https://localhost:8080/",
          "height": 203
        },
        "outputId": "fca62622-627f-441c-d6ba-3c7bd63b6bb5"
      },
      "source": [
        "test.head()"
      ],
      "execution_count": null,
      "outputs": [
        {
          "output_type": "execute_result",
          "data": {
            "text/html": [
              "<div>\n",
              "<style scoped>\n",
              "    .dataframe tbody tr th:only-of-type {\n",
              "        vertical-align: middle;\n",
              "    }\n",
              "\n",
              "    .dataframe tbody tr th {\n",
              "        vertical-align: top;\n",
              "    }\n",
              "\n",
              "    .dataframe thead th {\n",
              "        text-align: right;\n",
              "    }\n",
              "</style>\n",
              "<table border=\"1\" class=\"dataframe\">\n",
              "  <thead>\n",
              "    <tr style=\"text-align: right;\">\n",
              "      <th></th>\n",
              "      <th>italian</th>\n",
              "      <th>english_inp</th>\n",
              "      <th>english_out</th>\n",
              "    </tr>\n",
              "  </thead>\n",
              "  <tbody>\n",
              "    <tr>\n",
              "      <th>148349</th>\n",
              "      <td>non pensi che non abbia provato</td>\n",
              "      <td>&lt;start&gt; do not think i did not try</td>\n",
              "      <td>do not think i did not try &lt;end&gt;</td>\n",
              "    </tr>\n",
              "    <tr>\n",
              "      <th>97165</th>\n",
              "      <td>abbiamo cambiato idea</td>\n",
              "      <td>&lt;start&gt; we changed our minds</td>\n",
              "      <td>we changed our minds &lt;end&gt;</td>\n",
              "    </tr>\n",
              "    <tr>\n",
              "      <th>333265</th>\n",
              "      <td>quelle persone laggiù stanno parlando in francese</td>\n",
              "      <td>&lt;start&gt; those people over there are speaking f...</td>\n",
              "      <td>those people over there are speaking french &lt;end&gt;</td>\n",
              "    </tr>\n",
              "    <tr>\n",
              "      <th>215475</th>\n",
              "      <td>io voglio costruire una casa qui</td>\n",
              "      <td>&lt;start&gt; i want to build a house here</td>\n",
              "      <td>i want to build a house here &lt;end&gt;</td>\n",
              "    </tr>\n",
              "    <tr>\n",
              "      <th>62024</th>\n",
              "      <td>starò con tom</td>\n",
              "      <td>&lt;start&gt; i will stay with tom</td>\n",
              "      <td>i will stay with tom &lt;end&gt;</td>\n",
              "    </tr>\n",
              "  </tbody>\n",
              "</table>\n",
              "</div>"
            ],
            "text/plain": [
              "                                                  italian  ...                                        english_out\n",
              "148349                    non pensi che non abbia provato  ...                   do not think i did not try <end>\n",
              "97165                               abbiamo cambiato idea  ...                         we changed our minds <end>\n",
              "333265  quelle persone laggiù stanno parlando in francese  ...  those people over there are speaking french <end>\n",
              "215475                   io voglio costruire una casa qui  ...                 i want to build a house here <end>\n",
              "62024                                       starò con tom  ...                         i will stay with tom <end>\n",
              "\n",
              "[5 rows x 3 columns]"
            ]
          },
          "metadata": {},
          "execution_count": 13
        }
      ]
    },
    {
      "cell_type": "code",
      "metadata": {
        "execution": {
          "iopub.status.busy": "2021-08-28T13:15:00.246078Z",
          "iopub.execute_input": "2021-08-28T13:15:00.246860Z",
          "iopub.status.idle": "2021-08-28T13:15:05.568283Z",
          "shell.execute_reply.started": "2021-08-28T13:15:00.246822Z",
          "shell.execute_reply": "2021-08-28T13:15:05.566458Z"
        },
        "trusted": true,
        "id": "UT51CPTUNwEH",
        "colab": {
          "base_uri": "https://localhost:8080/",
          "height": 542
        },
        "outputId": "8e3d642d-725c-4482-d225-d174b9bc609d"
      },
      "source": [
        "ita_lengths = train['italian'].str.split().apply(len)\n",
        "eng_lengths = train['english_inp'].str.split().apply(len)\n",
        "import seaborn as sns\n",
        "sns.kdeplot(ita_lengths)\n",
        "plt.show()\n",
        "sns.kdeplot(eng_lengths)\n",
        "plt.show()"
      ],
      "execution_count": null,
      "outputs": [
        {
          "output_type": "display_data",
          "data": {
            "image/png": "[encoded data removed]",
            "text/plain": [
              "<Figure size 432x288 with 1 Axes>"
            ]
          },
          "metadata": {
            "needs_background": "light"
          }
        },
        {
          "output_type": "display_data",
          "data": {
            "image/png": "[encoded data removed]",
            "text/plain": [
              "<Figure size 432x288 with 1 Axes>"
            ]
          },
          "metadata": {
            "needs_background": "light"
          }
        }
      ]
    },
    {
      "cell_type": "code",
      "metadata": {
        "execution": {
          "iopub.status.busy": "2021-08-28T13:15:05.569537Z",
          "iopub.execute_input": "2021-08-28T13:15:05.569881Z",
          "iopub.status.idle": "2021-08-28T13:15:12.992395Z",
          "shell.execute_reply.started": "2021-08-28T13:15:05.569843Z",
          "shell.execute_reply": "2021-08-28T13:15:12.991501Z"
        },
        "trusted": true,
        "id": "7QHqz44BNwEI"
      },
      "source": [
        "tknizer_ita = Tokenizer()\n",
        "tknizer_ita.fit_on_texts(train['italian'].values)\n",
        "tknizer_eng = Tokenizer(filters='!\"#$%&()*+,-./:;=?@[\\\\]^_`{|}~\\t\\n')\n",
        "tknizer_eng.fit_on_texts(train['english_inp'].values)"
      ],
      "execution_count": null,
      "outputs": []
    },
    {
      "cell_type": "code",
      "metadata": {
        "execution": {
          "iopub.status.busy": "2021-08-28T13:15:12.993594Z",
          "iopub.execute_input": "2021-08-28T13:15:12.993926Z",
          "iopub.status.idle": "2021-08-28T13:15:13.001287Z",
          "shell.execute_reply.started": "2021-08-28T13:15:12.993893Z",
          "shell.execute_reply": "2021-08-28T13:15:13.000226Z"
        },
        "trusted": true,
        "id": "Y5ZW8gSZNwEI",
        "colab": {
          "base_uri": "https://localhost:8080/"
        },
        "outputId": "444a08b3-63de-494f-d68e-acf759b9fe5b"
      },
      "source": [
        "vocab_size_eng=len(tknizer_eng.word_index.keys())\n",
        "print(vocab_size_eng)\n",
        "vocab_size_ita=len(tknizer_ita.word_index.keys())\n",
        "print(vocab_size_ita)"
      ],
      "execution_count": null,
      "outputs": [
        {
          "output_type": "stream",
          "name": "stdout",
          "text": [
            "13363\n",
            "27508\n"
          ]
        }
      ]
    },
    {
      "cell_type": "code",
      "metadata": {
        "execution": {
          "iopub.status.busy": "2021-08-28T13:15:13.002921Z",
          "iopub.execute_input": "2021-08-28T13:15:13.003629Z",
          "iopub.status.idle": "2021-08-28T13:15:13.010581Z",
          "shell.execute_reply.started": "2021-08-28T13:15:13.003590Z",
          "shell.execute_reply": "2021-08-28T13:15:13.009680Z"
        },
        "trusted": true,
        "id": "tBpkAPY3NwEJ",
        "colab": {
          "base_uri": "https://localhost:8080/"
        },
        "outputId": "adecdff1-cedb-4c16-c1f1-34d9f80eed94"
      },
      "source": [
        "tknizer_eng.word_index['<start>'], tknizer_eng.word_index['<end>']"
      ],
      "execution_count": null,
      "outputs": [
        {
          "output_type": "execute_result",
          "data": {
            "text/plain": [
              "(1, 10710)"
            ]
          },
          "metadata": {},
          "execution_count": 17
        }
      ]
    },
    {
      "cell_type": "markdown",
      "metadata": {
        "id": "S8RDrP4xKabR"
      },
      "source": [
        "## <font color='blue'>**Implement custom encoder decoder**</font>"
      ]
    },
    {
      "cell_type": "markdown",
      "metadata": {
        "id": "A45uc0JILMlV"
      },
      "source": [
        "<font color='blue'>**Encoder**</font>"
      ]
    },
    {
      "cell_type": "code",
      "metadata": {
        "id": "9cex2XfCLOew",
        "execution": {
          "iopub.status.busy": "2021-08-28T06:24:30.808130Z",
          "iopub.execute_input": "2021-08-28T06:24:30.808889Z",
          "iopub.status.idle": "2021-08-28T06:24:30.819462Z",
          "shell.execute_reply.started": "2021-08-28T06:24:30.808847Z",
          "shell.execute_reply": "2021-08-28T06:24:30.818457Z"
        },
        "trusted": true
      },
      "source": [
        "class Encoder(tf.keras.Model):\n",
        "    '''\n",
        "    Encoder model -- That takes a input sequence and returns encoder-outputs,encoder_final_state_h,encoder_final_state_c\n",
        "    '''\n",
        "\n",
        "    def __init__(self,inp_vocab_size,embedding_size,lstm_size,input_length):\n",
        "        super().__init__()\n",
        "        self.inp_vocab_size = inp_vocab_size\n",
        "        self.embedding_size = embedding_size\n",
        "        self.lstm_size = lstm_size\n",
        "        self.input_length = input_length\n",
        "        #Initialize Embedding layer\n",
        "        self.encoder_embedding = Embedding(input_dim = inp_vocab_size,\n",
        "                                           output_dim = embedding_size,\n",
        "                                           input_length= input_length)\n",
        "        #Intialize Encoder LSTM layer\n",
        "        self.encoder_Lstm = LSTM(lstm_size, return_sequences = True, return_state = True)\n",
        "\n",
        "    def call(self,input_sequence,states):\n",
        "        '''\n",
        "          This function takes a sequence input and the initial states of the encoder.\n",
        "          Pass the input_sequence input to the Embedding layer, Pass the embedding layer ouput to encoder_lstm\n",
        "          returns -- encoder_output, last time step's hidden and cell state\n",
        "        '''\n",
        "        input_embedding = self.encoder_embedding(input_sequence)\n",
        "        encoder_output_state, encoder_h, encoder_c = self.encoder_Lstm(input_embedding, initial_state = states)\n",
        "        return encoder_output_state, encoder_h, encoder_c\n",
        "\n",
        "    \n",
        "    def initialize_states(self,batch_size):\n",
        "      '''\n",
        "      Given a batch size it will return intial hidden state and intial cell state.\n",
        "      If batch size is 32- Hidden state is zeros of size [32,lstm_units], cell state zeros is of size [32,lstm_units]\n",
        "      '''\n",
        "      return [tf.zeros((batch_size, self.lstm_size)), tf.zeros((batch_size, self.lstm_size))]\n"
      ],
      "execution_count": null,
      "outputs": []
    },
    {
      "cell_type": "markdown",
      "metadata": {
        "id": "EtbOI3VwLOe0"
      },
      "source": [
        "<font color='orange'>**Grader function - 1**</font>"
      ]
    },
    {
      "cell_type": "code",
      "metadata": {
        "id": "ziSqOgmhLOe1",
        "execution": {
          "iopub.status.busy": "2021-08-28T06:24:38.132607Z",
          "iopub.execute_input": "2021-08-28T06:24:38.132881Z",
          "iopub.status.idle": "2021-08-28T06:24:38.157289Z",
          "shell.execute_reply.started": "2021-08-28T06:24:38.132857Z",
          "shell.execute_reply": "2021-08-28T06:24:38.156566Z"
        },
        "trusted": true,
        "outputId": "a0214312-6ff5-4d29-c8a0-c3fa2465efa7"
      },
      "source": [
        "def grader_check_encoder():\n",
        "    '''\n",
        "        vocab-size: Unique words of the input language,\n",
        "        embedding_size: output embedding dimension for each word after embedding layer,\n",
        "        lstm_size: Number of lstm units,\n",
        "        input_length: Length of the input sentence,\n",
        "        batch_size\n",
        "    '''\n",
        "    vocab_size=10\n",
        "    embedding_size=20\n",
        "    lstm_size=32\n",
        "    input_length=10\n",
        "    batch_size=16\n",
        "    #Intialzing encoder \n",
        "    encoder=Encoder(vocab_size,embedding_size,lstm_size,input_length)\n",
        "    input_sequence=tf.random.uniform(shape=[batch_size,input_length],maxval=vocab_size,minval=0,dtype=tf.int32)\n",
        "    #Intializing encoder initial states\n",
        "    initial_state=encoder.initialize_states(batch_size)\n",
        "    \n",
        "    encoder_output,state_h,state_c=encoder(input_sequence,initial_state)\n",
        "    \n",
        "    assert(encoder_output.shape==(batch_size,input_length,lstm_size) and state_h.shape==(batch_size,lstm_size) and state_c.shape==(batch_size,lstm_size))\n",
        "    return True\n",
        "print(grader_check_encoder())"
      ],
      "execution_count": null,
      "outputs": [
        {
          "name": "stdout",
          "text": "True\n",
          "output_type": "stream"
        }
      ]
    },
    {
      "cell_type": "code",
      "metadata": {
        "id": "x1ES1-sJLOe4",
        "execution": {
          "iopub.status.busy": "2021-08-28T06:24:39.809031Z",
          "iopub.execute_input": "2021-08-28T06:24:39.809352Z",
          "iopub.status.idle": "2021-08-28T06:24:39.817394Z",
          "shell.execute_reply.started": "2021-08-28T06:24:39.809314Z",
          "shell.execute_reply": "2021-08-28T06:24:39.816328Z"
        },
        "trusted": true
      },
      "source": [
        "class Decoder(tf.keras.Model):\n",
        "    '''\n",
        "    Encoder model -- That takes a input sequence and returns output sequence\n",
        "    '''\n",
        "\n",
        "    def __init__(self,out_vocab_size,embedding_size,lstm_size,input_length):\n",
        "        super().__init__()\n",
        "        self.out_vocab_size = out_vocab_size\n",
        "        self.embedding_size = embedding_size\n",
        "        self.lstm_size = lstm_size\n",
        "        self.input_length = input_length\n",
        "        #Initialize Embedding layer\n",
        "        self.decoder_embedding = Embedding(input_dim = out_vocab_size, \n",
        "                                           output_dim = embedding_size, \n",
        "                                           input_length = input_length)\n",
        "        #Intialize Decoder LSTM layer\n",
        "        self.decoder_LSTM = LSTM(lstm_size, return_sequences = True, return_state = True)\n",
        "\n",
        "    def call(self,input_sequence,initial_states):\n",
        "        '''\n",
        "          This function takes a sequence input and the initial states of the encoder.\n",
        "          Pass the input_sequence input to the Embedding layer, Pass the embedding layer ouput to decoder_lstm\n",
        "        \n",
        "          returns -- decoder_output,decoder_final_state_h,decoder_final_state_c\n",
        "        '''\n",
        "        target_embedding = self.decoder_embedding(input_sequence)\n",
        "        decoder_output_state,  decoder_h,  decoder_c = self.decoder_LSTM(target_embedding, \n",
        "                                                                         initial_state = initial_states)\n",
        "        return decoder_output_state, decoder_h, decoder_c\n",
        "      \n"
      ],
      "execution_count": null,
      "outputs": []
    },
    {
      "cell_type": "markdown",
      "metadata": {
        "id": "Hq-I0SUbLOe8"
      },
      "source": [
        "<font color='orange'>**Grader function - 2**</font>"
      ]
    },
    {
      "cell_type": "code",
      "metadata": {
        "id": "0B0gokgKLOe8",
        "execution": {
          "iopub.status.busy": "2021-08-28T06:24:42.489794Z",
          "iopub.execute_input": "2021-08-28T06:24:42.490115Z",
          "iopub.status.idle": "2021-08-28T06:24:42.517449Z",
          "shell.execute_reply.started": "2021-08-28T06:24:42.490085Z",
          "shell.execute_reply": "2021-08-28T06:24:42.516362Z"
        },
        "trusted": true,
        "outputId": "11fa4382-6090-40b3-e72f-dfef6d5d1115"
      },
      "source": [
        "def grader_decoder():\n",
        "    '''\n",
        "        out_vocab_size: Unique words of the target language,\n",
        "        embedding_size: output embedding dimension for each word after embedding layer,\n",
        "        dec_units: Number of lstm units in decoder,\n",
        "        input_length: Length of the input sentence,\n",
        "        batch_size\n",
        "        \n",
        "    \n",
        "    '''\n",
        "    out_vocab_size=13 \n",
        "    embedding_dim=12 \n",
        "    input_length=10\n",
        "    dec_units=16 \n",
        "    batch_size=32\n",
        "    \n",
        "    target_sentences=tf.random.uniform(shape=(batch_size,input_length),maxval=10,minval=0,dtype=tf.int32)\n",
        "    encoder_output=tf.random.uniform(shape=[batch_size,input_length,dec_units])\n",
        "    state_h=tf.random.uniform(shape=[batch_size,dec_units])\n",
        "    state_c=tf.random.uniform(shape=[batch_size,dec_units])\n",
        "    states=[state_h,state_c]\n",
        "    decoder=Decoder(out_vocab_size, embedding_dim, dec_units,input_length )\n",
        "    output,_,_=decoder(target_sentences, states)\n",
        "    assert(output.shape==(batch_size,input_length,dec_units))\n",
        "    return True\n",
        "print(grader_decoder())\n"
      ],
      "execution_count": null,
      "outputs": [
        {
          "name": "stdout",
          "text": "True\n",
          "output_type": "stream"
        }
      ]
    },
    {
      "cell_type": "code",
      "metadata": {
        "id": "BXrIj4scLOe_",
        "execution": {
          "iopub.status.busy": "2021-08-28T06:24:42.745648Z",
          "iopub.execute_input": "2021-08-28T06:24:42.746079Z",
          "iopub.status.idle": "2021-08-28T06:24:42.753695Z",
          "shell.execute_reply.started": "2021-08-28T06:24:42.746048Z",
          "shell.execute_reply": "2021-08-28T06:24:42.752865Z"
        },
        "trusted": true
      },
      "source": [
        "class Encoder_decoder(tf.keras.Model):\n",
        "    \n",
        "    def __init__(self,*params):\n",
        "        super().__init__()\n",
        "        #Create encoder object\n",
        "        self.encoder = Encoder(inp_vocab_size = params[0], \n",
        "                               embedding_size = params[2], \n",
        "                               lstm_size = params[3], input_length = params[4])\n",
        "        #Create decoder object\n",
        "        self.decoder = Decoder(out_vocab_size = params[1], \n",
        "                              embedding_size = params[2], \n",
        "                              lstm_size = params[3], input_length = params[5])\n",
        "        #Intialize Dense layer(out_vocab_size) with activation='softmax'\n",
        "        self.dense = Dense(params[1], activation='softmax')\n",
        "    \n",
        "    def call(self,params, training = True):\n",
        "        '''\n",
        "        A. Pass the input sequence to Encoder layer -- Return encoder_output,encoder_final_state_h,encoder_final_state_c\n",
        "        B. Pass the target sequence to Decoder layer with intial states as encoder_final_state_h,encoder_final_state_C\n",
        "        C. Pass the decoder_outputs into Dense layer \n",
        "        \n",
        "        Return decoder_outputs\n",
        "        '''\n",
        "        enc_inp, dec_inp = params[0], params[1]\n",
        "        initial_state = self.encoder.initialize_states(batch_size)\n",
        "        output_state, enc_h, enc_c = self.encoder(enc_inp, initial_state)\n",
        "        output, _, _ = self.decoder(dec_inp ,[enc_h, enc_c])\n",
        "        return self.dense(output)\n",
        "        \n",
        "        "
      ],
      "execution_count": null,
      "outputs": []
    },
    {
      "cell_type": "code",
      "metadata": {
        "execution": {
          "iopub.status.busy": "2021-08-28T13:15:13.012250Z",
          "iopub.execute_input": "2021-08-28T13:15:13.012743Z",
          "iopub.status.idle": "2021-08-28T13:15:13.027062Z",
          "shell.execute_reply.started": "2021-08-28T13:15:13.012709Z",
          "shell.execute_reply": "2021-08-28T13:15:13.026175Z"
        },
        "trusted": true,
        "id": "wdk7W7s3NwEN"
      },
      "source": [
        "\n",
        "class Dataset:\n",
        "    def __init__(self, data, tknizer_ita, tknizer_eng, max_len):\n",
        "        self.encoder_inps = data['italian'].values\n",
        "        self.decoder_inps = data['english_inp'].values\n",
        "        self.decoder_outs = data['english_out'].values\n",
        "        self.tknizer_eng = tknizer_eng\n",
        "        self.tknizer_ita = tknizer_ita\n",
        "        self.max_len     = max_len\n",
        "\n",
        "    def __getitem__(self, i):\n",
        "        self.encoder_seq = self.tknizer_ita.texts_to_sequences([self.encoder_inps[i]]) # need to pass list of values\n",
        "        self.decoder_inp_seq = self.tknizer_eng.texts_to_sequences([self.decoder_inps[i]])\n",
        "        self.decoder_out_seq = self.tknizer_eng.texts_to_sequences([self.decoder_outs[i]])\n",
        "\n",
        "        self.encoder_seq = pad_sequences(self.encoder_seq, maxlen=self.max_len, dtype='int32', padding='post')\n",
        "        self.decoder_inp_seq = pad_sequences(self.decoder_inp_seq, maxlen=self.max_len, dtype='int32', padding='post')\n",
        "        self.decoder_out_seq = pad_sequences(self.decoder_out_seq, maxlen=self.max_len, dtype='int32', padding='post')\n",
        "        return self.encoder_seq, self.decoder_inp_seq, self.decoder_out_seq\n",
        "\n",
        "    def __len__(self): # your model.fit_gen requires this function\n",
        "        return len(self.encoder_inps)\n",
        "\n",
        "    \n",
        "class Dataloder(tf.keras.utils.Sequence):    \n",
        "    def __init__(self, dataset, batch_size):\n",
        "        self.dataset = dataset\n",
        "        self.batch_size = batch_size\n",
        "        self.indexes = np.arange(len(self.dataset.encoder_inps))\n",
        "\n",
        "    def __getitem__(self, i):\n",
        "        start = i * self.batch_size\n",
        "        stop = (i + 1) * self.batch_size\n",
        "        data = []\n",
        "        for j in range(start, stop):\n",
        "            data.append(self.dataset[j])\n",
        "\n",
        "        batch = [np.squeeze(np.stack(samples, axis=1), axis=0) for samples in zip(*data)]\n",
        "#         print(batch[0].shape, batch[1].shape, batch[2].shape)\n",
        "        # we are creating data like ([italian, english_inp], english_out) these are already converted into seq\n",
        "        return tuple([[tf.convert_to_tensor(batch[0]), tf.convert_to_tensor(batch[1])], tf.convert_to_tensor(batch[2])])\n",
        "\n",
        "    def __len__(self):  # your model.fit_gen requires this function\n",
        "        return len(self.indexes) // self.batch_size\n",
        "\n",
        "    def on_epoch_end(self):\n",
        "        self.indexes = np.random.permutation(self.indexes)"
      ],
      "execution_count": null,
      "outputs": []
    },
    {
      "cell_type": "code",
      "metadata": {
        "execution": {
          "iopub.status.busy": "2021-08-28T06:24:58.444935Z",
          "iopub.execute_input": "2021-08-28T06:24:58.445257Z",
          "iopub.status.idle": "2021-08-28T06:24:58.456286Z",
          "shell.execute_reply.started": "2021-08-28T06:24:58.445226Z",
          "shell.execute_reply": "2021-08-28T06:24:58.455373Z"
        },
        "trusted": true,
        "id": "29EzPTpKNwEO"
      },
      "source": [
        "batch_size=128\n",
        "lstm_size=64\n",
        "max_len = 20\n",
        "embedding_dim = 100\n",
        "dense_units = 64\n",
        "\n",
        "train_dataset = Dataset(train, tknizer_ita, tknizer_eng, max_len)\n",
        "test_dataset  = Dataset(test, tknizer_ita, tknizer_eng, max_len)\n",
        "\n",
        "train_dataloader = Dataloder(train_dataset, batch_size=batch_size)\n",
        "test_dataloader = Dataloder(test_dataset, batch_size=batch_size)"
      ],
      "execution_count": null,
      "outputs": []
    },
    {
      "cell_type": "code",
      "metadata": {
        "execution": {
          "iopub.status.busy": "2021-08-28T06:25:00.423857Z",
          "iopub.execute_input": "2021-08-28T06:25:00.424165Z",
          "iopub.status.idle": "2021-08-28T08:01:56.675745Z",
          "shell.execute_reply.started": "2021-08-28T06:25:00.424136Z",
          "shell.execute_reply": "2021-08-28T08:01:56.674769Z"
        },
        "trusted": true,
        "id": "V_KKwoeMNwEO",
        "outputId": "515ba946-cdd7-4503-936d-3f3ec49af1df"
      },
      "source": [
        "model = Encoder_decoder(vocab_size_ita+1, vocab_size_eng+1, \n",
        "                        embedding_dim, lstm_size, max_len, dense_units)\n",
        "model.compile(optimizer = 'Adam', loss = 'sparse_categorical_crossentropy',metrics='acc')\n",
        "log_dir=\"logs/fit/\" + datetime.datetime.now().strftime(\"%Y%m%d-%H%M%S\")\n",
        "callbacks = [ModelCheckpoint('encoder_decoder', save_best_only= True, verbose = 1),\n",
        "             TensorBoard(log_dir = log_dir, histogram_freq=1, write_graph=True),\n",
        "             EarlyStopping(patience = 5, verbose = 1, monitor='val_loss',mode = 'min'),\n",
        "             ReduceLROnPlateau(patience = 3,factor=0.6, monitor='val_loss',mode = 'min',verbose = 1)]\n",
        "\n",
        "model.fit(x = train_dataloader, \n",
        "          steps_per_epoch = train_dataloader.__len__(),\n",
        "          validation_data = test_dataloader,\n",
        "          validation_steps = test_dataloader.__len__(),\n",
        "          epochs = 30,\n",
        "          verbose = 1,\n",
        "          callbacks = callbacks)\n",
        "model.save_weights('/kaggle/working/model.h5')"
      ],
      "execution_count": null,
      "outputs": [
        {
          "name": "stdout",
          "text": "Epoch 1/30\n2471/2471 [==============================] - 196s 78ms/step - loss: 2.4140 - acc: 0.7061 - val_loss: 1.1414 - val_acc: 0.8046\n\nEpoch 00001: val_loss improved from inf to 1.14136, saving model to encoder_decoder\nEpoch 2/30\n2471/2471 [==============================] - 189s 77ms/step - loss: 1.0539 - acc: 0.8175 - val_loss: 0.8513 - val_acc: 0.8462\n\nEpoch 00002: val_loss improved from 1.14136 to 0.85134, saving model to encoder_decoder\nEpoch 3/30\n2471/2471 [==============================] - 190s 77ms/step - loss: 0.7915 - acc: 0.8545 - val_loss: 0.6814 - val_acc: 0.8710\n\nEpoch 00003: val_loss improved from 0.85134 to 0.68142, saving model to encoder_decoder\nEpoch 4/30\n2471/2471 [==============================] - 189s 77ms/step - loss: 0.6227 - acc: 0.8791 - val_loss: 0.5646 - val_acc: 0.8896\n\nEpoch 00004: val_loss improved from 0.68142 to 0.56458, saving model to encoder_decoder\nEpoch 5/30\n2471/2471 [==============================] - 190s 77ms/step - loss: 0.5045 - acc: 0.8977 - val_loss: 0.4845 - val_acc: 0.9027\n\nEpoch 00005: val_loss improved from 0.56458 to 0.48447, saving model to encoder_decoder\nEpoch 6/30\n2471/2471 [==============================] - 190s 77ms/step - loss: 0.4213 - acc: 0.9119 - val_loss: 0.4284 - val_acc: 0.9123\n\nEpoch 00006: val_loss improved from 0.48447 to 0.42843, saving model to encoder_decoder\nEpoch 7/30\n2471/2471 [==============================] - 190s 77ms/step - loss: 0.3588 - acc: 0.9229 - val_loss: 0.3897 - val_acc: 0.9193\n\nEpoch 00007: val_loss improved from 0.42843 to 0.38970, saving model to encoder_decoder\nEpoch 8/30\n2471/2471 [==============================] - 190s 77ms/step - loss: 0.3134 - acc: 0.9311 - val_loss: 0.3600 - val_acc: 0.9244\n\nEpoch 00008: val_loss improved from 0.38970 to 0.35997, saving model to encoder_decoder\nEpoch 9/30\n2471/2471 [==============================] - 190s 77ms/step - loss: 0.2788 - acc: 0.9377 - val_loss: 0.3376 - val_acc: 0.9288\n\nEpoch 00009: val_loss improved from 0.35997 to 0.33764, saving model to encoder_decoder\nEpoch 10/30\n2471/2471 [==============================] - 189s 77ms/step - loss: 0.2518 - acc: 0.9430 - val_loss: 0.3208 - val_acc: 0.9320\n\nEpoch 00010: val_loss improved from 0.33764 to 0.32079, saving model to encoder_decoder\nEpoch 11/30\n2471/2471 [==============================] - 188s 76ms/step - loss: 0.2289 - acc: 0.9473 - val_loss: 0.3069 - val_acc: 0.9349\n\nEpoch 00011: val_loss improved from 0.32079 to 0.30693, saving model to encoder_decoder\nEpoch 12/30\n2471/2471 [==============================] - 190s 77ms/step - loss: 0.2106 - acc: 0.9510 - val_loss: 0.2974 - val_acc: 0.9369\n\nEpoch 00012: val_loss improved from 0.30693 to 0.29735, saving model to encoder_decoder\nEpoch 13/30\n2471/2471 [==============================] - 189s 76ms/step - loss: 0.1959 - acc: 0.9539 - val_loss: 0.2882 - val_acc: 0.9386\n\nEpoch 00013: val_loss improved from 0.29735 to 0.28824, saving model to encoder_decoder\nEpoch 14/30\n2471/2471 [==============================] - 194s 79ms/step - loss: 0.1819 - acc: 0.9568 - val_loss: 0.2822 - val_acc: 0.9401\n\nEpoch 00014: val_loss improved from 0.28824 to 0.28224, saving model to encoder_decoder\nEpoch 15/30\n2471/2471 [==============================] - 196s 79ms/step - loss: 0.1711 - acc: 0.9589 - val_loss: 0.2741 - val_acc: 0.9422\n\nEpoch 00015: val_loss improved from 0.28224 to 0.27411, saving model to encoder_decoder\nEpoch 16/30\n2471/2471 [==============================] - 196s 79ms/step - loss: 0.1619 - acc: 0.9610 - val_loss: 0.2717 - val_acc: 0.9429\n\nEpoch 00016: val_loss improved from 0.27411 to 0.27170, saving model to encoder_decoder\nEpoch 17/30\n2471/2471 [==============================] - 196s 79ms/step - loss: 0.1521 - acc: 0.9631 - val_loss: 0.2677 - val_acc: 0.9439\n\nEpoch 00017: val_loss improved from 0.27170 to 0.26773, saving model to encoder_decoder\nEpoch 18/30\n2471/2471 [==============================] - 196s 79ms/step - loss: 0.1453 - acc: 0.9645 - val_loss: 0.2655 - val_acc: 0.9446\n\nEpoch 00018: val_loss improved from 0.26773 to 0.26552, saving model to encoder_decoder\nEpoch 19/30\n2471/2471 [==============================] - 196s 79ms/step - loss: 0.1379 - acc: 0.9661 - val_loss: 0.2616 - val_acc: 0.9458\n\nEpoch 00019: val_loss improved from 0.26552 to 0.26156, saving model to encoder_decoder\nEpoch 20/30\n2471/2471 [==============================] - 196s 79ms/step - loss: 0.1312 - acc: 0.9677 - val_loss: 0.2596 - val_acc: 0.9466\n\nEpoch 00020: val_loss improved from 0.26156 to 0.25961, saving model to encoder_decoder\nEpoch 21/30\n2471/2471 [==============================] - 196s 79ms/step - loss: 0.1262 - acc: 0.9687 - val_loss: 0.2600 - val_acc: 0.9467\n\nEpoch 00021: val_loss did not improve from 0.25961\nEpoch 22/30\n2471/2471 [==============================] - 196s 79ms/step - loss: 0.1219 - acc: 0.9698 - val_loss: 0.2567 - val_acc: 0.9479\n\nEpoch 00022: val_loss improved from 0.25961 to 0.25668, saving model to encoder_decoder\nEpoch 23/30\n2471/2471 [==============================] - 196s 79ms/step - loss: 0.1154 - acc: 0.9712 - val_loss: 0.2557 - val_acc: 0.9481\n\nEpoch 00023: val_loss improved from 0.25668 to 0.25575, saving model to encoder_decoder\nEpoch 24/30\n2471/2471 [==============================] - 196s 79ms/step - loss: 0.1116 - acc: 0.9720 - val_loss: 0.2544 - val_acc: 0.9486\n\nEpoch 00024: val_loss improved from 0.25575 to 0.25437, saving model to encoder_decoder\nEpoch 25/30\n2471/2471 [==============================] - 196s 79ms/step - loss: 0.1088 - acc: 0.9726 - val_loss: 0.2545 - val_acc: 0.9490\n\nEpoch 00025: val_loss did not improve from 0.25437\nEpoch 26/30\n2471/2471 [==============================] - 196s 79ms/step - loss: 0.1046 - acc: 0.9735 - val_loss: 0.2542 - val_acc: 0.9492\n\nEpoch 00026: val_loss improved from 0.25437 to 0.25424, saving model to encoder_decoder\nEpoch 27/30\n2471/2471 [==============================] - 196s 79ms/step - loss: 0.1009 - acc: 0.9744 - val_loss: 0.2547 - val_acc: 0.9497\n\nEpoch 00027: val_loss did not improve from 0.25424\nEpoch 28/30\n2471/2471 [==============================] - 196s 79ms/step - loss: 0.0987 - acc: 0.9747 - val_loss: 0.2541 - val_acc: 0.9500\n\nEpoch 00028: val_loss improved from 0.25424 to 0.25412, saving model to encoder_decoder\nEpoch 29/30\n2471/2471 [==============================] - 196s 79ms/step - loss: 0.0951 - acc: 0.9757 - val_loss: 0.2544 - val_acc: 0.9503\n\nEpoch 00029: val_loss did not improve from 0.25412\nEpoch 30/30\n2471/2471 [==============================] - 196s 79ms/step - loss: 0.0933 - acc: 0.9760 - val_loss: 0.2549 - val_acc: 0.9505\n\nEpoch 00030: val_loss did not improve from 0.25412\n",
          "output_type": "stream"
        }
      ]
    },
    {
      "cell_type": "code",
      "metadata": {
        "execution": {
          "iopub.status.busy": "2021-08-28T08:01:56.677339Z",
          "iopub.execute_input": "2021-08-28T08:01:56.677720Z",
          "iopub.status.idle": "2021-08-28T08:01:56.684121Z",
          "shell.execute_reply.started": "2021-08-28T08:01:56.677656Z",
          "shell.execute_reply": "2021-08-28T08:01:56.683081Z"
        },
        "trusted": true,
        "id": "gKJpzKmyNwEO",
        "outputId": "426a1b3a-acf1-418e-9475-671bb34cc098"
      },
      "source": [
        "model.layers"
      ],
      "execution_count": null,
      "outputs": [
        {
          "execution_count": 32,
          "output_type": "execute_result",
          "data": {
            "text/plain": "[<__main__.Encoder at 0x7f02785ebf90>,\n <__main__.Decoder at 0x7f027993ae50>,\n <tensorflow.python.keras.layers.core.Dense at 0x7f027994f910>]"
          },
          "metadata": {}
        }
      ]
    },
    {
      "cell_type": "code",
      "metadata": {
        "execution": {
          "iopub.status.busy": "2021-08-28T08:01:56.686319Z",
          "iopub.execute_input": "2021-08-28T08:01:56.686732Z",
          "iopub.status.idle": "2021-08-28T08:01:56.699666Z",
          "shell.execute_reply.started": "2021-08-28T08:01:56.686693Z",
          "shell.execute_reply": "2021-08-28T08:01:56.698634Z"
        },
        "trusted": true,
        "id": "Y3iPaS1YNwEP"
      },
      "source": [
        "def predict(input_sentence):\n",
        "    '''\n",
        "      A. Given input sentence, convert the sentence into integers using tokenizer used earlier\n",
        "      B. Pass the input_sequence to encoder. we get encoder_outputs, last time step hidden and cell state\n",
        "      C. Initialize index of <start> as input to decoder. and encoder final states as input_states to decoder\n",
        "      D. till we reach max_length of decoder or till the model predicted word <end>:\n",
        "         predicted_out,state_h,state_c=model.layers[1](dec_input,states)\n",
        "         pass the predicted_out to the dense layer\n",
        "         update the states=[state_h,state_c]\n",
        "         And get the index of the word with maximum probability of the dense layer output, \n",
        "         using the tokenizer(word index) get the word and then store it in a string.\n",
        "         Update the input_to_decoder with current predictions\n",
        "      F. Return the predicted sentence\n",
        "    '''\n",
        "    sentencce = '<start> '+input_sentence+' <end>'\n",
        "    sentencce = tknizer_ita.texts_to_sequences([sentencce])\n",
        "    sentencce = pad_sequences(sentencce, maxlen=max_len, \n",
        "                              padding='post', dtype = np.int32)\n",
        "    \n",
        "    input_embedding = model.layers[0].encoder_embedding(sentencce)\n",
        "    initial_state =  model.layers[0].initialize_states(1)\n",
        "    ecoder_output, encoder_h, encoder_c = model.layers[0].encoder_Lstm(input_embedding,initial_state)\n",
        "    predict = np.expand_dims([tknizer_eng.word_index['<start>']], 0)\n",
        "    decoder_h = encoder_h\n",
        "    decoder_c = encoder_c\n",
        "    prediction = []\n",
        "    for words in range(max_len):\n",
        "        predict, decoder_h,decoder_c = model.layers[1](predict, [decoder_h, decoder_c])\n",
        "        predict = model.layers[2](predict)\n",
        "        predict = np.reshape(np.argmax(predict), (1, 1))\n",
        "        prediction.append(predict)\n",
        "    return prediction\n",
        "\n",
        "def get_sentence(prediction):\n",
        "    output = []\n",
        "    for i in result:\n",
        "        word = tknizer_eng.index_word[i[0][0]]\n",
        "        if word == '<end>':\n",
        "            break\n",
        "        output.append(word)\n",
        "    return ' '.join(output)"
      ],
      "execution_count": null,
      "outputs": []
    },
    {
      "cell_type": "code",
      "metadata": {
        "execution": {
          "iopub.status.busy": "2021-08-28T08:01:56.701643Z",
          "iopub.execute_input": "2021-08-28T08:01:56.702044Z",
          "iopub.status.idle": "2021-08-28T08:01:56.810283Z",
          "shell.execute_reply.started": "2021-08-28T08:01:56.702005Z",
          "shell.execute_reply": "2021-08-28T08:01:56.809325Z"
        },
        "trusted": true,
        "id": "yhkcDsRONwEP",
        "outputId": "8399ea54-f2be-4712-c09e-60e43a1984b4"
      },
      "source": [
        "sentence = \"non pensi che non abbia provato\t\"\n",
        "print('input : ', sentence)\n",
        "result = predict(sentence)\n",
        "output = get_sentence(result)\n",
        "print('predicted output : ',output)\n"
      ],
      "execution_count": null,
      "outputs": [
        {
          "name": "stdout",
          "text": "input :  non pensi che non abbia provato\t\npredicted output :  do not you think i have not forgotten\n",
          "output_type": "stream"
        }
      ]
    },
    {
      "cell_type": "code",
      "metadata": {
        "execution": {
          "iopub.status.busy": "2021-08-28T08:01:56.811633Z",
          "iopub.execute_input": "2021-08-28T08:01:56.812193Z",
          "iopub.status.idle": "2021-08-28T08:01:56.908374Z",
          "shell.execute_reply.started": "2021-08-28T08:01:56.812152Z",
          "shell.execute_reply": "2021-08-28T08:01:56.907412Z"
        },
        "trusted": true,
        "id": "Mo6IoawGNwEP",
        "outputId": "edb909c7-3455-4d35-e1c1-50b93ee6a68a"
      },
      "source": [
        "sentence = train['italian'].values[5]\n",
        "print('input : ', sentence)\n",
        "result = predict(sentence)\n",
        "output = get_sentence(result)\n",
        "print('predicted output : ',output)\n",
        "print('actual output :', train['english_out'].values[5])"
      ],
      "execution_count": null,
      "outputs": [
        {
          "name": "stdout",
          "text": "input :  tom è preparato per qualsiasi cosa possa capitare\npredicted output :  tom is prepared for anything that can happen\nactual output : tom is prepared for whatever may happen <end>\n",
          "output_type": "stream"
        }
      ]
    },
    {
      "cell_type": "code",
      "metadata": {
        "execution": {
          "iopub.status.busy": "2021-08-28T08:02:57.698401Z",
          "iopub.execute_input": "2021-08-28T08:02:57.698748Z",
          "iopub.status.idle": "2021-08-28T08:04:24.928386Z",
          "shell.execute_reply.started": "2021-08-28T08:02:57.698716Z",
          "shell.execute_reply": "2021-08-28T08:04:24.927400Z"
        },
        "trusted": true,
        "id": "nE4JYq9BNwEP",
        "outputId": "a40cf2f7-38db-4f8e-b72d-4c2797985489"
      },
      "source": [
        "from nltk.translate.bleu_score import sentence_bleu\n",
        "from numpy.random import permutation\n",
        "\n",
        "score =0\n",
        "for i in permutation(1000):\n",
        "    sentence = test['italian'].values[i]\n",
        "    reference = test['english_out'].values[i]\n",
        "    result = predict(sentence)\n",
        "    output = get_sentence(result)\n",
        "    score+= sentence_bleu([reference.split()],output.split())\n",
        "print('Bleu Score : {}'.format(score/1000))"
      ],
      "execution_count": null,
      "outputs": [
        {
          "name": "stdout",
          "text": "Bleu Score : 0.6640184782391946\n",
          "output_type": "stream"
        }
      ]
    },
    {
      "cell_type": "markdown",
      "metadata": {
        "id": "CxWFDxZXLOfJ"
      },
      "source": [
        " "
      ]
    },
    {
      "cell_type": "markdown",
      "metadata": {
        "id": "yZhX3K9GLOfJ"
      },
      "source": [
        "## Task -2: Including Attention mechanisum"
      ]
    },
    {
      "cell_type": "markdown",
      "metadata": {
        "id": "Q3d7GeBMGbsJ"
      },
      "source": [
        "1. Use the preprocessed data from Task-1\n",
        "\n",
        "2. You have to implement an Encoder and Decoder architecture with  \n",
        "attention as discussed in the reference notebook.\n",
        "\n",
        "    * Encoder   - with 1 layer LSTM <br>\n",
        "    * Decoder   - with 1 layer LSTM<br>\n",
        "    * attention -  (Please refer the <a href= 'https://drive.google.com/file/d/1z_bnc-3aubKawbR6q8wyI6Mh5ho2R1aZ/view?usp=sharing'>**reference notebook**</a> to know more about the attention mechanism.)\n",
        "3. In Global attention, we have 3 types of scoring functions(as discussed in the reference notebook).\n",
        " As a part of this assignment **you need to create 3 models for each scoring function**\n",
        "<img src='https://i.imgur.com/iD2jZo3.png'>\n",
        "\n",
        "    * In model 1 you need to implemnt \"dot\" score function\n",
        "    * In model 2 you need to implemnt \"general\" score function\n",
        "    * In model 3 you need to implemnt \"concat\" score function.<br>\n",
        "    \n",
        " **Please do add the markdown titles for each model so that we can have a better look at the code and verify.**\n",
        "4. It is mandatory to train the model with simple model.fit() only, Donot train the model with custom GradientTape()\n",
        "\n",
        "5. Using attention weights, you can plot the attention plots, \n",
        "please plot those for 2-3 examples. You can check about those in <a href=\"https://www.tensorflow.org/tutorials/text/nmt_with_attention#translate\">this</a>\n",
        "\n",
        "6. The attention layer has to be written by yourself only. \n",
        "The main objective of this assignment is to read and implement a paper on yourself so please do it yourself.  \n",
        "\n",
        "7. Please implement the class **onestepdecoder** as mentioned in the assignment instructions.\n",
        "\n",
        "8. You can use any tf.Keras highlevel API's to build and train the models. \n",
        " Check the reference notebook for better understanding.\n",
        "\n",
        "9. Use BLEU score as metric to evaluate your model. You can use any loss function you need.\n",
        "\n",
        "10. You have to use Tensorboard to plot the Graph, Scores and histograms of gradients. \n",
        "\n",
        "11. Resources:\n",
        "    a. Check the reference notebook\n",
        "    b. <a href=\"https://jalammar.github.io/visualizing-neural-machine-translation-mechanics-of-seq2seq-models-with-attention/\">Resource 1</a>\n",
        "    c. <a href=\"https://www.tensorflow.org/tutorials/text/nmt_with_attention\">Resource 2</a>\n",
        "    d. <a href=\"https://stackoverflow.com/questions/44238154/what-is-the-difference-between-luong-attention-and-bahdanau-attention#:~:text=Luong%20attention%20used%20top%20hidden,hidden%20state%20at%20time%20t.\">Resource 3</a>\n",
        "    "
      ]
    },
    {
      "cell_type": "markdown",
      "metadata": {
        "id": "PU4KIsGxLOfK"
      },
      "source": [
        "### <font color='blue'>**Implement custom encoder decoder and attention layers**</font>"
      ]
    },
    {
      "cell_type": "markdown",
      "metadata": {
        "id": "TMm3ADQDLOfK"
      },
      "source": [
        "<font color='blue'>**Encoder**</font>"
      ]
    },
    {
      "cell_type": "code",
      "metadata": {
        "id": "Lx_5NA24KzRp",
        "execution": {
          "iopub.status.busy": "2021-08-28T13:15:13.028446Z",
          "iopub.execute_input": "2021-08-28T13:15:13.028795Z",
          "iopub.status.idle": "2021-08-28T13:15:13.039898Z",
          "shell.execute_reply.started": "2021-08-28T13:15:13.028761Z",
          "shell.execute_reply": "2021-08-28T13:15:13.039077Z"
        },
        "trusted": true
      },
      "source": [
        "class Encoder(tf.keras.Model):\n",
        "    '''\n",
        "    Encoder model -- That takes a input sequence and returns output sequence\n",
        "    '''\n",
        "\n",
        "    def __init__(self,inp_vocab_size,embedding_size,lstm_size,input_length):\n",
        "        super().__init__()\n",
        "        self.inp_vocab_size = inp_vocab_size\n",
        "        self.embedding_size = embedding_size\n",
        "        self.lstm_size = lstm_size\n",
        "        self.input_length =input_length\n",
        "        #Initialize Embedding layer\n",
        "        self.encoder_embedding = Embedding(input_dim = inp_vocab_size,\n",
        "                                           output_dim = embedding_size,\n",
        "                                           input_length= input_length)\n",
        "        #Intialize Encoder LSTM layer\n",
        "        self.encoder_Lstm = LSTM(lstm_size, return_sequences = True, return_state = True)\n",
        "\n",
        "    def call(self,input_sequence,states):\n",
        "        '''\n",
        "          This function takes a sequence input and the initial states of the encoder.\n",
        "          Pass the input_sequence input to the Embedding layer, Pass the embedding layer ouput to encoder_lstm\n",
        "          returns -- All encoder_outputs, last time steps hidden and cell state\n",
        "        '''\n",
        "        input_embedding = self.encoder_embedding(input_sequence)\n",
        "        encoder_output_state, encoder_h, encoder_c = self.encoder_Lstm(input_embedding, initial_state = states)\n",
        "        return encoder_output_state, encoder_h, encoder_c\n",
        "    \n",
        "    def initialize_states(self,batch_size):\n",
        "        '''\n",
        "          Given a batch size it will return intial hidden state and intial cell state.\n",
        "          If batch size is 32- Hidden state is zeros of size [32,lstm_units], cell state zeros is of size [32,lstm_units]\n",
        "        '''\n",
        "        return [tf.zeros((batch_size, self.lstm_size)), tf.zeros((batch_size, self.lstm_size))]\n"
      ],
      "execution_count": null,
      "outputs": []
    },
    {
      "cell_type": "markdown",
      "metadata": {
        "id": "4ub9aN-hK244"
      },
      "source": [
        "<font color='cyan'>**Grader function - 1**</font>"
      ]
    },
    {
      "cell_type": "code",
      "metadata": {
        "id": "wRoe65b9LB0D",
        "execution": {
          "iopub.status.busy": "2021-08-28T13:15:13.041247Z",
          "iopub.execute_input": "2021-08-28T13:15:13.041825Z",
          "iopub.status.idle": "2021-08-28T13:15:19.932041Z",
          "shell.execute_reply.started": "2021-08-28T13:15:13.041785Z",
          "shell.execute_reply": "2021-08-28T13:15:19.931119Z"
        },
        "trusted": true,
        "colab": {
          "base_uri": "https://localhost:8080/"
        },
        "outputId": "3422199e-95da-4464-f029-48fc86a39561"
      },
      "source": [
        "def grader_check_encoder():\n",
        "    \n",
        "    '''\n",
        "        vocab-size: Unique words of the input language,\n",
        "        embedding_size: output embedding dimension for each word after embedding layer,\n",
        "        lstm_size: Number of lstm units in encoder,\n",
        "        input_length: Length of the input sentence,\n",
        "        batch_size\n",
        "    '''\n",
        "    \n",
        "    vocab_size=10\n",
        "    embedding_size=20\n",
        "    lstm_size=32\n",
        "    input_length=10\n",
        "    batch_size=16\n",
        "    encoder=Encoder(vocab_size,embedding_size,lstm_size,input_length)\n",
        "    input_sequence=tf.random.uniform(shape=[batch_size,input_length],maxval=vocab_size,minval=0,dtype=tf.int32)\n",
        "    initial_state=encoder.initialize_states(batch_size)\n",
        "    encoder_output,state_h,state_c=encoder(input_sequence,initial_state)\n",
        "    \n",
        "    assert(encoder_output.shape==(batch_size,input_length,lstm_size) and state_h.shape==(batch_size,lstm_size) and state_c.shape==(batch_size,lstm_size))\n",
        "    return True\n",
        "print(grader_check_encoder())"
      ],
      "execution_count": null,
      "outputs": [
        {
          "output_type": "stream",
          "name": "stdout",
          "text": [
            "True\n"
          ]
        }
      ]
    },
    {
      "cell_type": "markdown",
      "metadata": {
        "id": "lXn278lhLYRM"
      },
      "source": [
        "<font color='blue'>**Attention**</font>"
      ]
    },
    {
      "cell_type": "code",
      "metadata": {
        "id": "ab5SNdPZLlur",
        "execution": {
          "iopub.status.busy": "2021-08-28T13:15:19.933386Z",
          "iopub.execute_input": "2021-08-28T13:15:19.933894Z",
          "iopub.status.idle": "2021-08-28T13:15:19.945786Z",
          "shell.execute_reply.started": "2021-08-28T13:15:19.933856Z",
          "shell.execute_reply": "2021-08-28T13:15:19.944930Z"
        },
        "trusted": true
      },
      "source": [
        "from tensorflow.keras.layers import *\n",
        "class Attention(tf.keras.layers.Layer):\n",
        "    '''\n",
        "        Class the calculates score based on the scoring_function using Bahdanu attention mechanism.\n",
        "        '''\n",
        "    def __init__(self,scoring_function, att_units):\n",
        "        super(Attention, self).__init__()\n",
        "        self.scoring_function = scoring_function\n",
        "        # Please go through the reference notebook and research paper to complete the scoring functions\n",
        "\n",
        "        if self.scoring_function=='dot':\n",
        "            self.dot = Dot(axes = (1, 2))\n",
        "          # Intialize variables needed for Dot score function here\n",
        "            pass\n",
        "        if scoring_function == 'general':\n",
        "            self.D_0 = Dense(att_units)\n",
        "            self.dot = Dot(axes = (1, 2))\n",
        "            # Intialize variables needed for General score function here\n",
        "            pass\n",
        "        elif scoring_function == 'concat':\n",
        "            self.D_1 = Dense(att_units)\n",
        "            self.D_2 = Dense(att_units)\n",
        "            self.h = Dense(1)\n",
        "            # Intialize variables needed for Concat score function here\n",
        "            pass\n",
        "  \n",
        "    def call(self,decoder_hidden_state,encoder_output):\n",
        "        '''\n",
        "          Attention mechanism takes two inputs current step -- decoder_hidden_state and all the encoder_outputs.\n",
        "          * Based on the scoring function we will find the score or similarity between decoder_hidden_state and encoder_output.\n",
        "            Multiply the score function with your encoder_outputs to get the context vector.\n",
        "            Function returns context vector and attention weights(softmax - scores)\n",
        "        '''\n",
        "        decoder_hidden_state = tf.expand_dims(decoder_hidden_state, 1)\n",
        "        # Implement Dot score function here\n",
        "        if self.scoring_function == 'dot':\n",
        "            score = tf.transpose(self.dot([tf.transpose(decoder_hidden_state, (0, 2, 1)),\n",
        "                                       encoder_output]), (0, 2,1))\n",
        "            pass\n",
        "        elif self.scoring_function == 'general':\n",
        "            out = self.D_0(encoder_output)\n",
        "            score = tf.transpose(self.dot([tf.transpose(decoder_hidden_state, (0, 2, 1)), \n",
        "                                           out]), (0, 2,1))\n",
        "        # Implement General score function here\n",
        "            pass\n",
        "        elif self.scoring_function == 'concat':\n",
        "            stick = self.D_1(decoder_hidden_state) + self.D_2(encoder_output)\n",
        "            tan_h = tf.nn.tanh(stick)\n",
        "            score = self.h(tan_h)\n",
        "            # Implement General score function here\n",
        "            pass\n",
        "        attention_weights = tf.nn.softmax(score, axis =1)\n",
        "        context_vector = attention_weights * encoder_output\n",
        "        context_vector = tf.reduce_sum(context_vector, axis=1)\n",
        "        return context_vector, attention_weights\n",
        "    "
      ],
      "execution_count": null,
      "outputs": []
    },
    {
      "cell_type": "markdown",
      "metadata": {
        "id": "ExQDlxI9LuqK"
      },
      "source": [
        "<font color='cyan'>**Grader function - 2**</font>"
      ]
    },
    {
      "cell_type": "code",
      "metadata": {
        "id": "51x50h_TLrl9",
        "execution": {
          "iopub.status.busy": "2021-08-28T13:15:19.948529Z",
          "iopub.execute_input": "2021-08-28T13:15:19.948838Z",
          "iopub.status.idle": "2021-08-28T13:15:20.794689Z",
          "shell.execute_reply.started": "2021-08-28T13:15:19.948812Z",
          "shell.execute_reply": "2021-08-28T13:15:20.793760Z"
        },
        "trusted": true,
        "colab": {
          "base_uri": "https://localhost:8080/"
        },
        "outputId": "d4d3a72d-163a-4f43-cec8-4a9d94febeab"
      },
      "source": [
        "def grader_check_attention(scoring_fun):\n",
        "    \n",
        "    ''' \n",
        "        att_units: Used in matrix multiplications for scoring functions,\n",
        "        input_length: Length of the input sentence,\n",
        "        batch_size\n",
        "    '''\n",
        "    \n",
        "    input_length=10\n",
        "    batch_size=16\n",
        "    att_units=32\n",
        "    \n",
        "    state_h=tf.random.uniform(shape=[batch_size,att_units])\n",
        "    encoder_output=tf.random.uniform(shape=[batch_size,input_length,att_units])\n",
        "    attention=Attention(scoring_fun,att_units)\n",
        "    context_vector,attention_weights=attention(state_h,encoder_output)\n",
        "    assert(context_vector.shape==(batch_size,att_units) and attention_weights.shape==(batch_size,input_length,1))\n",
        "    return True\n",
        "print(grader_check_attention('dot'))\n",
        "print(grader_check_attention('general'))\n",
        "print(grader_check_attention('concat'))"
      ],
      "execution_count": null,
      "outputs": [
        {
          "output_type": "stream",
          "name": "stdout",
          "text": [
            "True\n",
            "True\n",
            "True\n"
          ]
        }
      ]
    },
    {
      "cell_type": "markdown",
      "metadata": {
        "id": "ic-FNEbfL2DN"
      },
      "source": [
        "<font color='blue'>**OneStepDecoder**</font>"
      ]
    },
    {
      "cell_type": "code",
      "metadata": {
        "id": "Kc8m7lmOL097",
        "execution": {
          "iopub.status.busy": "2021-08-28T13:15:20.797036Z",
          "iopub.execute_input": "2021-08-28T13:15:20.797574Z",
          "iopub.status.idle": "2021-08-28T13:15:20.805999Z",
          "shell.execute_reply.started": "2021-08-28T13:15:20.797532Z",
          "shell.execute_reply": "2021-08-28T13:15:20.805126Z"
        },
        "trusted": true
      },
      "source": [
        "class OneStepDecoder(tf.keras.Model):\n",
        "  def __init__(self,tar_vocab_size, embedding_dim, input_length, dec_units ,score_fun ,att_units):\n",
        "    super().__init__()\n",
        "    # Initialize decoder embedding layer, LSTM and any other objects needed\n",
        "    self.decoder_embeddings = Embedding(input_dim = tar_vocab_size, output_dim = embedding_dim)\n",
        "    self.decoder_LSTM = LSTM(dec_units, return_sequences = True, return_state = True)\n",
        "    self.attention = Attention(scoring_function = score_fun, att_units = att_units)\n",
        "    self.feed_forward = Dense(tar_vocab_size)\n",
        "\n",
        "  def call(self,input_to_decoder, encoder_output, state_h,state_c):\n",
        "    '''\n",
        "        One step decoder mechanisim step by step:\n",
        "      A. Pass the input_to_decoder to the embedding layer and then get the output(batch_size,1,embedding_dim)\n",
        "      B. Using the encoder_output and decoder hidden state, compute the context vector.\n",
        "      C. Concat the context vector with the step A output\n",
        "      D. Pass the Step-C output to LSTM/GRU and get the decoder output and states(hidden and cell state)\n",
        "      E. Pass the decoder output to dense layer(vocab size) and store the result into output.\n",
        "      F. Return the states from step D, output from Step E, attention weights from Step -B\n",
        "    '''\n",
        "    decoder_embd = self.decoder_embeddings(input_to_decoder)\n",
        "    context_vector, attention_weights = self.attention(state_h, encoder_output)\n",
        "    concat_input = tf.concat([tf.expand_dims(context_vector, 1), decoder_embd], axis = -1)\n",
        "    decoder_output_states, decoder_h, decoder_c = self.decoder_LSTM(concat_input, [state_h, state_c])\n",
        "    output = tf.reshape(decoder_output_states, (-1, decoder_output_states.shape[2]))\n",
        "    output = self.feed_forward(output)\n",
        "    return output, decoder_h, decoder_c, attention_weights, context_vector\n",
        "    "
      ],
      "execution_count": null,
      "outputs": []
    },
    {
      "cell_type": "markdown",
      "metadata": {
        "id": "R_I8I4EIMAXq"
      },
      "source": [
        "<font color='cyan'>**Grader function - 3**</font>"
      ]
    },
    {
      "cell_type": "code",
      "metadata": {
        "id": "uLEXhChnMC1k",
        "execution": {
          "iopub.status.busy": "2021-08-28T13:15:20.807556Z",
          "iopub.execute_input": "2021-08-28T13:15:20.808083Z",
          "iopub.status.idle": "2021-08-28T13:15:20.891400Z",
          "shell.execute_reply.started": "2021-08-28T13:15:20.808045Z",
          "shell.execute_reply": "2021-08-28T13:15:20.890072Z"
        },
        "trusted": true,
        "colab": {
          "base_uri": "https://localhost:8080/"
        },
        "outputId": "d6e70b33-c7ff-4665-fee4-3c55d077ca58"
      },
      "source": [
        "def grader_onestepdecoder(score_fun):\n",
        "    \n",
        "    '''\n",
        "        tar_vocab_size: Unique words of the target language,\n",
        "        embedding_dim: output embedding dimension for each word after embedding layer,\n",
        "        dec_units: Number of lstm units in decoder,\n",
        "        att_units: Used in matrix multiplications for scoring functions in attention class,\n",
        "        input_length: Length of the target sentence,\n",
        "        batch_size\n",
        "        \n",
        "    \n",
        "    '''\n",
        "    \n",
        "    tar_vocab_size=13 \n",
        "    embedding_dim=12 \n",
        "    input_length=10\n",
        "    dec_units=16 \n",
        "    att_units=16\n",
        "    batch_size=32\n",
        "    onestepdecoder=OneStepDecoder(tar_vocab_size, embedding_dim, input_length, dec_units ,score_fun ,att_units)\n",
        "    input_to_decoder=tf.random.uniform(shape=(batch_size,1),maxval=10,minval=0,dtype=tf.int32)\n",
        "    encoder_output=tf.random.uniform(shape=[batch_size,input_length,dec_units])\n",
        "    state_h=tf.random.uniform(shape=[batch_size,dec_units])\n",
        "    state_c=tf.random.uniform(shape=[batch_size,dec_units])\n",
        "    output,state_h,state_c,attention_weights,context_vector=onestepdecoder(input_to_decoder,encoder_output,state_h,state_c)\n",
        "    assert(output.shape==(batch_size,tar_vocab_size))\n",
        "    assert(state_h.shape==(batch_size,dec_units))\n",
        "    assert(state_c.shape==(batch_size,dec_units))\n",
        "    assert(attention_weights.shape==(batch_size,input_length,1))\n",
        "    assert(context_vector.shape==(batch_size,dec_units))\n",
        "    return True\n",
        "    \n",
        "print(grader_onestepdecoder('dot'))\n",
        "print(grader_onestepdecoder('general'))\n",
        "print(grader_onestepdecoder('concat'))\n",
        "    "
      ],
      "execution_count": null,
      "outputs": [
        {
          "output_type": "stream",
          "name": "stdout",
          "text": [
            "True\n",
            "True\n",
            "True\n"
          ]
        }
      ]
    },
    {
      "cell_type": "markdown",
      "metadata": {
        "id": "6FHrurjUMGAi"
      },
      "source": [
        "<font color='blue'>**Decoder**</font>"
      ]
    },
    {
      "cell_type": "code",
      "metadata": {
        "id": "NV-x31rj6Hc4",
        "execution": {
          "iopub.status.busy": "2021-08-28T13:15:20.892747Z",
          "iopub.execute_input": "2021-08-28T13:15:20.893068Z",
          "iopub.status.idle": "2021-08-28T13:15:20.902486Z",
          "shell.execute_reply.started": "2021-08-28T13:15:20.893034Z",
          "shell.execute_reply": "2021-08-28T13:15:20.901079Z"
        },
        "trusted": true
      },
      "source": [
        "class Decoder(tf.keras.Model):\n",
        "    def __init__(self,out_vocab_size, embedding_dim, input_length, dec_units ,score_fun ,att_units):\n",
        "        super().__init__()\n",
        "      #Intialize necessary variables and create an object from the class onestepdecoder\n",
        "        self.out_vocab_size = out_vocab_size\n",
        "        self.embedding_dim = embedding_dim\n",
        "        self.input_length = input_length\n",
        "        self.dec_units = dec_units\n",
        "        self.score_fun = score_fun\n",
        "        self.att_units = att_units\n",
        "        self.one_step_decoder = OneStepDecoder(out_vocab_size, embedding_dim, input_length, \n",
        "                                               dec_units ,score_fun ,att_units)\n",
        "        \n",
        "    def call(self, input_to_decoder,encoder_output,decoder_hidden_state,decoder_cell_state ):\n",
        "\n",
        "        #Initialize an empty Tensor array, that will store the outputs at each and every time step\n",
        "        all_outputs = tf.TensorArray(dtype = tf.float32, \n",
        "                                     size= input_to_decoder.shape[1], name='output_arrays')\n",
        "        #Create a tensor array as shown in the reference notebook\n",
        "        for timestep in range(input_to_decoder.shape[1]):\n",
        "            output, decoder_hidden_state, decoder_cell_state, _, _ = self.one_step_decoder(\n",
        "                input_to_decoder[:, timestep:timestep+1], \n",
        "                encoder_output, decoder_hidden_state,decoder_cell_state)\n",
        "        #Iterate till the length of the decoder input\n",
        "            # Call onestepdecoder for each token in decoder_input\n",
        "            # Store the output in tensorarray\n",
        "            all_outputs = all_outputs.write(timestep, output)\n",
        "        # Return the tensor array\n",
        "        all_outputs = tf.transpose(all_outputs.stack(), (1, 0, 2))\n",
        "        return all_outputs\n",
        "        \n",
        "    "
      ],
      "execution_count": null,
      "outputs": []
    },
    {
      "cell_type": "markdown",
      "metadata": {
        "id": "FxrL-P8bMJH6"
      },
      "source": [
        "<font color='cyan'>**Grader function - 4**</font>"
      ]
    },
    {
      "cell_type": "code",
      "metadata": {
        "id": "rtbx6onFMJXb",
        "execution": {
          "iopub.status.busy": "2021-08-28T13:15:20.904307Z",
          "iopub.execute_input": "2021-08-28T13:15:20.904722Z",
          "iopub.status.idle": "2021-08-28T13:15:21.141545Z",
          "shell.execute_reply.started": "2021-08-28T13:15:20.904688Z",
          "shell.execute_reply": "2021-08-28T13:15:21.140637Z"
        },
        "trusted": true,
        "colab": {
          "base_uri": "https://localhost:8080/"
        },
        "outputId": "795f2731-ca1e-4199-ab75-0ccc3716f6c5"
      },
      "source": [
        "def grader_decoder(score_fun):\n",
        "    \n",
        "    '''\n",
        "        out_vocab_size: Unique words of the target language,\n",
        "        embedding_dim: output embedding dimension for each word after embedding layer,\n",
        "        dec_units: Number of lstm units in decoder,\n",
        "        att_units: Used in matrix multiplications for scoring functions in attention class,\n",
        "        input_length: Length of the target sentence,\n",
        "        batch_size\n",
        "        \n",
        "    \n",
        "    '''\n",
        "    \n",
        "    out_vocab_size=13 \n",
        "    embedding_dim=12 \n",
        "    input_length=11\n",
        "    dec_units=16 \n",
        "    att_units=16\n",
        "    batch_size=32\n",
        "    \n",
        "    target_sentences=tf.random.uniform(shape=(batch_size,input_length),maxval=10,minval=0,dtype=tf.int32)\n",
        "    encoder_output=tf.random.uniform(shape=[batch_size,input_length,dec_units])\n",
        "    state_h=tf.random.uniform(shape=[batch_size,dec_units])\n",
        "    state_c=tf.random.uniform(shape=[batch_size,dec_units])\n",
        "    \n",
        "    decoder=Decoder(out_vocab_size, embedding_dim, input_length, dec_units ,score_fun ,att_units)\n",
        "    output=decoder(target_sentences,encoder_output, state_h, state_c)\n",
        "    assert(output.shape==(batch_size,input_length,out_vocab_size))\n",
        "    return True\n",
        "print(grader_decoder('dot'))\n",
        "print(grader_decoder('general'))\n",
        "print(grader_decoder('concat'))"
      ],
      "execution_count": null,
      "outputs": [
        {
          "output_type": "stream",
          "name": "stdout",
          "text": [
            "True\n",
            "True\n",
            "True\n"
          ]
        }
      ]
    },
    {
      "cell_type": "markdown",
      "metadata": {
        "id": "fC1T1EOoMTqC"
      },
      "source": [
        "<font color='blue'>**Encoder Decoder model**</font>"
      ]
    },
    {
      "cell_type": "code",
      "metadata": {
        "id": "FfqBIe20MT3D",
        "execution": {
          "iopub.status.busy": "2021-08-28T13:15:21.142861Z",
          "iopub.execute_input": "2021-08-28T13:15:21.143379Z",
          "iopub.status.idle": "2021-08-28T13:15:21.152682Z",
          "shell.execute_reply.started": "2021-08-28T13:15:21.143339Z",
          "shell.execute_reply": "2021-08-28T13:15:21.151766Z"
        },
        "trusted": true
      },
      "source": [
        "class encoder_decoder(tf.keras.Model):\n",
        "  def __init__(self, inp_vocab_size, out_vocab_size, embedding_dim, \n",
        "               enc_units, dec_units, max_len, score_fun, att_units, batch_size):\n",
        "    super().__init__()\n",
        "    #Intialize objects from encoder decoder\n",
        "    self.encoder = Encoder(inp_vocab_size, embedding_dim, enc_units, max_len)\n",
        "    self.one_step_decoder = OneStepDecoder(out_vocab_size, embedding_dim,\n",
        "                                           max_len, dec_units ,score_fun ,att_units)\n",
        "    self.batch_size = batch_size\n",
        "\n",
        "  @tf.function\n",
        "  def call(self,data):\n",
        "    #Intialize encoder states, Pass the encoder_sequence to the embedding layer\n",
        "    encoder_inp, decoder_inp = data[0], data[1]\n",
        "    initial_state = self.encoder.initialize_states(self.batch_size)\n",
        "    encoder_output, encoder_h, encoder_c = self.encoder(encoder_inp, initial_state)\n",
        "    all_outputs = tf.TensorArray(dtype = tf.float32, size= max_len)\n",
        "    # Decoder initial states are encoder final states, Initialize it accordingly\n",
        "    decoder_h = encoder_h\n",
        "    decoder_c = encoder_c\n",
        "    # Pass the decoder sequence,encoder_output,decoder states to Decoder\n",
        "    for timestep in range(max_len):\n",
        "        decoder_output, decoder_h, decoder_c, _, _ = self.one_step_decoder(decoder_inp[:, timestep:timestep+1], \n",
        "                                                               encoder_output, \n",
        "                                                               decoder_h,\n",
        "                                                               decoder_c)\n",
        "        all_outputs = all_outputs.write(timestep, decoder_output)\n",
        "    all_outputs = tf.transpose(all_outputs.stack(), (1, 0, 2))\n",
        "    # return the decoder output\n",
        "    return all_outputs\n",
        "\n"
      ],
      "execution_count": null,
      "outputs": []
    },
    {
      "cell_type": "markdown",
      "metadata": {
        "id": "WVRxB-FDMJWL"
      },
      "source": [
        "<font color='blue'>**Custom loss function**</font>"
      ]
    },
    {
      "cell_type": "code",
      "metadata": {
        "id": "QY_3izrXMs8y",
        "execution": {
          "iopub.status.busy": "2021-08-28T13:15:21.154002Z",
          "iopub.execute_input": "2021-08-28T13:15:21.154355Z",
          "iopub.status.idle": "2021-08-28T13:15:21.165873Z",
          "shell.execute_reply.started": "2021-08-28T13:15:21.154318Z",
          "shell.execute_reply": "2021-08-28T13:15:21.165143Z"
        },
        "trusted": true
      },
      "source": [
        "#https://www.tensorflow.org/tutorials/text/image_captioning#model\n",
        "loss_object = tf.keras.losses.SparseCategoricalCrossentropy(\n",
        "    from_logits=True, reduction='none')\n",
        "\n",
        "\n",
        "def loss_function(real, pred):\n",
        "    \"\"\" Custom loss function that will not consider the loss for padded zeros.\n",
        "    why are we using this, can't we use simple sparse categorical crossentropy?\n",
        "    Yes, you can use simple sparse categorical crossentropy as loss like we did in task-1. But in this loss function we are ignoring the loss\n",
        "    for the padded zeros. i.e when the input is zero then we donot need to worry what the output is. This padded zeros are added from our end\n",
        "    during preprocessing to make equal length for all the sentences.\n",
        "\n",
        "    \"\"\"\n",
        "    \n",
        "    \n",
        "    mask = tf.math.logical_not(tf.math.equal(real, 0))\n",
        "    loss_ = loss_object(real, pred)\n",
        "\n",
        "    mask = tf.cast(mask, dtype=loss_.dtype)\n",
        "    loss_ *= mask\n",
        "\n",
        "    return tf.reduce_mean(loss_)"
      ],
      "execution_count": null,
      "outputs": []
    },
    {
      "cell_type": "markdown",
      "metadata": {
        "id": "wvPvwogANwEV"
      },
      "source": [
        "# <font color='blue'>**1 . Model with Dot Scoring function**</font>"
      ]
    },
    {
      "cell_type": "code",
      "metadata": {
        "id": "0caTcr0H0ITt"
      },
      "source": [
        "from tensorflow.keras.callbacks import*\n",
        "import os\n",
        "batch_size=128\n",
        "enc_unit=512\n",
        "dec_unit=512\n",
        "max_len = 20\n",
        "embedding_dim = 256\n",
        "att_units = 256\n",
        "\n",
        "train_dataset = Dataset(train, tknizer_ita, tknizer_eng, max_len)\n",
        "test_dataset  = Dataset(test, tknizer_ita, tknizer_eng, max_len)\n",
        "\n",
        "train_dataloader = Dataloder(train_dataset, batch_size=batch_size)\n",
        "test_dataloader = Dataloder(test_dataset, batch_size=batch_size)\n"
      ],
      "execution_count": null,
      "outputs": []
    },
    {
      "cell_type": "code",
      "metadata": {
        "execution": {
          "iopub.status.busy": "2021-08-28T08:05:03.137428Z",
          "iopub.execute_input": "2021-08-28T08:05:03.137781Z",
          "iopub.status.idle": "2021-08-28T08:05:03.513469Z",
          "shell.execute_reply.started": "2021-08-28T08:05:03.137747Z",
          "shell.execute_reply": "2021-08-28T08:05:03.512569Z"
        },
        "trusted": true,
        "id": "vVcLkS6ZNwEV"
      },
      "source": [
        "Attention_dot_model = encoder_decoder(vocab_size_ita+1, vocab_size_eng+1, embedding_dim, enc_unit,\n",
        "                        dec_unit, max_len ,'dot', att_units, batch_size)\n",
        "Attention_dot_model.compile(optimizer = 'Adam', loss = loss_function)\n",
        "log_dir=\"logs/fit/\" + datetime.datetime.now().strftime(\"%Y%m%d-%H%M%S\")\n",
        "callbacks = [ModelCheckpoint('/content/drive/MyDrive/Seq_Seq_attention/Save/Attention_dot', save_best_only= True, verbose = 1),\n",
        "             TensorBoard(log_dir = log_dir, histogram_freq=1, write_graph=True),\n",
        "             EarlyStopping(patience = 3, verbose = 1, monitor = 'val_loss', mode='min'),\n",
        "             ReduceLROnPlateau(patience = 1, verbose = 1, monior='val_loss', mode = 'min', factor = 0.6)]"
      ],
      "execution_count": null,
      "outputs": []
    },
    {
      "cell_type": "code",
      "metadata": {
        "execution": {
          "iopub.status.busy": "2021-08-28T08:05:04.369761Z",
          "iopub.execute_input": "2021-08-28T08:05:04.370097Z",
          "iopub.status.idle": "2021-08-28T09:28:21.488871Z",
          "shell.execute_reply.started": "2021-08-28T08:05:04.370065Z",
          "shell.execute_reply": "2021-08-28T09:28:21.487948Z"
        },
        "trusted": true,
        "id": "snC8qqDmNwEV",
        "colab": {
          "base_uri": "https://localhost:8080/"
        },
        "outputId": "4aea062d-bead-4ce1-bdf4-d7a4d0ef72bc"
      },
      "source": [
        "Attention_dot_model.fit(x = train_dataloader, \n",
        "          steps_per_epoch = train_dataloader.__len__(),\n",
        "          validation_data = test_dataloader,\n",
        "          validation_steps = test_dataloader.__len__(),\n",
        "          epochs = 10,\n",
        "          verbose = 1,\n",
        "          callbacks = callbacks)\n"
      ],
      "execution_count": null,
      "outputs": [
        {
          "output_type": "stream",
          "name": "stdout",
          "text": [
            "Epoch 1/10\n",
            "2471/2471 [==============================] - 676s 266ms/step - loss: 1.1423 - val_loss: 0.6849\n",
            "\n",
            "Epoch 00001: val_loss improved from inf to 0.68489, saving model to /content/drive/MyDrive/Seq_Seq_attention/Save/Attention_dot\n"
          ]
        },
        {
          "output_type": "stream",
          "name": "stderr",
          "text": [
            "WARNING:absl:Found untraced functions such as lstm_cell_11_layer_call_fn, lstm_cell_11_layer_call_and_return_conditional_losses, lstm_cell_12_layer_call_fn, lstm_cell_12_layer_call_and_return_conditional_losses, dot_8_layer_call_fn while saving (showing 5 of 15). These functions will not be directly callable after loading.\n"
          ]
        },
        {
          "output_type": "stream",
          "name": "stdout",
          "text": [
            "INFO:tensorflow:Assets written to: /content/drive/MyDrive/Seq_Seq_attention/Save/Attention_dot/assets\n"
          ]
        },
        {
          "output_type": "stream",
          "name": "stderr",
          "text": [
            "INFO:tensorflow:Assets written to: /content/drive/MyDrive/Seq_Seq_attention/Save/Attention_dot/assets\n"
          ]
        },
        {
          "output_type": "stream",
          "name": "stdout",
          "text": [
            "Epoch 2/10\n",
            "2471/2471 [==============================] - 651s 263ms/step - loss: 0.4629 - val_loss: 0.3264\n",
            "\n",
            "Epoch 00002: val_loss improved from 0.68489 to 0.32640, saving model to /content/drive/MyDrive/Seq_Seq_attention/Save/Attention_dot\n"
          ]
        },
        {
          "output_type": "stream",
          "name": "stderr",
          "text": [
            "WARNING:absl:Found untraced functions such as lstm_cell_11_layer_call_fn, lstm_cell_11_layer_call_and_return_conditional_losses, lstm_cell_12_layer_call_fn, lstm_cell_12_layer_call_and_return_conditional_losses, dot_8_layer_call_fn while saving (showing 5 of 15). These functions will not be directly callable after loading.\n"
          ]
        },
        {
          "output_type": "stream",
          "name": "stdout",
          "text": [
            "INFO:tensorflow:Assets written to: /content/drive/MyDrive/Seq_Seq_attention/Save/Attention_dot/assets\n"
          ]
        },
        {
          "output_type": "stream",
          "name": "stderr",
          "text": [
            "INFO:tensorflow:Assets written to: /content/drive/MyDrive/Seq_Seq_attention/Save/Attention_dot/assets\n"
          ]
        },
        {
          "output_type": "stream",
          "name": "stdout",
          "text": [
            "Epoch 3/10\n",
            "2471/2471 [==============================] - 651s 264ms/step - loss: 0.2326 - val_loss: 0.2236\n",
            "\n",
            "Epoch 00003: val_loss improved from 0.32640 to 0.22356, saving model to /content/drive/MyDrive/Seq_Seq_attention/Save/Attention_dot\n"
          ]
        },
        {
          "output_type": "stream",
          "name": "stderr",
          "text": [
            "WARNING:absl:Found untraced functions such as lstm_cell_11_layer_call_fn, lstm_cell_11_layer_call_and_return_conditional_losses, lstm_cell_12_layer_call_fn, lstm_cell_12_layer_call_and_return_conditional_losses, dot_8_layer_call_fn while saving (showing 5 of 15). These functions will not be directly callable after loading.\n"
          ]
        },
        {
          "output_type": "stream",
          "name": "stdout",
          "text": [
            "INFO:tensorflow:Assets written to: /content/drive/MyDrive/Seq_Seq_attention/Save/Attention_dot/assets\n"
          ]
        },
        {
          "output_type": "stream",
          "name": "stderr",
          "text": [
            "INFO:tensorflow:Assets written to: /content/drive/MyDrive/Seq_Seq_attention/Save/Attention_dot/assets\n"
          ]
        },
        {
          "output_type": "stream",
          "name": "stdout",
          "text": [
            "Epoch 4/10\n",
            "2471/2471 [==============================] - 651s 263ms/step - loss: 0.1472 - val_loss: 0.1859\n",
            "\n",
            "Epoch 00004: val_loss improved from 0.22356 to 0.18594, saving model to /content/drive/MyDrive/Seq_Seq_attention/Save/Attention_dot\n"
          ]
        },
        {
          "output_type": "stream",
          "name": "stderr",
          "text": [
            "WARNING:absl:Found untraced functions such as lstm_cell_11_layer_call_fn, lstm_cell_11_layer_call_and_return_conditional_losses, lstm_cell_12_layer_call_fn, lstm_cell_12_layer_call_and_return_conditional_losses, dot_8_layer_call_fn while saving (showing 5 of 15). These functions will not be directly callable after loading.\n"
          ]
        },
        {
          "output_type": "stream",
          "name": "stdout",
          "text": [
            "INFO:tensorflow:Assets written to: /content/drive/MyDrive/Seq_Seq_attention/Save/Attention_dot/assets\n"
          ]
        },
        {
          "output_type": "stream",
          "name": "stderr",
          "text": [
            "INFO:tensorflow:Assets written to: /content/drive/MyDrive/Seq_Seq_attention/Save/Attention_dot/assets\n"
          ]
        },
        {
          "output_type": "stream",
          "name": "stdout",
          "text": [
            "Epoch 5/10\n",
            "2471/2471 [==============================] - 651s 263ms/step - loss: 0.1053 - val_loss: 0.1677\n",
            "\n",
            "Epoch 00005: val_loss improved from 0.18594 to 0.16772, saving model to /content/drive/MyDrive/Seq_Seq_attention/Save/Attention_dot\n"
          ]
        },
        {
          "output_type": "stream",
          "name": "stderr",
          "text": [
            "WARNING:absl:Found untraced functions such as lstm_cell_11_layer_call_fn, lstm_cell_11_layer_call_and_return_conditional_losses, lstm_cell_12_layer_call_fn, lstm_cell_12_layer_call_and_return_conditional_losses, dot_8_layer_call_fn while saving (showing 5 of 15). These functions will not be directly callable after loading.\n"
          ]
        },
        {
          "output_type": "stream",
          "name": "stdout",
          "text": [
            "INFO:tensorflow:Assets written to: /content/drive/MyDrive/Seq_Seq_attention/Save/Attention_dot/assets\n"
          ]
        },
        {
          "output_type": "stream",
          "name": "stderr",
          "text": [
            "INFO:tensorflow:Assets written to: /content/drive/MyDrive/Seq_Seq_attention/Save/Attention_dot/assets\n"
          ]
        },
        {
          "output_type": "stream",
          "name": "stdout",
          "text": [
            "Epoch 6/10\n",
            "2471/2471 [==============================] - 651s 263ms/step - loss: 0.0804 - val_loss: 0.1570\n",
            "\n",
            "Epoch 00006: val_loss improved from 0.16772 to 0.15700, saving model to /content/drive/MyDrive/Seq_Seq_attention/Save/Attention_dot\n"
          ]
        },
        {
          "output_type": "stream",
          "name": "stderr",
          "text": [
            "WARNING:absl:Found untraced functions such as lstm_cell_11_layer_call_fn, lstm_cell_11_layer_call_and_return_conditional_losses, lstm_cell_12_layer_call_fn, lstm_cell_12_layer_call_and_return_conditional_losses, dot_8_layer_call_fn while saving (showing 5 of 15). These functions will not be directly callable after loading.\n"
          ]
        },
        {
          "output_type": "stream",
          "name": "stdout",
          "text": [
            "INFO:tensorflow:Assets written to: /content/drive/MyDrive/Seq_Seq_attention/Save/Attention_dot/assets\n"
          ]
        },
        {
          "output_type": "stream",
          "name": "stderr",
          "text": [
            "INFO:tensorflow:Assets written to: /content/drive/MyDrive/Seq_Seq_attention/Save/Attention_dot/assets\n"
          ]
        },
        {
          "output_type": "stream",
          "name": "stdout",
          "text": [
            "Epoch 7/10\n",
            "2471/2471 [==============================] - 651s 264ms/step - loss: 0.0645 - val_loss: 0.1518\n",
            "\n",
            "Epoch 00007: val_loss improved from 0.15700 to 0.15183, saving model to /content/drive/MyDrive/Seq_Seq_attention/Save/Attention_dot\n"
          ]
        },
        {
          "output_type": "stream",
          "name": "stderr",
          "text": [
            "WARNING:absl:Found untraced functions such as lstm_cell_11_layer_call_fn, lstm_cell_11_layer_call_and_return_conditional_losses, lstm_cell_12_layer_call_fn, lstm_cell_12_layer_call_and_return_conditional_losses, dot_8_layer_call_fn while saving (showing 5 of 15). These functions will not be directly callable after loading.\n"
          ]
        },
        {
          "output_type": "stream",
          "name": "stdout",
          "text": [
            "INFO:tensorflow:Assets written to: /content/drive/MyDrive/Seq_Seq_attention/Save/Attention_dot/assets\n"
          ]
        },
        {
          "output_type": "stream",
          "name": "stderr",
          "text": [
            "INFO:tensorflow:Assets written to: /content/drive/MyDrive/Seq_Seq_attention/Save/Attention_dot/assets\n"
          ]
        },
        {
          "output_type": "stream",
          "name": "stdout",
          "text": [
            "Epoch 8/10\n",
            "2471/2471 [==============================] - 652s 264ms/step - loss: 0.0535 - val_loss: 0.1502\n",
            "\n",
            "Epoch 00008: val_loss improved from 0.15183 to 0.15019, saving model to /content/drive/MyDrive/Seq_Seq_attention/Save/Attention_dot\n"
          ]
        },
        {
          "output_type": "stream",
          "name": "stderr",
          "text": [
            "WARNING:absl:Found untraced functions such as lstm_cell_11_layer_call_fn, lstm_cell_11_layer_call_and_return_conditional_losses, lstm_cell_12_layer_call_fn, lstm_cell_12_layer_call_and_return_conditional_losses, dot_8_layer_call_fn while saving (showing 5 of 15). These functions will not be directly callable after loading.\n"
          ]
        },
        {
          "output_type": "stream",
          "name": "stdout",
          "text": [
            "INFO:tensorflow:Assets written to: /content/drive/MyDrive/Seq_Seq_attention/Save/Attention_dot/assets\n"
          ]
        },
        {
          "output_type": "stream",
          "name": "stderr",
          "text": [
            "INFO:tensorflow:Assets written to: /content/drive/MyDrive/Seq_Seq_attention/Save/Attention_dot/assets\n"
          ]
        },
        {
          "output_type": "stream",
          "name": "stdout",
          "text": [
            "Epoch 9/10\n",
            "2471/2471 [==============================] - 652s 264ms/step - loss: 0.0460 - val_loss: 0.1488\n",
            "\n",
            "Epoch 00009: val_loss improved from 0.15019 to 0.14883, saving model to /content/drive/MyDrive/Seq_Seq_attention/Save/Attention_dot\n"
          ]
        },
        {
          "output_type": "stream",
          "name": "stderr",
          "text": [
            "WARNING:absl:Found untraced functions such as lstm_cell_11_layer_call_fn, lstm_cell_11_layer_call_and_return_conditional_losses, lstm_cell_12_layer_call_fn, lstm_cell_12_layer_call_and_return_conditional_losses, dot_8_layer_call_fn while saving (showing 5 of 15). These functions will not be directly callable after loading.\n"
          ]
        },
        {
          "output_type": "stream",
          "name": "stdout",
          "text": [
            "INFO:tensorflow:Assets written to: /content/drive/MyDrive/Seq_Seq_attention/Save/Attention_dot/assets\n"
          ]
        },
        {
          "output_type": "stream",
          "name": "stderr",
          "text": [
            "INFO:tensorflow:Assets written to: /content/drive/MyDrive/Seq_Seq_attention/Save/Attention_dot/assets\n"
          ]
        },
        {
          "output_type": "stream",
          "name": "stdout",
          "text": [
            "Epoch 10/10\n",
            "2471/2471 [==============================] - 651s 263ms/step - loss: 0.0402 - val_loss: 0.1497\n",
            "\n",
            "Epoch 00010: val_loss did not improve from 0.14883\n",
            "\n",
            "Epoch 00010: ReduceLROnPlateau reducing learning rate to 0.0006000000284984708.\n"
          ]
        },
        {
          "output_type": "execute_result",
          "data": {
            "text/plain": [
              "<keras.callbacks.History at 0x7fc8de602f10>"
            ]
          },
          "metadata": {},
          "execution_count": 46
        }
      ]
    },
    {
      "cell_type": "code",
      "metadata": {
        "execution": {
          "iopub.status.busy": "2021-08-28T09:28:26.254314Z",
          "iopub.execute_input": "2021-08-28T09:28:26.254652Z",
          "iopub.status.idle": "2021-08-28T09:28:26.262643Z",
          "shell.execute_reply.started": "2021-08-28T09:28:26.254620Z",
          "shell.execute_reply": "2021-08-28T09:28:26.261598Z"
        },
        "trusted": true,
        "id": "8a1e2uPuNwEW",
        "colab": {
          "base_uri": "https://localhost:8080/"
        },
        "outputId": "61a1bd81-2620-4004-b211-af1e72643cb2"
      },
      "source": [
        "Attention_dot_model.layers"
      ],
      "execution_count": null,
      "outputs": [
        {
          "output_type": "execute_result",
          "data": {
            "text/plain": [
              "[<__main__.Encoder at 0x7fc94e4557d0>,\n",
              " <__main__.OneStepDecoder at 0x7fc8de62a350>]"
            ]
          },
          "metadata": {},
          "execution_count": 47
        }
      ]
    },
    {
      "cell_type": "markdown",
      "metadata": {
        "id": "6DpC9zlzMcXp"
      },
      "source": [
        "# <font color='blue'>**1.1 Inference Model-1**</font>"
      ]
    },
    {
      "cell_type": "markdown",
      "metadata": {
        "id": "Z5NhESYyMW_t"
      },
      "source": [
        "<font color='blue'>**Plot attention weights**</font>"
      ]
    },
    {
      "cell_type": "code",
      "metadata": {
        "id": "pkEY7SsBMtrC",
        "execution": {
          "iopub.status.busy": "2021-08-28T13:39:00.248555Z",
          "iopub.execute_input": "2021-08-28T13:39:00.248885Z",
          "iopub.status.idle": "2021-08-28T13:39:00.256550Z",
          "shell.execute_reply.started": "2021-08-28T13:39:00.248857Z",
          "shell.execute_reply": "2021-08-28T13:39:00.255489Z"
        },
        "trusted": true
      },
      "source": [
        "import matplotlib.pyplot as plt\n",
        "import matplotlib.ticker as ticker\n",
        "\n",
        "def plot_attention(attention, sentence, predicted_sentence):\n",
        "    fig = plt.figure(figsize=(10,10))\n",
        "    ax = fig.add_subplot(1, 1, 1)\n",
        "    ax.matshow(attention, cmap='viridis')\n",
        "\n",
        "    fontdict = {'fontsize': 14}\n",
        "\n",
        "    ax.set_xticklabels([''] + sentence, fontdict=fontdict, rotation=90)\n",
        "    ax.set_yticklabels([''] + predicted_sentence, fontdict=fontdict)\n",
        "\n",
        "    ax.xaxis.set_major_locator(ticker.MultipleLocator(1))\n",
        "    ax.yaxis.set_major_locator(ticker.MultipleLocator(1))\n",
        "\n",
        "    plt.show()\n",
        "  #Refer: https://www.tensorflow.org/tutorials/text/nmt_with_attention#translate\n"
      ],
      "execution_count": null,
      "outputs": []
    },
    {
      "cell_type": "markdown",
      "metadata": {
        "id": "e1IhdBrgQYJr"
      },
      "source": [
        "<font color='blue'>**Predict the sentence translation**</font>"
      ]
    },
    {
      "cell_type": "code",
      "metadata": {
        "id": "MP3kLZoPMvSu",
        "execution": {
          "iopub.status.busy": "2021-08-28T09:28:30.275155Z",
          "iopub.execute_input": "2021-08-28T09:28:30.275486Z",
          "iopub.status.idle": "2021-08-28T09:28:30.287305Z",
          "shell.execute_reply.started": "2021-08-28T09:28:30.275455Z",
          "shell.execute_reply": "2021-08-28T09:28:30.286318Z"
        },
        "trusted": true
      },
      "source": [
        "def predict_model_1(input_sentence):\n",
        "    '''\n",
        "      A. Given input sentence, convert the sentence into integers using tokenizer used earlier\n",
        "      B. Pass the input_sequence to encoder. we get encoder_outputs, last time step hidden and cell state\n",
        "      C. Initialize index of <start> as input to decoder. and encoder final states as input_states to onestepdecoder.\n",
        "      D. till we reach max_length of decoder or till the model predicted word <end>:\n",
        "         predictions, input_states, attention_weights = model.layers[1].onestepdecoder(input_to_decoder, encoder_output, input_states)\n",
        "         Save the attention weights\n",
        "         And get the word using the tokenizer(word index) and then store it in a string.\n",
        "      E. Call plot_attention(#params)\n",
        "      F. Return the predicted sentence\n",
        "    '''\n",
        "    sentencce = '<start> '+input_sentence+' <end>'\n",
        "    sentencce = tknizer_ita.texts_to_sequences([sentencce])\n",
        "    sentencce = pad_sequences(sentencce, maxlen=max_len, \n",
        "                              padding='post', dtype = np.int32)\n",
        "    \n",
        "    input_embedding = Attention_dot_model.layers[0].encoder_embedding(sentencce)\n",
        "    initial_state =  Attention_dot_model.layers[0].initialize_states(1)\n",
        "    ecoder_output, encoder_h, encoder_c = Attention_dot_model.layers[0].encoder_Lstm(input_embedding,initial_state)\n",
        "    predict = np.expand_dims([tknizer_eng.word_index['<start>']], 0)\n",
        "    decoder_h = encoder_h\n",
        "    decoder_c = encoder_c\n",
        "    prediction = []\n",
        "    total_attention = []\n",
        "    for words in range(max_len):\n",
        "        predict, decoder_h,decoder_c,attention,_ = Attention_dot_model.layers[1](predict,ecoder_output,\n",
        "                                                                                             decoder_h,decoder_c,training = False)\n",
        "        predict = np.reshape(np.argmax(predict), (1, 1))                                                                                      \n",
        "        prediction.append(predict)\n",
        "        total_attention.append(attention)\n",
        "    return prediction, total_attention\n",
        "\n",
        "def get_sentence(prediction):\n",
        "    output = []\n",
        "    for i in prediction:\n",
        "        word = tknizer_eng.index_word[i[0][0]]\n",
        "        if word == '<end>':\n",
        "            break\n",
        "        output.append(word)\n",
        "    return ' '.join(output)"
      ],
      "execution_count": null,
      "outputs": []
    },
    {
      "cell_type": "code",
      "metadata": {
        "execution": {
          "iopub.status.busy": "2021-08-28T09:28:31.255327Z",
          "iopub.execute_input": "2021-08-28T09:28:31.255706Z",
          "iopub.status.idle": "2021-08-28T09:28:31.380722Z",
          "shell.execute_reply.started": "2021-08-28T09:28:31.255655Z",
          "shell.execute_reply": "2021-08-28T09:28:31.379734Z"
        },
        "trusted": true,
        "id": "9dLZdR4uNwEX",
        "colab": {
          "base_uri": "https://localhost:8080/"
        },
        "outputId": "bdd1029e-4aa4-4e64-b727-602ed338dd1a"
      },
      "source": [
        "sentence = \"non mi trattate come una bambina\"\n",
        "print('input : ', sentence)\n",
        "result,weights = predict(sentence)\n",
        "output = get_sentence(result)\n",
        "print('predicted output : ',output)\n"
      ],
      "execution_count": null,
      "outputs": [
        {
          "output_type": "stream",
          "name": "stdout",
          "text": [
            "input :  non mi trattate come una bambina\n",
            "predicted output :  do not treat me like a child\n"
          ]
        }
      ]
    },
    {
      "cell_type": "code",
      "metadata": {
        "execution": {
          "iopub.status.busy": "2021-08-28T09:28:33.698572Z",
          "iopub.execute_input": "2021-08-28T09:28:33.698980Z",
          "iopub.status.idle": "2021-08-28T09:28:34.165579Z",
          "shell.execute_reply.started": "2021-08-28T09:28:33.698933Z",
          "shell.execute_reply": "2021-08-28T09:28:34.164506Z"
        },
        "trusted": true,
        "id": "hhr_e3aYNwEX",
        "colab": {
          "base_uri": "https://localhost:8080/",
          "height": 700
        },
        "outputId": "3f362680-c7e8-4dc4-878f-eafc2c4ed067"
      },
      "source": [
        "import warnings\n",
        "warnings.filterwarnings(\"ignore\")\n",
        "\n",
        "sentence = test['italian'].values[5]\n",
        "print('input : ', sentence)\n",
        "result, attention_plot = predict(sentence)\n",
        "output = get_sentence(result)\n",
        "attention_plot = np.squeeze(np.squeeze(np.array(attention_plot), 1), -1)\n",
        "attention_plot = attention_plot[:len(output.split(' ')), :len(sentence.split(' '))]\n",
        "plot_attention(attention_plot, sentence.split(' '), output.split(' '))\n",
        "print('predicted output : ',output)\n",
        "print('actual output :', test['english_out'].values[5])"
      ],
      "execution_count": null,
      "outputs": [
        {
          "output_type": "stream",
          "name": "stdout",
          "text": [
            "input :  non mi trattate come una bambina\n"
          ]
        },
        {
          "output_type": "display_data",
          "data": {
            "image/png": "[encoded data removed]",
            "text/plain": [
              "<Figure size 720x720 with 1 Axes>"
            ]
          },
          "metadata": {
            "needs_background": "light"
          }
        },
        {
          "output_type": "stream",
          "name": "stdout",
          "text": [
            "predicted output :  do not treat me like a child\n",
            "actual output : do not treat me like a child <end>\n"
          ]
        }
      ]
    },
    {
      "cell_type": "markdown",
      "metadata": {
        "id": "jmxIVOOQPWMu"
      },
      "source": [
        "<font color='blue'>**Calculate BLEU score**</font>"
      ]
    },
    {
      "cell_type": "code",
      "metadata": {
        "id": "0iHiLdROM23l",
        "execution": {
          "iopub.status.busy": "2021-08-28T09:28:56.384961Z",
          "iopub.execute_input": "2021-08-28T09:28:56.385285Z",
          "iopub.status.idle": "2021-08-28T09:30:50.708229Z",
          "shell.execute_reply.started": "2021-08-28T09:28:56.385256Z",
          "shell.execute_reply": "2021-08-28T09:30:50.707279Z"
        },
        "trusted": true,
        "colab": {
          "base_uri": "https://localhost:8080/"
        },
        "outputId": "898168a9-3ac6-4516-b32e-25444ffba1db"
      },
      "source": [
        "#Create an object of your custom model.\n",
        "#Compile and train your model on dot scoring function.\n",
        "# Visualize few sentences randomly in Test data\n",
        "# Predict on 1000 random sentences on test data and calculate the average BLEU score of these sentences.\n",
        "# https://www.nltk.org/_modules/nltk/translate/bleu_score.html\n",
        "\n",
        "#Sample example\n",
        "from nltk.translate.bleu_score import sentence_bleu\n",
        "from numpy.random import permutation\n",
        "score =0\n",
        "res = []\n",
        "for i in permutation(1000):\n",
        "    sentence = test['italian'].values[i]\n",
        "    reference = test['english_out'].values[i][:-5]\n",
        "    values, weights = predict_model_1(sentence)\n",
        "    get_answer = get_sentence(values)\n",
        "    #print(get_answer)\n",
        "    score+= sentence_bleu([reference.split()], get_answer.split())\n",
        "print('Bleu Score : {}'.format(score/1000))\n"
      ],
      "execution_count": null,
      "outputs": [
        {
          "output_type": "stream",
          "name": "stdout",
          "text": [
            "Bleu Score : 0.8625677426893841\n"
          ]
        }
      ]
    },
    {
      "cell_type": "markdown",
      "metadata": {
        "id": "SWg2ferDQvT3"
      },
      "source": [
        "# <font color='blue'>**2. Model for General scoring function**</font>"
      ]
    },
    {
      "cell_type": "code",
      "metadata": {
        "execution": {
          "iopub.status.busy": "2021-08-28T13:15:26.283978Z",
          "iopub.execute_input": "2021-08-28T13:15:26.284329Z",
          "iopub.status.idle": "2021-08-28T13:15:26.291316Z",
          "shell.execute_reply.started": "2021-08-28T13:15:26.284298Z",
          "shell.execute_reply": "2021-08-28T13:15:26.290243Z"
        },
        "trusted": true,
        "id": "dfRIEWW9NwEY"
      },
      "source": [
        "from tensorflow.keras.callbacks import*\n",
        "import os\n",
        "batch_size=256\n",
        "enc_unit=256\n",
        "dec_unit=256\n",
        "max_len = 20\n",
        "embedding_dim = 100\n",
        "att_units = 256\n",
        "\n",
        "train_dataset = Dataset(train, tknizer_ita, tknizer_eng, max_len)\n",
        "test_dataset  = Dataset(test, tknizer_ita, tknizer_eng, max_len)\n",
        "\n",
        "train_dataloader = Dataloder(train_dataset, batch_size=batch_size)\n",
        "test_dataloader = Dataloder(test_dataset, batch_size=batch_size)\n"
      ],
      "execution_count": null,
      "outputs": []
    },
    {
      "cell_type": "code",
      "metadata": {
        "execution": {
          "iopub.status.busy": "2021-08-28T13:15:36.328704Z",
          "iopub.execute_input": "2021-08-28T13:15:36.329023Z",
          "iopub.status.idle": "2021-08-28T13:15:36.851294Z",
          "shell.execute_reply.started": "2021-08-28T13:15:36.328993Z",
          "shell.execute_reply": "2021-08-28T13:15:36.850328Z"
        },
        "trusted": true,
        "id": "1GgbzdSzNwEY"
      },
      "source": [
        "General_scr_model = encoder_decoder(vocab_size_ita+1, vocab_size_eng+1, embedding_dim, enc_unit,\n",
        "                        dec_unit, max_len ,'general', att_units, batch_size)\n",
        "General_scr_model.compile(optimizer = 'Adam', loss = loss_function)\n",
        "log_dir=\"logs/fit/\" + datetime.datetime.now().strftime(\"%Y%m%d-%H%M%S\")\n",
        "callbacks = [ModelCheckpoint('/content/drive/MyDrive/Seq_Seq_attention/Save/General', save_best_only= True, verbose = 1),\n",
        "             #TensorBoard(log_dir = log_dir, histogram_freq=1, write_graph=True),\n",
        "             EarlyStopping(patience = 5, verbose = 1, monitor = 'val_loss', mode='min'),\n",
        "             ReduceLROnPlateau(patience = 1, verbose = 1, monior='val_loss', mode = 'min', factor = 0.6)]"
      ],
      "execution_count": null,
      "outputs": []
    },
    {
      "cell_type": "code",
      "metadata": {
        "execution": {
          "iopub.status.busy": "2021-08-28T13:15:38.598844Z",
          "iopub.execute_input": "2021-08-28T13:15:38.599215Z",
          "iopub.status.idle": "2021-08-28T13:37:54.779450Z",
          "shell.execute_reply.started": "2021-08-28T13:15:38.599178Z",
          "shell.execute_reply": "2021-08-28T13:37:54.778559Z"
        },
        "trusted": true,
        "id": "3DlSQywGNwEY",
        "colab": {
          "base_uri": "https://localhost:8080/"
        },
        "outputId": "558c78a5-f60d-43f2-8d5e-b3f979528766"
      },
      "source": [
        "General_scr_model.fit(x = train_dataloader, \n",
        "          steps_per_epoch = train_dataloader.__len__(),\n",
        "          validation_data = test_dataloader,\n",
        "          validation_steps = test_dataloader.__len__(),\n",
        "          epochs = 10,\n",
        "          verbose = 1,\n",
        "          callbacks = callbacks)"
      ],
      "execution_count": null,
      "outputs": [
        {
          "output_type": "stream",
          "name": "stdout",
          "text": [
            "Epoch 1/10\n",
            "1235/1235 [==============================] - 139s 101ms/step - loss: 1.4756 - val_loss: 1.0753\n",
            "\n",
            "Epoch 00001: val_loss improved from inf to 1.07526, saving model to /content/drive/MyDrive/Seq_Seq_attention/Save/General\n"
          ]
        },
        {
          "output_type": "stream",
          "name": "stderr",
          "text": [
            "WARNING:absl:Found untraced functions such as lstm_cell_7_layer_call_and_return_conditional_losses, lstm_cell_7_layer_call_fn, lstm_cell_8_layer_call_and_return_conditional_losses, lstm_cell_8_layer_call_fn, dense_18_layer_call_and_return_conditional_losses while saving (showing 5 of 20). These functions will not be directly callable after loading.\n"
          ]
        },
        {
          "output_type": "stream",
          "name": "stdout",
          "text": [
            "INFO:tensorflow:Assets written to: /content/drive/MyDrive/Seq_Seq_attention/Save/General/assets\n"
          ]
        },
        {
          "output_type": "stream",
          "name": "stderr",
          "text": [
            "INFO:tensorflow:Assets written to: /content/drive/MyDrive/Seq_Seq_attention/Save/General/assets\n"
          ]
        },
        {
          "output_type": "stream",
          "name": "stdout",
          "text": [
            "Epoch 2/10\n",
            "1235/1235 [==============================] - 122s 99ms/step - loss: 0.8736 - val_loss: 0.7072\n",
            "\n",
            "Epoch 00002: val_loss improved from 1.07526 to 0.70723, saving model to /content/drive/MyDrive/Seq_Seq_attention/Save/General\n"
          ]
        },
        {
          "output_type": "stream",
          "name": "stderr",
          "text": [
            "WARNING:absl:Found untraced functions such as lstm_cell_7_layer_call_and_return_conditional_losses, lstm_cell_7_layer_call_fn, lstm_cell_8_layer_call_and_return_conditional_losses, lstm_cell_8_layer_call_fn, dense_18_layer_call_and_return_conditional_losses while saving (showing 5 of 20). These functions will not be directly callable after loading.\n"
          ]
        },
        {
          "output_type": "stream",
          "name": "stdout",
          "text": [
            "INFO:tensorflow:Assets written to: /content/drive/MyDrive/Seq_Seq_attention/Save/General/assets\n"
          ]
        },
        {
          "output_type": "stream",
          "name": "stderr",
          "text": [
            "INFO:tensorflow:Assets written to: /content/drive/MyDrive/Seq_Seq_attention/Save/General/assets\n"
          ]
        },
        {
          "output_type": "stream",
          "name": "stdout",
          "text": [
            "Epoch 3/10\n",
            "1235/1235 [==============================] - 122s 99ms/step - loss: 0.5722 - val_loss: 0.4813\n",
            "\n",
            "Epoch 00003: val_loss improved from 0.70723 to 0.48135, saving model to /content/drive/MyDrive/Seq_Seq_attention/Save/General\n"
          ]
        },
        {
          "output_type": "stream",
          "name": "stderr",
          "text": [
            "WARNING:absl:Found untraced functions such as lstm_cell_7_layer_call_and_return_conditional_losses, lstm_cell_7_layer_call_fn, lstm_cell_8_layer_call_and_return_conditional_losses, lstm_cell_8_layer_call_fn, dense_18_layer_call_and_return_conditional_losses while saving (showing 5 of 20). These functions will not be directly callable after loading.\n"
          ]
        },
        {
          "output_type": "stream",
          "name": "stdout",
          "text": [
            "INFO:tensorflow:Assets written to: /content/drive/MyDrive/Seq_Seq_attention/Save/General/assets\n"
          ]
        },
        {
          "output_type": "stream",
          "name": "stderr",
          "text": [
            "INFO:tensorflow:Assets written to: /content/drive/MyDrive/Seq_Seq_attention/Save/General/assets\n"
          ]
        },
        {
          "output_type": "stream",
          "name": "stdout",
          "text": [
            "Epoch 4/10\n",
            "1235/1235 [==============================] - 127s 103ms/step - loss: 0.3816 - val_loss: 0.3502\n",
            "\n",
            "Epoch 00004: val_loss improved from 0.48135 to 0.35015, saving model to /content/drive/MyDrive/Seq_Seq_attention/Save/General\n"
          ]
        },
        {
          "output_type": "stream",
          "name": "stderr",
          "text": [
            "WARNING:absl:Found untraced functions such as lstm_cell_7_layer_call_and_return_conditional_losses, lstm_cell_7_layer_call_fn, lstm_cell_8_layer_call_and_return_conditional_losses, lstm_cell_8_layer_call_fn, dense_18_layer_call_and_return_conditional_losses while saving (showing 5 of 20). These functions will not be directly callable after loading.\n"
          ]
        },
        {
          "output_type": "stream",
          "name": "stdout",
          "text": [
            "INFO:tensorflow:Assets written to: /content/drive/MyDrive/Seq_Seq_attention/Save/General/assets\n"
          ]
        },
        {
          "output_type": "stream",
          "name": "stderr",
          "text": [
            "INFO:tensorflow:Assets written to: /content/drive/MyDrive/Seq_Seq_attention/Save/General/assets\n"
          ]
        },
        {
          "output_type": "stream",
          "name": "stdout",
          "text": [
            "Epoch 5/10\n",
            "1235/1235 [==============================] - 122s 99ms/step - loss: 0.2670 - val_loss: 0.2753\n",
            "\n",
            "Epoch 00005: val_loss improved from 0.35015 to 0.27533, saving model to /content/drive/MyDrive/Seq_Seq_attention/Save/General\n"
          ]
        },
        {
          "output_type": "stream",
          "name": "stderr",
          "text": [
            "WARNING:absl:Found untraced functions such as lstm_cell_7_layer_call_and_return_conditional_losses, lstm_cell_7_layer_call_fn, lstm_cell_8_layer_call_and_return_conditional_losses, lstm_cell_8_layer_call_fn, dense_18_layer_call_and_return_conditional_losses while saving (showing 5 of 20). These functions will not be directly callable after loading.\n"
          ]
        },
        {
          "output_type": "stream",
          "name": "stdout",
          "text": [
            "INFO:tensorflow:Assets written to: /content/drive/MyDrive/Seq_Seq_attention/Save/General/assets\n"
          ]
        },
        {
          "output_type": "stream",
          "name": "stderr",
          "text": [
            "INFO:tensorflow:Assets written to: /content/drive/MyDrive/Seq_Seq_attention/Save/General/assets\n"
          ]
        },
        {
          "output_type": "stream",
          "name": "stdout",
          "text": [
            "Epoch 6/10\n",
            "1235/1235 [==============================] - 123s 99ms/step - loss: 0.1986 - val_loss: 0.2335\n",
            "\n",
            "Epoch 00006: val_loss improved from 0.27533 to 0.23349, saving model to /content/drive/MyDrive/Seq_Seq_attention/Save/General\n"
          ]
        },
        {
          "output_type": "stream",
          "name": "stderr",
          "text": [
            "WARNING:absl:Found untraced functions such as lstm_cell_7_layer_call_and_return_conditional_losses, lstm_cell_7_layer_call_fn, lstm_cell_8_layer_call_and_return_conditional_losses, lstm_cell_8_layer_call_fn, dense_18_layer_call_and_return_conditional_losses while saving (showing 5 of 20). These functions will not be directly callable after loading.\n"
          ]
        },
        {
          "output_type": "stream",
          "name": "stdout",
          "text": [
            "INFO:tensorflow:Assets written to: /content/drive/MyDrive/Seq_Seq_attention/Save/General/assets\n"
          ]
        },
        {
          "output_type": "stream",
          "name": "stderr",
          "text": [
            "INFO:tensorflow:Assets written to: /content/drive/MyDrive/Seq_Seq_attention/Save/General/assets\n"
          ]
        },
        {
          "output_type": "stream",
          "name": "stdout",
          "text": [
            "Epoch 7/10\n",
            "1235/1235 [==============================] - 123s 99ms/step - loss: 0.1548 - val_loss: 0.2082\n",
            "\n",
            "Epoch 00007: val_loss improved from 0.23349 to 0.20820, saving model to /content/drive/MyDrive/Seq_Seq_attention/Save/General\n"
          ]
        },
        {
          "output_type": "stream",
          "name": "stderr",
          "text": [
            "WARNING:absl:Found untraced functions such as lstm_cell_7_layer_call_and_return_conditional_losses, lstm_cell_7_layer_call_fn, lstm_cell_8_layer_call_and_return_conditional_losses, lstm_cell_8_layer_call_fn, dense_18_layer_call_and_return_conditional_losses while saving (showing 5 of 20). These functions will not be directly callable after loading.\n"
          ]
        },
        {
          "output_type": "stream",
          "name": "stdout",
          "text": [
            "INFO:tensorflow:Assets written to: /content/drive/MyDrive/Seq_Seq_attention/Save/General/assets\n"
          ]
        },
        {
          "output_type": "stream",
          "name": "stderr",
          "text": [
            "INFO:tensorflow:Assets written to: /content/drive/MyDrive/Seq_Seq_attention/Save/General/assets\n"
          ]
        },
        {
          "output_type": "stream",
          "name": "stdout",
          "text": [
            "Epoch 8/10\n",
            "1235/1235 [==============================] - 122s 99ms/step - loss: 0.1251 - val_loss: 0.1909\n",
            "\n",
            "Epoch 00008: val_loss improved from 0.20820 to 0.19090, saving model to /content/drive/MyDrive/Seq_Seq_attention/Save/General\n"
          ]
        },
        {
          "output_type": "stream",
          "name": "stderr",
          "text": [
            "WARNING:absl:Found untraced functions such as lstm_cell_7_layer_call_and_return_conditional_losses, lstm_cell_7_layer_call_fn, lstm_cell_8_layer_call_and_return_conditional_losses, lstm_cell_8_layer_call_fn, dense_18_layer_call_and_return_conditional_losses while saving (showing 5 of 20). These functions will not be directly callable after loading.\n"
          ]
        },
        {
          "output_type": "stream",
          "name": "stdout",
          "text": [
            "INFO:tensorflow:Assets written to: /content/drive/MyDrive/Seq_Seq_attention/Save/General/assets\n"
          ]
        },
        {
          "output_type": "stream",
          "name": "stderr",
          "text": [
            "INFO:tensorflow:Assets written to: /content/drive/MyDrive/Seq_Seq_attention/Save/General/assets\n"
          ]
        },
        {
          "output_type": "stream",
          "name": "stdout",
          "text": [
            "Epoch 9/10\n",
            "1235/1235 [==============================] - 123s 99ms/step - loss: 0.1039 - val_loss: 0.1778\n",
            "\n",
            "Epoch 00009: val_loss improved from 0.19090 to 0.17779, saving model to /content/drive/MyDrive/Seq_Seq_attention/Save/General\n"
          ]
        },
        {
          "output_type": "stream",
          "name": "stderr",
          "text": [
            "WARNING:absl:Found untraced functions such as lstm_cell_7_layer_call_and_return_conditional_losses, lstm_cell_7_layer_call_fn, lstm_cell_8_layer_call_and_return_conditional_losses, lstm_cell_8_layer_call_fn, dense_18_layer_call_and_return_conditional_losses while saving (showing 5 of 20). These functions will not be directly callable after loading.\n"
          ]
        },
        {
          "output_type": "stream",
          "name": "stdout",
          "text": [
            "INFO:tensorflow:Assets written to: /content/drive/MyDrive/Seq_Seq_attention/Save/General/assets\n"
          ]
        },
        {
          "output_type": "stream",
          "name": "stderr",
          "text": [
            "INFO:tensorflow:Assets written to: /content/drive/MyDrive/Seq_Seq_attention/Save/General/assets\n"
          ]
        },
        {
          "output_type": "stream",
          "name": "stdout",
          "text": [
            "Epoch 10/10\n",
            "1235/1235 [==============================] - 123s 99ms/step - loss: 0.0881 - val_loss: 0.1722\n",
            "\n",
            "Epoch 00010: val_loss improved from 0.17779 to 0.17222, saving model to /content/drive/MyDrive/Seq_Seq_attention/Save/General\n"
          ]
        },
        {
          "output_type": "stream",
          "name": "stderr",
          "text": [
            "WARNING:absl:Found untraced functions such as lstm_cell_7_layer_call_and_return_conditional_losses, lstm_cell_7_layer_call_fn, lstm_cell_8_layer_call_and_return_conditional_losses, lstm_cell_8_layer_call_fn, dense_18_layer_call_and_return_conditional_losses while saving (showing 5 of 20). These functions will not be directly callable after loading.\n"
          ]
        },
        {
          "output_type": "stream",
          "name": "stdout",
          "text": [
            "INFO:tensorflow:Assets written to: /content/drive/MyDrive/Seq_Seq_attention/Save/General/assets\n"
          ]
        },
        {
          "output_type": "stream",
          "name": "stderr",
          "text": [
            "INFO:tensorflow:Assets written to: /content/drive/MyDrive/Seq_Seq_attention/Save/General/assets\n"
          ]
        },
        {
          "output_type": "execute_result",
          "data": {
            "text/plain": [
              "<keras.callbacks.History at 0x7f5b0545c9d0>"
            ]
          },
          "metadata": {},
          "execution_count": 31
        }
      ]
    },
    {
      "cell_type": "markdown",
      "metadata": {
        "id": "kRX_9XolNwEY"
      },
      "source": [
        "## <font color='blue'>**2.1 Inference Model-2**</font>"
      ]
    },
    {
      "cell_type": "code",
      "metadata": {
        "execution": {
          "iopub.status.busy": "2021-08-28T13:39:07.935657Z",
          "iopub.execute_input": "2021-08-28T13:39:07.935986Z",
          "iopub.status.idle": "2021-08-28T13:39:08.416456Z",
          "shell.execute_reply.started": "2021-08-28T13:39:07.935956Z",
          "shell.execute_reply": "2021-08-28T13:39:08.415572Z"
        },
        "trusted": true,
        "id": "d3tqaisRNwEZ"
      },
      "source": [
        "from tensorflow.keras.callbacks import*\n",
        "import os\n",
        "from nltk.translate.bleu_score import sentence_bleu\n",
        "from numpy.random import permutation\n",
        "\n",
        "def predict_model_2(input_sentence):\n",
        "    '''\n",
        "      A. Given input sentence, convert the sentence into integers using tokenizer used earlier\n",
        "      B. Pass the input_sequence to encoder. we get encoder_outputs, last time step hidden and cell state\n",
        "      C. Initialize index of <start> as input to decoder. and encoder final states as input_states to onestepdecoder.\n",
        "      D. till we reach max_length of decoder or till the model predicted word <end>:\n",
        "         predictions, input_states, attention_weights = model.layers[1].onestepdecoder(input_to_decoder, encoder_output, input_states)\n",
        "         Save the attention weights\n",
        "         And get the word using the tokenizer(word index) and then store it in a string.\n",
        "      E. Call plot_attention(#params)\n",
        "      F. Return the predicted sentence\n",
        "    '''\n",
        "    sentencce = '<start> '+input_sentence+' <end>'\n",
        "    sentencce = tknizer_ita.texts_to_sequences([sentencce])\n",
        "    sentencce = pad_sequences(sentencce, maxlen=max_len, \n",
        "                              padding='post', dtype = np.int32)\n",
        "    \n",
        "    input_embedding = General_scr_model.layers[0].encoder_embedding(sentencce)\n",
        "    initial_state =  General_scr_model.layers[0].initialize_states(1)\n",
        "    ecoder_output, encoder_h, encoder_c = General_scr_model.layers[0].encoder_Lstm(input_embedding,initial_state)\n",
        "    predict = np.expand_dims([tknizer_eng.word_index['<start>']], 0)\n",
        "    decoder_h = encoder_h\n",
        "    decoder_c = encoder_c\n",
        "    prediction = []\n",
        "    total_attention = []\n",
        "    for words in range(max_len):\n",
        "        predict, decoder_h,decoder_c,attention,_ = General_scr_model.layers[1](predict,ecoder_output,\n",
        "                                                                                             decoder_h,decoder_c,training = False)\n",
        "        predict = np.reshape(np.argmax(predict), (1, 1))                                                                                      \n",
        "        prediction.append(predict)\n",
        "        total_attention.append(attention)\n",
        "    return prediction, total_attention\n",
        "\n",
        "def get_sentence(prediction):\n",
        "    output = []\n",
        "    for i in prediction:\n",
        "        word = tknizer_eng.index_word[i[0][0]]\n",
        "        if word == '<end>':\n",
        "            break\n",
        "        output.append(word)\n",
        "    return ' '.join(output)"
      ],
      "execution_count": null,
      "outputs": []
    },
    {
      "cell_type": "code",
      "metadata": {
        "execution": {
          "iopub.status.busy": "2021-08-28T13:39:51.713828Z",
          "iopub.execute_input": "2021-08-28T13:39:51.714151Z",
          "iopub.status.idle": "2021-08-28T13:39:52.106982Z",
          "shell.execute_reply.started": "2021-08-28T13:39:51.714121Z",
          "shell.execute_reply": "2021-08-28T13:39:52.105989Z"
        },
        "trusted": true,
        "id": "7yTyGy9FNwEZ",
        "colab": {
          "base_uri": "https://localhost:8080/",
          "height": 699
        },
        "outputId": "4818ea26-14ff-4fbb-fe4d-8ebb46638201"
      },
      "source": [
        "import warnings\n",
        "warnings.filterwarnings(\"ignore\")\n",
        "\n",
        "sentence = train['italian'].values[57]\n",
        "print('input : ', sentence)\n",
        "result, attention_plot = predict_model_2(sentence)\n",
        "output = get_sentence(result)\n",
        "attention_plot = np.squeeze(np.squeeze(np.array(attention_plot), 1), -1)\n",
        "attention_plot = attention_plot[:len(output.split(' ')), :len(sentence.split(' '))]\n",
        "plot_attention(attention_plot, sentence.split(' '), output.split(' '))\n",
        "print('predicted output : ',output)\n",
        "print('actual output :', train['english_out'].values[57])"
      ],
      "execution_count": null,
      "outputs": [
        {
          "output_type": "stream",
          "name": "stdout",
          "text": [
            "input :  dove sta andando tom con mary\n"
          ]
        },
        {
          "output_type": "display_data",
          "data": {
            "image/png": "[encoded data removed]",
            "text/plain": [
              "<Figure size 720x720 with 1 Axes>"
            ]
          },
          "metadata": {
            "needs_background": "light"
          }
        },
        {
          "output_type": "stream",
          "name": "stdout",
          "text": [
            "predicted output :  where is tom going with mary\n",
            "actual output : where is tom going with mary <end>\n"
          ]
        }
      ]
    },
    {
      "cell_type": "code",
      "metadata": {
        "id": "4Rh9_w79M5JO",
        "execution": {
          "iopub.status.busy": "2021-08-28T13:40:04.513979Z",
          "iopub.execute_input": "2021-08-28T13:40:04.514337Z",
          "iopub.status.idle": "2021-08-28T13:41:59.767143Z",
          "shell.execute_reply.started": "2021-08-28T13:40:04.514305Z",
          "shell.execute_reply": "2021-08-28T13:41:59.766256Z"
        },
        "trusted": true,
        "colab": {
          "base_uri": "https://localhost:8080/"
        },
        "outputId": "a23f417f-8c41-420c-b2e3-4ea1d62c55db"
      },
      "source": [
        "from nltk.translate.bleu_score import sentence_bleu\n",
        "from numpy.random import permutation\n",
        "score =0\n",
        "for i in permutation(1000):\n",
        "    sentence = test['italian'].values[i]\n",
        "    reference = test['english_out'].values[i][:-5]\n",
        "    values, weights = predict_model_2(sentence)\n",
        "    prediction = get_sentence(values)\n",
        "    score+= sentence_bleu([reference.split()], prediction.split())\n",
        "print('Bleu Score : {}'.format(score/1000))"
      ],
      "execution_count": null,
      "outputs": [
        {
          "output_type": "stream",
          "name": "stdout",
          "text": [
            "Bleu Score : 0.830625967087493\n"
          ]
        }
      ]
    },
    {
      "cell_type": "markdown",
      "metadata": {
        "id": "VB1jRUqZQ9AM"
      },
      "source": [
        "# <font color='blue'>**3. Model for Concat scoring function**</font>"
      ]
    },
    {
      "cell_type": "code",
      "metadata": {
        "id": "Twe9UfO8IJDf"
      },
      "source": [
        "from tensorflow.keras.callbacks import*\n",
        "import os\n",
        "batch_size=256\n",
        "enc_unit=128\n",
        "dec_unit=128\n",
        "max_len = 20\n",
        "embedding_dim = 64\n",
        "att_units = 128\n",
        "\n",
        "train_dataset = Dataset(train, tknizer_ita, tknizer_eng, max_len)\n",
        "test_dataset  = Dataset(test, tknizer_ita, tknizer_eng, max_len)\n",
        "\n",
        "train_dataloader = Dataloder(train_dataset, batch_size=batch_size)\n",
        "test_dataloader = Dataloder(test_dataset, batch_size=batch_size)\n"
      ],
      "execution_count": null,
      "outputs": []
    },
    {
      "cell_type": "code",
      "metadata": {
        "execution": {
          "iopub.status.busy": "2021-08-28T13:42:10.783327Z",
          "iopub.execute_input": "2021-08-28T13:42:10.783647Z",
          "iopub.status.idle": "2021-08-28T13:42:11.139204Z",
          "shell.execute_reply.started": "2021-08-28T13:42:10.783619Z",
          "shell.execute_reply": "2021-08-28T13:42:11.138295Z"
        },
        "trusted": true,
        "id": "XGEG6I6TNwEa"
      },
      "source": [
        "concat_score_model = encoder_decoder(vocab_size_ita+1, vocab_size_eng+1, embedding_dim, enc_unit,\n",
        "                        dec_unit, max_len ,'concat', att_units, batch_size)\n",
        "concat_score_model.compile(optimizer = 'Adam', loss = loss_function)\n",
        "log_dir=\"logs/fit/\" + datetime.datetime.now().strftime(\"%Y%m%d-%H%M%S\")\n",
        "callbacks = [ModelCheckpoint('/content/drive/MyDrive/Seq_Seq_attention/Save/concat_score', save_best_only= True, verbose = 1),\n",
        "             TensorBoard(log_dir = log_dir, histogram_freq=1, write_graph=True),\n",
        "             EarlyStopping(patience = 5, verbose = 1, monitor = 'val_loss', mode='min'),\n",
        "             ReduceLROnPlateau(patience = 1, verbose = 1, monior='val_loss', mode = 'min', factor = 0.6)]"
      ],
      "execution_count": null,
      "outputs": []
    },
    {
      "cell_type": "code",
      "metadata": {
        "execution": {
          "iopub.status.busy": "2021-08-28T13:42:17.254450Z",
          "iopub.execute_input": "2021-08-28T13:42:17.254954Z",
          "iopub.status.idle": "2021-08-28T14:38:00.481997Z",
          "shell.execute_reply.started": "2021-08-28T13:42:17.254905Z",
          "shell.execute_reply": "2021-08-28T14:38:00.481109Z"
        },
        "trusted": true,
        "id": "KRiS-1GzNwEa",
        "colab": {
          "base_uri": "https://localhost:8080/"
        },
        "outputId": "101d05f8-aade-4133-ccbf-3ab1bd72355b"
      },
      "source": [
        "concat_score_model.fit(x = train_dataloader, \n",
        "          steps_per_epoch = train_dataloader.__len__(),\n",
        "          validation_data = test_dataloader,\n",
        "          validation_steps = test_dataloader.__len__(),\n",
        "          epochs = 15,\n",
        "          verbose = 1,\n",
        "          callbacks = callbacks)"
      ],
      "execution_count": null,
      "outputs": [
        {
          "output_type": "stream",
          "name": "stdout",
          "text": [
            "Epoch 1/15\n",
            "1235/1235 [==============================] - 145s 104ms/step - loss: 1.5655 - val_loss: 1.2091\n",
            "\n",
            "Epoch 00001: val_loss improved from inf to 1.20913, saving model to /content/drive/MyDrive/Seq_Seq_attention/Save/concat_score\n"
          ]
        },
        {
          "output_type": "stream",
          "name": "stderr",
          "text": [
            "WARNING:absl:Found untraced functions such as lstm_cell_9_layer_call_and_return_conditional_losses, lstm_cell_9_layer_call_fn, lstm_cell_10_layer_call_and_return_conditional_losses, lstm_cell_10_layer_call_fn, dense_20_layer_call_and_return_conditional_losses while saving (showing 5 of 25). These functions will not be directly callable after loading.\n"
          ]
        },
        {
          "output_type": "stream",
          "name": "stdout",
          "text": [
            "INFO:tensorflow:Assets written to: /content/drive/MyDrive/Seq_Seq_attention/Save/concat_score/assets\n"
          ]
        },
        {
          "output_type": "stream",
          "name": "stderr",
          "text": [
            "INFO:tensorflow:Assets written to: /content/drive/MyDrive/Seq_Seq_attention/Save/concat_score/assets\n"
          ]
        },
        {
          "output_type": "stream",
          "name": "stdout",
          "text": [
            "Epoch 2/15\n",
            "1235/1235 [==============================] - 123s 100ms/step - loss: 1.0228 - val_loss: 0.8722\n",
            "\n",
            "Epoch 00002: val_loss improved from 1.20913 to 0.87223, saving model to /content/drive/MyDrive/Seq_Seq_attention/Save/concat_score\n"
          ]
        },
        {
          "output_type": "stream",
          "name": "stderr",
          "text": [
            "WARNING:absl:Found untraced functions such as lstm_cell_9_layer_call_and_return_conditional_losses, lstm_cell_9_layer_call_fn, lstm_cell_10_layer_call_and_return_conditional_losses, lstm_cell_10_layer_call_fn, dense_20_layer_call_and_return_conditional_losses while saving (showing 5 of 25). These functions will not be directly callable after loading.\n"
          ]
        },
        {
          "output_type": "stream",
          "name": "stdout",
          "text": [
            "INFO:tensorflow:Assets written to: /content/drive/MyDrive/Seq_Seq_attention/Save/concat_score/assets\n"
          ]
        },
        {
          "output_type": "stream",
          "name": "stderr",
          "text": [
            "INFO:tensorflow:Assets written to: /content/drive/MyDrive/Seq_Seq_attention/Save/concat_score/assets\n"
          ]
        },
        {
          "output_type": "stream",
          "name": "stdout",
          "text": [
            "Epoch 3/15\n",
            "1235/1235 [==============================] - 123s 100ms/step - loss: 0.7412 - val_loss: 0.6340\n",
            "\n",
            "Epoch 00003: val_loss improved from 0.87223 to 0.63404, saving model to /content/drive/MyDrive/Seq_Seq_attention/Save/concat_score\n"
          ]
        },
        {
          "output_type": "stream",
          "name": "stderr",
          "text": [
            "WARNING:absl:Found untraced functions such as lstm_cell_9_layer_call_and_return_conditional_losses, lstm_cell_9_layer_call_fn, lstm_cell_10_layer_call_and_return_conditional_losses, lstm_cell_10_layer_call_fn, dense_20_layer_call_and_return_conditional_losses while saving (showing 5 of 25). These functions will not be directly callable after loading.\n"
          ]
        },
        {
          "output_type": "stream",
          "name": "stdout",
          "text": [
            "INFO:tensorflow:Assets written to: /content/drive/MyDrive/Seq_Seq_attention/Save/concat_score/assets\n"
          ]
        },
        {
          "output_type": "stream",
          "name": "stderr",
          "text": [
            "INFO:tensorflow:Assets written to: /content/drive/MyDrive/Seq_Seq_attention/Save/concat_score/assets\n"
          ]
        },
        {
          "output_type": "stream",
          "name": "stdout",
          "text": [
            "Epoch 4/15\n",
            "1235/1235 [==============================] - 124s 100ms/step - loss: 0.5232 - val_loss: 0.4635\n",
            "\n",
            "Epoch 00004: val_loss improved from 0.63404 to 0.46350, saving model to /content/drive/MyDrive/Seq_Seq_attention/Save/concat_score\n"
          ]
        },
        {
          "output_type": "stream",
          "name": "stderr",
          "text": [
            "WARNING:absl:Found untraced functions such as lstm_cell_9_layer_call_and_return_conditional_losses, lstm_cell_9_layer_call_fn, lstm_cell_10_layer_call_and_return_conditional_losses, lstm_cell_10_layer_call_fn, dense_20_layer_call_and_return_conditional_losses while saving (showing 5 of 25). These functions will not be directly callable after loading.\n"
          ]
        },
        {
          "output_type": "stream",
          "name": "stdout",
          "text": [
            "INFO:tensorflow:Assets written to: /content/drive/MyDrive/Seq_Seq_attention/Save/concat_score/assets\n"
          ]
        },
        {
          "output_type": "stream",
          "name": "stderr",
          "text": [
            "INFO:tensorflow:Assets written to: /content/drive/MyDrive/Seq_Seq_attention/Save/concat_score/assets\n"
          ]
        },
        {
          "output_type": "stream",
          "name": "stdout",
          "text": [
            "Epoch 5/15\n",
            "1235/1235 [==============================] - 123s 100ms/step - loss: 0.3804 - val_loss: 0.3673\n",
            "\n",
            "Epoch 00005: val_loss improved from 0.46350 to 0.36728, saving model to /content/drive/MyDrive/Seq_Seq_attention/Save/concat_score\n"
          ]
        },
        {
          "output_type": "stream",
          "name": "stderr",
          "text": [
            "WARNING:absl:Found untraced functions such as lstm_cell_9_layer_call_and_return_conditional_losses, lstm_cell_9_layer_call_fn, lstm_cell_10_layer_call_and_return_conditional_losses, lstm_cell_10_layer_call_fn, dense_20_layer_call_and_return_conditional_losses while saving (showing 5 of 25). These functions will not be directly callable after loading.\n"
          ]
        },
        {
          "output_type": "stream",
          "name": "stdout",
          "text": [
            "INFO:tensorflow:Assets written to: /content/drive/MyDrive/Seq_Seq_attention/Save/concat_score/assets\n"
          ]
        },
        {
          "output_type": "stream",
          "name": "stderr",
          "text": [
            "INFO:tensorflow:Assets written to: /content/drive/MyDrive/Seq_Seq_attention/Save/concat_score/assets\n"
          ]
        },
        {
          "output_type": "stream",
          "name": "stdout",
          "text": [
            "Epoch 6/15\n",
            "1235/1235 [==============================] - 123s 100ms/step - loss: 0.2932 - val_loss: 0.3071\n",
            "\n",
            "Epoch 00006: val_loss improved from 0.36728 to 0.30711, saving model to /content/drive/MyDrive/Seq_Seq_attention/Save/concat_score\n"
          ]
        },
        {
          "output_type": "stream",
          "name": "stderr",
          "text": [
            "WARNING:absl:Found untraced functions such as lstm_cell_9_layer_call_and_return_conditional_losses, lstm_cell_9_layer_call_fn, lstm_cell_10_layer_call_and_return_conditional_losses, lstm_cell_10_layer_call_fn, dense_20_layer_call_and_return_conditional_losses while saving (showing 5 of 25). These functions will not be directly callable after loading.\n"
          ]
        },
        {
          "output_type": "stream",
          "name": "stdout",
          "text": [
            "INFO:tensorflow:Assets written to: /content/drive/MyDrive/Seq_Seq_attention/Save/concat_score/assets\n"
          ]
        },
        {
          "output_type": "stream",
          "name": "stderr",
          "text": [
            "INFO:tensorflow:Assets written to: /content/drive/MyDrive/Seq_Seq_attention/Save/concat_score/assets\n"
          ]
        },
        {
          "output_type": "stream",
          "name": "stdout",
          "text": [
            "Epoch 7/15\n",
            "1235/1235 [==============================] - 123s 100ms/step - loss: 0.2371 - val_loss: 0.2689\n",
            "\n",
            "Epoch 00007: val_loss improved from 0.30711 to 0.26890, saving model to /content/drive/MyDrive/Seq_Seq_attention/Save/concat_score\n"
          ]
        },
        {
          "output_type": "stream",
          "name": "stderr",
          "text": [
            "WARNING:absl:Found untraced functions such as lstm_cell_9_layer_call_and_return_conditional_losses, lstm_cell_9_layer_call_fn, lstm_cell_10_layer_call_and_return_conditional_losses, lstm_cell_10_layer_call_fn, dense_20_layer_call_and_return_conditional_losses while saving (showing 5 of 25). These functions will not be directly callable after loading.\n"
          ]
        },
        {
          "output_type": "stream",
          "name": "stdout",
          "text": [
            "INFO:tensorflow:Assets written to: /content/drive/MyDrive/Seq_Seq_attention/Save/concat_score/assets\n"
          ]
        },
        {
          "output_type": "stream",
          "name": "stderr",
          "text": [
            "INFO:tensorflow:Assets written to: /content/drive/MyDrive/Seq_Seq_attention/Save/concat_score/assets\n"
          ]
        },
        {
          "output_type": "stream",
          "name": "stdout",
          "text": [
            "Epoch 8/15\n",
            "1235/1235 [==============================] - 123s 100ms/step - loss: 0.1983 - val_loss: 0.2452\n",
            "\n",
            "Epoch 00008: val_loss improved from 0.26890 to 0.24518, saving model to /content/drive/MyDrive/Seq_Seq_attention/Save/concat_score\n"
          ]
        },
        {
          "output_type": "stream",
          "name": "stderr",
          "text": [
            "WARNING:absl:Found untraced functions such as lstm_cell_9_layer_call_and_return_conditional_losses, lstm_cell_9_layer_call_fn, lstm_cell_10_layer_call_and_return_conditional_losses, lstm_cell_10_layer_call_fn, dense_20_layer_call_and_return_conditional_losses while saving (showing 5 of 25). These functions will not be directly callable after loading.\n"
          ]
        },
        {
          "output_type": "stream",
          "name": "stdout",
          "text": [
            "INFO:tensorflow:Assets written to: /content/drive/MyDrive/Seq_Seq_attention/Save/concat_score/assets\n"
          ]
        },
        {
          "output_type": "stream",
          "name": "stderr",
          "text": [
            "INFO:tensorflow:Assets written to: /content/drive/MyDrive/Seq_Seq_attention/Save/concat_score/assets\n"
          ]
        },
        {
          "output_type": "stream",
          "name": "stdout",
          "text": [
            "Epoch 9/15\n",
            "1235/1235 [==============================] - 123s 100ms/step - loss: 0.1706 - val_loss: 0.2272\n",
            "\n",
            "Epoch 00009: val_loss improved from 0.24518 to 0.22718, saving model to /content/drive/MyDrive/Seq_Seq_attention/Save/concat_score\n"
          ]
        },
        {
          "output_type": "stream",
          "name": "stderr",
          "text": [
            "WARNING:absl:Found untraced functions such as lstm_cell_9_layer_call_and_return_conditional_losses, lstm_cell_9_layer_call_fn, lstm_cell_10_layer_call_and_return_conditional_losses, lstm_cell_10_layer_call_fn, dense_20_layer_call_and_return_conditional_losses while saving (showing 5 of 25). These functions will not be directly callable after loading.\n"
          ]
        },
        {
          "output_type": "stream",
          "name": "stdout",
          "text": [
            "INFO:tensorflow:Assets written to: /content/drive/MyDrive/Seq_Seq_attention/Save/concat_score/assets\n"
          ]
        },
        {
          "output_type": "stream",
          "name": "stderr",
          "text": [
            "INFO:tensorflow:Assets written to: /content/drive/MyDrive/Seq_Seq_attention/Save/concat_score/assets\n"
          ]
        },
        {
          "output_type": "stream",
          "name": "stdout",
          "text": [
            "Epoch 10/15\n",
            "1235/1235 [==============================] - 124s 100ms/step - loss: 0.1496 - val_loss: 0.2135\n",
            "\n",
            "Epoch 00010: val_loss improved from 0.22718 to 0.21350, saving model to /content/drive/MyDrive/Seq_Seq_attention/Save/concat_score\n"
          ]
        },
        {
          "output_type": "stream",
          "name": "stderr",
          "text": [
            "WARNING:absl:Found untraced functions such as lstm_cell_9_layer_call_and_return_conditional_losses, lstm_cell_9_layer_call_fn, lstm_cell_10_layer_call_and_return_conditional_losses, lstm_cell_10_layer_call_fn, dense_20_layer_call_and_return_conditional_losses while saving (showing 5 of 25). These functions will not be directly callable after loading.\n"
          ]
        },
        {
          "output_type": "stream",
          "name": "stdout",
          "text": [
            "INFO:tensorflow:Assets written to: /content/drive/MyDrive/Seq_Seq_attention/Save/concat_score/assets\n"
          ]
        },
        {
          "output_type": "stream",
          "name": "stderr",
          "text": [
            "INFO:tensorflow:Assets written to: /content/drive/MyDrive/Seq_Seq_attention/Save/concat_score/assets\n"
          ]
        },
        {
          "output_type": "stream",
          "name": "stdout",
          "text": [
            "Epoch 11/15\n",
            "1235/1235 [==============================] - 124s 100ms/step - loss: 0.1330 - val_loss: 0.2051\n",
            "\n",
            "Epoch 00011: val_loss improved from 0.21350 to 0.20510, saving model to /content/drive/MyDrive/Seq_Seq_attention/Save/concat_score\n"
          ]
        },
        {
          "output_type": "stream",
          "name": "stderr",
          "text": [
            "WARNING:absl:Found untraced functions such as lstm_cell_9_layer_call_and_return_conditional_losses, lstm_cell_9_layer_call_fn, lstm_cell_10_layer_call_and_return_conditional_losses, lstm_cell_10_layer_call_fn, dense_20_layer_call_and_return_conditional_losses while saving (showing 5 of 25). These functions will not be directly callable after loading.\n"
          ]
        },
        {
          "output_type": "stream",
          "name": "stdout",
          "text": [
            "INFO:tensorflow:Assets written to: /content/drive/MyDrive/Seq_Seq_attention/Save/concat_score/assets\n"
          ]
        },
        {
          "output_type": "stream",
          "name": "stderr",
          "text": [
            "INFO:tensorflow:Assets written to: /content/drive/MyDrive/Seq_Seq_attention/Save/concat_score/assets\n"
          ]
        },
        {
          "output_type": "stream",
          "name": "stdout",
          "text": [
            "Epoch 12/15\n",
            "1235/1235 [==============================] - 124s 100ms/step - loss: 0.1196 - val_loss: 0.1957\n",
            "\n",
            "Epoch 00012: val_loss improved from 0.20510 to 0.19571, saving model to /content/drive/MyDrive/Seq_Seq_attention/Save/concat_score\n"
          ]
        },
        {
          "output_type": "stream",
          "name": "stderr",
          "text": [
            "WARNING:absl:Found untraced functions such as lstm_cell_9_layer_call_and_return_conditional_losses, lstm_cell_9_layer_call_fn, lstm_cell_10_layer_call_and_return_conditional_losses, lstm_cell_10_layer_call_fn, dense_20_layer_call_and_return_conditional_losses while saving (showing 5 of 25). These functions will not be directly callable after loading.\n"
          ]
        },
        {
          "output_type": "stream",
          "name": "stdout",
          "text": [
            "INFO:tensorflow:Assets written to: /content/drive/MyDrive/Seq_Seq_attention/Save/concat_score/assets\n"
          ]
        },
        {
          "output_type": "stream",
          "name": "stderr",
          "text": [
            "INFO:tensorflow:Assets written to: /content/drive/MyDrive/Seq_Seq_attention/Save/concat_score/assets\n"
          ]
        },
        {
          "output_type": "stream",
          "name": "stdout",
          "text": [
            "Epoch 13/15\n",
            "1235/1235 [==============================] - 123s 100ms/step - loss: 0.1089 - val_loss: 0.1902\n",
            "\n",
            "Epoch 00013: val_loss improved from 0.19571 to 0.19024, saving model to /content/drive/MyDrive/Seq_Seq_attention/Save/concat_score\n"
          ]
        },
        {
          "output_type": "stream",
          "name": "stderr",
          "text": [
            "WARNING:absl:Found untraced functions such as lstm_cell_9_layer_call_and_return_conditional_losses, lstm_cell_9_layer_call_fn, lstm_cell_10_layer_call_and_return_conditional_losses, lstm_cell_10_layer_call_fn, dense_20_layer_call_and_return_conditional_losses while saving (showing 5 of 25). These functions will not be directly callable after loading.\n"
          ]
        },
        {
          "output_type": "stream",
          "name": "stdout",
          "text": [
            "INFO:tensorflow:Assets written to: /content/drive/MyDrive/Seq_Seq_attention/Save/concat_score/assets\n"
          ]
        },
        {
          "output_type": "stream",
          "name": "stderr",
          "text": [
            "INFO:tensorflow:Assets written to: /content/drive/MyDrive/Seq_Seq_attention/Save/concat_score/assets\n"
          ]
        },
        {
          "output_type": "stream",
          "name": "stdout",
          "text": [
            "Epoch 14/15\n",
            "1235/1235 [==============================] - 124s 100ms/step - loss: 0.0998 - val_loss: 0.1871\n",
            "\n",
            "Epoch 00014: val_loss improved from 0.19024 to 0.18705, saving model to /content/drive/MyDrive/Seq_Seq_attention/Save/concat_score\n"
          ]
        },
        {
          "output_type": "stream",
          "name": "stderr",
          "text": [
            "WARNING:absl:Found untraced functions such as lstm_cell_9_layer_call_and_return_conditional_losses, lstm_cell_9_layer_call_fn, lstm_cell_10_layer_call_and_return_conditional_losses, lstm_cell_10_layer_call_fn, dense_20_layer_call_and_return_conditional_losses while saving (showing 5 of 25). These functions will not be directly callable after loading.\n"
          ]
        },
        {
          "output_type": "stream",
          "name": "stdout",
          "text": [
            "INFO:tensorflow:Assets written to: /content/drive/MyDrive/Seq_Seq_attention/Save/concat_score/assets\n"
          ]
        },
        {
          "output_type": "stream",
          "name": "stderr",
          "text": [
            "INFO:tensorflow:Assets written to: /content/drive/MyDrive/Seq_Seq_attention/Save/concat_score/assets\n"
          ]
        },
        {
          "output_type": "stream",
          "name": "stdout",
          "text": [
            "Epoch 15/15\n",
            "1235/1235 [==============================] - 124s 100ms/step - loss: 0.0922 - val_loss: 0.1826\n",
            "\n",
            "Epoch 00015: val_loss improved from 0.18705 to 0.18262, saving model to /content/drive/MyDrive/Seq_Seq_attention/Save/concat_score\n"
          ]
        },
        {
          "output_type": "stream",
          "name": "stderr",
          "text": [
            "WARNING:absl:Found untraced functions such as lstm_cell_9_layer_call_and_return_conditional_losses, lstm_cell_9_layer_call_fn, lstm_cell_10_layer_call_and_return_conditional_losses, lstm_cell_10_layer_call_fn, dense_20_layer_call_and_return_conditional_losses while saving (showing 5 of 25). These functions will not be directly callable after loading.\n"
          ]
        },
        {
          "output_type": "stream",
          "name": "stdout",
          "text": [
            "INFO:tensorflow:Assets written to: /content/drive/MyDrive/Seq_Seq_attention/Save/concat_score/assets\n"
          ]
        },
        {
          "output_type": "stream",
          "name": "stderr",
          "text": [
            "INFO:tensorflow:Assets written to: /content/drive/MyDrive/Seq_Seq_attention/Save/concat_score/assets\n"
          ]
        },
        {
          "output_type": "execute_result",
          "data": {
            "text/plain": [
              "<keras.callbacks.History at 0x7f59de768250>"
            ]
          },
          "metadata": {},
          "execution_count": 39
        }
      ]
    },
    {
      "cell_type": "markdown",
      "metadata": {
        "id": "Rgf95QZ2NwEa"
      },
      "source": [
        "## <font color='blue'>**3.1 Inference Model-3**</font>"
      ]
    },
    {
      "cell_type": "code",
      "metadata": {
        "id": "1kN9ZWViQNMB",
        "execution": {
          "iopub.status.busy": "2021-08-28T14:38:25.045936Z",
          "iopub.execute_input": "2021-08-28T14:38:25.046271Z",
          "iopub.status.idle": "2021-08-28T14:38:25.057067Z",
          "shell.execute_reply.started": "2021-08-28T14:38:25.046242Z",
          "shell.execute_reply": "2021-08-28T14:38:25.056007Z"
        },
        "trusted": true
      },
      "source": [
        "def predict(input_sentence):\n",
        "    '''\n",
        "      A. Given input sentence, convert the sentence into integers using tokenizer used earlier\n",
        "      B. Pass the input_sequence to encoder. we get encoder_outputs, last time step hidden and cell state\n",
        "      C. Initialize index of <start> as input to decoder. and encoder final states as input_states to onestepdecoder.\n",
        "      D. till we reach max_length of decoder or till the model predicted word <end>:\n",
        "         predictions, input_states, attention_weights = model.layers[1].onestepdecoder(input_to_decoder, encoder_output, input_states)\n",
        "         Save the attention weights\n",
        "         And get the word using the tokenizer(word index) and then store it in a string.\n",
        "      E. Call plot_attention(#params)\n",
        "      F. Return the predicted sentence\n",
        "    '''\n",
        "    sentencce = '<start> '+input_sentence+' <end>'\n",
        "    sentencce = tknizer_ita.texts_to_sequences([sentencce])\n",
        "    sentencce = pad_sequences(sentencce, maxlen=max_len, \n",
        "                              padding='post', dtype = np.int32)\n",
        "    \n",
        "    input_embedding = concat_score_model.layers[0].encoder_embedding(sentencce)\n",
        "    initial_state =  concat_score_model.layers[0].initialize_states(1)\n",
        "    ecoder_output, encoder_h, encoder_c = concat_score_model.layers[0].encoder_Lstm(input_embedding,initial_state)\n",
        "    predict = np.expand_dims([tknizer_eng.word_index['<start>']], 0)\n",
        "    decoder_h = encoder_h\n",
        "    decoder_c = encoder_c\n",
        "    prediction = []\n",
        "    total_attention = []\n",
        "    for words in range(max_len):\n",
        "        predict, decoder_h,decoder_c,attention,_ = concat_score_model.layers[1](predict,ecoder_output,\n",
        "                                                                                             decoder_h,decoder_c,training = False)\n",
        "        predict = np.reshape(np.argmax(predict), (1, 1))                                                                                      \n",
        "        prediction.append(predict)\n",
        "        total_attention.append(attention)\n",
        "    return prediction, total_attention\n",
        "\n",
        "def get_sentence(prediction):\n",
        "    output = []\n",
        "    for i in prediction:\n",
        "        word = tknizer_eng.index_word[i[0][0]]\n",
        "        if word == '<end>':\n",
        "            break\n",
        "        output.append(word)\n",
        "    return ' '.join(output)"
      ],
      "execution_count": null,
      "outputs": []
    },
    {
      "cell_type": "code",
      "metadata": {
        "id": "Ff1lV0ITM6_p",
        "execution": {
          "iopub.status.busy": "2021-08-28T14:38:52.503641Z",
          "iopub.execute_input": "2021-08-28T14:38:52.503978Z",
          "iopub.status.idle": "2021-08-28T14:38:52.864378Z",
          "shell.execute_reply.started": "2021-08-28T14:38:52.503948Z",
          "shell.execute_reply": "2021-08-28T14:38:52.863511Z"
        },
        "trusted": true,
        "colab": {
          "base_uri": "https://localhost:8080/",
          "height": 710
        },
        "outputId": "1ae6388e-60c6-446f-df85-9af5ce9239ee"
      },
      "source": [
        "sentence = train['italian'].values[1248]\n",
        "print('input : ', sentence)\n",
        "result, attention_plot = predict(sentence)\n",
        "output = get_sentence(result)\n",
        "attention_plot = np.squeeze(np.squeeze(np.array(attention_plot), 1), -1)\n",
        "attention_plot = attention_plot[:len(output.split(' ')), :len(sentence.split(' '))]\n",
        "plot_attention(attention_plot, sentence.split(' '), output.split(' '))\n",
        "print('predicted output : ',output)\n",
        "print('actual output :', train['english_out'].values[1248])"
      ],
      "execution_count": null,
      "outputs": [
        {
          "output_type": "stream",
          "name": "stdout",
          "text": [
            "input :  pensavo che potessimo parlare di tom\n"
          ]
        },
        {
          "output_type": "display_data",
          "data": {
            "image/png": "[encoded data removed]",
            "text/plain": [
              "<Figure size 720x720 with 1 Axes>"
            ]
          },
          "metadata": {
            "needs_background": "light"
          }
        },
        {
          "output_type": "stream",
          "name": "stdout",
          "text": [
            "predicted output :  i thought we could talk about tom\n",
            "actual output : i thought we could talk about tom <end>\n"
          ]
        }
      ]
    },
    {
      "cell_type": "code",
      "metadata": {
        "execution": {
          "iopub.status.busy": "2021-08-28T14:39:10.108611Z",
          "iopub.execute_input": "2021-08-28T14:39:10.108948Z",
          "iopub.status.idle": "2021-08-28T14:41:23.467045Z",
          "shell.execute_reply.started": "2021-08-28T14:39:10.108917Z",
          "shell.execute_reply": "2021-08-28T14:41:23.465427Z"
        },
        "trusted": true,
        "id": "acIoykEyNwEb",
        "colab": {
          "base_uri": "https://localhost:8080/"
        },
        "outputId": "a0bdc984-b836-44de-c583-b27bf6b8e626"
      },
      "source": [
        "score =0\n",
        "for i in permutation(1000):\n",
        "    sentence = test['italian'].values[i]\n",
        "    reference = test['english_out'].values[i]\n",
        "    values, weights = predict(sentence)\n",
        "    prediction = get_sentence(values)\n",
        "    score+= sentence_bleu([reference.split()], prediction.split())\n",
        "print('Bleu Score : {}'.format(score/1000))"
      ],
      "execution_count": null,
      "outputs": [
        {
          "output_type": "stream",
          "name": "stdout",
          "text": [
            "Bleu Score : 0.68448575968482\n"
          ]
        }
      ]
    },
    {
      "cell_type": "markdown",
      "metadata": {
        "id": "d267arWup-Ce"
      },
      "source": [
        "# <font color='blue'>**Observation**</font>"
      ]
    },
    {
      "cell_type": "markdown",
      "metadata": {
        "id": "692BaaxwqEoE"
      },
      "source": [
        "**Bascically What we want is to compute the context vector. The context vector is a vector with the same length as the input or source sequence and is computed at every time step of the decoder. Each of its values is the score (or the probability) of the corresponding word within the source sequence; they tell the decoder what to focus on at each time step. There are three ways to calculate the scores functions which is used in three different models.**\n",
        "________________________________________________________________________________\n",
        "**MODEL-1:**\n",
        "The hyperparameters are selected by various experiments. The best average BLEU score i got is 86%. \n",
        "\n",
        "What is happenning in Model-1?\n",
        "\n",
        "I order to compute the similarity between encoder outputs and decoder hidden state. Simiply taking the dot product between the two of them which represents the similarity between them. Using this similarity score now calucation the attention weights by passing this sccore into a softmax function. In order to get the context vector we multipied the attention weight with the encoder output.\n",
        "\n",
        "As the result in the attention weights which are plotted we can definately see that the word dependencies. Which word are has attention in order to traslate them.\n",
        "________________________________________________________________________________\n",
        "**MODEL-2**:\n",
        "The BLEU Score obtained is 83%. \n",
        "What is happenning in Model-2?\n",
        "\n",
        "Here the scoring function or similarity between decoder hidden state and ecoder outputs are defined as:\n",
        "\n",
        "Passing the encoder_outputs into a dense layer, Then doing a dot product between the output from the dense layer and decoder_hidden_state.\n",
        "\n",
        "By passing the ecoder_outputs to dense layer gives as weights which will be learned in order to get dependencies of words.\n",
        "________________________________________________________________________________\n",
        "**Model-3**:\n",
        "The BLEU score is somewhat 68%. I personally think this can be imporved by selecting diffrent hyperparametrs. Sicne i choose the hyperparameter exprementinally.\n",
        "\n",
        "In this Model the scoring function or the similarity is calucated as:\n",
        "The decoder hidden state and encoder hidden states are added together first before being passed through a linear layer with a tanh activation function and, finally, being multiplied by a weight matrix.\n",
        "In the aatention plot we can oberve that the word parlare means talk and in order to translate that particular word the attention weights are higher for talk compared to the neighouber words\n",
        "________________________________________________________________________________\n",
        "Since the sequnce length is fixed we cannot observe the effect of sequence length. But the all 3 attention has a drawback that it has to\n",
        "attend to all words on the source side for each target word, which is computaionally expensive and can potentially hard to translate longer sequences.\n",
        "To solve this problem we have Local Attention as mention in paper \n",
        "\"Effective Approaches to Attention-based Neural Machine Translation\""
      ]
    }
  ]
}