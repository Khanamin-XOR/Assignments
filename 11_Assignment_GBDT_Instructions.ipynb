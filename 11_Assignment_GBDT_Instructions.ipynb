{
  "nbformat": 4,
  "nbformat_minor": 0,
  "metadata": {
    "accelerator": "GPU",
    "colab": {
      "name": "11_Assignment_GBDT_Instructions.ipynb",
      "provenance": [],
      "collapsed_sections": [],
      "toc_visible": true
    },
    "kernelspec": {
      "display_name": "Python 3",
      "language": "python",
      "name": "python3"
    },
    "language_info": {
      "codemirror_mode": {
        "name": "ipython",
        "version": 3
      },
      "file_extension": ".py",
      "mimetype": "text/x-python",
      "name": "python",
      "nbconvert_exporter": "python",
      "pygments_lexer": "ipython3",
      "version": "3.8.5"
    }
  },
  "cells": [
    {
      "cell_type": "markdown",
      "metadata": {
        "id": "8wqapAXjsc24"
      },
      "source": [
        "# Assignment 9: GBDT"
      ]
    },
    {
      "cell_type": "markdown",
      "metadata": {
        "id": "8u5NhbnEsc2-"
      },
      "source": [
        "#### Response Coding: Example"
      ]
    },
    {
      "cell_type": "code",
      "metadata": {
        "colab": {
          "base_uri": "https://localhost:8080/"
        },
        "id": "dnNG4Cmp48Yt",
        "outputId": "0064f32b-6826-4e53-930c-b9a712bc31e5"
      },
      "source": [
        "from google.colab import drive\n",
        "drive.mount('/content/drive')"
      ],
      "execution_count": 1,
      "outputs": [
        {
          "output_type": "stream",
          "text": [
            "Mounted at /content/drive\n"
          ],
          "name": "stdout"
        }
      ]
    },
    {
      "cell_type": "markdown",
      "metadata": {
        "id": "HIFWmwHKsc3A"
      },
      "source": [
        "<img src='http://i.imgur.com/TufZptV.jpg' width=700px>\n",
        "\n",
        "> The response tabel is built only on train dataset.\n",
        "> For a category which is not there in train data and present in test data, we will encode them with default values\n",
        "Ex: in our test data if have State: D then we encode it as [0.5, 0.05]"
      ]
    },
    {
      "cell_type": "markdown",
      "metadata": {
        "id": "3KwfGufDsc3D"
      },
      "source": [
        "<ol>\n",
        "    <li><strong>Apply GBDT on these feature sets</strong>\n",
        "        <ul>\n",
        "            <li><font color='red'>Set 1</font>: categorical(instead of one hot encoding, try <a href='https://www.appliedaicourse.com/course/applied-ai-course-online/lessons/handling-categorical-and-numerical-features/'>response coding</a>: use probability values), numerical features + project_title(TFIDF)+  preprocessed_eassay (TFIDF)+sentiment Score of eassay(check the bellow example, include all 4 values as 4 features)</li>\n",
        "            <li><font color='red'>Set 2</font>: categorical(instead of one hot encoding, try <a href='https://www.appliedaicourse.com/course/applied-ai-course-online/lessons/handling-categorical-and-numerical-features/'>response coding</a>: use probability values), numerical features + project_title(TFIDF W2V)+  preprocessed_eassay (TFIDF W2V)</li>        </ul>\n",
        "    </li>\n",
        "    <li><strong>The hyper paramter tuning (Consider any two hyper parameters)</strong>\n",
        "        <ul>\n",
        "    <li>Find the best hyper parameter which will give the maximum <a href='https://www.appliedaicourse.com/course/applied-ai-course-online/lessons/receiver-operating-characteristic-curve-roc-curve-and-auc-1/'>AUC</a> value</li>\n",
        "    <li>find the best hyper paramter using k-fold cross validation/simple cross validation data</li>\n",
        "    <li>use gridsearch cv or randomsearch cv or you can write your own for loops to do this task</li>\n",
        "        </ul>\n",
        "    </li>\n",
        "    <li>\n",
        "    <strong>Representation of results</strong>\n",
        "        <ul>\n",
        "    <li>You need to plot the performance of model both on train data and cross validation data for each hyper parameter, like shown in the figure\n",
        "    <img src='https://i.imgur.com/Gp2DQmh.jpg' width=500px> with X-axis as <strong>n_estimators</strong>, Y-axis as <strong>max_depth</strong>, and Z-axis as <strong>AUC Score</strong> , we have given the notebook which explains how to plot this 3d plot, you can find it in the same drive <i>3d_scatter_plot.ipynb</i></li>\n",
        "            <p style=\"text-align:center;font-size:30px;color:red;\"><strong>or</strong></p> <br>\n",
        "    <li>You need to plot the performance of model both on train data and cross validation data for each hyper parameter, like shown in the figure\n",
        "    <img src='https://i.imgur.com/fgN9aUP.jpg' width=300px> <a href='https://seaborn.pydata.org/generated/seaborn.heatmap.html'>seaborn heat maps</a> with rows as <strong>n_estimators</strong>, columns as <strong>max_depth</strong>, and values inside the cell representing <strong>AUC Score</strong> </li>\n",
        "    <li>You choose either of the plotting techniques out of 3d plot or heat map</li>\n",
        "    <li>Once after you found the best hyper parameter, you need to train your model with it, and find the AUC on test data and plot the ROC curve on both train and test.\n",
        "    <img src='https://i.imgur.com/wMQDTFe.jpg' width=300px></li>\n",
        "    <li>Along with plotting ROC curve, you need to print the <a href='https://www.appliedaicourse.com/course/applied-ai-course-online/lessons/confusion-matrix-tpr-fpr-fnr-tnr-1/'>confusion matrix</a> with predicted and original labels of test data points\n",
        "    <img src='https://i.imgur.com/IdN5Ctv.png' width=300px></li>\n",
        "            </ul>\n",
        "    <br>\n",
        "    <li>You need to summarize the results at the end of the notebook, summarize it in the table format\n",
        "        <img src='http://i.imgur.com/YVpIGGE.jpg' width=400px>\n",
        "    </li>\n",
        "</ol>"
      ]
    },
    {
      "cell_type": "code",
      "metadata": {
        "id": "9ehdwbUF4nQz"
      },
      "source": [
        "%matplotlib inline\n",
        "import warnings\n",
        "warnings.filterwarnings(\"ignore\")\n",
        "\n",
        "import pandas as pd\n",
        "import numpy as np\n",
        "import nltk\n",
        "import matplotlib.pyplot as plt\n",
        "import seaborn as sns\n",
        "from sklearn.feature_extraction.text import TfidfVectorizer\n",
        "from sklearn.feature_extraction.text import CountVectorizer\n",
        "from sklearn.metrics import confusion_matrix\n",
        "from sklearn import metrics\n",
        "from sklearn.metrics import roc_curve, auc\n",
        "\n",
        "import re\n",
        "\n",
        "import pickle\n",
        "from tqdm import tqdm\n",
        "import os\n",
        "\n",
        "\n",
        "from collections import Counter"
      ],
      "execution_count": 2,
      "outputs": []
    },
    {
      "cell_type": "code",
      "metadata": {
        "id": "RHUZBH5J4nQ1"
      },
      "source": [
        "#please use below code to load glove vectors \n",
        "import pickle\n",
        "with open('/content/drive/MyDrive/Random_Forest/11_Donors_choose_GBDT/glove_vectors', 'rb') as f:\n",
        "    model = pickle.load(f)\n",
        "    glove_words =  set(model.keys())"
      ],
      "execution_count": 3,
      "outputs": []
    },
    {
      "cell_type": "code",
      "metadata": {
        "colab": {
          "base_uri": "https://localhost:8080/"
        },
        "id": "qQ-J7DYD6hak",
        "outputId": "f4559eac-ef0b-4790-e788-79dfc8a8894a"
      },
      "source": [
        "import nltk\n",
        "nltk.download('vader_lexicon')"
      ],
      "execution_count": 4,
      "outputs": [
        {
          "output_type": "stream",
          "text": [
            "[nltk_data] Downloading package vader_lexicon to /root/nltk_data...\n"
          ],
          "name": "stdout"
        },
        {
          "output_type": "execute_result",
          "data": {
            "text/plain": [
              "True"
            ]
          },
          "metadata": {
            "tags": []
          },
          "execution_count": 4
        }
      ]
    },
    {
      "cell_type": "code",
      "metadata": {
        "colab": {
          "base_uri": "https://localhost:8080/"
        },
        "id": "iffa2_WGsc3H",
        "outputId": "3abaed55-6873-4521-b228-ffcf89b9f85a"
      },
      "source": [
        "import nltk\n",
        "from nltk.sentiment.vader import SentimentIntensityAnalyzer\n",
        "\n",
        "# import nltk\n",
        "# nltk.download('vader_lexicon')\n",
        "\n",
        "sid = SentimentIntensityAnalyzer()\n",
        "\n",
        "for_sentiment = 'a person is a person no matter how small dr seuss i teach the smallest students with the biggest enthusiasm \\\n",
        "for learning my students learn in many different ways using all of our senses and multiple intelligences i use a wide range\\\n",
        "of techniques to help all my students succeed students in my class come from a variety of different backgrounds which makes\\\n",
        "for wonderful sharing of experiences and cultures including native americans our school is a caring community of successful \\\n",
        "learners which can be seen through collaborative student project based learning in and out of the classroom kindergarteners \\\n",
        "in my class love to work with hands on materials and have many different opportunities to practice a skill before it is\\\n",
        "mastered having the social skills to work cooperatively with friends is a crucial aspect of the kindergarten curriculum\\\n",
        "montana is the perfect place to learn about agriculture and nutrition my students love to role play in our pretend kitchen\\\n",
        "in the early childhood classroom i have had several kids ask me can we try cooking with real food i will take their idea \\\n",
        "and create common core cooking lessons where we learn important math and writing concepts while cooking delicious healthy \\\n",
        "food for snack time my students will have a grounded appreciation for the work that went into making the food and knowledge \\\n",
        "of where the ingredients came from as well as how it is healthy for their bodies this project would expand our learning of \\\n",
        "nutrition and agricultural cooking recipes by having us peel our own apples to make homemade applesauce make our own bread \\\n",
        "and mix up healthy plants from our classroom garden in the spring we will also create our own cookbooks to be printed and \\\n",
        "shared with families students will gain math and literature skills as well as a life long enjoyment for healthy cooking \\\n",
        "nannan'\n",
        "ss = sid.polarity_scores(for_sentiment)\n",
        "\n",
        "for k in ss:\n",
        "    print('{0}: {1}, '.format(k, ss[k]), end='')\n",
        "\n",
        "# we can use these 4 things as features/attributes (neg, neu, pos, compound)\n",
        "# neg: 0.0, neu: 0.753, pos: 0.247, compound: 0.93"
      ],
      "execution_count": 5,
      "outputs": [
        {
          "output_type": "stream",
          "text": [
            "neg: 0.01, neu: 0.745, pos: 0.245, compound: 0.9975, "
          ],
          "name": "stdout"
        }
      ]
    },
    {
      "cell_type": "markdown",
      "metadata": {
        "id": "BOyTl7oKsc3W"
      },
      "source": [
        "<h1>1. GBDT (xgboost/lightgbm) </h1>"
      ]
    },
    {
      "cell_type": "markdown",
      "metadata": {
        "id": "VWge-b2Zsc3Z"
      },
      "source": [
        "## 1.1 Loading Data"
      ]
    },
    {
      "cell_type": "code",
      "metadata": {
        "id": "3HbrWJsv4nQ7"
      },
      "source": [
        "train_data = pd.read_csv('/content/drive/MyDrive/Random_Forest/11_Donors_choose_GBDT/train_data.csv')\n",
        "resource_data = pd.read_csv('/content/drive/MyDrive/Random_Forest/11_Donors_choose_GBDT/resources.csv')"
      ],
      "execution_count": 6,
      "outputs": []
    },
    {
      "cell_type": "markdown",
      "metadata": {
        "id": "IubPtoH-4nQ8"
      },
      "source": [
        "## 1.1.1 Preprocessing Data"
      ]
    },
    {
      "cell_type": "markdown",
      "metadata": {
        "id": "fBhznavE4nQ9"
      },
      "source": [
        "### **1.1.2 Preprocessing of project_subject_categories**\n"
      ]
    },
    {
      "cell_type": "code",
      "metadata": {
        "id": "OkHJbwsU4nQ9"
      },
      "source": [
        "catogories = list(train_data['project_subject_categories'].values)\n",
        "# remove special characters from list of strings python: https://stackoverflow.com/a/47301924/4084039\n",
        "\n",
        "# https://www.geeksforgeeks.org/removing-stop-words-nltk-python\n",
        "catogories_list = []\n",
        "for i in catogories:\n",
        "    temp = \"\"\n",
        "    # consider we have text like this \"Math & Science, Warmth, Care & Hunger\"\n",
        "    for j in i.split(','): # it will split it in three parts [\"Math & Science\", \"Warmth\", \"Care & Hunger\"]\n",
        "        if 'The' in j.split(): # this will split each of the catogory based on space \"Math & Science\"=> \"Math\",\"&\", \"Science\"\n",
        "            j=j.replace('The','') # if we have the words \"The\" we are going to replace it with ''(i.e removing 'The')\n",
        "        j = j.replace(' ','') # we are placeing all the ' '(space) with ''(empty) ex:\"Math & Science\"=>\"Math&Science\"\n",
        "        temp+=j.strip()+\" \" #\" abc \".strip() will return \"abc\", remove the trailing spaces\n",
        "        temp = temp.replace('&','_') # we are replacing the & value into \n",
        "    catogories_list.append(temp.strip())\n",
        "    \n",
        "train_data['clean_categories'] = catogories_list\n",
        "train_data.drop(['project_subject_categories'], axis=1, inplace=True)\n",
        "\n",
        "from collections import Counter\n",
        "my_counter = Counter()\n",
        "for word in train_data['clean_categories'].values:\n",
        "    my_counter.update(word.split())\n",
        "\n",
        "cat_dict = dict(my_counter)\n",
        "sorted_cat_dict = dict(sorted(cat_dict.items(), key=lambda kv: kv[1]))"
      ],
      "execution_count": 7,
      "outputs": []
    },
    {
      "cell_type": "markdown",
      "metadata": {
        "id": "Swls4zUm4nQ-"
      },
      "source": [
        "### **1.1.3 Preprocessing of project_subject_subcategories**\n"
      ]
    },
    {
      "cell_type": "code",
      "metadata": {
        "id": "ON1_Hh4O4nQ-"
      },
      "source": [
        "sub_catogories = list(train_data['project_subject_subcategories'].values)\n",
        "\n",
        "sub_catogories_list = []\n",
        "for i in sub_catogories:\n",
        "    temp = \"\"\n",
        "    # consider we have text like this \"Math & Science, Warmth, Care & Hunger\"\n",
        "    for j in i.split(','): # it will split it in three parts [\"Math & Science\", \"Warmth\", \"Care & Hunger\"]\n",
        "        if 'The' in j.split(): # this will split each of the catogory based on space \"Math & Science\"=> \"Math\",\"&\", \"Science\"\n",
        "            j=j.replace('The','') # if we have the words \"The\" we are going to replace it with ''(i.e removing 'The')\n",
        "        j = j.replace(' ','') # we are placeing all the ' '(space) with ''(empty) ex:\"Math & Science\"=>\"Math&Science\"\n",
        "        temp +=j.strip()+\" \"#\" abc \".strip() will return \"abc\", remove the trailing spaces\n",
        "        temp = temp.replace('&','_')\n",
        "    sub_catogories_list.append(temp.strip())\n",
        "\n",
        "train_data['clean_subcategories'] = sub_catogories_list\n",
        "train_data.drop(['project_subject_subcategories'], axis=1, inplace=True)\n",
        "\n",
        "# count of all the words in corpus python: https://stackoverflow.com/a/22898595/4084039\n",
        "my_counter = Counter()\n",
        "for word in train_data['clean_subcategories'].values:\n",
        "    my_counter.update(word.split())\n",
        "    \n",
        "sub_cat_dict = dict(my_counter)\n",
        "sorted_sub_cat_dict = dict(sorted(sub_cat_dict.items(), key=lambda kv: kv[1]))\n"
      ],
      "execution_count": 8,
      "outputs": []
    },
    {
      "cell_type": "markdown",
      "metadata": {
        "id": "jaC742aF4nQ_"
      },
      "source": [
        "### **1.1.4 Preprocessing of project grade categories**\n"
      ]
    },
    {
      "cell_type": "code",
      "metadata": {
        "colab": {
          "base_uri": "https://localhost:8080/"
        },
        "id": "VYfzptha4nRA",
        "outputId": "dde0d88f-a518-4ccc-8b78-2faf8a4ba4a0"
      },
      "source": [
        "print(train_data['project_grade_category'].values[0])\n",
        "print(\"*\"*50)\n",
        "print(train_data['project_grade_category'].values[150])\n",
        "print(\"*\"*50)\n",
        "print(train_data['project_grade_category'].values[1000])\n",
        "print(\"*\"*50)\n",
        "\n",
        "\n",
        "train_data['project_grade_category'].value_counts()"
      ],
      "execution_count": 9,
      "outputs": [
        {
          "output_type": "stream",
          "text": [
            "Grades PreK-2\n",
            "**************************************************\n",
            "Grades 3-5\n",
            "**************************************************\n",
            "Grades 3-5\n",
            "**************************************************\n"
          ],
          "name": "stdout"
        },
        {
          "output_type": "execute_result",
          "data": {
            "text/plain": [
              "Grades PreK-2    44225\n",
              "Grades 3-5       37137\n",
              "Grades 6-8       16923\n",
              "Grades 9-12      10963\n",
              "Name: project_grade_category, dtype: int64"
            ]
          },
          "metadata": {
            "tags": []
          },
          "execution_count": 9
        }
      ]
    },
    {
      "cell_type": "code",
      "metadata": {
        "colab": {
          "base_uri": "https://localhost:8080/"
        },
        "id": "hEVvnn8H4nRB",
        "outputId": "a6c2e421-7cd4-416d-af54-880e54cfee15"
      },
      "source": [
        "preprocessed_project_grade_categories= []\n",
        "\n",
        "for grade_cat in tqdm(train_data[\"project_grade_category\"]):\n",
        "   \n",
        "    grade_cat = grade_cat.replace('-', '_')  #Replacing(-) with(_)\n",
        "    grade_cat = grade_cat.replace('Grades', '') #Removing grades as it is redundant\n",
        "   \n",
        "    grad_cat = ' '.join(f for f in grade_cat.split())\n",
        "    preprocessed_project_grade_categories.append(grad_cat.strip())"
      ],
      "execution_count": 10,
      "outputs": [
        {
          "output_type": "stream",
          "text": [
            "100%|██████████| 109248/109248 [00:00<00:00, 562692.12it/s]\n"
          ],
          "name": "stderr"
        }
      ]
    },
    {
      "cell_type": "markdown",
      "metadata": {
        "id": "heiAQpfW4nRC"
      },
      "source": [
        "### **1.1.5 Preprocessing of teacher prefix**\n"
      ]
    },
    {
      "cell_type": "code",
      "metadata": {
        "id": "VBoH6ZJL4nRC"
      },
      "source": [
        "train_data['teacher_prefix'] = train_data['teacher_prefix'].fillna('null')\n"
      ],
      "execution_count": 11,
      "outputs": []
    },
    {
      "cell_type": "code",
      "metadata": {
        "id": "gDvAsYZ54nRD"
      },
      "source": [
        "\n",
        "def replace_cate(lst):          # Removing (.) in Mrs. \n",
        "    return lst.replace('.','')\n",
        "   \n",
        "\n",
        "train_data['teacher_prefix']= train_data['teacher_prefix'].astype(str).apply(replace_cate)"
      ],
      "execution_count": 12,
      "outputs": []
    },
    {
      "cell_type": "markdown",
      "metadata": {
        "id": "yI5Kpsux4nRD"
      },
      "source": [
        "### **1.1.6 Adding a new feature Number of words in title**\n"
      ]
    },
    {
      "cell_type": "code",
      "metadata": {
        "id": "x3_YpXtO4nRD"
      },
      "source": [
        "title_word_count = []\n",
        "for a in train_data[\"project_title\"] :\n",
        "    b = len(a.split())\n",
        "    title_word_count.append(b)"
      ],
      "execution_count": 13,
      "outputs": []
    },
    {
      "cell_type": "code",
      "metadata": {
        "colab": {
          "base_uri": "https://localhost:8080/",
          "height": 261
        },
        "id": "Ei_vW9VO4nRD",
        "outputId": "bed06f8f-d246-4b60-d7aa-f649da67196c"
      },
      "source": [
        "train_data[\"title_word_count\"] = title_word_count\n",
        "train_data.head(2)\n"
      ],
      "execution_count": 14,
      "outputs": [
        {
          "output_type": "execute_result",
          "data": {
            "text/html": [
              "<div>\n",
              "<style scoped>\n",
              "    .dataframe tbody tr th:only-of-type {\n",
              "        vertical-align: middle;\n",
              "    }\n",
              "\n",
              "    .dataframe tbody tr th {\n",
              "        vertical-align: top;\n",
              "    }\n",
              "\n",
              "    .dataframe thead th {\n",
              "        text-align: right;\n",
              "    }\n",
              "</style>\n",
              "<table border=\"1\" class=\"dataframe\">\n",
              "  <thead>\n",
              "    <tr style=\"text-align: right;\">\n",
              "      <th></th>\n",
              "      <th>Unnamed: 0</th>\n",
              "      <th>id</th>\n",
              "      <th>teacher_id</th>\n",
              "      <th>teacher_prefix</th>\n",
              "      <th>school_state</th>\n",
              "      <th>project_submitted_datetime</th>\n",
              "      <th>project_grade_category</th>\n",
              "      <th>project_title</th>\n",
              "      <th>project_essay_1</th>\n",
              "      <th>project_essay_2</th>\n",
              "      <th>project_essay_3</th>\n",
              "      <th>project_essay_4</th>\n",
              "      <th>project_resource_summary</th>\n",
              "      <th>teacher_number_of_previously_posted_projects</th>\n",
              "      <th>project_is_approved</th>\n",
              "      <th>clean_categories</th>\n",
              "      <th>clean_subcategories</th>\n",
              "      <th>title_word_count</th>\n",
              "    </tr>\n",
              "  </thead>\n",
              "  <tbody>\n",
              "    <tr>\n",
              "      <th>0</th>\n",
              "      <td>160221</td>\n",
              "      <td>p253737</td>\n",
              "      <td>c90749f5d961ff158d4b4d1e7dc665fc</td>\n",
              "      <td>Mrs</td>\n",
              "      <td>IN</td>\n",
              "      <td>2016-12-05 13:43:57</td>\n",
              "      <td>Grades PreK-2</td>\n",
              "      <td>Educational Support for English Learners at Home</td>\n",
              "      <td>My students are English learners that are work...</td>\n",
              "      <td>\\\"The limits of your language are the limits o...</td>\n",
              "      <td>NaN</td>\n",
              "      <td>NaN</td>\n",
              "      <td>My students need opportunities to practice beg...</td>\n",
              "      <td>0</td>\n",
              "      <td>0</td>\n",
              "      <td>Literacy_Language</td>\n",
              "      <td>ESL Literacy</td>\n",
              "      <td>7</td>\n",
              "    </tr>\n",
              "    <tr>\n",
              "      <th>1</th>\n",
              "      <td>140945</td>\n",
              "      <td>p258326</td>\n",
              "      <td>897464ce9ddc600bced1151f324dd63a</td>\n",
              "      <td>Mr</td>\n",
              "      <td>FL</td>\n",
              "      <td>2016-10-25 09:22:10</td>\n",
              "      <td>Grades 6-8</td>\n",
              "      <td>Wanted: Projector for Hungry Learners</td>\n",
              "      <td>Our students arrive to our school eager to lea...</td>\n",
              "      <td>The projector we need for our school is very c...</td>\n",
              "      <td>NaN</td>\n",
              "      <td>NaN</td>\n",
              "      <td>My students need a projector to help with view...</td>\n",
              "      <td>7</td>\n",
              "      <td>1</td>\n",
              "      <td>History_Civics Health_Sports</td>\n",
              "      <td>Civics_Government TeamSports</td>\n",
              "      <td>5</td>\n",
              "    </tr>\n",
              "  </tbody>\n",
              "</table>\n",
              "</div>"
            ],
            "text/plain": [
              "   Unnamed: 0       id  ...           clean_subcategories title_word_count\n",
              "0      160221  p253737  ...                  ESL Literacy                7\n",
              "1      140945  p258326  ...  Civics_Government TeamSports                5\n",
              "\n",
              "[2 rows x 18 columns]"
            ]
          },
          "metadata": {
            "tags": []
          },
          "execution_count": 14
        }
      ]
    },
    {
      "cell_type": "markdown",
      "metadata": {
        "id": "-Opjn-qs4nRE"
      },
      "source": [
        "### **1.1.7 Merging 4 essays into single essay**"
      ]
    },
    {
      "cell_type": "code",
      "metadata": {
        "id": "nDCYya614nRE"
      },
      "source": [
        "train_data[\"essay\"] = train_data[\"project_essay_1\"].map(str) +\\\n",
        "                        train_data[\"project_essay_2\"].map(str) + \\\n",
        "                        train_data[\"project_essay_3\"].map(str) + \\\n",
        "                        train_data[\"project_essay_4\"].map(str)"
      ],
      "execution_count": 15,
      "outputs": []
    },
    {
      "cell_type": "markdown",
      "metadata": {
        "id": "w0sH9fld4nRE"
      },
      "source": [
        "### **1.1.8 Adding a new feature Number of words in essay**"
      ]
    },
    {
      "cell_type": "code",
      "metadata": {
        "id": "aAf71Yzy4nRF"
      },
      "source": [
        "essay_word_count=[]\n",
        "for ess in train_data[\"essay\"] :\n",
        "    c = len(ess.split())\n",
        "    essay_word_count.append(c)"
      ],
      "execution_count": 16,
      "outputs": []
    },
    {
      "cell_type": "code",
      "metadata": {
        "colab": {
          "base_uri": "https://localhost:8080/",
          "height": 345
        },
        "id": "jt0PeTX44nRF",
        "outputId": "b0a3a58e-581d-4ae9-c2f2-b12b724d8d65"
      },
      "source": [
        "train_data[\"essay_word_count\"] = essay_word_count\n",
        "train_data.head(2)\n"
      ],
      "execution_count": 17,
      "outputs": [
        {
          "output_type": "execute_result",
          "data": {
            "text/html": [
              "<div>\n",
              "<style scoped>\n",
              "    .dataframe tbody tr th:only-of-type {\n",
              "        vertical-align: middle;\n",
              "    }\n",
              "\n",
              "    .dataframe tbody tr th {\n",
              "        vertical-align: top;\n",
              "    }\n",
              "\n",
              "    .dataframe thead th {\n",
              "        text-align: right;\n",
              "    }\n",
              "</style>\n",
              "<table border=\"1\" class=\"dataframe\">\n",
              "  <thead>\n",
              "    <tr style=\"text-align: right;\">\n",
              "      <th></th>\n",
              "      <th>Unnamed: 0</th>\n",
              "      <th>id</th>\n",
              "      <th>teacher_id</th>\n",
              "      <th>teacher_prefix</th>\n",
              "      <th>school_state</th>\n",
              "      <th>project_submitted_datetime</th>\n",
              "      <th>project_grade_category</th>\n",
              "      <th>project_title</th>\n",
              "      <th>project_essay_1</th>\n",
              "      <th>project_essay_2</th>\n",
              "      <th>project_essay_3</th>\n",
              "      <th>project_essay_4</th>\n",
              "      <th>project_resource_summary</th>\n",
              "      <th>teacher_number_of_previously_posted_projects</th>\n",
              "      <th>project_is_approved</th>\n",
              "      <th>clean_categories</th>\n",
              "      <th>clean_subcategories</th>\n",
              "      <th>title_word_count</th>\n",
              "      <th>essay</th>\n",
              "      <th>essay_word_count</th>\n",
              "    </tr>\n",
              "  </thead>\n",
              "  <tbody>\n",
              "    <tr>\n",
              "      <th>0</th>\n",
              "      <td>160221</td>\n",
              "      <td>p253737</td>\n",
              "      <td>c90749f5d961ff158d4b4d1e7dc665fc</td>\n",
              "      <td>Mrs</td>\n",
              "      <td>IN</td>\n",
              "      <td>2016-12-05 13:43:57</td>\n",
              "      <td>Grades PreK-2</td>\n",
              "      <td>Educational Support for English Learners at Home</td>\n",
              "      <td>My students are English learners that are work...</td>\n",
              "      <td>\\\"The limits of your language are the limits o...</td>\n",
              "      <td>NaN</td>\n",
              "      <td>NaN</td>\n",
              "      <td>My students need opportunities to practice beg...</td>\n",
              "      <td>0</td>\n",
              "      <td>0</td>\n",
              "      <td>Literacy_Language</td>\n",
              "      <td>ESL Literacy</td>\n",
              "      <td>7</td>\n",
              "      <td>My students are English learners that are work...</td>\n",
              "      <td>272</td>\n",
              "    </tr>\n",
              "    <tr>\n",
              "      <th>1</th>\n",
              "      <td>140945</td>\n",
              "      <td>p258326</td>\n",
              "      <td>897464ce9ddc600bced1151f324dd63a</td>\n",
              "      <td>Mr</td>\n",
              "      <td>FL</td>\n",
              "      <td>2016-10-25 09:22:10</td>\n",
              "      <td>Grades 6-8</td>\n",
              "      <td>Wanted: Projector for Hungry Learners</td>\n",
              "      <td>Our students arrive to our school eager to lea...</td>\n",
              "      <td>The projector we need for our school is very c...</td>\n",
              "      <td>NaN</td>\n",
              "      <td>NaN</td>\n",
              "      <td>My students need a projector to help with view...</td>\n",
              "      <td>7</td>\n",
              "      <td>1</td>\n",
              "      <td>History_Civics Health_Sports</td>\n",
              "      <td>Civics_Government TeamSports</td>\n",
              "      <td>5</td>\n",
              "      <td>Our students arrive to our school eager to lea...</td>\n",
              "      <td>221</td>\n",
              "    </tr>\n",
              "  </tbody>\n",
              "</table>\n",
              "</div>"
            ],
            "text/plain": [
              "   Unnamed: 0  ... essay_word_count\n",
              "0      160221  ...              272\n",
              "1      140945  ...              221\n",
              "\n",
              "[2 rows x 20 columns]"
            ]
          },
          "metadata": {
            "tags": []
          },
          "execution_count": 17
        }
      ]
    },
    {
      "cell_type": "markdown",
      "metadata": {
        "id": "6lAMFKFcsc3j"
      },
      "source": [
        "<h2>1.2 Splitting data into Train and cross validation(or test): Stratified Sampling</h2>"
      ]
    },
    {
      "cell_type": "code",
      "metadata": {
        "id": "ODMijuuNsc3l"
      },
      "source": [
        "# please write all the code with proper documentation, and proper titles for each subsection\n",
        "# go through documentations and blogs before you start coding\n",
        "# first figure out what to do, and then think about how to do.\n",
        "# reading and understanding error messages will be very much helpfull in debugging your code\n",
        "# when you plot any graph make sure you use \n",
        "    # a. Title, that describes your plot, this will be very helpful to the reader\n",
        "    # b. Legends if needed\n",
        "    # c. X-axis label\n",
        "    # d. Y-axis label\n",
        "from sklearn.model_selection import train_test_split\n",
        "\n",
        "X_train, X_test, y_train, y_test = train_test_split(train_data, train_data['project_is_approved'], test_size=0.33, stratify = train_data['project_is_approved'],random_state=0)\n"
      ],
      "execution_count": 18,
      "outputs": []
    },
    {
      "cell_type": "code",
      "metadata": {
        "id": "ZSrF_z_W4nRG"
      },
      "source": [
        "#Dropping Class label\n",
        "X_train.drop(['project_is_approved'], axis=1, inplace=True)\n",
        "X_test.drop(['project_is_approved'], axis=1, inplace=True)\n"
      ],
      "execution_count": 19,
      "outputs": []
    },
    {
      "cell_type": "code",
      "metadata": {
        "colab": {
          "base_uri": "https://localhost:8080/",
          "height": 362
        },
        "id": "NPzWwpiS4nRG",
        "outputId": "7af771a2-cdb8-4422-8a91-8a290107b558"
      },
      "source": [
        "X_train.head(2)\n"
      ],
      "execution_count": 20,
      "outputs": [
        {
          "output_type": "execute_result",
          "data": {
            "text/html": [
              "<div>\n",
              "<style scoped>\n",
              "    .dataframe tbody tr th:only-of-type {\n",
              "        vertical-align: middle;\n",
              "    }\n",
              "\n",
              "    .dataframe tbody tr th {\n",
              "        vertical-align: top;\n",
              "    }\n",
              "\n",
              "    .dataframe thead th {\n",
              "        text-align: right;\n",
              "    }\n",
              "</style>\n",
              "<table border=\"1\" class=\"dataframe\">\n",
              "  <thead>\n",
              "    <tr style=\"text-align: right;\">\n",
              "      <th></th>\n",
              "      <th>Unnamed: 0</th>\n",
              "      <th>id</th>\n",
              "      <th>teacher_id</th>\n",
              "      <th>teacher_prefix</th>\n",
              "      <th>school_state</th>\n",
              "      <th>project_submitted_datetime</th>\n",
              "      <th>project_grade_category</th>\n",
              "      <th>project_title</th>\n",
              "      <th>project_essay_1</th>\n",
              "      <th>project_essay_2</th>\n",
              "      <th>project_essay_3</th>\n",
              "      <th>project_essay_4</th>\n",
              "      <th>project_resource_summary</th>\n",
              "      <th>teacher_number_of_previously_posted_projects</th>\n",
              "      <th>clean_categories</th>\n",
              "      <th>clean_subcategories</th>\n",
              "      <th>title_word_count</th>\n",
              "      <th>essay</th>\n",
              "      <th>essay_word_count</th>\n",
              "    </tr>\n",
              "  </thead>\n",
              "  <tbody>\n",
              "    <tr>\n",
              "      <th>25553</th>\n",
              "      <td>35717</td>\n",
              "      <td>p067777</td>\n",
              "      <td>5b87ff6fd3652c7a964b63efbf74a889</td>\n",
              "      <td>Ms</td>\n",
              "      <td>CA</td>\n",
              "      <td>2016-11-05 23:37:37</td>\n",
              "      <td>Grades 6-8</td>\n",
              "      <td>Opening the World of Programming</td>\n",
              "      <td>I wake up everyday and drive one hour each way...</td>\n",
              "      <td>Providing my student with Arduino Starter Kits...</td>\n",
              "      <td>NaN</td>\n",
              "      <td>NaN</td>\n",
              "      <td>My students need 13 Arduino Starter Kits so th...</td>\n",
              "      <td>0</td>\n",
              "      <td>Math_Science</td>\n",
              "      <td>AppliedSciences</td>\n",
              "      <td>5</td>\n",
              "      <td>I wake up everyday and drive one hour each way...</td>\n",
              "      <td>314</td>\n",
              "    </tr>\n",
              "    <tr>\n",
              "      <th>55121</th>\n",
              "      <td>151876</td>\n",
              "      <td>p141227</td>\n",
              "      <td>29f0984eab0a7042b70125b226b36bea</td>\n",
              "      <td>Mrs</td>\n",
              "      <td>RI</td>\n",
              "      <td>2016-11-21 08:51:53</td>\n",
              "      <td>Grades 6-8</td>\n",
              "      <td>New ways to learn</td>\n",
              "      <td>My students  are new to junior high school and...</td>\n",
              "      <td>Learning on an iPad will expose many students ...</td>\n",
              "      <td>NaN</td>\n",
              "      <td>NaN</td>\n",
              "      <td>My students need exposure to more technology. ...</td>\n",
              "      <td>1</td>\n",
              "      <td>Literacy_Language</td>\n",
              "      <td>Literature_Writing</td>\n",
              "      <td>4</td>\n",
              "      <td>My students  are new to junior high school and...</td>\n",
              "      <td>199</td>\n",
              "    </tr>\n",
              "  </tbody>\n",
              "</table>\n",
              "</div>"
            ],
            "text/plain": [
              "       Unnamed: 0  ... essay_word_count\n",
              "25553       35717  ...              314\n",
              "55121      151876  ...              199\n",
              "\n",
              "[2 rows x 19 columns]"
            ]
          },
          "metadata": {
            "tags": []
          },
          "execution_count": 20
        }
      ]
    },
    {
      "cell_type": "markdown",
      "metadata": {
        "id": "y5q_krXh4nRG"
      },
      "source": [
        "### **1.2.1 Preprocessesing training data - Text**\n",
        "\n"
      ]
    },
    {
      "cell_type": "code",
      "metadata": {
        "colab": {
          "base_uri": "https://localhost:8080/"
        },
        "id": "L8X5-_H24nRH",
        "outputId": "1f966e2e-f508-4247-9ca9-705d9401e9ac"
      },
      "source": [
        "print(X_train['essay'].values[260])\n",
        "print(\"*\"*50)\n",
        "print(X_train['essay'].values[3000])\n",
        "print(\"*\"*50)"
      ],
      "execution_count": 21,
      "outputs": [
        {
          "output_type": "stream",
          "text": [
            "My students are in a 12:1:1 classroom.  They have been together for 5 years and are getting ready to graduate from elementary school next year.  My students are all learning disabled but full of energy and excitement.   They are well-behaved and love science and math.  Our school is a Title I school with EVERY student receiving free lunch.  \\r\\n\\r\\nLearning disabilities do not keep my students from achieving their goals.  They work extra hard to keep up and they enjoy learning new topics.My students thought long and hard about what would get them up and moving and they came up with-VIDEO GAMES!  Like all kids, my students love video games.  When it is raining outside, they would love to have indoors recess, but we do not have a large classroom.  They came up with the idea of using a Wii console to get moving and active.  We would love to play Wii Sports against one another, dance with Just Dance or chill out and learn new yoga moves.  These games will get kids moving, while incorporating social skills.  \\r\\nThis year we will begin Yoga in the Park and need new supplies.  Each student needs their own yoga mat to feel zen and relaxation.nannan\n",
            "**************************************************\n",
            "As a teacher in a rural, Title 1 school district, my students are faced with several challenges both in and out of the classroom each day.  When they are at school I try my best to help them forget about the challenges they may face on a daily basis by providing them with meaningful learning experiences.  My goal is to help my 7th-graders see how math is important and relevant to the real world.  With each lesson I try to make meaningful connections all while keeping the content relevant to their needs.  When my students are in my classroom they are mathematicians, critical thinkers, artists, and so much more.  They make my job so interesting and I wouldn't change anything about them!My school is currently in the process of becoming a PBIS (Positive Behavior Incentives & Supports) school.  Instead of focusing on negative behavior, PBIS is a program put in place in order to promote positive behavior throughout the classroom and the entire school. \\r\\n\\r\\nI'm hoping to use the \\\"Thumbs Up\\\" trophies to help promote positive behaviors in my math classroom.  These trophies will be handed out to students when they are \\\"caught\\\" going above and beyond our classroom and school expectations.  My goal is to distribute these randomly throughout the school year when I find students doing something outstanding.  \\r\\n\\r\\nI'm currently in my 3rd year of teaching so I'm still learning how to manage my classroom.  My hope is that these awards will help creative a positive learning environment for all of my students.nannan\n",
            "**************************************************\n"
          ],
          "name": "stdout"
        }
      ]
    },
    {
      "cell_type": "code",
      "metadata": {
        "id": "W2UbKUQD4nRH"
      },
      "source": [
        "# https://stackoverflow.com/a/47091490/4084039\n",
        "import re\n",
        "\n",
        "def decontracted(phrase):\n",
        "    # specific\n",
        "    phrase = re.sub(r\"won't\", \"will not\", phrase)\n",
        "    phrase = re.sub(r\"can\\'t\", \"can not\", phrase)\n",
        "\n",
        "    # general\n",
        "    phrase = re.sub(r\"n\\'t\", \" not\", phrase)\n",
        "    phrase = re.sub(r\"\\'re\", \" are\", phrase)\n",
        "    phrase = re.sub(r\"\\'s\", \" is\", phrase)\n",
        "    phrase = re.sub(r\"\\'d\", \" would\", phrase)\n",
        "    phrase = re.sub(r\"\\'ll\", \" will\", phrase)\n",
        "    phrase = re.sub(r\"\\'t\", \" not\", phrase)\n",
        "    phrase = re.sub(r\"\\'ve\", \" have\", phrase)\n",
        "    phrase = re.sub(r\"\\'m\", \" am\", phrase)\n",
        "    return phrase"
      ],
      "execution_count": 22,
      "outputs": []
    },
    {
      "cell_type": "code",
      "metadata": {
        "colab": {
          "base_uri": "https://localhost:8080/"
        },
        "id": "wqdip5IJ4nRH",
        "outputId": "ed00dee8-215f-4d4d-9e6e-9472a8e26a19"
      },
      "source": [
        "val = decontracted(X_train['essay'].values[5])\n",
        "print(val)\n",
        "print(\"*\"*50)"
      ],
      "execution_count": 23,
      "outputs": [
        {
          "output_type": "stream",
          "text": [
            "I teach art to students in pre-k through 2nd grade.Each day around 140 students come into my art room. I strive to offer as many mediums,techniques and processes as possible in the small time frame I have as art is only offered once a week to each student.My students are totally uninhibited and this is why I love teaching at the primary level! They are excited and eager to learn. It warms my heart to see them smile as they enter my room and sometimes yell from the hall as they approach,\\\"What are we doing today in art?\\\" No task is too difficult for these precious artists and I  delight in seeing the creations that leave my art room!!!!My school was built in the 1950 is so needless to say, it is old! It is located in a small,rural town .Many of my students are poor and do not have much at home in the way of art supplies so I want their experience in my room to be exciting and the materials good quality so they will last.My students will use the canvases and paints for paintings each class will create and display at our annual  ,Autumn festival and multi- cultural art show.\\r\\nEach class will study a country and will create a Tree of Life painting representing parts of that culture. Symbols,colors and designs will be painted as well as beads and other ornaments will be infused in the tree leaves and trunk. Each class will vote on a title for their tree. The trees will then be displayed in front of a glass backdrop for all to see. Last year we had over 3000 visitors at out school-wide festival! \\r\\nAfter the festival the paintings will go up for auction to raise money for art display units and supplies. Because each painting is created by a group(class) it is only fair to allow parents to bid on their child is ,class painting. It is cute to see the parents take pictures of the paintings and every child is quick to show just where their mark was made! This has become a very popular part of the festival!Providing a haven for children to create is so important,especially to k-2nd grade minds! Being able to purchase canvas and acrylic paints is a luxury we can not afford through basic,school funds. I  can only order supplies like glue,pencils,crayons and paper ! By holding art shows with auctions in addition to displays,allows me the funds to order higher quality materials my students deserve and appreciate and believe me when they see those boxes come in ,they go crazy!!!!!\n",
            "**************************************************\n"
          ],
          "name": "stdout"
        }
      ]
    },
    {
      "cell_type": "code",
      "metadata": {
        "colab": {
          "base_uri": "https://localhost:8080/"
        },
        "id": "fIRV_LQw4nRI",
        "outputId": "badafa03-56fd-406f-96f1-b75e56f5d697"
      },
      "source": [
        "# \\r \\n \\t remove from string python: http://texthandler.com/info/remove-line-breaks-python/\n",
        "val = val.replace('\\\\r', ' ')\n",
        "val = val.replace('\\\\\"', ' ')\n",
        "val = val.replace('\\\\n', ' ')\n",
        "print(val)"
      ],
      "execution_count": 24,
      "outputs": [
        {
          "output_type": "stream",
          "text": [
            "I teach art to students in pre-k through 2nd grade.Each day around 140 students come into my art room. I strive to offer as many mediums,techniques and processes as possible in the small time frame I have as art is only offered once a week to each student.My students are totally uninhibited and this is why I love teaching at the primary level! They are excited and eager to learn. It warms my heart to see them smile as they enter my room and sometimes yell from the hall as they approach, What are we doing today in art?  No task is too difficult for these precious artists and I  delight in seeing the creations that leave my art room!!!!My school was built in the 1950 is so needless to say, it is old! It is located in a small,rural town .Many of my students are poor and do not have much at home in the way of art supplies so I want their experience in my room to be exciting and the materials good quality so they will last.My students will use the canvases and paints for paintings each class will create and display at our annual  ,Autumn festival and multi- cultural art show.  Each class will study a country and will create a Tree of Life painting representing parts of that culture. Symbols,colors and designs will be painted as well as beads and other ornaments will be infused in the tree leaves and trunk. Each class will vote on a title for their tree. The trees will then be displayed in front of a glass backdrop for all to see. Last year we had over 3000 visitors at out school-wide festival!   After the festival the paintings will go up for auction to raise money for art display units and supplies. Because each painting is created by a group(class) it is only fair to allow parents to bid on their child is ,class painting. It is cute to see the parents take pictures of the paintings and every child is quick to show just where their mark was made! This has become a very popular part of the festival!Providing a haven for children to create is so important,especially to k-2nd grade minds! Being able to purchase canvas and acrylic paints is a luxury we can not afford through basic,school funds. I  can only order supplies like glue,pencils,crayons and paper ! By holding art shows with auctions in addition to displays,allows me the funds to order higher quality materials my students deserve and appreciate and believe me when they see those boxes come in ,they go crazy!!!!!\n"
          ],
          "name": "stdout"
        }
      ]
    },
    {
      "cell_type": "code",
      "metadata": {
        "colab": {
          "base_uri": "https://localhost:8080/"
        },
        "id": "aErAsMdm4nRI",
        "outputId": "a9db72ab-e118-490a-cc40-c45e30811416"
      },
      "source": [
        "#remove spacial character: https://stackoverflow.com/a/5843547/4084039\n",
        "val = re.sub('[^A-Za-z0-9]+', ' ', val)\n",
        "print(val)"
      ],
      "execution_count": 25,
      "outputs": [
        {
          "output_type": "stream",
          "text": [
            "I teach art to students in pre k through 2nd grade Each day around 140 students come into my art room I strive to offer as many mediums techniques and processes as possible in the small time frame I have as art is only offered once a week to each student My students are totally uninhibited and this is why I love teaching at the primary level They are excited and eager to learn It warms my heart to see them smile as they enter my room and sometimes yell from the hall as they approach What are we doing today in art No task is too difficult for these precious artists and I delight in seeing the creations that leave my art room My school was built in the 1950 is so needless to say it is old It is located in a small rural town Many of my students are poor and do not have much at home in the way of art supplies so I want their experience in my room to be exciting and the materials good quality so they will last My students will use the canvases and paints for paintings each class will create and display at our annual Autumn festival and multi cultural art show Each class will study a country and will create a Tree of Life painting representing parts of that culture Symbols colors and designs will be painted as well as beads and other ornaments will be infused in the tree leaves and trunk Each class will vote on a title for their tree The trees will then be displayed in front of a glass backdrop for all to see Last year we had over 3000 visitors at out school wide festival After the festival the paintings will go up for auction to raise money for art display units and supplies Because each painting is created by a group class it is only fair to allow parents to bid on their child is class painting It is cute to see the parents take pictures of the paintings and every child is quick to show just where their mark was made This has become a very popular part of the festival Providing a haven for children to create is so important especially to k 2nd grade minds Being able to purchase canvas and acrylic paints is a luxury we can not afford through basic school funds I can only order supplies like glue pencils crayons and paper By holding art shows with auctions in addition to displays allows me the funds to order higher quality materials my students deserve and appreciate and believe me when they see those boxes come in they go crazy \n"
          ],
          "name": "stdout"
        }
      ]
    },
    {
      "cell_type": "code",
      "metadata": {
        "id": "d6heWg164nRI"
      },
      "source": [
        "# https://gist.github.com/sebleier/554280\n",
        "# we are removing the words from the stop words list: 'no', 'nor', 'not'\n",
        "stopwords= ['i', 'me', 'my', 'myself', 'we', 'our', 'ours', 'ourselves', 'you', \"you're\", \"you've\",\\\n",
        "            \"you'll\", \"you'd\", 'your', 'yours', 'yourself', 'yourselves', 'he', 'him', 'his', 'himself', \\\n",
        "            'she', \"she's\", 'her', 'hers', 'herself', 'it', \"it's\", 'its', 'itself', 'they', 'them', 'their',\\\n",
        "            'theirs', 'themselves', 'what', 'which', 'who', 'whom', 'this', 'that', \"that'll\", 'these', 'those', \\\n",
        "            'am', 'is', 'are', 'was', 'were', 'be', 'been', 'being', 'have', 'has', 'had', 'having', 'do', 'does', \\\n",
        "            'did', 'doing', 'a', 'an', 'the', 'and', 'but', 'if', 'or', 'because', 'as', 'until', 'while', 'of', \\\n",
        "            'at', 'by', 'for', 'with', 'about', 'against', 'between', 'into', 'through', 'during', 'before', 'after',\\\n",
        "            'above', 'below', 'to', 'from', 'up', 'down', 'in', 'out', 'on', 'off', 'over', 'under', 'again', 'further',\\\n",
        "            'then', 'once', 'here', 'there', 'when', 'where', 'why', 'how', 'all', 'any', 'both', 'each', 'few', 'more',\\\n",
        "            'most', 'other', 'some', 'such', 'only', 'own', 'same', 'so', 'than', 'too', 'very', \\\n",
        "            's', 't', 'can', 'will', 'just', 'don', \"don't\", 'should', \"should've\", 'now', 'd', 'll', 'm', 'o', 're', \\\n",
        "            've', 'y', 'ain', 'aren', \"aren't\", 'couldn', \"couldn't\", 'didn', \"didn't\", 'doesn', \"doesn't\", 'hadn',\\\n",
        "            \"hadn't\", 'hasn', \"hasn't\", 'haven', \"haven't\", 'isn', \"isn't\", 'ma', 'mightn', \"mightn't\", 'mustn',\\\n",
        "            \"mustn't\", 'needn', \"needn't\", 'shan', \"shan't\", 'shouldn', \"shouldn't\", 'wasn', \"wasn't\", 'weren', \"weren't\", \\\n",
        "            'won', \"won't\", 'wouldn', \"wouldn't\"]"
      ],
      "execution_count": 26,
      "outputs": []
    },
    {
      "cell_type": "code",
      "metadata": {
        "colab": {
          "base_uri": "https://localhost:8080/"
        },
        "id": "wyU1W9Qn4nRJ",
        "outputId": "3213f986-f70e-4f96-f744-5208d378f4da"
      },
      "source": [
        "preprocessed_essays_train = []\n",
        "# tqdm is for printing the status bar\n",
        "for sentence in tqdm(X_train['essay'].values):\n",
        "    val = ' '.join(e for e in val.split() if e.lower() not in stopwords)\n",
        "    val = decontracted(sentence)\n",
        "    val = val.replace('\\\\r', ' ')\n",
        "    val = val.replace('\\\\\"', ' ')\n",
        "    val = val.replace('\\\\n', ' ')\n",
        "    val = re.sub('[^A-Za-z0-9]+', ' ', val)\n",
        "   \n",
        "    preprocessed_essays_train.append(val.lower().strip())"
      ],
      "execution_count": 27,
      "outputs": [
        {
          "output_type": "stream",
          "text": [
            "100%|██████████| 73196/73196 [00:46<00:00, 1581.79it/s]\n"
          ],
          "name": "stderr"
        }
      ]
    },
    {
      "cell_type": "markdown",
      "metadata": {
        "id": "fCfvMqz34nRJ"
      },
      "source": [
        "### **1.2.2 Preprocess test data -Text**\n"
      ]
    },
    {
      "cell_type": "code",
      "metadata": {
        "colab": {
          "base_uri": "https://localhost:8080/"
        },
        "id": "5QvR9Uv24nRK",
        "outputId": "2c91c2f2-7c1b-440c-f6b8-82410067d530"
      },
      "source": [
        "preprocessed_essays_test = []\n",
        "# tqdm is for printing the status bar\n",
        "for sentence in tqdm(X_test['essay'].values):\n",
        "    val = ' '.join(e for e in val.split() if e.lower() not in stopwords)\n",
        "    val = decontracted(sentence)\n",
        "    val = val.replace('\\\\r', ' ')\n",
        "    val = val.replace('\\\\\"', ' ')\n",
        "    val = val.replace('\\\\n', ' ')\n",
        "    val = re.sub('[^A-Za-z0-9]+', ' ', val)\n",
        "    \n",
        "    preprocessed_essays_test.append(val.lower().strip())"
      ],
      "execution_count": 28,
      "outputs": [
        {
          "output_type": "stream",
          "text": [
            "100%|██████████| 36052/36052 [00:22<00:00, 1589.79it/s]\n"
          ],
          "name": "stderr"
        }
      ]
    },
    {
      "cell_type": "markdown",
      "metadata": {
        "id": "wYRNwOM04nRK"
      },
      "source": [
        "### **1.2.3 preprocessing of project title**\n"
      ]
    },
    {
      "cell_type": "code",
      "metadata": {
        "colab": {
          "base_uri": "https://localhost:8080/"
        },
        "id": "OMjJaAsS4nRK",
        "outputId": "40c11a19-8b2e-4cd8-eb6c-2fb7223ca64c"
      },
      "source": [
        "#printing some randomproject titles.\n",
        "print(train_data['project_title'].values[0])\n",
        "print(\"*\"*50)\n",
        "print(train_data['project_title'].values[275])\n",
        "print(\"*\"*50)\n",
        "print(train_data['project_title'].values[4000])\n",
        "print(\"*\"*50)"
      ],
      "execution_count": 29,
      "outputs": [
        {
          "output_type": "stream",
          "text": [
            "Educational Support for English Learners at Home\n",
            "**************************************************\n",
            "Healthy Snack Attacks\n",
            "**************************************************\n",
            "Inspire Summer Reading!\n",
            "**************************************************\n"
          ],
          "name": "stdout"
        }
      ]
    },
    {
      "cell_type": "code",
      "metadata": {
        "id": "NtOGpcCc4nRL"
      },
      "source": [
        "title = decontracted(X_train['project_title'].values[2000])\n"
      ],
      "execution_count": 30,
      "outputs": []
    },
    {
      "cell_type": "markdown",
      "metadata": {
        "id": "mApahcp64nRL"
      },
      "source": [
        "### **1.2.4 Preprocessing of Project Title-Train**\n"
      ]
    },
    {
      "cell_type": "code",
      "metadata": {
        "colab": {
          "base_uri": "https://localhost:8080/"
        },
        "id": "j0MGaUGn4nRM",
        "outputId": "8298da09-e1e7-4145-9595-9a934cc340c7"
      },
      "source": [
        "preprocessed_titles_train = []\n",
        "\n",
        "for titles in tqdm(X_train[\"project_title\"]):\n",
        "    title = ' '.join(f for f in title.split() if f not in stopwords)\n",
        "    title = decontracted(titles)\n",
        "    title = title.replace('\\\\r', ' ')\n",
        "    title = title.replace('\\\\\"', ' ')\n",
        "    title = title.replace('\\\\n', ' ')\n",
        "    title = re.sub('[^A-Za-z0-9]+', ' ', title)\n",
        "    \n",
        "    preprocessed_titles_train.append(title.lower().strip())"
      ],
      "execution_count": 31,
      "outputs": [
        {
          "output_type": "stream",
          "text": [
            "100%|██████████| 73196/73196 [00:02<00:00, 35599.69it/s]\n"
          ],
          "name": "stderr"
        }
      ]
    },
    {
      "cell_type": "markdown",
      "metadata": {
        "id": "giF35UuC4nRN"
      },
      "source": [
        "### **1.2.5 Preprocessing of Project Title-Test**\n"
      ]
    },
    {
      "cell_type": "code",
      "metadata": {
        "colab": {
          "base_uri": "https://localhost:8080/"
        },
        "id": "BA4BV_nu4nRN",
        "outputId": "01bd5a16-225b-4557-f9bd-8afc0200cb71"
      },
      "source": [
        "preprocessed_titles_test = []\n",
        "\n",
        "for titles in tqdm(X_test[\"project_title\"]):\n",
        "    title = ' '.join(f for f in title.split() if f not in stopwords)\n",
        "    title = decontracted(titles)\n",
        "    title = title.replace('\\\\r', ' ')\n",
        "    title = title.replace('\\\\\"', ' ')\n",
        "    title = title.replace('\\\\n', ' ')\n",
        "    title = re.sub('[^A-Za-z0-9]+', ' ', title)\n",
        "    \n",
        "    preprocessed_titles_test.append(title.lower().strip())"
      ],
      "execution_count": 32,
      "outputs": [
        {
          "output_type": "stream",
          "text": [
            "100%|██████████| 36052/36052 [00:01<00:00, 35287.44it/s]\n"
          ],
          "name": "stderr"
        }
      ]
    },
    {
      "cell_type": "code",
      "metadata": {
        "colab": {
          "base_uri": "https://localhost:8080/",
          "height": 35
        },
        "id": "BPhATWsw4nRN",
        "outputId": "407251eb-6ad7-4717-86c6-6dcf1186a765"
      },
      "source": [
        "preprocessed_titles_test[50]\n"
      ],
      "execution_count": 33,
      "outputs": [
        {
          "output_type": "execute_result",
          "data": {
            "application/vnd.google.colaboratory.intrinsic+json": {
              "type": "string"
            },
            "text/plain": [
              "'getting organized in an alternative seating classroom'"
            ]
          },
          "metadata": {
            "tags": []
          },
          "execution_count": 33
        }
      ]
    },
    {
      "cell_type": "markdown",
      "metadata": {
        "id": "vsALgl5Asc3u"
      },
      "source": [
        "<h2>1.3 Make Data Model Ready: encoding eassay, and project_title</h2>"
      ]
    },
    {
      "cell_type": "markdown",
      "metadata": {
        "id": "kmRU1EjC4nRO"
      },
      "source": [
        "## **1.3.1 Vectorizing text data**\n"
      ]
    },
    {
      "cell_type": "markdown",
      "metadata": {
        "id": "SW72w7AR4nRO"
      },
      "source": [
        "### **1.3.1.1 TF-IDF Vectorizer**"
      ]
    },
    {
      "cell_type": "markdown",
      "metadata": {
        "id": "WS_5JwRz4nRO"
      },
      "source": [
        "### TF-IDF {Essays}"
      ]
    },
    {
      "cell_type": "code",
      "metadata": {
        "id": "CLlVUMJn4nRO"
      },
      "source": [
        "vectorizer_tfidf_essay = TfidfVectorizer(min_df=10) #Considering All features\n",
        "vectorizer_tfidf_essay.fit(preprocessed_essays_train)\n",
        "\n",
        "text_tfidf_train = vectorizer_tfidf_essay.transform(preprocessed_essays_train)\n",
        "text_tfidf_test = vectorizer_tfidf_essay.transform(preprocessed_essays_test)"
      ],
      "execution_count": 34,
      "outputs": []
    },
    {
      "cell_type": "markdown",
      "metadata": {
        "id": "Lz4jGBbC4nRP"
      },
      "source": [
        "### TF-IDF {Project_title}"
      ]
    },
    {
      "cell_type": "code",
      "metadata": {
        "id": "CPSF4kvY4nRP"
      },
      "source": [
        "vectorizer_tfidf_titles = TfidfVectorizer(min_df=10)\n",
        "\n",
        "vectorizer_tfidf_titles.fit(preprocessed_titles_train)\n",
        "title_tfidf_train = vectorizer_tfidf_titles.transform(preprocessed_titles_train)\n",
        "title_tfidf_test = vectorizer_tfidf_titles.transform(preprocessed_titles_test)"
      ],
      "execution_count": 35,
      "outputs": []
    },
    {
      "cell_type": "markdown",
      "metadata": {
        "id": "44DjZXhB4nRP"
      },
      "source": [
        "### **Avg word2vec**{Essay}"
      ]
    },
    {
      "cell_type": "code",
      "metadata": {
        "colab": {
          "base_uri": "https://localhost:8080/"
        },
        "id": "FulkalJx4nRP",
        "outputId": "8f8775f3-8058-46c9-ce84-b37d8ef85191"
      },
      "source": [
        "# computing average word2vec for each review.\n",
        "avg_w2v_essays=[]\n",
        "for sentence in tqdm(preprocessed_essays_train):\n",
        "    vector=np.zeros(300)\n",
        "    cnt_wrds=0\n",
        "    for word in sentence.split(' '):\n",
        "        if word in glove_words:\n",
        "            cnt_wrds+=1\n",
        "            vector+=model[word]\n",
        "    if cnt_wrds:\n",
        "            vector/=cnt_wrds\n",
        "            \n",
        "    avg_w2v_essays.append(vector)"
      ],
      "execution_count": 36,
      "outputs": [
        {
          "output_type": "stream",
          "text": [
            "100%|██████████| 73196/73196 [00:32<00:00, 2255.54it/s]\n"
          ],
          "name": "stderr"
        }
      ]
    },
    {
      "cell_type": "code",
      "metadata": {
        "colab": {
          "base_uri": "https://localhost:8080/"
        },
        "id": "9G_O1Y2j4nRQ",
        "outputId": "da126844-acc1-45a7-b51f-a63a1fe12ada"
      },
      "source": [
        "# average Word2Vec for test essays\n",
        "# computing average word2vec for each review.\n",
        "avg_w2v_essays_test=[]\n",
        "for sentence in tqdm(preprocessed_essays_test):\n",
        "    vector=np.zeros(300)\n",
        "    cnt_wrds=0\n",
        "    for word in sentence.split(' '):\n",
        "        if word in glove_words:\n",
        "            cnt_wrds+=1\n",
        "            vector+=model[word]\n",
        "    if cnt_wrds:\n",
        "            vector/=cnt_wrds\n",
        "            \n",
        "    avg_w2v_essays_test.append(vector)"
      ],
      "execution_count": 37,
      "outputs": [
        {
          "output_type": "stream",
          "text": [
            "100%|██████████| 36052/36052 [00:16<00:00, 2177.97it/s]\n"
          ],
          "name": "stderr"
        }
      ]
    },
    {
      "cell_type": "markdown",
      "metadata": {
        "id": "xvfp-V4R4nRQ"
      },
      "source": [
        "### **Avg word2vec**{Project_title}"
      ]
    },
    {
      "cell_type": "code",
      "metadata": {
        "colab": {
          "base_uri": "https://localhost:8080/"
        },
        "id": "CaOwxt6W4nRQ",
        "outputId": "96734820-b8c8-451c-9ded-88e0792ac94e"
      },
      "source": [
        "# average Word2Vec for train titles\n",
        "# computing average word2vec for each review.\n",
        "avg_w2v_titles_train=[]\n",
        "for sentence in tqdm(preprocessed_titles_train):\n",
        "    vector=np.zeros(300)\n",
        "    cnt_wrds=0\n",
        "    for word in sentence.split(' '):\n",
        "        if word in glove_words:\n",
        "            cnt_wrds+=1\n",
        "            vector+=model[word]\n",
        "    if cnt_wrds:\n",
        "            vector/=cnt_wrds\n",
        "            \n",
        "    avg_w2v_titles_train.append(vector)"
      ],
      "execution_count": 38,
      "outputs": [
        {
          "output_type": "stream",
          "text": [
            "100%|██████████| 73196/73196 [00:01<00:00, 65054.48it/s]\n"
          ],
          "name": "stderr"
        }
      ]
    },
    {
      "cell_type": "code",
      "metadata": {
        "colab": {
          "base_uri": "https://localhost:8080/"
        },
        "id": "udxdDNAp4nRR",
        "outputId": "dee7f69e-32fa-488a-d0ce-0c89605120ad"
      },
      "source": [
        "# average Word2Vec for test titles\n",
        "# computing average word2vec for each review.\n",
        "avg_w2v_titles_test=[]\n",
        "for sentence in tqdm(preprocessed_titles_test):\n",
        "    vector=np.zeros(300)\n",
        "    cnt_wrds=0\n",
        "    for word in sentence.split(' '):\n",
        "        if word in glove_words:\n",
        "            cnt_wrds+=1\n",
        "            vector+=model[word]\n",
        "    if cnt_wrds:\n",
        "            vector/=cnt_wrds\n",
        "            \n",
        "    avg_w2v_titles_test.append(vector)"
      ],
      "execution_count": 39,
      "outputs": [
        {
          "output_type": "stream",
          "text": [
            "100%|██████████| 36052/36052 [00:00<00:00, 63047.70it/s]\n"
          ],
          "name": "stderr"
        }
      ]
    },
    {
      "cell_type": "markdown",
      "metadata": {
        "id": "NJILwFMT4nRR"
      },
      "source": [
        "### **weighted tfidf w2v**{Essay}\n"
      ]
    },
    {
      "cell_type": "code",
      "metadata": {
        "id": "1OoaPZga4nRR"
      },
      "source": [
        "vec_tfidf_w2v=TfidfVectorizer()\n",
        "t=vec_tfidf_w2v.fit(preprocessed_essays_train)\n",
        "dictionary=dict(zip(vec_tfidf_w2v.get_feature_names(),list(vec_tfidf_w2v.idf_)))\n",
        "tfidf_words=set(vec_tfidf_w2v.get_feature_names())"
      ],
      "execution_count": 40,
      "outputs": []
    },
    {
      "cell_type": "code",
      "metadata": {
        "id": "gTHkXWfm4nRR"
      },
      "source": [
        "# average Word2Vec\n",
        "# compute average word2vec for each review.\n",
        "def tf_idf_done(word_list):\n",
        "    train_title_tfidf_w2v_vectors = []; # the avg-w2v for each sentence/review is stored in this list\n",
        "    for sentence in tqdm(word_list): # for each review/sentence\n",
        "        vector = np.zeros(300) # as word vectors are of zero length\n",
        "        tf_idf_weight =0; # num of words with a valid vector in the sentence/review\n",
        "        for word in sentence.split():#.split(): # for each word in a review/sentence\n",
        "            if (word in glove_words) and (word in tfidf_words):\n",
        "              #vec = model.wv[word]  \n",
        "              vec = model[word] # getting the vector for each word\n",
        "# here we are multiplying idf value(dictionary[word]) and the tf value((sentence.count(word)/len(sentence.split())))\n",
        "              tf_idf = dictionary[word]*(sentence.count(word)/len(sentence.split())) \n",
        "              vector += (vec * tf_idf) # calculating tfidf weighted w2v\n",
        "              tf_idf_weight += tf_idf\n",
        "        if tf_idf_weight != 0:\n",
        "            vector /= tf_idf_weight\n",
        "        train_title_tfidf_w2v_vectors.append(vector)\n",
        "    print(len(train_title_tfidf_w2v_vectors))\n",
        "    print(len(train_title_tfidf_w2v_vectors[0]))\n",
        "    return train_title_tfidf_w2v_vectors"
      ],
      "execution_count": 41,
      "outputs": []
    },
    {
      "cell_type": "code",
      "metadata": {
        "colab": {
          "base_uri": "https://localhost:8080/"
        },
        "id": "i8XgS46W4nRS",
        "outputId": "9936c6ee-b7fa-4f9e-ae51-6a897a7c6bd2"
      },
      "source": [
        "train_tfidf_w2v_vectors=tf_idf_done(preprocessed_essays_train)\n",
        "test_tfidf_w2v_vectors=tf_idf_done(preprocessed_essays_test)\n"
      ],
      "execution_count": 42,
      "outputs": [
        {
          "output_type": "stream",
          "text": [
            "100%|██████████| 73196/73196 [05:21<00:00, 227.96it/s]\n",
            "  0%|          | 28/36052 [00:00<02:10, 276.82it/s]"
          ],
          "name": "stderr"
        },
        {
          "output_type": "stream",
          "text": [
            "73196\n",
            "300\n"
          ],
          "name": "stdout"
        },
        {
          "output_type": "stream",
          "text": [
            "100%|██████████| 36052/36052 [02:37<00:00, 228.87it/s]"
          ],
          "name": "stderr"
        },
        {
          "output_type": "stream",
          "text": [
            "36052\n",
            "300\n"
          ],
          "name": "stdout"
        },
        {
          "output_type": "stream",
          "text": [
            "\n"
          ],
          "name": "stderr"
        }
      ]
    },
    {
      "cell_type": "markdown",
      "metadata": {
        "id": "7oKvH3Hh4nRS"
      },
      "source": [
        "### **weighted tfidf w2v**{Project_title}\n"
      ]
    },
    {
      "cell_type": "code",
      "metadata": {
        "colab": {
          "base_uri": "https://localhost:8080/"
        },
        "id": "7KkoGJ244nRS",
        "outputId": "7d0e0218-52c7-4a07-ccd6-d1ba9886df74"
      },
      "source": [
        "train_title_tfidf_w2v_vectors=tf_idf_done(preprocessed_titles_train)\n",
        "test_title_tfidf_w2v_vectors=tf_idf_done(preprocessed_titles_test)\n"
      ],
      "execution_count": 43,
      "outputs": [
        {
          "output_type": "stream",
          "text": [
            "100%|██████████| 73196/73196 [00:03<00:00, 21166.52it/s]\n",
            "  5%|▌         | 1849/36052 [00:00<00:01, 18486.27it/s]"
          ],
          "name": "stderr"
        },
        {
          "output_type": "stream",
          "text": [
            "73196\n",
            "300\n"
          ],
          "name": "stdout"
        },
        {
          "output_type": "stream",
          "text": [
            "100%|██████████| 36052/36052 [00:01<00:00, 21358.09it/s]"
          ],
          "name": "stderr"
        },
        {
          "output_type": "stream",
          "text": [
            "36052\n",
            "300\n"
          ],
          "name": "stdout"
        },
        {
          "output_type": "stream",
          "text": [
            "\n"
          ],
          "name": "stderr"
        }
      ]
    },
    {
      "cell_type": "markdown",
      "metadata": {
        "id": "S3Vxxv2Hsc31"
      },
      "source": [
        "## 1.4 Make Data Model Ready: encoding numerical, categorical features</h2>"
      ]
    },
    {
      "cell_type": "markdown",
      "metadata": {
        "id": "dflJFwC44nRT"
      },
      "source": [
        "\n",
        "\n",
        "## **1.4.1 Vectorizing Numerical features** \n",
        "\n",
        "### Various numerical feautures are :\n",
        "\n",
        "### a).Price\n",
        "\n",
        "### b).Quantity\n",
        "\n",
        "### c).Number of Projects previously proposed by Teacher\n",
        "\n",
        "### d).Essay word Count\n",
        "\n",
        "### e).Title word Count"
      ]
    },
    {
      "cell_type": "markdown",
      "metadata": {
        "id": "RfIa9J424nRT"
      },
      "source": [
        "### **Price**\n"
      ]
    },
    {
      "cell_type": "code",
      "metadata": {
        "colab": {
          "base_uri": "https://localhost:8080/",
          "height": 225
        },
        "id": "-XdpM8di4nRT",
        "outputId": "bb5ea215-3796-4e66-87d3-72102f4fb788"
      },
      "source": [
        "price_data = resource_data.groupby('id').agg({'price':'sum', 'quantity':'sum'}).reset_index()\n",
        "price_data.head(6)"
      ],
      "execution_count": 44,
      "outputs": [
        {
          "output_type": "execute_result",
          "data": {
            "text/html": [
              "<div>\n",
              "<style scoped>\n",
              "    .dataframe tbody tr th:only-of-type {\n",
              "        vertical-align: middle;\n",
              "    }\n",
              "\n",
              "    .dataframe tbody tr th {\n",
              "        vertical-align: top;\n",
              "    }\n",
              "\n",
              "    .dataframe thead th {\n",
              "        text-align: right;\n",
              "    }\n",
              "</style>\n",
              "<table border=\"1\" class=\"dataframe\">\n",
              "  <thead>\n",
              "    <tr style=\"text-align: right;\">\n",
              "      <th></th>\n",
              "      <th>id</th>\n",
              "      <th>price</th>\n",
              "      <th>quantity</th>\n",
              "    </tr>\n",
              "  </thead>\n",
              "  <tbody>\n",
              "    <tr>\n",
              "      <th>0</th>\n",
              "      <td>p000001</td>\n",
              "      <td>459.56</td>\n",
              "      <td>7</td>\n",
              "    </tr>\n",
              "    <tr>\n",
              "      <th>1</th>\n",
              "      <td>p000002</td>\n",
              "      <td>515.89</td>\n",
              "      <td>21</td>\n",
              "    </tr>\n",
              "    <tr>\n",
              "      <th>2</th>\n",
              "      <td>p000003</td>\n",
              "      <td>298.97</td>\n",
              "      <td>4</td>\n",
              "    </tr>\n",
              "    <tr>\n",
              "      <th>3</th>\n",
              "      <td>p000004</td>\n",
              "      <td>1113.69</td>\n",
              "      <td>98</td>\n",
              "    </tr>\n",
              "    <tr>\n",
              "      <th>4</th>\n",
              "      <td>p000005</td>\n",
              "      <td>485.99</td>\n",
              "      <td>8</td>\n",
              "    </tr>\n",
              "    <tr>\n",
              "      <th>5</th>\n",
              "      <td>p000006</td>\n",
              "      <td>130.62</td>\n",
              "      <td>5</td>\n",
              "    </tr>\n",
              "  </tbody>\n",
              "</table>\n",
              "</div>"
            ],
            "text/plain": [
              "        id    price  quantity\n",
              "0  p000001   459.56         7\n",
              "1  p000002   515.89        21\n",
              "2  p000003   298.97         4\n",
              "3  p000004  1113.69        98\n",
              "4  p000005   485.99         8\n",
              "5  p000006   130.62         5"
            ]
          },
          "metadata": {
            "tags": []
          },
          "execution_count": 44
        }
      ]
    },
    {
      "cell_type": "code",
      "metadata": {
        "id": "K0XjCPDM4nRU"
      },
      "source": [
        "# join two dataframes in python: \n",
        "X_train = pd.merge(X_train, price_data, on='id', how='left')\n",
        "X_test = pd.merge(X_test, price_data, on='id', how='left')\n"
      ],
      "execution_count": 45,
      "outputs": []
    },
    {
      "cell_type": "code",
      "metadata": {
        "colab": {
          "base_uri": "https://localhost:8080/"
        },
        "id": "THFN0w7-4nRU",
        "outputId": "42e36c27-7a35-467c-d8c3-b2b31181a7a5"
      },
      "source": [
        "from sklearn.preprocessing import Normalizer\n",
        "\n",
        "normalizer = Normalizer()\n",
        "\n",
        "# normalizer.fit(X_train['price'].values)\n",
        "# this will rise an error Expected 2D array, got 1D array instead: \n",
        "# array=[105.22 215.96  96.01 ... 368.98  80.53 709.67].\n",
        "# Reshape your data either using \n",
        "# array.reshape(-1, 1) if your data has a single feature \n",
        "# array.reshape(1, -1)  if it contains a single sample.\n",
        "\n",
        "normalizer.fit(X_train['price'].values.reshape(1,-1))\n",
        "\n",
        "price_train = normalizer.transform(X_train['price'].values.reshape(1,-1))\n",
        "price_test = normalizer.transform(X_test['price'].values.reshape(1,-1))\n",
        "\n",
        "print(\"After vectorizations\")\n",
        "print(price_train.shape, y_train.shape)\n",
        "print(price_test.shape, y_test.shape)\n",
        "print(\"*\"*100)"
      ],
      "execution_count": 46,
      "outputs": [
        {
          "output_type": "stream",
          "text": [
            "After vectorizations\n",
            "(1, 73196) (73196,)\n",
            "(1, 36052) (36052,)\n",
            "****************************************************************************************************\n"
          ],
          "name": "stdout"
        }
      ]
    },
    {
      "cell_type": "markdown",
      "metadata": {
        "id": "1m6i6a1V4nRU"
      },
      "source": [
        "### **Quantity**"
      ]
    },
    {
      "cell_type": "code",
      "metadata": {
        "colab": {
          "base_uri": "https://localhost:8080/"
        },
        "id": "3f9Ro75D4nRV",
        "outputId": "393ba0c8-3f4d-4dd7-9f3d-3cc3e9f380f8"
      },
      "source": [
        "normalizer = Normalizer()\n",
        "\n",
        "# normalizer.fit(X_train['price'].values)\n",
        "# this will rise an error Expected 2D array, got 1D array instead: \n",
        "# array=[105.22 215.96  96.01 ... 368.98  80.53 709.67].\n",
        "# Reshape your data either using \n",
        "# array.reshape(-1, 1) if your data has a single feature \n",
        "# array.reshape(1, -1)  if it contains a single sample.\n",
        "\n",
        "normalizer.fit(X_train['quantity'].values.reshape(1,-1))\n",
        "\n",
        "quantity_train = normalizer.transform(X_train['quantity'].values.reshape(1,-1))\n",
        "quantity_test = normalizer.transform(X_test['quantity'].values.reshape(1,-1))\n",
        "\n",
        "print(\"After vectorizations\")\n",
        "print(quantity_train.shape, y_train.shape)\n",
        "print(quantity_test.shape, y_test.shape)\n",
        "print(\"*\"*100)"
      ],
      "execution_count": 47,
      "outputs": [
        {
          "output_type": "stream",
          "text": [
            "After vectorizations\n",
            "(1, 73196) (73196,)\n",
            "(1, 36052) (36052,)\n",
            "****************************************************************************************************\n"
          ],
          "name": "stdout"
        }
      ]
    },
    {
      "cell_type": "markdown",
      "metadata": {
        "id": "rOhKzVAp4nRV"
      },
      "source": [
        "### **Projects previously proposed by Teacher**"
      ]
    },
    {
      "cell_type": "code",
      "metadata": {
        "colab": {
          "base_uri": "https://localhost:8080/"
        },
        "id": "0i4DRLPV4nRW",
        "outputId": "c1555610-5228-48fd-ff7d-221cd4881925"
      },
      "source": [
        "normalizer = Normalizer()\n",
        "\n",
        "# normalizer.fit(X_train['price'].values)\n",
        "# this will rise an error Expected 2D array, got 1D array instead: \n",
        "# array=[105.22 215.96  96.01 ... 368.98  80.53 709.67].\n",
        "# Reshape your data either using \n",
        "# array.reshape(-1, 1) if your data has a single feature \n",
        "# array.reshape(1, -1)  if it contains a single sample.\n",
        "\n",
        "normalizer.fit(X_train['teacher_number_of_previously_posted_projects'].values.reshape(1,-1))\n",
        "\n",
        "prev_projects_train = normalizer.transform(X_train['teacher_number_of_previously_posted_projects'].values.reshape(-1,1))\n",
        "prev_projects_test = normalizer.transform(X_test['teacher_number_of_previously_posted_projects'].values.reshape(-1,1))\n",
        "\n",
        "print(\"After vectorizations\")\n",
        "print(prev_projects_train.shape, y_train.shape)\n",
        "print(prev_projects_test.shape, y_test.shape)\n",
        "print(\"*\"*100)"
      ],
      "execution_count": 48,
      "outputs": [
        {
          "output_type": "stream",
          "text": [
            "After vectorizations\n",
            "(73196, 1) (73196,)\n",
            "(36052, 1) (36052,)\n",
            "****************************************************************************************************\n"
          ],
          "name": "stdout"
        }
      ]
    },
    {
      "cell_type": "markdown",
      "metadata": {
        "id": "xfcuQ2vI4nRW"
      },
      "source": [
        "### **Title word count**\n"
      ]
    },
    {
      "cell_type": "code",
      "metadata": {
        "colab": {
          "base_uri": "https://localhost:8080/"
        },
        "id": "GE2mE04o4nRX",
        "outputId": "fdc0c68f-7f8c-407c-cc02-24d83a43b685"
      },
      "source": [
        "normalizer = Normalizer()\n",
        "\n",
        "normalizer.fit(X_train['title_word_count'].values.reshape(1,-1))\n",
        "\n",
        "title_word_count_train = normalizer.transform(X_train['title_word_count'].values.reshape(1,-1))\n",
        "title_word_count_test = normalizer.transform(X_test['title_word_count'].values.reshape(1,-1))\n",
        "\n",
        "print(\"After vectorizations\")\n",
        "print(title_word_count_train.shape, y_train.shape)\n",
        "print(title_word_count_test.shape, y_test.shape)\n",
        "print(\"*\"*100)"
      ],
      "execution_count": 49,
      "outputs": [
        {
          "output_type": "stream",
          "text": [
            "After vectorizations\n",
            "(1, 73196) (73196,)\n",
            "(1, 36052) (36052,)\n",
            "****************************************************************************************************\n"
          ],
          "name": "stdout"
        }
      ]
    },
    {
      "cell_type": "markdown",
      "metadata": {
        "id": "L23XuGfN4nRY"
      },
      "source": [
        "### **Essay word count**\n"
      ]
    },
    {
      "cell_type": "code",
      "metadata": {
        "colab": {
          "base_uri": "https://localhost:8080/"
        },
        "id": "nOBk21yc4nRY",
        "outputId": "224789a4-26c2-419f-a2f8-a9c36dc55bfb"
      },
      "source": [
        "normalizer = Normalizer()\n",
        "\n",
        "normalizer.fit(X_train['essay_word_count'].values.reshape(1,-1))\n",
        "\n",
        "essay_word_count_train = normalizer.transform(X_train['essay_word_count'].values.reshape(1,-1))\n",
        "essay_word_count_test = normalizer.transform(X_test['essay_word_count'].values.reshape(1,-1))\n",
        "\n",
        "print(\"After vectorizations\")\n",
        "print(essay_word_count_train.shape, y_train.shape)\n",
        "print(essay_word_count_test.shape, y_test.shape)"
      ],
      "execution_count": 50,
      "outputs": [
        {
          "output_type": "stream",
          "text": [
            "After vectorizations\n",
            "(1, 73196) (73196,)\n",
            "(1, 36052) (36052,)\n"
          ],
          "name": "stdout"
        }
      ]
    },
    {
      "cell_type": "markdown",
      "metadata": {
        "id": "Xa4X18ZB4nRZ"
      },
      "source": [
        "## 1.4.1.1 Reshaping Numerical Features"
      ]
    },
    {
      "cell_type": "code",
      "metadata": {
        "id": "VbE0Tzuq4nRZ"
      },
      "source": [
        "price_train = (X_train['price'].values.reshape(-1,1))\n",
        "price_test = (X_test['price'].values.reshape(-1,1))\n",
        "\n",
        "quantity_train =(X_train['quantity'].values.reshape(-1,1))\n",
        "quantity_test = (X_test['quantity'].values.reshape(-1,1))\n",
        "\n",
        "prev_projects_train = (X_train['teacher_number_of_previously_posted_projects'].values.reshape(-1,1))\n",
        "prev_projects_test = (X_test['teacher_number_of_previously_posted_projects'].values.reshape(-1,1))\n",
        "\n",
        "title_word_count_train = (X_train['title_word_count'].values.reshape(-1,1))\n",
        "title_word_count_test = (X_test['title_word_count'].values.reshape(-1,1))\n",
        "\n",
        "\n",
        "essay_word_count_train = (X_train['essay_word_count'].values.reshape(-1,1))\n",
        "essay_word_count_test = (X_test['essay_word_count'].values.reshape(-1,1))"
      ],
      "execution_count": 51,
      "outputs": []
    },
    {
      "cell_type": "markdown",
      "metadata": {
        "id": "B_5olINw4nRa"
      },
      "source": [
        "# **1.4.2 Vectorizing Categorical features(Response Coding)**\n",
        "\n",
        "\n"
      ]
    },
    {
      "cell_type": "markdown",
      "metadata": {
        "id": "FaS0I_2g4nRa"
      },
      "source": [
        "### Various Categorical feautures are :\n",
        "\n",
        "### a).Categories of Projects\n",
        "\n",
        "### b).Subcategories\n",
        "\n",
        "### c).School states\n",
        "\n",
        "### d).Project grade category\n",
        "\n",
        "### e).Teacher prefix"
      ]
    },
    {
      "cell_type": "markdown",
      "metadata": {
        "id": "Sz_dO3MK4nRb"
      },
      "source": [
        "## 1.4.2.1 Logic For Response Coding, Here Y = 0/1, So we have two new features"
      ]
    },
    {
      "cell_type": "code",
      "metadata": {
        "id": "s0zN7bKd4nRb"
      },
      "source": [
        "from scipy.sparse import coo_matrix"
      ],
      "execution_count": 52,
      "outputs": []
    },
    {
      "cell_type": "code",
      "metadata": {
        "id": "B8Y8i8AS4nRb"
      },
      "source": [
        "def calculate_proba_score(data, classLabel):\n",
        "    '''\n",
        "    Function to return probability score\n",
        "    \n",
        "    '''\n",
        "    positive_score_dict = {}\n",
        "    negative_score_dict = {}\n",
        "    distinct_feature = []\n",
        "    # Collect negative and positive scores of a class label\n",
        "    for i in range(len(data)):\n",
        "        # Collect distinct features\n",
        "        if(data[i] not in distinct_feature):\n",
        "            distinct_feature.append(data[i])\n",
        "        if(1 == classLabel.values[i]):\n",
        "            if(data[i] in positive_score_dict):\n",
        "                positive_score_dict[data[i]] = positive_score_dict[data[i]] + 1\n",
        "            else:\n",
        "                positive_score_dict[data[i]] = 1\n",
        "        else:\n",
        "            if(data[i] in negative_score_dict):\n",
        "                negative_score_dict[data[i]] = negative_score_dict[data[i]] + 1 \n",
        "            else:\n",
        "                negative_score_dict[data[i]] = 1\n",
        "                \n",
        "#     print(positive_score_dict, negative_score_dict)\n",
        "\n",
        "    # Collect probability score\n",
        "    prob_score = {}\n",
        "    for i in range(len(distinct_feature)):\n",
        "#         print(distinct_feature[i])\n",
        "        pos_score = 0\n",
        "        neg_score = 0\n",
        "        if(distinct_feature[i] in positive_score_dict):\n",
        "            pos_score = positive_score_dict[distinct_feature[i]]\n",
        "        if(distinct_feature[i] in negative_score_dict):\n",
        "            neg_score = negative_score_dict[distinct_feature[i]]\n",
        "            \n",
        "        prob_score[distinct_feature[i]] = {\"pos\" : (pos_score/(pos_score+neg_score)), \"neg\" : (neg_score/(pos_score+neg_score))}\n",
        "#         print(prob_score)  \n",
        "    return prob_score\n",
        "\n",
        "\n",
        "def convert_response_encoding(data, proba_score):\n",
        "    '''\n",
        "    Convert feature into response encoding \n",
        "    Return Lists\n",
        "    '''\n",
        "    result_pos = []\n",
        "    result_neg = []\n",
        "    for i in range(len(data)):\n",
        "        if((data[i] in proba_score)):\n",
        "            result_pos.append(proba_score[data[i]]['pos'])\n",
        "            result_neg.append(proba_score[data[i]]['neg'])\n",
        "        else:#handle missing data\n",
        "            result_pos.append(0.5)\n",
        "            result_neg.append(0.5)\n",
        "            \n",
        "    return [result_pos, result_neg]"
      ],
      "execution_count": 53,
      "outputs": []
    },
    {
      "cell_type": "markdown",
      "metadata": {
        "id": "UVNAQ90Q4nRc"
      },
      "source": [
        "## **1.4.2.2 Response Encoding for Categories of Project**"
      ]
    },
    {
      "cell_type": "markdown",
      "metadata": {
        "id": "6Vn732_o4nRd"
      },
      "source": [
        "### X_Train"
      ]
    },
    {
      "cell_type": "code",
      "metadata": {
        "id": "8ws2UN_g4nRd"
      },
      "source": [
        "proba_score_train = calculate_proba_score(X_train['clean_categories'].values, y_train)\n",
        "response_encoding_train_pos, response_encoding_train_neg = convert_response_encoding(X_train['school_state'].values, proba_score_train)"
      ],
      "execution_count": 54,
      "outputs": []
    },
    {
      "cell_type": "code",
      "metadata": {
        "id": "CMwVXpJ14nRd"
      },
      "source": [
        "response_encoding_train_pos = pd.DataFrame(response_encoding_train_pos)\n",
        "response_encoding_train_neg = pd.DataFrame(response_encoding_train_neg)"
      ],
      "execution_count": 55,
      "outputs": []
    },
    {
      "cell_type": "markdown",
      "metadata": {
        "id": "ouro1TbL4nRe"
      },
      "source": [
        "### X_Test"
      ]
    },
    {
      "cell_type": "code",
      "metadata": {
        "id": "qjnkDG0Q4nRe"
      },
      "source": [
        "proba_score_test = calculate_proba_score(X_test['clean_categories'].values, y_train)\n",
        "response_encoding_test_pos, response_encoding_test_neg = convert_response_encoding(X_test['school_state'].values, proba_score_test)"
      ],
      "execution_count": 56,
      "outputs": []
    },
    {
      "cell_type": "code",
      "metadata": {
        "id": "u5f0ACRJ4nRf"
      },
      "source": [
        "response_encoding_test_pos = pd.DataFrame(response_encoding_test_pos)\n",
        "response_encoding_test_neg = pd.DataFrame(response_encoding_test_neg)"
      ],
      "execution_count": 57,
      "outputs": []
    },
    {
      "cell_type": "markdown",
      "metadata": {
        "id": "68n8EUg34nRf"
      },
      "source": [
        "### Reshaping Data"
      ]
    },
    {
      "cell_type": "code",
      "metadata": {
        "id": "rW2SUCP24nRf"
      },
      "source": [
        "X_train_clean_categories_pos = response_encoding_train_pos.values.reshape(-1,1)\n",
        "X_train_clean_categories_neg = response_encoding_train_neg.values.reshape(-1,1)\n",
        "X_test_clean_categories_pos = response_encoding_test_pos.values.reshape(-1,1)\n",
        "X_test_clean_categories_neg = response_encoding_test_neg.values.reshape(-1,1)"
      ],
      "execution_count": 58,
      "outputs": []
    },
    {
      "cell_type": "markdown",
      "metadata": {
        "id": "Y5_adEVQ4nRg"
      },
      "source": [
        "### A sparse matrix in COOrdinate format."
      ]
    },
    {
      "cell_type": "markdown",
      "metadata": {
        "id": "k3xLy_gN4nRg"
      },
      "source": [
        "### X_Train"
      ]
    },
    {
      "cell_type": "code",
      "metadata": {
        "id": "8_mncF6r4nRh"
      },
      "source": [
        "proba_score_train = calculate_proba_score(X_train['clean_subcategories'].values, y_train)\n",
        "response_encoding_train_pos, response_encoding_train_neg = convert_response_encoding(X_train['clean_subcategories'].values, proba_score_train)"
      ],
      "execution_count": 59,
      "outputs": []
    },
    {
      "cell_type": "code",
      "metadata": {
        "id": "EXjpZnoA4nRh"
      },
      "source": [
        "response_encoding_train_pos = pd.DataFrame(response_encoding_train_pos)\n",
        "response_encoding_train_neg = pd.DataFrame(response_encoding_train_neg)"
      ],
      "execution_count": 60,
      "outputs": []
    },
    {
      "cell_type": "markdown",
      "metadata": {
        "id": "pJJxcd3z4nRh"
      },
      "source": [
        "### X_test"
      ]
    },
    {
      "cell_type": "code",
      "metadata": {
        "id": "ReP1wOBL4nRi"
      },
      "source": [
        "proba_score_test = calculate_proba_score(X_test['clean_subcategories'].values, y_train)\n",
        "response_encoding_test_pos, response_encoding_test_neg = convert_response_encoding(X_test['clean_subcategories'].values, proba_score_test)"
      ],
      "execution_count": 61,
      "outputs": []
    },
    {
      "cell_type": "code",
      "metadata": {
        "id": "i2ushZPY4nRi"
      },
      "source": [
        "response_encoding_test_pos = pd.DataFrame(response_encoding_test_pos)\n",
        "response_encoding_test_neg = pd.DataFrame(response_encoding_test_neg)"
      ],
      "execution_count": 62,
      "outputs": []
    },
    {
      "cell_type": "markdown",
      "metadata": {
        "id": "mZqHG86O4nRj"
      },
      "source": [
        "### Reshaping Data"
      ]
    },
    {
      "cell_type": "code",
      "metadata": {
        "id": "lqif3AUq4nRj"
      },
      "source": [
        "X_train_clean_subcategories_pos = response_encoding_train_pos.values.reshape(-1,1)\n",
        "X_train_clean_subcategories_neg = response_encoding_train_neg.values.reshape(-1,1)\n",
        "X_test_clean_subcategories_pos = response_encoding_test_pos.values.reshape(-1,1)\n",
        "X_test_clean_subcategories_neg = response_encoding_test_neg.values.reshape(-1,1)"
      ],
      "execution_count": 63,
      "outputs": []
    },
    {
      "cell_type": "markdown",
      "metadata": {
        "id": "nwSqK7n64nRj"
      },
      "source": [
        "## 1.4.2.4 Response Encoding for School States"
      ]
    },
    {
      "cell_type": "markdown",
      "metadata": {
        "id": "PSSSZt_C4nRk"
      },
      "source": [
        "### X_train"
      ]
    },
    {
      "cell_type": "code",
      "metadata": {
        "id": "DFv_WUq94nRk"
      },
      "source": [
        "proba_score_train = calculate_proba_score(X_train['school_state'].values, y_train)\n",
        "response_encoding_train_pos, response_encoding_train_neg = convert_response_encoding(X_train['school_state'].values, proba_score_train)"
      ],
      "execution_count": 64,
      "outputs": []
    },
    {
      "cell_type": "code",
      "metadata": {
        "id": "q2HKFug14nRl"
      },
      "source": [
        "response_encoding_train_pos = pd.DataFrame(response_encoding_train_pos)\n",
        "response_encoding_train_neg = pd.DataFrame(response_encoding_train_neg)"
      ],
      "execution_count": 65,
      "outputs": []
    },
    {
      "cell_type": "markdown",
      "metadata": {
        "id": "QXfWVHkz4nRl"
      },
      "source": [
        "### X_test"
      ]
    },
    {
      "cell_type": "code",
      "metadata": {
        "id": "As3TL1ai4nRl"
      },
      "source": [
        "proba_score_train = calculate_proba_score(X_test['school_state'].values, y_train)\n",
        "response_encoding_test_pos, response_encoding_test_neg = convert_response_encoding(X_test['school_state'].values, proba_score_test)"
      ],
      "execution_count": 66,
      "outputs": []
    },
    {
      "cell_type": "code",
      "metadata": {
        "id": "BoQX4k5b4nRm"
      },
      "source": [
        "response_encoding_test_pos = pd.DataFrame(response_encoding_test_pos)\n",
        "response_encoding_test_neg = pd.DataFrame(response_encoding_test_neg)"
      ],
      "execution_count": 67,
      "outputs": []
    },
    {
      "cell_type": "markdown",
      "metadata": {
        "id": "XAJk5_B04nRm"
      },
      "source": [
        "### Reshaping Data"
      ]
    },
    {
      "cell_type": "code",
      "metadata": {
        "id": "EBFKbNNU4nRn"
      },
      "source": [
        "X_train_school_state_pos = response_encoding_train_pos.values.reshape(-1,1)\n",
        "X_train_school_state_neg = response_encoding_train_neg.values.reshape(-1,1)\n",
        "X_test_school_state_pos = response_encoding_test_pos.values.reshape(-1,1)\n",
        "X_test_school_state_neg = response_encoding_test_neg.values.reshape(-1,1)"
      ],
      "execution_count": 68,
      "outputs": []
    },
    {
      "cell_type": "markdown",
      "metadata": {
        "id": "VYyDdCV84nRn"
      },
      "source": [
        "## 1.4.2.5 Response Encoding for Project Grade Category"
      ]
    },
    {
      "cell_type": "markdown",
      "metadata": {
        "id": "woZqRca64nRn"
      },
      "source": [
        "### X_Train"
      ]
    },
    {
      "cell_type": "code",
      "metadata": {
        "id": "jSSeMUXh4nRo"
      },
      "source": [
        "proba_score_train = calculate_proba_score(X_train['project_grade_category'].values, y_train)\n",
        "response_encoding_train_pos, response_encoding_train_neg = convert_response_encoding(X_train['project_grade_category'].values, proba_score_train)\n"
      ],
      "execution_count": 69,
      "outputs": []
    },
    {
      "cell_type": "code",
      "metadata": {
        "id": "h4N0cRnP4nRo"
      },
      "source": [
        "response_encoding_train_pos = pd.DataFrame(response_encoding_train_pos)\n",
        "response_encoding_train_neg = pd.DataFrame(response_encoding_train_neg)"
      ],
      "execution_count": 70,
      "outputs": []
    },
    {
      "cell_type": "markdown",
      "metadata": {
        "id": "IpChgXCS4nRp"
      },
      "source": [
        "### X_Test"
      ]
    },
    {
      "cell_type": "code",
      "metadata": {
        "id": "laN2fHf54nRp"
      },
      "source": [
        "proba_score_test = calculate_proba_score(X_test['project_grade_category'].values, y_train)\n",
        "response_encoding_test_pos, response_encoding_test_neg = convert_response_encoding(X_test['project_grade_category'].values, proba_score_test)"
      ],
      "execution_count": 71,
      "outputs": []
    },
    {
      "cell_type": "code",
      "metadata": {
        "id": "to1vG-YV4nRp"
      },
      "source": [
        "response_encoding_test_pos = pd.DataFrame(response_encoding_test_pos)\n",
        "response_encoding_test_neg = pd.DataFrame(response_encoding_test_neg)"
      ],
      "execution_count": 72,
      "outputs": []
    },
    {
      "cell_type": "markdown",
      "metadata": {
        "id": "bmxnjx9Y4nRq"
      },
      "source": [
        "### Reshaping Data"
      ]
    },
    {
      "cell_type": "code",
      "metadata": {
        "id": "SKJo_WDc4nRq"
      },
      "source": [
        "X_train_project_grade_category_pos = response_encoding_train_pos.values.reshape(-1,1)\n",
        "X_train_project_grade_category_neg = response_encoding_train_neg.values.reshape(-1,1)\n",
        "X_test_project_grade_category_pos = response_encoding_test_pos.values.reshape(-1,1)\n",
        "X_test_project_grade_category_neg = response_encoding_test_neg.values.reshape(-1,1)"
      ],
      "execution_count": 73,
      "outputs": []
    },
    {
      "cell_type": "markdown",
      "metadata": {
        "id": "cNnHKcxc4nRr"
      },
      "source": [
        "## 1.4.2.6 Response Encoding for Teacher Prefix"
      ]
    },
    {
      "cell_type": "markdown",
      "metadata": {
        "id": "djO9A4tt4nRr"
      },
      "source": [
        "### X_Train"
      ]
    },
    {
      "cell_type": "code",
      "metadata": {
        "id": "eaem6-HU4nRr"
      },
      "source": [
        "proba_score_train = calculate_proba_score(X_train['teacher_prefix'].values, y_train)\n",
        "response_encoding_train_pos, response_encoding_train_neg = convert_response_encoding(X_train['teacher_prefix'].values, proba_score_train)"
      ],
      "execution_count": 74,
      "outputs": []
    },
    {
      "cell_type": "code",
      "metadata": {
        "id": "POla-zjP4nRs"
      },
      "source": [
        "response_encoding_train_pos = pd.DataFrame(response_encoding_train_pos)\n",
        "response_encoding_train_neg = pd.DataFrame(response_encoding_train_neg)"
      ],
      "execution_count": 75,
      "outputs": []
    },
    {
      "cell_type": "markdown",
      "metadata": {
        "id": "RuJFpwyL4nRs"
      },
      "source": [
        "### X_Test"
      ]
    },
    {
      "cell_type": "code",
      "metadata": {
        "id": "uQ9Cg2m54nRs"
      },
      "source": [
        "proba_score_test = calculate_proba_score(X_test['teacher_prefix'].values, y_train)\n",
        "response_encoding_test_pos, response_encoding_test_neg = convert_response_encoding(X_test['teacher_prefix'].values, proba_score_test)"
      ],
      "execution_count": 76,
      "outputs": []
    },
    {
      "cell_type": "code",
      "metadata": {
        "id": "Gk0MMmL24nRt"
      },
      "source": [
        "response_encoding_test_pos = pd.DataFrame(response_encoding_test_pos)\n",
        "response_encoding_test_neg = pd.DataFrame(response_encoding_test_neg)"
      ],
      "execution_count": 77,
      "outputs": []
    },
    {
      "cell_type": "markdown",
      "metadata": {
        "id": "Xkm72b7A4nRt"
      },
      "source": [
        "### Reshaping Data"
      ]
    },
    {
      "cell_type": "code",
      "metadata": {
        "id": "hDTi6k5d4nRu"
      },
      "source": [
        "X_train_teacher_prefix_pos = response_encoding_train_pos.values.reshape(-1,1)\n",
        "X_train_teacher_prefix_neg = response_encoding_train_neg.values.reshape(-1,1)\n",
        "X_test_teacher_prefix_pos = response_encoding_test_pos.values.reshape(-1,1)\n",
        "X_test_teacher_prefix_neg = response_encoding_test_neg.values.reshape(-1,1)"
      ],
      "execution_count": 78,
      "outputs": []
    },
    {
      "cell_type": "markdown",
      "metadata": {
        "id": "OnuU4ok04nRu"
      },
      "source": [
        "## 1.4.3 Converting all response encodings into Sparse Matrix"
      ]
    },
    {
      "cell_type": "code",
      "metadata": {
        "id": "0pPNkPfH4nRu"
      },
      "source": [
        "X_train_clean_categories_pos = coo_matrix(X_train_clean_categories_pos)\n",
        "X_train_clean_categories_neg = coo_matrix(X_train_clean_categories_neg)\n",
        "X_test_clean_categories_pos = coo_matrix(X_test_clean_categories_pos)\n",
        "X_test_clean_categories_neg = coo_matrix(X_test_clean_categories_neg)\n",
        "\n",
        "\n",
        "\n",
        "X_train_school_state_pos = coo_matrix(X_train_school_state_pos)\n",
        "X_train_school_state_neg = coo_matrix(X_train_school_state_neg)\n",
        "X_test_school_state_pos = coo_matrix(X_test_school_state_pos)\n",
        "X_test_school_state_neg = coo_matrix(X_test_school_state_neg)\n",
        "\n",
        "\n",
        "\n",
        "X_train_clean_subcategories_pos = coo_matrix(X_train_clean_subcategories_pos)\n",
        "X_train_clean_subcategories_neg = coo_matrix(X_train_clean_subcategories_neg)\n",
        "X_test_clean_subcategories_pos = coo_matrix(X_test_clean_subcategories_pos)\n",
        "X_test_clean_subcategories_neg = coo_matrix(X_test_clean_subcategories_neg)\n",
        "\n",
        "\n",
        "\n",
        "X_train_project_grade_category_pos = coo_matrix(X_train_project_grade_category_pos)\n",
        "X_train_project_grade_category_neg = coo_matrix(X_train_project_grade_category_neg)\n",
        "X_test_project_grade_category_pos = coo_matrix(X_test_project_grade_category_pos)\n",
        "X_test_project_grade_category_neg = coo_matrix(X_test_project_grade_category_neg)\n",
        "\n",
        "\n",
        "\n",
        "X_train_teacher_prefix_pos = coo_matrix(X_train_teacher_prefix_pos)\n",
        "X_train_teacher_prefix_neg = coo_matrix(X_train_teacher_prefix_neg)\n",
        "X_test_teacher_prefix_pos = coo_matrix(X_test_teacher_prefix_pos)\n",
        "X_test_teacher_prefix_neg = coo_matrix(X_test_teacher_prefix_neg)\n"
      ],
      "execution_count": 79,
      "outputs": []
    },
    {
      "cell_type": "markdown",
      "metadata": {
        "id": "VfYEI9zV4nRv"
      },
      "source": [
        "## 1.5 **Calculating sentiment score**\n"
      ]
    },
    {
      "cell_type": "markdown",
      "metadata": {
        "id": "CTMFNC0U4nRv"
      },
      "source": [
        "### X_Train {ESSAY}"
      ]
    },
    {
      "cell_type": "code",
      "metadata": {
        "id": "n9jl0Tpb4nRv"
      },
      "source": [
        "import nltk\n",
        "from nltk.sentiment.vader import SentimentIntensityAnalyzer\n",
        "\n",
        "# import nltk\n",
        "# nltk.download('vader_lexicon')\n",
        "\n",
        "sid = SentimentIntensityAnalyzer()\n",
        "neg=[]\n",
        "pos=[]\n",
        "neu=[]\n",
        "compound=[]\n",
        "for_sentiment = X_train['essay'].tolist()\n",
        "for i in for_sentiment:\n",
        "    j=sid.polarity_scores(i)['neg']\n",
        "    k=sid.polarity_scores(i)['pos'] \n",
        "    l=sid.polarity_scores(i)['neu']\n",
        "    m=sid.polarity_scores(i)['compound'] \n",
        "    neg.append(j)\n",
        "    pos.append(k)\n",
        "    neu.append(l)\n",
        "    compound.append(m)\n",
        "X_train['neg']=neg\n",
        "X_train['pos']=pos\n",
        "X_train['neu']=neu\n",
        "X_train['compound']=compound"
      ],
      "execution_count": 80,
      "outputs": []
    },
    {
      "cell_type": "markdown",
      "metadata": {
        "id": "s3c7eLHw4nRv"
      },
      "source": [
        "### X_Test {ESSAY}"
      ]
    },
    {
      "cell_type": "code",
      "metadata": {
        "id": "4F1RbIvO4nRw"
      },
      "source": [
        "sid = SentimentIntensityAnalyzer()\n",
        "neg=[]\n",
        "pos=[]\n",
        "neu=[]\n",
        "compound=[]\n",
        "for_sentiment = X_test['essay'].tolist()\n",
        "for i in for_sentiment:\n",
        "    j=sid.polarity_scores(i)['neg']\n",
        "    k=sid.polarity_scores(i)['pos'] \n",
        "    l=sid.polarity_scores(i)['neu']\n",
        "    m=sid.polarity_scores(i)['compound'] \n",
        "    neg.append(j)\n",
        "    pos.append(k)\n",
        "    neu.append(l)\n",
        "    compound.append(m)\n",
        "X_test['neg']=neg\n",
        "X_test['pos']=pos\n",
        "X_test['neu']=neu\n",
        "X_test['compound']=compound"
      ],
      "execution_count": 81,
      "outputs": []
    },
    {
      "cell_type": "markdown",
      "metadata": {
        "id": "ecp21omO4nRw"
      },
      "source": [
        "### 1.5.1 Normalizing Sentiment Scores\n"
      ]
    },
    {
      "cell_type": "code",
      "metadata": {
        "id": "emVYvGCL4nRw",
        "colab": {
          "base_uri": "https://localhost:8080/"
        },
        "outputId": "ee78d3e7-715b-4189-bce2-e68c0caa4229"
      },
      "source": [
        "normalizer = Normalizer()\n",
        "# normalizer.fit(X_train['price'].values)\n",
        "# this will rise an error Expected 2D array, got 1D array instead: \n",
        "# array=[105.22 215.96  96.01 ... 368.98  80.53 709.67].\n",
        "# Reshape your data either using \n",
        "# array.reshape(-1, 1) if your data has a single feature \n",
        "# array.reshape(1, -1)  if it contains a single sample.\n",
        "normalizer.fit(X_train['neg'].values.reshape(-1,1))\n",
        "\n",
        "X_train_neg_norm = normalizer.transform(X_train['neg'].values.reshape(-1,1))\n",
        "\n",
        "X_test_neg_norm = normalizer.transform(X_test['neg'].values.reshape(-1,1))\n",
        "\n",
        "\n",
        "\n",
        "print(\"After vectorizations\")\n",
        "print(X_train_neg_norm.shape, y_train.shape)\n",
        "\n",
        "print(X_test_neg_norm.shape, y_test.shape)\n",
        "print(\"=\"*100)\n",
        "\n",
        "\n",
        "normalizer.fit(X_train['pos'].values.reshape(-1,1))\n",
        "\n",
        "X_train_pos_norm = normalizer.transform(X_train['pos'].values.reshape(-1,1))\n",
        "\n",
        "X_test_pos_norm = normalizer.transform(X_test['pos'].values.reshape(-1,1))\n",
        "\n",
        "\n",
        "\n",
        "print(\"After vectorizations\")\n",
        "print(X_train_neg_norm.shape, y_train.shape)\n",
        "\n",
        "print(X_test_neg_norm.shape, y_test.shape)\n",
        "print(\"=\"*100)\n",
        "\n",
        "\n",
        "normalizer.fit(X_train['neu'].values.reshape(-1,1))\n",
        "\n",
        "X_train_neu_norm = normalizer.transform(X_train['neu'].values.reshape(-1,1))\n",
        "\n",
        "X_test_neu_norm = normalizer.transform(X_test['neu'].values.reshape(-1,1))\n",
        "\n",
        "\n",
        "\n",
        "print(\"After vectorizations\")\n",
        "print(X_train_neg_norm.shape, y_train.shape)\n",
        "\n",
        "print(X_test_neg_norm.shape, y_test.shape)\n",
        "print(\"=\"*100)\n",
        "\n",
        "\n",
        "normalizer.fit(X_train['compound'].values.reshape(-1,1))\n",
        "\n",
        "X_train_compound_norm = normalizer.transform(X_train['compound'].values.reshape(-1,1))\n",
        "\n",
        "X_test_compound_norm = normalizer.transform(X_test['compound'].values.reshape(-1,1))\n",
        "\n",
        "\n",
        "\n",
        "print(\"After vectorizations\")\n",
        "print(X_train_neg_norm.shape, y_train.shape)\n",
        "\n",
        "print(X_test_neg_norm.shape, y_test.shape)\n",
        "print(\"=\"*100)"
      ],
      "execution_count": 82,
      "outputs": [
        {
          "output_type": "stream",
          "text": [
            "After vectorizations\n",
            "(73196, 1) (73196,)\n",
            "(36052, 1) (36052,)\n",
            "====================================================================================================\n",
            "After vectorizations\n",
            "(73196, 1) (73196,)\n",
            "(36052, 1) (36052,)\n",
            "====================================================================================================\n",
            "After vectorizations\n",
            "(73196, 1) (73196,)\n",
            "(36052, 1) (36052,)\n",
            "====================================================================================================\n",
            "After vectorizations\n",
            "(73196, 1) (73196,)\n",
            "(36052, 1) (36052,)\n",
            "====================================================================================================\n"
          ],
          "name": "stdout"
        }
      ]
    },
    {
      "cell_type": "markdown",
      "metadata": {
        "id": "tFYL0J7U4nRx"
      },
      "source": [
        "# 1.6 Merging all the Vectorized Features"
      ]
    },
    {
      "cell_type": "code",
      "metadata": {
        "id": "8xPKaeP54nRx"
      },
      "source": [
        "from scipy.sparse import hstack"
      ],
      "execution_count": 83,
      "outputs": []
    },
    {
      "cell_type": "markdown",
      "metadata": {
        "id": "M8eXu1H44nRx"
      },
      "source": [
        "## For Set-1"
      ]
    },
    {
      "cell_type": "code",
      "metadata": {
        "id": "ULOWTN504nRx"
      },
      "source": [
        "X_tr_set1 = hstack((X_train_clean_categories_pos, X_train_clean_categories_neg, X_train_clean_subcategories_pos, X_train_clean_subcategories_neg, X_train_school_state_pos,X_train_school_state_neg, X_train_project_grade_category_pos,X_train_project_grade_category_neg, X_train_teacher_prefix_pos,X_train_teacher_prefix_neg, price_train, quantity_train, prev_projects_train, title_word_count_train, essay_word_count_train, text_tfidf_train, title_tfidf_train, X_train_neg_norm,X_train_pos_norm,X_train_neu_norm,X_train_compound_norm)).tocsr()\n",
        "X_te_set1 = hstack((X_test_clean_categories_pos, X_test_clean_categories_neg, X_test_clean_subcategories_pos, X_test_clean_subcategories_neg, X_test_school_state_pos,X_test_school_state_neg, X_test_project_grade_category_pos,X_test_project_grade_category_neg, X_test_teacher_prefix_pos,X_test_teacher_prefix_neg, price_test, quantity_test, prev_projects_test, title_word_count_test, essay_word_count_test, text_tfidf_test, title_tfidf_test, X_test_neg_norm,X_test_pos_norm,X_test_neu_norm,X_test_compound_norm)).tocsr()\n"
      ],
      "execution_count": 84,
      "outputs": []
    },
    {
      "cell_type": "code",
      "metadata": {
        "id": "PGLxX77z4nRy",
        "colab": {
          "base_uri": "https://localhost:8080/"
        },
        "outputId": "561abf1b-3897-470f-bc27-6acf2c5c571a"
      },
      "source": [
        "print(\"Final Data matrix\")\n",
        "print(X_tr_set1.shape, y_train.shape)\n",
        "print(X_te_set1.shape, y_test.shape)\n",
        "print(\"*\"*100)"
      ],
      "execution_count": 85,
      "outputs": [
        {
          "output_type": "stream",
          "text": [
            "Final Data matrix\n",
            "(73196, 16943) (73196,)\n",
            "(36052, 16943) (36052,)\n",
            "****************************************************************************************************\n"
          ],
          "name": "stdout"
        }
      ]
    },
    {
      "cell_type": "markdown",
      "metadata": {
        "id": "yJdpTSrm4nRy"
      },
      "source": [
        "## For Set -2"
      ]
    },
    {
      "cell_type": "code",
      "metadata": {
        "id": "0CK1Jtin4nRy"
      },
      "source": [
        "X_tr_set2 = hstack((X_train_clean_categories_pos, X_train_clean_categories_neg, X_train_clean_subcategories_pos, X_train_clean_subcategories_neg, X_train_school_state_pos,X_train_school_state_neg, X_train_project_grade_category_pos,X_train_project_grade_category_neg, X_train_teacher_prefix_pos,X_train_teacher_prefix_neg, price_train, quantity_train, prev_projects_train, title_word_count_train, essay_word_count_train, train_tfidf_w2v_vectors, train_title_tfidf_w2v_vectors, X_train_neg_norm,X_train_pos_norm,X_train_neu_norm,X_train_compound_norm)).tocsr()\n",
        "X_te_set2 = hstack((X_test_clean_categories_pos, X_test_clean_categories_neg, X_test_clean_subcategories_pos, X_test_clean_subcategories_neg, X_test_school_state_pos,X_test_school_state_neg, X_test_project_grade_category_pos,X_test_project_grade_category_neg, X_test_teacher_prefix_pos,X_test_teacher_prefix_neg, price_test, quantity_test, prev_projects_test, title_word_count_test, essay_word_count_test, test_tfidf_w2v_vectors, test_title_tfidf_w2v_vectors, X_test_neg_norm,X_test_pos_norm,X_test_neu_norm,X_test_compound_norm)).tocsr()\n"
      ],
      "execution_count": 86,
      "outputs": []
    },
    {
      "cell_type": "code",
      "metadata": {
        "id": "1RaauCGx4nRy",
        "colab": {
          "base_uri": "https://localhost:8080/"
        },
        "outputId": "2cd589d7-ff8c-4df2-fb4e-bfc9b999a295"
      },
      "source": [
        "print(\"Final Data matrix\")\n",
        "print(X_tr_set2.shape, y_train.shape)\n",
        "print(X_te_set2.shape, y_test.shape)\n",
        "print(\"*\"*100)"
      ],
      "execution_count": 87,
      "outputs": [
        {
          "output_type": "stream",
          "text": [
            "Final Data matrix\n",
            "(73196, 619) (73196,)\n",
            "(36052, 619) (36052,)\n",
            "****************************************************************************************************\n"
          ],
          "name": "stdout"
        }
      ]
    },
    {
      "cell_type": "code",
      "metadata": {
        "id": "RAtihVPqsc33"
      },
      "source": [
        "# please write all the code with proper documentation, and proper titles for each subsection\n",
        "# go through documentations and blogs before you start coding \n",
        "# first figure out what to do, and then think about how to do.\n",
        "# reading and understanding error messages will be very much helpfull in debugging your code\n",
        "# make sure you featurize train and test data separatly\n",
        "\n",
        "# when you plot any graph make sure you use \n",
        "    # a. Title, that describes your plot, this will be very helpful to the reader\n",
        "    # b. Legends if needed\n",
        "    # c. X-axis label\n",
        "    # d. Y-axis label"
      ],
      "execution_count": 88,
      "outputs": []
    },
    {
      "cell_type": "markdown",
      "metadata": {
        "id": "I5wDFj17sc3-"
      },
      "source": [
        "# 1.7 Appling Models on different kind of featurization as mentioned in the instructions"
      ]
    },
    {
      "cell_type": "markdown",
      "metadata": {
        "id": "O5tWox1jsc3_"
      },
      "source": [
        "<br>Apply GBDT on different kind of featurization as mentioned in the instructions\n",
        "<br> For Every model that you work on make sure you do the step 2 and step 3 of instrucations"
      ]
    },
    {
      "cell_type": "markdown",
      "metadata": {
        "id": "PE-zpzPm4nRz"
      },
      "source": [
        "## 1.7.1 GBDT On SET-1"
      ]
    },
    {
      "cell_type": "code",
      "metadata": {
        "id": "O7uBzGKK0bTF"
      },
      "source": [
        "def batch_predict(clf, data):\n",
        "    # roc_auc_score(y_true, y_score) the 2nd parameter should be probability estimates of the positive class\n",
        "    # not the predicted outputs\n",
        "\n",
        "    y_data_pred = []\n",
        "    tr_loop = data.shape[0] - data.shape[0]%1000\n",
        "    # consider you X_tr shape is 49041, then your tr_loop will be 49041 - 49041%1000 = 49000\n",
        "    # in this for loop we will iterate unti the last 1000 multiplier\n",
        "    for i in range(0, tr_loop, 1000):\n",
        "        y_data_pred.extend(clf.predict_proba(data[i:i+1000])[:,1])\n",
        "    # we will be predicting for the last data points\n",
        "    if data.shape[0]%1000 !=0:\n",
        "        y_data_pred.extend(clf.predict_proba(data[tr_loop:])[:,1])\n",
        "    \n",
        "    return y_data_pred"
      ],
      "execution_count": 89,
      "outputs": []
    },
    {
      "cell_type": "markdown",
      "metadata": {
        "id": "9bSwGOsC4nR0"
      },
      "source": [
        "### 1.7.1.1 Applying XGBOOST With GridSearchCV"
      ]
    },
    {
      "cell_type": "code",
      "metadata": {
        "id": "IoJRP8jgwBf1"
      },
      "source": [
        "import xgboost as xgb\n",
        "from sklearn.model_selection import GridSearchCV\n",
        "\n",
        "\n",
        "\n",
        "\n"
      ],
      "execution_count": 90,
      "outputs": []
    },
    {
      "cell_type": "code",
      "metadata": {
        "colab": {
          "base_uri": "https://localhost:8080/"
        },
        "id": "mOrFaR6mxP9u",
        "outputId": "33ba382c-31f2-4279-f662-c8b28de9e470"
      },
      "source": [
        "n_estimators = [200, 500, 800]\n",
        "depth = [4, 8, 12]\n",
        "parameters = {'max_depth': depth,'n_estimators':n_estimators}\n",
        "GB = xgb.XGBClassifier(tree_method='gpu_hist',learning_rate=0.1,random_state=0,min_samples_split=2)\n",
        "clf_1 = GridSearchCV(GB, parameters, cv=3, scoring='roc_auc',return_train_score=True)\n",
        "clf_1.fit(X_tr_set1, y_train)"
      ],
      "execution_count": 91,
      "outputs": [
        {
          "output_type": "execute_result",
          "data": {
            "text/plain": [
              "GridSearchCV(cv=3, error_score=nan,\n",
              "             estimator=XGBClassifier(base_score=0.5, booster='gbtree',\n",
              "                                     colsample_bylevel=1, colsample_bynode=1,\n",
              "                                     colsample_bytree=1, gamma=0,\n",
              "                                     learning_rate=0.1, max_delta_step=0,\n",
              "                                     max_depth=3, min_child_weight=1,\n",
              "                                     min_samples_split=2, missing=None,\n",
              "                                     n_estimators=100, n_jobs=1, nthread=None,\n",
              "                                     objective='binary:logistic',\n",
              "                                     random_state=0, reg_alpha=0, reg_lambda=1,\n",
              "                                     scale_pos_weight=1, seed=None, silent=None,\n",
              "                                     subsample=1, tree_method='gpu_hist',\n",
              "                                     verbosity=1),\n",
              "             iid='deprecated', n_jobs=None,\n",
              "             param_grid={'max_depth': [4, 8, 12],\n",
              "                         'n_estimators': [200, 500, 800]},\n",
              "             pre_dispatch='2*n_jobs', refit=True, return_train_score=True,\n",
              "             scoring='roc_auc', verbose=0)"
            ]
          },
          "metadata": {
            "tags": []
          },
          "execution_count": 91
        }
      ]
    },
    {
      "cell_type": "code",
      "metadata": {
        "colab": {
          "base_uri": "https://localhost:8080/"
        },
        "id": "bqN5peOrJ6uh",
        "outputId": "bcadfc70-425c-4c48-cd9d-c62005bb813c"
      },
      "source": [
        "print(clf_1.best_estimator_)\n"
      ],
      "execution_count": 92,
      "outputs": [
        {
          "output_type": "stream",
          "text": [
            "XGBClassifier(base_score=0.5, booster='gbtree', colsample_bylevel=1,\n",
            "              colsample_bynode=1, colsample_bytree=1, gamma=0,\n",
            "              learning_rate=0.1, max_delta_step=0, max_depth=4,\n",
            "              min_child_weight=1, min_samples_split=2, missing=None,\n",
            "              n_estimators=500, n_jobs=1, nthread=None,\n",
            "              objective='binary:logistic', random_state=0, reg_alpha=0,\n",
            "              reg_lambda=1, scale_pos_weight=1, seed=None, silent=None,\n",
            "              subsample=1, tree_method='gpu_hist', verbosity=1)\n"
          ],
          "name": "stdout"
        }
      ]
    },
    {
      "cell_type": "code",
      "metadata": {
        "colab": {
          "base_uri": "https://localhost:8080/"
        },
        "id": "ANAQEGIrKuLF",
        "outputId": "4f1ee5f7-90db-44ac-8452-530d9b327a3b"
      },
      "source": [
        "train_auc_1= clf_1.cv_results_['mean_train_score']\n",
        "\n",
        "train_auc_std_1= clf_1.cv_results_['std_train_score']\n",
        "\n",
        "cv_auc_1 = clf_1.cv_results_['mean_test_score']\n",
        "\n",
        "cv_auc_std_1= clf_1.cv_results_['std_test_score']\n",
        "\n",
        "best_n_estimators_1=clf_1.best_params_['n_estimators']\n",
        "\n",
        "best_max_depth_1=clf_1.best_params_['max_depth']\n",
        "\n",
        "\n",
        "bestScore_1=clf_1.best_score_\n",
        "\n",
        "print(\"BEST n_estimators: \",clf_1.best_params_['n_estimators'],\" BEST SCORE: \",clf_1.best_score_)"
      ],
      "execution_count": 93,
      "outputs": [
        {
          "output_type": "stream",
          "text": [
            "BEST n_estimators:  500  BEST SCORE:  0.7506867182657553\n"
          ],
          "name": "stdout"
        }
      ]
    },
    {
      "cell_type": "markdown",
      "metadata": {
        "id": "-I2jq8stLD0m"
      },
      "source": [
        "### 1.7.1.2 Applying XGBOOST With Tuned Hyperparameters"
      ]
    },
    {
      "cell_type": "code",
      "metadata": {
        "colab": {
          "base_uri": "https://localhost:8080/",
          "height": 295
        },
        "id": "xSLynefjKL3N",
        "outputId": "870aed26-1ab5-4df3-e378-cdbdba6d3726"
      },
      "source": [
        "DT = xgb.XGBClassifier(base_score=0.5, booster='gbtree', colsample_bylevel=1,\n",
        "              colsample_bynode=1, colsample_bytree=1, gamma=0,\n",
        "              learning_rate=0.1, max_delta_step=0, max_depth=4,\n",
        "              min_child_weight=1, min_samples_split=2, missing=None,\n",
        "              n_estimators=500, n_jobs=1, nthread=None,\n",
        "              objective='binary:logistic', random_state=0, reg_alpha=0,\n",
        "              reg_lambda=1, scale_pos_weight=1, seed=None, silent=None,\n",
        "              subsample=1, tree_method='gpu_hist', verbosity=1)\n",
        "DT.fit(X_tr_set1, y_train)\n",
        "y_train_pred1 = clf_1.predict_proba(X_tr_set1) [:,1]\n",
        "y_test_pred1 = clf_1.predict_proba(X_te_set1) [:,1]\n",
        "train_fpr, train_tpr, tr_thresholds = roc_curve(y_train, y_train_pred1)\n",
        "test_fpr, test_tpr, te_thresholds = roc_curve(y_test, y_test_pred1)\n",
        "\n",
        "plt.plot(train_fpr, train_tpr, label=\"train AUC =\"+str(auc(train_fpr, train_tpr)))\n",
        "plt.plot(test_fpr, test_tpr, label=\"test AUC =\"+str(auc(test_fpr, test_tpr)))\n",
        "plt.legend()\n",
        "plt.xlabel(\"FALSE POSITIVE RATE\")\n",
        "plt.ylabel(\"TRUE POSITIVE RATE\")\n",
        "plt.title(\"ROC AUC CURVE\")\n",
        "plt.grid()\n",
        "plt.show()"
      ],
      "execution_count": 94,
      "outputs": [
        {
          "output_type": "display_data",
          "data": {
            "image/png": "[encoded data removed]",
            "text/plain": [
              "<Figure size 432x288 with 1 Axes>"
            ]
          },
          "metadata": {
            "tags": [],
            "needs_background": "light"
          }
        }
      ]
    },
    {
      "cell_type": "code",
      "metadata": {
        "colab": {
          "base_uri": "https://localhost:8080/",
          "height": 398
        },
        "id": "CrYi_p8PLjP4",
        "outputId": "64cb7de6-0ed4-41ff-b9fb-b048fb005a6e"
      },
      "source": [
        "import seaborn as sns; sns.set()\n",
        "\n",
        "max_scores1 = pd.DataFrame(clf_1.cv_results_).groupby(['param_n_estimators', 'param_max_depth']).max().unstack()[['mean_test_score','mean_train_score']]\n",
        "fig, ax = plt.subplots(1,2, figsize=(20,6))\n",
        "sns.heatmap(max_scores1.mean_train_score, annot = True, fmt='.4g', ax=ax[0])\n",
        "sns.heatmap(max_scores1.mean_test_score, annot = True, fmt='.4g', ax=ax[1])\n",
        "ax[0].set_title('Train Set')\n",
        "ax[1].set_title('CV Set')\n",
        "plt.show()"
      ],
      "execution_count": 95,
      "outputs": [
        {
          "output_type": "display_data",
          "data": {
            "image/png": "[encoded data removed]",
            "text/plain": [
              "<Figure size 1440x432 with 4 Axes>"
            ]
          },
          "metadata": {
            "tags": []
          }
        }
      ]
    },
    {
      "cell_type": "code",
      "metadata": {
        "id": "uhlVgol2q-13"
      },
      "source": [
        "# we are writing our own function for predict, with defined thresould\n",
        "# we will pick a threshold that will give the least fpr\n",
        "def find_best_threshold(threshould, fpr, tpr):\n",
        "    t = threshould[np.argmax(tpr*(1-fpr))]\n",
        "    # (tpr*(1-fpr)) will be maximum if your fpr is very low and tpr is very high\n",
        "    print(\"the maximum value of tpr*(1-fpr)\", max(tpr*(1-fpr)), \"for threshold\", np.round(t,3))\n",
        "    return t\n",
        "\n",
        "def predict_with_best_t(proba, threshould):\n",
        "    predictions = []\n",
        "    global predictions1\n",
        "    for i in proba:\n",
        "        if i>=threshould:\n",
        "            predictions.append(1)\n",
        "        else:\n",
        "            predictions.append(0)\n",
        "    predictions1=predictions\n",
        "    return predictions"
      ],
      "execution_count": 96,
      "outputs": []
    },
    {
      "cell_type": "code",
      "metadata": {
        "colab": {
          "base_uri": "https://localhost:8080/"
        },
        "id": "fdRDoyZeq-5M",
        "outputId": "0e3bc6ce-a41c-473f-e42b-af9187099287"
      },
      "source": [
        "print(\"*\"*100)\n",
        "from sklearn.metrics import confusion_matrix\n",
        "best_t = find_best_threshold(tr_thresholds, train_fpr, train_tpr)\n",
        "print(\"Train confusion matrix\")\n",
        "print(confusion_matrix(y_train, predict_with_best_t(y_train_pred1, best_t)))\n",
        "print(\"Test confusion matrix\")\n",
        "print(confusion_matrix(y_test, predict_with_best_t(y_test_pred1, best_t)))"
      ],
      "execution_count": 97,
      "outputs": [
        {
          "output_type": "stream",
          "text": [
            "****************************************************************************************************\n",
            "the maximum value of tpr*(1-fpr) 0.6670550280305062 for threshold 0.826\n",
            "Train confusion matrix\n",
            "[[ 9200  1883]\n",
            " [12200 49913]]\n",
            "Test confusion matrix\n",
            "[[ 3458  2001]\n",
            " [ 7754 22839]]\n"
          ],
          "name": "stdout"
        }
      ]
    },
    {
      "cell_type": "code",
      "metadata": {
        "colab": {
          "base_uri": "https://localhost:8080/",
          "height": 374
        },
        "id": "YS4wNaIXq-7s",
        "outputId": "5864a644-46d8-4e22-afc6-da45ca822459"
      },
      "source": [
        "print(\"*\"*100)\n",
        "from sklearn.metrics import confusion_matrix\n",
        "import seaborn as sns; sns.set()\n",
        "con_m_train=confusion_matrix(y_train, predict_with_best_t(y_train_pred1, best_t))\n",
        "con_m_test=confusion_matrix(y_test, predict_with_best_t(y_test_pred1, best_t))\n",
        "key = (np.asarray([['TN','FP'], ['FN', 'TP']]))\n",
        "fig, ax = plt.subplots(1,2, figsize=(15,5))\n",
        "best_t = find_best_threshold(tr_thresholds, train_fpr, train_tpr)\n",
        "labels_train = (np.asarray([\"{0} = {1:.2f}\" .format(key, value) for key, value in zip(key.flatten(), con_m_train.flatten())])).reshape(2,2)\n",
        "labels_test = (np.asarray([\"{0} = {1:.2f}\" .format(key, value) for key, value in zip(key.flatten(),con_m_test.flatten())])).reshape(2,2)\n",
        "sns.heatmap(con_m_train, linewidths=.5, xticklabels=['PREDICTED : NO', 'PREDICTED : YES'],yticklabels=['ACTUAL : NO', 'ACTUAL : YES'], annot = labels_train, fmt = '', ax=ax[0])\n",
        "sns.heatmap(con_m_test, linewidths=.5, xticklabels=['PREDICTED : NO', 'PREDICTED : YES'],yticklabels=['ACTUAL : NO', 'ACTUAL : YES'], annot = labels_test, fmt = '', ax=ax[1])\n",
        "ax[0].set_title('Train Set')\n",
        "ax[1].set_title('Test Set')\n",
        "plt.show()"
      ],
      "execution_count": 98,
      "outputs": [
        {
          "output_type": "stream",
          "text": [
            "****************************************************************************************************\n",
            "the maximum value of tpr*(1-fpr) 0.6670550280305062 for threshold 0.826\n"
          ],
          "name": "stdout"
        },
        {
          "output_type": "display_data",
          "data": {
            "image/png": "[encoded data removed]",
            "text/plain": [
              "<Figure size 1080x360 with 4 Axes>"
            ]
          },
          "metadata": {
            "tags": []
          }
        }
      ]
    },
    {
      "cell_type": "markdown",
      "metadata": {
        "id": "2kbCuMSRqYMX"
      },
      "source": [
        "## 1.7.2 GBDT On SET-2"
      ]
    },
    {
      "cell_type": "markdown",
      "metadata": {
        "id": "ATsklFYvrsbZ"
      },
      "source": [
        "### 1.7.2.1 Applying XGBOOST With GridSearchCV"
      ]
    },
    {
      "cell_type": "code",
      "metadata": {
        "colab": {
          "base_uri": "https://localhost:8080/"
        },
        "id": "w3ZWhGjgqWxF",
        "outputId": "b0f3a03b-3306-40b9-a80d-6d6754c679ff"
      },
      "source": [
        "n_estimators = [200, 300,500]\n",
        "depth = [2,3,4]\n",
        "parameters = {'max_depth': depth,'n_estimators':n_estimators}\n",
        "GB_2 = xgb.XGBClassifier(tree_method='gpu_hist',learning_rate=0.1,random_state=0,min_samples_split=2)\n",
        "clf_2 = GridSearchCV(GB_2, parameters, cv=3, scoring='roc_auc',return_train_score=True)\n",
        "clf_2.fit(X_tr_set2, y_train)"
      ],
      "execution_count": 99,
      "outputs": [
        {
          "output_type": "execute_result",
          "data": {
            "text/plain": [
              "GridSearchCV(cv=3, error_score=nan,\n",
              "             estimator=XGBClassifier(base_score=0.5, booster='gbtree',\n",
              "                                     colsample_bylevel=1, colsample_bynode=1,\n",
              "                                     colsample_bytree=1, gamma=0,\n",
              "                                     learning_rate=0.1, max_delta_step=0,\n",
              "                                     max_depth=3, min_child_weight=1,\n",
              "                                     min_samples_split=2, missing=None,\n",
              "                                     n_estimators=100, n_jobs=1, nthread=None,\n",
              "                                     objective='binary:logistic',\n",
              "                                     random_state=0, reg_alpha=0, reg_lambda=1,\n",
              "                                     scale_pos_weight=1, seed=None, silent=None,\n",
              "                                     subsample=1, tree_method='gpu_hist',\n",
              "                                     verbosity=1),\n",
              "             iid='deprecated', n_jobs=None,\n",
              "             param_grid={'max_depth': [2, 3, 4],\n",
              "                         'n_estimators': [200, 300, 500]},\n",
              "             pre_dispatch='2*n_jobs', refit=True, return_train_score=True,\n",
              "             scoring='roc_auc', verbose=0)"
            ]
          },
          "metadata": {
            "tags": []
          },
          "execution_count": 99
        }
      ]
    },
    {
      "cell_type": "code",
      "metadata": {
        "colab": {
          "base_uri": "https://localhost:8080/"
        },
        "id": "fsi7AIYq2tZf",
        "outputId": "f1022132-7edd-4a1e-a5d6-3b0d631f1cbb"
      },
      "source": [
        "print(clf_2.best_estimator_)\n"
      ],
      "execution_count": 105,
      "outputs": [
        {
          "output_type": "stream",
          "text": [
            "XGBClassifier(base_score=0.5, booster='gbtree', colsample_bylevel=1,\n",
            "              colsample_bynode=1, colsample_bytree=1, gamma=0,\n",
            "              learning_rate=0.1, max_delta_step=0, max_depth=2,\n",
            "              min_child_weight=1, min_samples_split=2, missing=None,\n",
            "              n_estimators=500, n_jobs=1, nthread=None,\n",
            "              objective='binary:logistic', random_state=0, reg_alpha=0,\n",
            "              reg_lambda=1, scale_pos_weight=1, seed=None, silent=None,\n",
            "              subsample=1, tree_method='gpu_hist', verbosity=1)\n"
          ],
          "name": "stdout"
        }
      ]
    },
    {
      "cell_type": "markdown",
      "metadata": {
        "id": "JJiWFaQa3HVm"
      },
      "source": [
        "### 1.7.2.2 Applying XGBOOST With Tuned Hyperparameters"
      ]
    },
    {
      "cell_type": "code",
      "metadata": {
        "id": "Wwa3xebN22B-",
        "colab": {
          "base_uri": "https://localhost:8080/",
          "height": 301
        },
        "outputId": "ba63e599-af29-4b91-c63e-c3e89abb7e01"
      },
      "source": [
        "DT_2 = xgb.XGBClassifier(base_score=0.5, booster='gbtree', colsample_bylevel=1,\n",
        "              colsample_bynode=1, colsample_bytree=1, gamma=0,\n",
        "              learning_rate=0.1, max_delta_step=0, max_depth=2,\n",
        "              min_child_weight=1, min_samples_split=2, missing=None,\n",
        "              n_estimators=500, n_jobs=1, nthread=None,\n",
        "              objective='binary:logistic', random_state=0, reg_alpha=0,\n",
        "              reg_lambda=1, scale_pos_weight=1, seed=None, silent=None,\n",
        "              subsample=1, tree_method='gpu_hist', verbosity=1)\n",
        "\n",
        "DT_2.fit(X_tr_set2, y_train)\n",
        "y_train_pred2 = clf_2.predict_proba(X_tr_set2) [:,1]\n",
        "y_test_pred2 = clf_2.predict_proba(X_te_set2) [:,1]\n",
        "train_fpr2, train_tpr2, tr_thresholds2 = roc_curve(y_train, y_train_pred2)\n",
        "test_fpr2, test_tpr2, te_thresholds2 = roc_curve(y_test, y_test_pred2)\n",
        "\n",
        "plt.plot(train_fpr2, train_tpr2, label=\"train AUC =\"+str(auc(train_fpr2, train_tpr2)))\n",
        "plt.plot(test_fpr2, test_tpr2, label=\"test AUC =\"+str(auc(test_fpr2, test_tpr2)))\n",
        "plt.legend()\n",
        "plt.xlabel(\"FALSE POSITIVE RATE\")\n",
        "plt.ylabel(\"TRUE POSITIVE RATE\")\n",
        "plt.title(\"ROC AUC CURVE\")\n",
        "plt.grid()\n",
        "plt.show()"
      ],
      "execution_count": 106,
      "outputs": [
        {
          "output_type": "display_data",
          "data": {
            "image/png": "[encoded data removed]",
            "text/plain": [
              "<Figure size 432x288 with 1 Axes>"
            ]
          },
          "metadata": {
            "tags": []
          }
        }
      ]
    },
    {
      "cell_type": "code",
      "metadata": {
        "id": "_Qmbb8EP3XMa",
        "colab": {
          "base_uri": "https://localhost:8080/",
          "height": 398
        },
        "outputId": "313f40c0-624b-443c-b7c8-5d08445bbbd4"
      },
      "source": [
        "import seaborn as sns; sns.set()\n",
        "\n",
        "max_scores1 = pd.DataFrame(clf_2.cv_results_).groupby(['param_n_estimators', 'param_max_depth']).max().unstack()[['mean_test_score','mean_train_score']]\n",
        "fig, ax = plt.subplots(1,2, figsize=(20,6))\n",
        "sns.heatmap(max_scores1.mean_train_score, annot = True, fmt='.4g', ax=ax[0])\n",
        "sns.heatmap(max_scores1.mean_test_score, annot = True, fmt='.4g', ax=ax[1])\n",
        "ax[0].set_title('Train Set')\n",
        "ax[1].set_title('CV Set')\n",
        "plt.show()"
      ],
      "execution_count": 107,
      "outputs": [
        {
          "output_type": "display_data",
          "data": {
            "image/png": "[encoded data removed]",
            "text/plain": [
              "<Figure size 1440x432 with 4 Axes>"
            ]
          },
          "metadata": {
            "tags": []
          }
        }
      ]
    },
    {
      "cell_type": "code",
      "metadata": {
        "id": "tpHzgmmi4CBP",
        "colab": {
          "base_uri": "https://localhost:8080/"
        },
        "outputId": "2b516752-8e3a-41ee-fe44-dd2fdfa35bcb"
      },
      "source": [
        "print(\"*\"*100)\n",
        "from sklearn.metrics import confusion_matrix\n",
        "best_t2 = find_best_threshold(tr_thresholds2, train_fpr2, train_tpr2)\n",
        "print(\"Train confusion matrix\")\n",
        "print(confusion_matrix(y_train, predict_with_best_t(y_train_pred2, best_t2)))\n",
        "print(\"Test confusion matrix\")\n",
        "print(confusion_matrix(y_test, predict_with_best_t(y_test_pred2, best_t2)))"
      ],
      "execution_count": 108,
      "outputs": [
        {
          "output_type": "stream",
          "text": [
            "****************************************************************************************************\n",
            "the maximum value of tpr*(1-fpr) 0.517273089046597 for threshold 0.833\n",
            "Train confusion matrix\n",
            "[[ 7851  3232]\n",
            " [16757 45356]]\n",
            "Test confusion matrix\n",
            "[[ 3590  1869]\n",
            " [ 9640 20953]]\n"
          ],
          "name": "stdout"
        }
      ]
    },
    {
      "cell_type": "code",
      "metadata": {
        "id": "dnngnql84wtm",
        "colab": {
          "base_uri": "https://localhost:8080/",
          "height": 356
        },
        "outputId": "4c96384e-f47c-44a0-ebe3-3a9ae6fe1dd0"
      },
      "source": [
        "con_m_train=confusion_matrix(y_train, predict_with_best_t(y_train_pred2, best_t2))\n",
        "con_m_test=confusion_matrix(y_test, predict_with_best_t(y_test_pred2, best_t2))\n",
        "key = (np.asarray([['TN','FP'], ['FN', 'TP']]))\n",
        "fig, ax = plt.subplots(1,2, figsize=(15,5))\n",
        "best_t2 = find_best_threshold(tr_thresholds2, train_fpr2, train_tpr2)\n",
        "labels_train = (np.asarray([\"{0} = {1:.2f}\" .format(key, value) for key, value in zip(key.flatten(), con_m_train.flatten())])).reshape(2,2)\n",
        "labels_test = (np.asarray([\"{0} = {1:.2f}\" .format(key, value) for key, value in zip(key.flatten(),con_m_test.flatten())])).reshape(2,2)\n",
        "sns.heatmap(con_m_train, linewidths=.5, xticklabels=['PREDICTED : NO', 'PREDICTED : YES'],yticklabels=['ACTUAL : NO', 'ACTUAL : YES'], annot = labels_train, fmt = '', ax=ax[0])\n",
        "sns.heatmap(con_m_test, linewidths=.5, xticklabels=['PREDICTED : NO', 'PREDICTED : YES'],yticklabels=['ACTUAL : NO', 'ACTUAL : YES'], annot = labels_test, fmt = '', ax=ax[1])\n",
        "ax[0].set_title('Train Set')\n",
        "ax[1].set_title('Test Set')\n",
        "plt.show()"
      ],
      "execution_count": 109,
      "outputs": [
        {
          "output_type": "stream",
          "text": [
            "the maximum value of tpr*(1-fpr) 0.517273089046597 for threshold 0.833\n"
          ],
          "name": "stdout"
        },
        {
          "output_type": "display_data",
          "data": {
            "image/png": "[encoded data removed]",
            "text/plain": [
              "<Figure size 1080x360 with 4 Axes>"
            ]
          },
          "metadata": {
            "tags": []
          }
        }
      ]
    },
    {
      "cell_type": "markdown",
      "metadata": {
        "id": "YhFN-lDWsc4G"
      },
      "source": [
        "<h1>3. Summary</h1>\n",
        "\n",
        "<br> as mentioned in the step 4 of instructions"
      ]
    },
    {
      "cell_type": "code",
      "metadata": {
        "colab": {
          "base_uri": "https://localhost:8080/"
        },
        "id": "_B2TT9fgjQMD",
        "outputId": "f605d313-41fe-4b7b-bd33-0eee1233e7d7"
      },
      "source": [
        "from prettytable import PrettyTable\n",
        "tb = PrettyTable()\n",
        "tb.field_names= (\" Vectorizer \", \" Max_depth \", \" N_ESTIMATORS \",\" Test -AUC \" , \"Train - AUc\")\n",
        "tb.add_row([\" Tf - Idf\", 4 , 500,74,89 ])\n",
        "tb.add_row([\"W2vec - Tf - Idf\", 2 , 500 ,73,78])\n",
        "print(tb.get_string(titles = \"Decision trees- Observations\"))"
      ],
      "execution_count": 111,
      "outputs": [
        {
          "output_type": "stream",
          "text": [
            "+------------------+-------------+----------------+-------------+-------------+\n",
            "|    Vectorizer    |  Max_depth  |  N_ESTIMATORS  |  Test -AUC  | Train - AUc |\n",
            "+------------------+-------------+----------------+-------------+-------------+\n",
            "|     Tf - Idf     |      4      |      500       |      74     |      89     |\n",
            "| W2vec - Tf - Idf |      2      |      500       |      73     |      78     |\n",
            "+------------------+-------------+----------------+-------------+-------------+\n"
          ],
          "name": "stdout"
        }
      ]
    }
  ]
}