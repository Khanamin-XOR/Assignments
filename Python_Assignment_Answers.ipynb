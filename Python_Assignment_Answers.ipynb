{
 "cells": [
  {
   "cell_type": "markdown",
   "metadata": {},
   "source": [
    "<h3> Q1: Given two matrices please print the product of those two matrices </h3>\n"
   ]
  },
  {
   "cell_type": "code",
   "execution_count": 1,
   "metadata": {},
   "outputs": [],
   "source": [
    "                                                      \n",
    "def Matrix_mul(A,B):                          #This funtion is for multiplication of only two matrix and return the Reslutant Matrix\n",
    "    rows_A = len(A)                           #No of rows in Matrix A\n",
    "    columns_A = len(A[0])                     #No of columns in Matrix B\n",
    "    rows_B = len(B)                           #No of rows in Matrix A\n",
    "    columns_B = len(B[0])                     #No of columns in Matrix B\n",
    "\n",
    "    if columns_A == rows_B:                  #This condition check if the given Matrix can be multiplied or not using matrix properties\n",
    "        result = []                          #creating an empty list \n",
    "        for i in range(rows_A):              #This for loop is for assiging the size of resultant matrix and assing the values to zero for sakeof ease\n",
    "            result.append([])\n",
    "            for j in range(columns_B):\n",
    "                result[i].append(0)\n",
    "                \n",
    "        #This nested for loop will do the multiplication and assignment in the reslult list\n",
    "        \n",
    "        for i in range(len(result)):           #iterating rows of result      \n",
    "            for j in range(len(result[0])):     #iterating columns of result\n",
    "                for k in range(len(B)):           #iterating rows of Matrix B (The common value, column of A = Row of B)\n",
    "                    result[i][j] += A[i][k]*B[k][j]  #C[i][j] = a[i][1]*b[1][j]+a[i][2]*b[2][j]+........+a[i][k]*b[k][j]\n",
    "        for row in result:                         #This for loop is for printing the result in the form of Matrix\n",
    "            print(row)\n",
    "        \n",
    "    else:\n",
    "        print(\"The Matrix Cannot be multiplied !\")  #if the Column of A is not equal to Rows of B then the matrix cann't be multiplied\n",
    "    \n",
    "    "
   ]
  },
  {
   "cell_type": "code",
   "execution_count": 2,
   "metadata": {},
   "outputs": [
    {
     "name": "stdout",
     "output_type": "stream",
     "text": [
      "[1, 3, 4]\n",
      "[2, 5, 7]\n",
      "[5, 9, 6]\n"
     ]
    }
   ],
   "source": [
    "A  = [[1, 3, 4],[2, 5, 7],[5, 9, 6]]\n",
    "B  = [[1 ,0 ,0],[0 ,1 ,0],[0 ,0 ,1]]\n",
    "Matrix_mul(A,B)"
   ]
  },
  {
   "cell_type": "markdown",
   "metadata": {},
   "source": [
    "<h3> Q2: Select a number randomly with probability proportional to its magnitude from the given array of n elements</h3>\n",
    "\n",
    "consider an experiment, selecting an element from the list A randomly with probability proportional to its magnitude.\n",
    "assume we are doing the same experiment for 100 times with replacement, in each experiment you will print a number that is selected randomly from A.\n"
   ]
  },
  {
   "cell_type": "code",
   "execution_count": 3,
   "metadata": {},
   "outputs": [],
   "source": [
    "import random\n",
    "from random import uniform\n"
   ]
  },
  {
   "cell_type": "code",
   "execution_count": 4,
   "metadata": {},
   "outputs": [],
   "source": [
    "\n",
    "def pick_number(A):\n",
    "    total_sum = sum(A)                                 #Sum of all elements\n",
    "    cum_sum = []\n",
    "    x = []                                             #for all di's/sum\n",
    "    s = 0\n",
    "    for i in range(len(A)):\n",
    "        x.append(A[i]/total_sum)\n",
    "    for i in range(len(x)):\n",
    "        s = s+x[i]\n",
    "        cum_sum.append(s)                                 #commulative normalized sum\n",
    "    r = random.uniform(0.0,1.0)\n",
    "    number = min(A)\n",
    "    for location in range(len(cum_sum)):\n",
    "        if (r>=cum_sum[location] and r<cum_sum[location+1]): #proprtioal  sampling \n",
    "            return A[location+1]                              \n",
    "    return number\n",
    "\n",
    "\n",
    "def sampling_based_on_magnitued():                                   #this function is for an event wich occurs 100 times where each time we selecta number with probaility proportional to its manigtude\n",
    "    A = [2.0,6.0,1.2,5.8,20.0]\n",
    "    Result = dict()                                                       #creating a dictonary in which we will see that {what number is seleted: number of times selected} \n",
    "    A.sort()\n",
    "    print(\"Sorted set of numbers\",A)\n",
    "    for i in range(1,100):                                           #this loop will simulate the event occuring 100 time. \n",
    "        number = pick_number(A)                        #each time the event occur we select the number with probability proprotional to its mangitude\n",
    "        print(\"The number selected in event:\",number)\n",
    "        if number not in Result:                                          #This codition checks if number is not in dictonary a, then dict[\"key\"] = \"value\"\n",
    "            Result[number] =1                                             #if the number is not in dictonary, then the key is number and its value is 1,\n",
    "        else:\n",
    "            Result[number]+=1                                             #otherwise if there is already  number, then the value is incremented\n",
    "                                                                     #this basically assigns keys as number and its values as 1 in firts event, and then,\n",
    "                                                                     #increaments the value, whcih gives us the count of number of times the number selected.\n",
    "    print(Result)                                                         #Final dictonary as dict[number] =\"Values\", where \"number\" are the \"keys\"\n",
    "    "
   ]
  },
  {
   "cell_type": "code",
   "execution_count": 5,
   "metadata": {},
   "outputs": [
    {
     "name": "stdout",
     "output_type": "stream",
     "text": [
      "Sorted set of numbers [1.2, 2.0, 5.8, 6.0, 20.0]\n",
      "The number selected in event: 20.0\n",
      "The number selected in event: 20.0\n",
      "The number selected in event: 20.0\n",
      "The number selected in event: 20.0\n",
      "The number selected in event: 6.0\n",
      "The number selected in event: 20.0\n",
      "The number selected in event: 20.0\n",
      "The number selected in event: 2.0\n",
      "The number selected in event: 6.0\n",
      "The number selected in event: 20.0\n",
      "The number selected in event: 20.0\n",
      "The number selected in event: 5.8\n",
      "The number selected in event: 6.0\n",
      "The number selected in event: 2.0\n",
      "The number selected in event: 20.0\n",
      "The number selected in event: 6.0\n",
      "The number selected in event: 20.0\n",
      "The number selected in event: 20.0\n",
      "The number selected in event: 20.0\n",
      "The number selected in event: 20.0\n",
      "The number selected in event: 2.0\n",
      "The number selected in event: 6.0\n",
      "The number selected in event: 6.0\n",
      "The number selected in event: 20.0\n",
      "The number selected in event: 20.0\n",
      "The number selected in event: 6.0\n",
      "The number selected in event: 6.0\n",
      "The number selected in event: 20.0\n",
      "The number selected in event: 20.0\n",
      "The number selected in event: 2.0\n",
      "The number selected in event: 5.8\n",
      "The number selected in event: 20.0\n",
      "The number selected in event: 6.0\n",
      "The number selected in event: 5.8\n",
      "The number selected in event: 2.0\n",
      "The number selected in event: 20.0\n",
      "The number selected in event: 20.0\n",
      "The number selected in event: 20.0\n",
      "The number selected in event: 6.0\n",
      "The number selected in event: 20.0\n",
      "The number selected in event: 20.0\n",
      "The number selected in event: 20.0\n",
      "The number selected in event: 6.0\n",
      "The number selected in event: 20.0\n",
      "The number selected in event: 20.0\n",
      "The number selected in event: 2.0\n",
      "The number selected in event: 5.8\n",
      "The number selected in event: 20.0\n",
      "The number selected in event: 20.0\n",
      "The number selected in event: 6.0\n",
      "The number selected in event: 2.0\n",
      "The number selected in event: 5.8\n",
      "The number selected in event: 20.0\n",
      "The number selected in event: 5.8\n",
      "The number selected in event: 5.8\n",
      "The number selected in event: 2.0\n",
      "The number selected in event: 5.8\n",
      "The number selected in event: 20.0\n",
      "The number selected in event: 6.0\n",
      "The number selected in event: 2.0\n",
      "The number selected in event: 2.0\n",
      "The number selected in event: 20.0\n",
      "The number selected in event: 20.0\n",
      "The number selected in event: 5.8\n",
      "The number selected in event: 1.2\n",
      "The number selected in event: 5.8\n",
      "The number selected in event: 5.8\n",
      "The number selected in event: 20.0\n",
      "The number selected in event: 20.0\n",
      "The number selected in event: 6.0\n",
      "The number selected in event: 5.8\n",
      "The number selected in event: 6.0\n",
      "The number selected in event: 5.8\n",
      "The number selected in event: 6.0\n",
      "The number selected in event: 20.0\n",
      "The number selected in event: 6.0\n",
      "The number selected in event: 6.0\n",
      "The number selected in event: 20.0\n",
      "The number selected in event: 20.0\n",
      "The number selected in event: 20.0\n",
      "The number selected in event: 6.0\n",
      "The number selected in event: 5.8\n",
      "The number selected in event: 20.0\n",
      "The number selected in event: 20.0\n",
      "The number selected in event: 2.0\n",
      "The number selected in event: 20.0\n",
      "The number selected in event: 20.0\n",
      "The number selected in event: 20.0\n",
      "The number selected in event: 20.0\n",
      "The number selected in event: 6.0\n",
      "The number selected in event: 20.0\n",
      "The number selected in event: 20.0\n",
      "The number selected in event: 1.2\n",
      "The number selected in event: 20.0\n",
      "The number selected in event: 20.0\n",
      "The number selected in event: 20.0\n",
      "The number selected in event: 20.0\n",
      "The number selected in event: 6.0\n",
      "The number selected in event: 20.0\n",
      "{20.0: 51, 6.0: 21, 2.0: 11, 5.8: 14, 1.2: 2}\n"
     ]
    }
   ],
   "source": [
    "sampling_based_on_magnitued()"
   ]
  },
  {
   "cell_type": "markdown",
   "metadata": {},
   "source": [
    "`<h3> Q3: Replace the digits in the string with #</h3>\n",
    "\n",
    "consider a string that will have digits in that, we need to remove all the not digits and replace the digits with #\n"
   ]
  },
  {
   "cell_type": "code",
   "execution_count": 6,
   "metadata": {},
   "outputs": [],
   "source": [
    "import re\n",
    "def replace_string(String):\n",
    "    new =re.sub('\\D','',String) #removing all non digits\n",
    "    res = re.sub('\\d', '#', new) #replacing all the digits with '#' \n",
    "\n",
    "    return res"
   ]
  },
  {
   "cell_type": "code",
   "execution_count": 7,
   "metadata": {},
   "outputs": [
    {
     "name": "stdout",
     "output_type": "stream",
     "text": [
      "#2a$#b%c%561#\n"
     ]
    },
    {
     "data": {
      "text/plain": [
       "'####'"
      ]
     },
     "execution_count": 7,
     "metadata": {},
     "output_type": "execute_result"
    }
   ],
   "source": [
    "x = input()\n",
    "replace_string(x)"
   ]
  },
  {
   "cell_type": "markdown",
   "metadata": {},
   "source": [
    "<h3> Q4: Students marks dashboard</h3>\n",
    "\n",
    "consider the marks list of class students given two lists <br>\n",
    "Students = ['student1','student2','student3','student4','student5','student6','student7','student8','student9','student10'] <br>\n",
    "Marks = [45, 78, 12, 14, 48, 43, 45, 98, 35, 80] <br>\n",
    "from the above two lists the Student[0] got Marks[0],  Student[1] got Marks[1] and so on <br><br>\n",
    "your task is to print the name of students\n",
    "<strong>a. Who got top 5 ranks, in the descending order of marks</strong> <br>\n",
    "<strong>b. Who got least 5 ranks, in the increasing order of marks</strong><br>\n",
    "<strong>d. Who got marks between  &gt;25th percentile &lt;75th percentile, in the increasing order of marks</strong>\n"
   ]
  },
  {
   "cell_type": "code",
   "execution_count": 49,
   "metadata": {},
   "outputs": [],
   "source": [
    "def display_dash_board(students,marks):\n",
    "    \n",
    "    student_marks = dict(zip(students,marks))     #combining two lists students and marks into a dict\n",
    "    \n",
    "    print(sorted(student_marks.items(), key=lambda x: x[1], reverse=True)[:5])   #sorting in non_increasing order and print top 5\n",
    "    \n",
    "    print(sorted(student_marks.items(),key = lambda x:x[1], reverse=False)[:5])   #sorting in non_dec order and print from top 5\n",
    "    \n",
    "    max_marks = max(student_marks.values())  #getting the max marks from the dict\n",
    "    #print(max_marks)\n",
    "    min_marks = min(student_marks.values())  #getting the min value form the dict\n",
    "    #print(min_marks)\n",
    "    diff = max_marks-min_marks          #Calculating the diff between the max and min\n",
    "    pre_25 = diff*0.25                  #calculcating 25 percentile\n",
    "    pre_75 = diff*0.75                  #calculating 75 percentile\n",
    "    print(\"25th percentile: \", pre_25)\n",
    "    print(\"75th percentile: \", pre_75)\n",
    "    for name, marks in sorted(student_marks.items(), key=lambda x: x[1]): #looping through the dict\n",
    "        if (marks > pre_25 and marks < pre_75):  #conditioning for the values which are lie between 25 and 75 percentile\n",
    "            print(\"%s: %d\" % (name, marks))      #printing the key value pairs\n"
   ]
  },
  {
   "cell_type": "code",
   "execution_count": 50,
   "metadata": {},
   "outputs": [
    {
     "name": "stdout",
     "output_type": "stream",
     "text": [
      "[('student8', 98), ('student10', 80), ('student2', 78), ('student5', 48), ('student7', 47)]\n",
      "[('student3', 12), ('student4', 14), ('student9', 35), ('student6', 43), ('student1', 45)]\n",
      "25th percentile:  21.5\n",
      "75th percentile:  64.5\n",
      "student9: 35\n",
      "student6: 43\n",
      "student1: 45\n",
      "student7: 47\n",
      "student5: 48\n"
     ]
    }
   ],
   "source": [
    "students = ['student1','student2','student3','student4','student5','student6','student7','student8','student9','student10']\n",
    "marks = [45,78,12,14,48,43,47,98,35,80]\n",
    "display_dash_board(students,marks)"
   ]
  },
  {
   "cell_type": "markdown",
   "metadata": {},
   "source": [
    "<h3> Q5: Find the closest points</h3>\n",
    "\n",
    "consider you have given n data points in the form of list of tuples like S=[(x1,y1),(x2,y2),(x3,y3),(x4,y4),(x5,y5),..,(xn,yn)] and a point P=(p,q) <br> your task is to find 5 closest points(based on cosine distance) in S from P\n",
    "<br>cosine distance between two points (x,y) and (p,q) is defind as $cos^{-1}(\\frac{(x\\cdot p+y\\cdot q)}{\\sqrt(x^2+y^2)\\cdot\\sqrt(p^2+q^2)})$\n",
    "<pre>\n"
   ]
  },
  {
   "cell_type": "code",
   "execution_count": 10,
   "metadata": {},
   "outputs": [],
   "source": [
    "import math\n",
    "\n",
    "def closest_point_to_p(S,p):\n",
    "    cosin_dist = []\n",
    "    for x,y in S:                        #Calculating the cosine distance for all x and y with loop\n",
    "        numerator = x*p[0]+y*p[1]        #evaluating numerator\n",
    "        denominator = math.sqrt(x*x+y*y)*math.sqrt(p[0]*p[0]+p[1]*p[1])  #evaluating enominator\n",
    "        cosin_dist.append(math.acos(numerator/denominator))  #finding the cos inverse of numerator/denominator\n",
    "    A = cosin_dist\n",
    "    B = [S for S in sorted(zip(S,A), key=lambda i:i[1])]\n",
    "    K = B[:5]                           #Taking only closest 5 proints after sorting the calculate distace\n",
    "    for i ,j in K:\n",
    "        print(i)\n",
    "\n",
    "    "
   ]
  },
  {
   "cell_type": "code",
   "execution_count": 11,
   "metadata": {},
   "outputs": [
    {
     "name": "stdout",
     "output_type": "stream",
     "text": [
      "(6, -7)\n",
      "(1, -1)\n",
      "(6, 0)\n",
      "(-5, -8)\n",
      "(-1, -1)\n"
     ]
    }
   ],
   "source": [
    "S= [(1,2),(3,4),(-1,1),(6,-7),(0, 6),(-5,-8),(-1,-1),(6,0),(1,-1)]\n",
    "P= (3,-4)\n",
    "closest_point_to_p(S,P)"
   ]
  },
  {
   "cell_type": "code",
   "execution_count": 12,
   "metadata": {},
   "outputs": [
    {
     "name": "stdout",
     "output_type": "stream",
     "text": [
      "[[2.0, 3.0, 6.0, 6.0, 3.0], [0.0, 1.0, 2.0, -2.0, -5.0], [4.0, 5.0, 7.0, 5.0, 2.0], [1.0, 1.0, 2.0, 4.0, 4.0]]\n",
      "[[-3.0, -3.0, -5.0, -4.0, -2.0], [-1.0, 1.0, -1.0, -2.0, 4.0], [1.0, 2.0, 0.0, 0.0, 4.0], [-1.0, -2.0, -2.0, -1.0, -3.0]]\n",
      "[[-6.0, -9.0, -30.0, -24.0, -6.0], [-2.0, -20.0], [], [-1.0, -2.0, -4.0, -4.0, -12.0]]\n",
      "yes\n",
      "No\n",
      "No\n",
      "yes\n"
     ]
    }
   ],
   "source": [
    "list_1 = []\n",
    "list_2 = []\n",
    "def i_am_the_one():\n",
    "    for k in Lines:                          #Fetching the coefficients\n",
    "        a=k[0];b=k[2]+k[3];c=k[5]+k[6]\n",
    "        n = [];m=[]\n",
    "        for i in Red:                       #solving for Red points  (Ax+By+C=0)\n",
    "            x1=i[0];y1=i[1]\n",
    "            eq1 = float(a) * float(x1) + float(b) * float(y1)-float(c)\n",
    "            n.append(eq1)\n",
    "        list_1.append(n)\n",
    "        for j in Blue:                     #Solving for bule points\n",
    "            x2=j[0];y2=j[1]\n",
    "            eq2 = float(a) * float(x2) + float(b) * float(y2)-float(c)\n",
    "            m.append(eq2)\n",
    "        list_2.append(m)\n",
    "    print(list_1)\n",
    "    print(list_2)\n",
    "    \n",
    "    p=[]\n",
    "    for i,j in zip(list_1,list_2):         #the value we get in e1 and e2 after solving for Red and bule,\n",
    "        q = []                     #if all the values obtained in red and bule are of different signs then they lie in diffrent sides\n",
    "        for k,l in zip(i,j):       #Hence,we can conculde the the given line seprates the given points completely  \n",
    "            x=k*l\n",
    "            if x<0:\n",
    "                q.append(x)       #Argument: if we solve for all Red and All Bule with Line 1x+1y+0 and we get all the red as +ve and all blue as -ve,\n",
    "        p.append(q)                            #thus we can say that both lie in diffrent halfspace (2d only seprates into two halfspace)\n",
    "    print(p)\n",
    "    \n",
    "    np = len(Red)\n",
    "    for i in p:      #For complete seprateness\n",
    "        if len(i)==np:\n",
    "            print('yes')\n",
    "        else:\n",
    "            print('No')\n",
    "\n",
    "Red= [(1,1),(2,1),(4,2),(2,4),(-1,4)]\n",
    "Blue= [(-2,-1),(-1,-2),(-3,-2),(-3,-1),(1,-3)]\n",
    "Lines=[\"1x+1y+0\",\"1x-1y+0\",\"1x+0y-3\",\"0x+1y-0.5\"]\n",
    "i_am_the_one()\n"
   ]
  },
  {
   "cell_type": "markdown",
   "metadata": {},
   "source": [
    "<h3> Q7: Filling the missing values in the specified formate</h3>\n",
    "You will be given a string with digits and '\\_'(missing value) symbols you have to replace the '\\_' symbols as explained \n",
    "<pre>\n",
    "Ex 1: _, _, _, 24 ==> 24/4, 24/4, 24/4, 24/4 i.e we. have distributed the 24 equally to all 4 places <br>\n",
    "Ex 2: 40, _, _, _, 60 ==> (60+40)/5,(60+40)/5,(60+40)/5,(60+40)/5,(60+40)/5 ==> 20, 20, 20, 20, 20 i.e. the sum of (60+40) is distributed qually to all 5 places<br>\n",
    "Ex 3: 80, _, _, _, _  ==> 80/5,80/5,80/5,80/5,80/5 ==> 16, 16, 16, 16, 16 i.e. the 80 is distributed qually to all 5 missing values that are right to it<br>\n",
    "Ex 4: _, _, 30, _, _, _, 50, _, _  \n",
    "==> we will fill the missing values from left to right \n",
    "    a. first we will distribute the 30 to left two missing values (10, 10, 10, _, _, _, 50, _, _)\n",
    "    b. now distribute the sum (10+50) missing values in between (10, 10, 12, 12, 12, 12, 12, _, _) \n",
    "    c. now we will distribute 12 to right side missing values (10, 10, 12, 12, 12, 12, 4, 4, 4)\n",
    "</pre>\n",
    "for a given string with comma seprate values, which will have both missing values numbers like ex: \"_, _, x, _, _, _\"\n",
    "you need fill the missing values\n",
    "\n",
    "Q: your program reads a string like ex: \"_, _, x, _, _, _\" and returns the filled sequence\n",
    "\n"
   ]
  },
  {
   "cell_type": "code",
   "execution_count": 13,
   "metadata": {},
   "outputs": [],
   "source": [
    "def curve_smoothing(String):\n",
    "    value_count = []              #for Adding index\n",
    "    split_string = String.split(',')\n",
    "    \n",
    "    for i in range(len(split_string)):   #The total length of original list and also index of on empty positions\n",
    "        if split_string[i] != '_':\n",
    "            value_count.append(i)\n",
    "        \n",
    "    value_count.append(len(split_string)-1) \n",
    "    \n",
    "    print(value_count)\n",
    "    \n",
    "    starting =  0\n",
    "    \n",
    "    for count in value_count:  #looping over the the value count to modify and fill the  missing values\n",
    "        add = int(split_string[count]) if split_string[count] != \"_\" else 0\n",
    "        add += int(split_string[starting]) if split_string[starting]!= \"_\" and starting != count else 0\n",
    "\n",
    "                                 # Wherever, there is a missing values, I have to add the immediately proceeding value\n",
    "                                # and the immediately next available value and then divide it by the number of missing values.\n",
    "\n",
    "        replacement = add//(count-starting+1)\n",
    "    \n",
    "        split_string = [replacement if starting <= z <= count else split_string[z] for z in range(len(split_string))]\n",
    "    \n",
    "        starting =  count  # After updating original list ,filling up the empty cells and updating the starting postion for next loop\n",
    "\n",
    "    return split_string"
   ]
  },
  {
   "cell_type": "code",
   "execution_count": 14,
   "metadata": {},
   "outputs": [
    {
     "name": "stdout",
     "output_type": "stream",
     "text": [
      "[2, 6, 8]\n",
      "[10, 10, 12, 12, 12, 12, 4, 4, 4]\n"
     ]
    }
   ],
   "source": [
    "S = \"_,_,30,_,_,_,50,_,_\"\n",
    "ans = smoothed_values = curve_smoothing(S)\n",
    "print(ans)"
   ]
  },
  {
   "cell_type": "markdown",
   "metadata": {},
   "source": [
    "<h3> Q8: Filling the missing values in the specified formate</h3>\n",
    "You will be given a list of lists, each sublist will be of length 2 i.e. [[x,y],[p,q],[l,m]..[r,s]]\n",
    "consider its like a martrix of n rows and two columns\n",
    "1. the first column F will contain only 5 uniques values (F1, F2, F3, F4, F5)\n",
    "2. the second column S will contain only 3 uniques values (S1, S2, S3)\n",
    "<pre>\n",
    "your task is to find\n",
    "a. Probability of P(F=F1|S==S1), P(F=F1|S==S2), P(F=F1|S==S3)\n",
    "b. Probability of P(F=F2|S==S1), P(F=F2|S==S2), P(F=F2|S==S3)\n",
    "c. Probability of P(F=F3|S==S1), P(F=F3|S==S2), P(F=F3|S==S3)\n",
    "d. Probability of P(F=F4|S==S1), P(F=F4|S==S2), P(F=F4|S==S3)\n",
    "e. Probability of P(F=F5|S==S1), P(F=F5|S==S2), P(F=F5|S==S3)\n",
    "</pre>\n"
   ]
  },
  {
   "cell_type": "code",
   "execution_count": 15,
   "metadata": {},
   "outputs": [],
   "source": [
    "def compute_conditional_probabilites(A):    #NOTE: Hint taken from stackoverflow as there was a little confusion for unique values\n",
    "    def counting_values(F,S): #counting_no of F and S\n",
    "        numerator = 0\n",
    "        denominator = 0\n",
    "        for i in range(len(A)): #looping through length of A\n",
    "            if(A[i][1]==S):\n",
    "                denominator += 1   #if we find any S(The unique values below) in A we increment denominator\n",
    "                if(A[i][0]==F):   #if we find any F in A we increment neumrator\n",
    "                    numerator+=1\n",
    "        \n",
    "        \n",
    "        print('P(F={}|S=={})={}/{}'.format(F, S, str(numerator), str(denominator)))   \n",
    "        \n",
    "        #Prob(F=F1|S==S1) = Prob(F=F1 and S=S1)/Prob(S=S1)  we count s1 =4 and out of that only 1 f1 prent so p = 1/4\n",
    "\n",
    "    for n in ['F1', 'F2', 'F3', 'F4', 'F5']:  #Given that there are 5 unique values of F\n",
    "        for m in ['S1', 'S2', 'S3']:          #Given that there are 3 unique vales of S\n",
    "            counting_values(n,m)\n"
   ]
  },
  {
   "cell_type": "code",
   "execution_count": 16,
   "metadata": {},
   "outputs": [
    {
     "name": "stdout",
     "output_type": "stream",
     "text": [
      "P(F=F1|S==S1)=1/4\n",
      "P(F=F1|S==S2)=1/3\n",
      "P(F=F1|S==S3)=0/3\n",
      "P(F=F2|S==S1)=1/4\n",
      "P(F=F2|S==S2)=1/3\n",
      "P(F=F2|S==S3)=1/3\n",
      "P(F=F3|S==S1)=0/4\n",
      "P(F=F3|S==S2)=1/3\n",
      "P(F=F3|S==S3)=1/3\n",
      "P(F=F4|S==S1)=1/4\n",
      "P(F=F4|S==S2)=0/3\n",
      "P(F=F4|S==S3)=1/3\n",
      "P(F=F5|S==S1)=1/4\n",
      "P(F=F5|S==S2)=0/3\n",
      "P(F=F5|S==S3)=0/3\n"
     ]
    }
   ],
   "source": [
    "A = [['F1','S1'],['F2','S2'],['F3','S3'],['F1','S2'],['F2','S3'],['F3','S2'],['F2','S1'],['F4','S1'],['F4','S3'],['F5','S1']]\n",
    "\n",
    "compute_conditional_probabilites(A)"
   ]
  },
  {
   "cell_type": "markdown",
   "metadata": {},
   "source": [
    "<h3> Q9: Given two sentances S1, S2</h3>\n",
    "You will be given two sentances S1, S2 your task is to find \n",
    "<pre>\n",
    "a. Number of common words between S1, S2\n",
    "b. Words in S1 but not in S2\n",
    "c. Words in S2 but not in S1\n"
   ]
  },
  {
   "cell_type": "code",
   "execution_count": 19,
   "metadata": {},
   "outputs": [],
   "source": [
    "def string_features(S1, S2): #taking both the sentences as strings\n",
    "    sentence1 = S1.split()   #spliting the strings where ever there is space or blank\n",
    "    sentence2 = S2.split()\n",
    "    a = set(sentence1).intersection(set(sentence2)) #i consider both sentence as set and common words will be the intersection\n",
    "    b = set(sentence1)-set(sentence2)      #S1 but not in S2 means that S1-S2 (Set difference)\n",
    "    c = set(sentence2)-set(sentence1)      #s2 but not in s1 means that s2-21(set diff)\n",
    "    return len(a),b,c      #as we need the number of common words so return length of the intersectioned set\n",
    "                            #returning b and c as a set\n"
   ]
  },
  {
   "cell_type": "code",
   "execution_count": 20,
   "metadata": {},
   "outputs": [
    {
     "name": "stdout",
     "output_type": "stream",
     "text": [
      "7 {'F', 'first', '5'} {'3', 'S', 'second'}\n"
     ]
    }
   ],
   "source": [
    "S1= \"the first column F will contain only 5 uniques values\"\n",
    "S2= \"the second column S will contain only 3 uniques values\"\n",
    "a,b,c = string_features(S1, S2)\n",
    "print(a,b,c)"
   ]
  },
  {
   "cell_type": "markdown",
   "metadata": {},
   "source": [
    "<h3> Q10: Given two sentances S1, S2</h3>\n",
    "You will be given a list of lists, each sublist will be of length 2 i.e. [[x,y],[p,q],[l,m]..[r,s]]\n",
    "consider its like a martrix of n rows and two columns\n",
    "\n",
    "a. the first column Y will contain interger values <br>\n",
    "b. the second column $Y_{score}$ will be having float values <br>\n",
    "Your task is to find the value of $f(Y,Y_{score}) = -1*\\frac{1}{n}\\Sigma_{for each Y,Y_{score} pair}(Ylog10(Y_{score})+(1-Y)log10(1-Y_{score}))$ here n is the number of rows in the matrix\n"
   ]
  },
  {
   "cell_type": "code",
   "execution_count": 21,
   "metadata": {},
   "outputs": [],
   "source": [
    "from math import log   #impoting log from math for the calucation \n",
    "\n",
    "def compute_log_loss(A):\n",
    "    half_part = 0\n",
    "    for i in A:  #looping through A as we need to take each pair of y and Y_Score\n",
    "        half_part  += (i[0] * log(i[1], 10) + ((1 - i[0]) * log(1 - i[1], 10))) #for each pair calculating the log \n",
    "        loss = -1*half_part/len(A)    #finding the loss\n",
    "    return loss\n"
   ]
  },
  {
   "cell_type": "code",
   "execution_count": 22,
   "metadata": {},
   "outputs": [
    {
     "name": "stdout",
     "output_type": "stream",
     "text": [
      "0.42430993457031635\n"
     ]
    }
   ],
   "source": [
    "\n",
    "A = [[1, 0.4], [0, 0.5], [0, 0.9], [0, 0.3], [0, 0.6], [1, 0.1], [1, 0.9], [1, 0.8]]\n",
    "loss = compute_log_loss(A)\n",
    "print(loss)"
   ]
  }
 ],
 "metadata": {
  "kernelspec": {
   "display_name": "Python 3",
   "language": "python",
   "name": "python3"
  },
  "language_info": {
   "codemirror_mode": {
    "name": "ipython",
    "version": 3
   },
   "file_extension": ".py",
   "mimetype": "text/x-python",
   "name": "python",
   "nbconvert_exporter": "python",
   "pygments_lexer": "ipython3",
   "version": "3.8.5"
  }
 },
 "nbformat": 4,
 "nbformat_minor": 4
}
