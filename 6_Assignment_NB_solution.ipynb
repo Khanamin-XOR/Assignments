{
  "nbformat": 4,
  "nbformat_minor": 0,
  "metadata": {
    "colab": {
      "name": "6_Assignment_NB_Instructions.ipynb",
      "provenance": [],
      "collapsed_sections": []
    },
    "kernelspec": {
      "display_name": "Python 3",
      "language": "python",
      "name": "python3"
    },
    "language_info": {
      "codemirror_mode": {
        "name": "ipython",
        "version": 3
      },
      "file_extension": ".py",
      "mimetype": "text/x-python",
      "name": "python",
      "nbconvert_exporter": "python",
      "pygments_lexer": "ipython3",
      "version": "3.8.5"
    }
  },
  "cells": [
    {
      "cell_type": "markdown",
      "metadata": {
        "id": "Dnubs-Nnb3cw"
      },
      "source": [
        "# Assignment 6: Apply NB"
      ]
    },
    {
      "cell_type": "markdown",
      "metadata": {
        "id": "RW0zYHb5m_wI"
      },
      "source": [
        "<ol>\n",
        "    <li>Minimum data points need to be considered for people having 4GB RAM is <strong>50k</strong> and for 8GB RAM is <strong>100k</strong></li>\n",
        "    <li>When you are using ramdomsearchcv or gridsearchcv you need not split the data into X_train,X_cv,X_test. As the above methods use kfold. The model will learn better if train data is more so splitting to X_train,X_test will suffice.</li>\n",
        "    <li>If you are writing for loops to tune your model then you need split the data into X_train,X_cv,X_test.</li>\n",
        "    <li>While splitting the data explore stratify parameter. </li>\n",
        "    <li><strong>Apply Multinomial NB on these feature sets</strong></li>\n",
        "        <ul>\n",
        "            <li>Features that need to be considered</li> \n",
        "                <dl>\n",
        "                  <dt>essay</dt>\n",
        "                    <dd>while encoding essay, try to experiment with the max_features and n_grams parameter of vectorizers and see if it increases AUC score.</dd>\n",
        "                  <dt>categorical features</dt>\n",
        "                  <dd> - teacher_prefix</dd>\n",
        "                  <dd> - project_grade_category</dd>\n",
        "                  <dd> - school_state</dd>\n",
        "                  <dd> - clean_categories</dd>\n",
        "                  <dd> - clean_subcategories</dd>\n",
        "                  <dt>numerical features</dt>\n",
        "                  <dd> - price</dd>\n",
        "                  <dd> - teacher_number_of_previously_posted_projects</dd>\n",
        "                  <dd>while encoding the numerical features check <a href='https://imgur.com/ldZA1zg'>this</a> and <a href='https://ac-classroom-production.s3.amazonaws.com/public/COMMENT/Annotation_2020-05-21_225912_0lyZzN8.jpg'>this</a></dd>\n",
        "                </dl>    \n",
        "            <li><font color='red'>Set 1</font>: categorical, numerical features + preprocessed_eassay (BOW)</li>\n",
        "            <li><font color='red'>Set 2</font>: categorical, numerical features + preprocessed_eassay (TFIDF)</li>\n",
        "        </ul>\n",
        "    <li><strong>The hyper paramter tuning(find best alpha:smoothing parameter)</strong>\n",
        "        <ul>\n",
        "    <li>Consider alpha values in range: 10^-5 to 10^2 like [0.00001,0.0005, 0.0001,0.005,0.001,0.05,0.01,0.1,0.5,1,5,10,50,100]</li>\n",
        "    <li>Explore class_prior = [0.5, 0.5] parameter which can be present in MultinomialNB function(go through <a href='https://scikit-learn.org/stable/modules/generated/sklearn.naive_bayes.MultinomialNB.html'>this</a> ) then check how results might change.\n",
        "    <li>Find the best hyper parameter which will give the maximum <a href='https://www.appliedaicourse.com/course/applied-ai-course-online/lessons/receiver-operating-characteristic-curve-roc-curve-and-auc-1/'>AUC</a> value</li>\n",
        "    <li>For hyper parameter tuning using k-fold cross validation(use GridsearchCV or RandomsearchCV)/simple cross validation data (write for loop to iterate over hyper parameter values)</li>\n",
        "    <li>You need to plot the performance of model both on train data and cross validation data for each hyper parameter, like shown in the figure\n",
        "    <img src='https://i.imgur.com/hUv6aEy.jpg' width=300px><dd>-while plotting take log(alpha) on your X-axis so that it will be more readable</dd></li>\n",
        "    <li>Once after you found the best hyper parameter, you need to train your model with it, and find the AUC on test data and plot the ROC curve on both train and test.\n",
        "    <img src='https://imgur.com/q2P65L5.jpg' width=300px></li>\n",
        "    <li>Along with plotting ROC curve, you need to print the <a href='https://www.appliedaicourse.com/course/applied-ai-course-online/lessons/confusion-matrix-tpr-fpr-fnr-tnr-1/'>confusion matrix</a> with predicted and original labels of test data points\n",
        "        <img src='https://i.imgur.com/IdN5Ctv.png' width=300px><dd>-plot the confusion matrix in heatmaps, while plotting the confusion matrix go through the <a href='https://stackoverflow.com/questions/61748441/how-to-fix-the-values-displayed-in-a-confusion-matrix-in-exponential-form-to-nor'>link </a>\n",
        "</dd></li>\n",
        "        </ul>\n",
        "<li>find the top 20 features from either from feature <font color='red'>Set 1</font> or feature <font color='red'>Set 2</font> using values of `feature_log_prob_ ` parameter of `MultinomialNB` \n",
        "(https://scikit-learn.org/stable/modules/generated/sklearn.naive_bayes.MultinomialNB.html) and print <strong>BOTH</strong> positive as well as negative corresponding feature names. <dd> - go through the <a href='https://imgur.com/mWvE7gj'>link </a> </dd>\n",
        "    </li>\n",
        "    <li>You need to summarize the results at the end of the notebook, summarize it in the table format\n",
        "        <img src='http://i.imgur.com/YVpIGGE.jpg' width=400px>\n",
        "    </li>\n",
        "</ol>"
      ]
    },
    {
      "cell_type": "markdown",
      "metadata": {
        "id": "uoka23313oCF"
      },
      "source": [
        "# 1.**Data Preprocessing**\r\n",
        "I am using Colab.\r\n",
        "Using the whole data set and doing preprocessing my self\r\n",
        "and then i am trying to build the model."
      ]
    },
    {
      "cell_type": "code",
      "metadata": {
        "id": "hmliv-yw36r6"
      },
      "source": [
        "%matplotlib inline\r\n",
        "import warnings\r\n",
        "warnings.filterwarnings(\"ignore\")\r\n",
        "\r\n",
        "import sqlite3\r\n",
        "import pandas as pd\r\n",
        "import numpy as np\r\n",
        "import nltk\r\n",
        "import string\r\n",
        "import matplotlib.pyplot as plt\r\n",
        "import seaborn as sns\r\n",
        "from sklearn.feature_extraction.text import TfidfTransformer\r\n",
        "from sklearn.feature_extraction.text import TfidfVectorizer\r\n",
        "\r\n",
        "from sklearn.feature_extraction.text import CountVectorizer\r\n",
        "from sklearn.metrics import confusion_matrix\r\n",
        "from sklearn import metrics\r\n",
        "from sklearn.metrics import roc_curve, auc\r\n",
        "from nltk.stem.porter import PorterStemmer\r\n",
        "\r\n",
        "import re\r\n",
        "# Tutorial about Python regular expressions: https://pymotw.com/2/re/\r\n",
        "import string\r\n",
        "from nltk.corpus import stopwords\r\n",
        "from nltk.stem import PorterStemmer\r\n",
        "from nltk.stem.wordnet import WordNetLemmatizer\r\n",
        "\r\n",
        "from gensim.models import Word2Vec\r\n",
        "from gensim.models import KeyedVectors\r\n",
        "import pickle\r\n",
        "\r\n",
        "from tqdm import tqdm\r\n",
        "import os\r\n",
        "\r\n",
        "\r\n",
        "from collections import Counter"
      ],
      "execution_count": 5,
      "outputs": []
    },
    {
      "cell_type": "markdown",
      "metadata": {
        "id": "miO3ix116Upa"
      },
      "source": [
        "### **1.1 Reading Data**\r\n"
      ]
    },
    {
      "cell_type": "code",
      "metadata": {
        "id": "p5iDcfZH3_bs"
      },
      "source": [
        "train_data = pd.read_csv('/content/drive/MyDrive/Colab Notebooks/train_data.csv')\r\n",
        "resource_data = pd.read_csv('/content/drive/MyDrive/Colab Notebooks/resources.csv')"
      ],
      "execution_count": 6,
      "outputs": []
    },
    {
      "cell_type": "markdown",
      "metadata": {
        "id": "REQdOpL14mit"
      },
      "source": [
        "### **1.2 Preprocessing of project_subject_categories**\r\n",
        "\r\n",
        "\r\n",
        "\r\n"
      ]
    },
    {
      "cell_type": "code",
      "metadata": {
        "id": "-Lm3ZBVd4HEW"
      },
      "source": [
        "catogories = list(train_data['project_subject_categories'].values)\r\n",
        "# remove special characters from list of strings python: https://stackoverflow.com/a/47301924/4084039\r\n",
        "\r\n",
        "# https://www.geeksforgeeks.org/removing-stop-words-nltk-python\r\n",
        "catogories_list = []\r\n",
        "for i in catogories:\r\n",
        "    temp = \"\"\r\n",
        "    # consider we have text like this \"Math & Science, Warmth, Care & Hunger\"\r\n",
        "    for j in i.split(','): # it will split it in three parts [\"Math & Science\", \"Warmth\", \"Care & Hunger\"]\r\n",
        "        if 'The' in j.split(): # this will split each of the catogory based on space \"Math & Science\"=> \"Math\",\"&\", \"Science\"\r\n",
        "            j=j.replace('The','') # if we have the words \"The\" we are going to replace it with ''(i.e removing 'The')\r\n",
        "        j = j.replace(' ','') # we are placeing all the ' '(space) with ''(empty) ex:\"Math & Science\"=>\"Math&Science\"\r\n",
        "        temp+=j.strip()+\" \" #\" abc \".strip() will return \"abc\", remove the trailing spaces\r\n",
        "        temp = temp.replace('&','_') # we are replacing the & value into \r\n",
        "    catogories_list.append(temp.strip())\r\n",
        "    \r\n",
        "train_data['clean_categories'] = catogories_list\r\n",
        "train_data.drop(['project_subject_categories'], axis=1, inplace=True)\r\n",
        "\r\n",
        "from collections import Counter\r\n",
        "my_counter = Counter()\r\n",
        "for word in train_data['clean_categories'].values:\r\n",
        "    my_counter.update(word.split())\r\n",
        "\r\n",
        "cat_dict = dict(my_counter)\r\n",
        "sorted_cat_dict = dict(sorted(cat_dict.items(), key=lambda kv: kv[1]))"
      ],
      "execution_count": 7,
      "outputs": []
    },
    {
      "cell_type": "markdown",
      "metadata": {
        "id": "_MHdja-o4tnE"
      },
      "source": [
        "### **1.3 Preprocessing of project_subject_subcategories**\r\n"
      ]
    },
    {
      "cell_type": "code",
      "metadata": {
        "id": "0k41hBTP4jZ8"
      },
      "source": [
        "sub_catogories = list(train_data['project_subject_subcategories'].values)\r\n",
        "\r\n",
        "sub_catogories_list = []\r\n",
        "for i in sub_catogories:\r\n",
        "    temp = \"\"\r\n",
        "    # consider we have text like this \"Math & Science, Warmth, Care & Hunger\"\r\n",
        "    for j in i.split(','): # it will split it in three parts [\"Math & Science\", \"Warmth\", \"Care & Hunger\"]\r\n",
        "        if 'The' in j.split(): # this will split each of the catogory based on space \"Math & Science\"=> \"Math\",\"&\", \"Science\"\r\n",
        "            j=j.replace('The','') # if we have the words \"The\" we are going to replace it with ''(i.e removing 'The')\r\n",
        "        j = j.replace(' ','') # we are placeing all the ' '(space) with ''(empty) ex:\"Math & Science\"=>\"Math&Science\"\r\n",
        "        temp +=j.strip()+\" \"#\" abc \".strip() will return \"abc\", remove the trailing spaces\r\n",
        "        temp = temp.replace('&','_')\r\n",
        "    sub_catogories_list.append(temp.strip())\r\n",
        "\r\n",
        "train_data['clean_subcategories'] = sub_catogories_list\r\n",
        "train_data.drop(['project_subject_subcategories'], axis=1, inplace=True)\r\n",
        "\r\n",
        "# count of all the words in corpus python: https://stackoverflow.com/a/22898595/4084039\r\n",
        "my_counter = Counter()\r\n",
        "for word in train_data['clean_subcategories'].values:\r\n",
        "    my_counter.update(word.split())\r\n",
        "    \r\n",
        "sub_cat_dict = dict(my_counter)\r\n",
        "sorted_sub_cat_dict = dict(sorted(sub_cat_dict.items(), key=lambda kv: kv[1]))\r\n"
      ],
      "execution_count": 8,
      "outputs": []
    },
    {
      "cell_type": "markdown",
      "metadata": {
        "id": "UtUqxW_041N9"
      },
      "source": [
        "### **1.4 Preprocessing of project grade categories**\r\n",
        "\r\n"
      ]
    },
    {
      "cell_type": "code",
      "metadata": {
        "colab": {
          "base_uri": "https://localhost:8080/"
        },
        "id": "vc1gREOJ4z-G",
        "outputId": "288e73b9-db4b-4494-ad83-b16f1b856555"
      },
      "source": [
        "print(train_data['project_grade_category'].values[0])\r\n",
        "print(\"*\"*50)\r\n",
        "print(train_data['project_grade_category'].values[150])\r\n",
        "print(\"*\"*50)\r\n",
        "print(train_data['project_grade_category'].values[1000])\r\n",
        "print(\"*\"*50)\r\n",
        "print(train_data['project_grade_category'].values[20000])\r\n",
        "print(\"*\"*50)\r\n",
        "\r\n",
        "\r\n",
        "train_data['project_grade_category'].value_counts()"
      ],
      "execution_count": 9,
      "outputs": [
        {
          "output_type": "stream",
          "text": [
            "Grades PreK-2\n",
            "**************************************************\n",
            "Grades 3-5\n",
            "**************************************************\n",
            "Grades 3-5\n",
            "**************************************************\n",
            "Grades PreK-2\n",
            "**************************************************\n"
          ],
          "name": "stdout"
        },
        {
          "output_type": "execute_result",
          "data": {
            "text/plain": [
              "Grades PreK-2    44225\n",
              "Grades 3-5       37137\n",
              "Grades 6-8       16923\n",
              "Grades 9-12      10963\n",
              "Name: project_grade_category, dtype: int64"
            ]
          },
          "metadata": {
            "tags": []
          },
          "execution_count": 9
        }
      ]
    },
    {
      "cell_type": "code",
      "metadata": {
        "colab": {
          "base_uri": "https://localhost:8080/"
        },
        "id": "5zn2fFMm47n0",
        "outputId": "3becedab-4799-4c01-e809-190407e90ea0"
      },
      "source": [
        "preprocessed_project_grade_categories= []\r\n",
        "\r\n",
        "for grade_cat in tqdm(train_data[\"project_grade_category\"]):\r\n",
        "   \r\n",
        "    grade_cat = grade_cat.replace('-', '_')  #Replacing(-) with(_)\r\n",
        "    grade_cat = grade_cat.replace('Grades', '') #Removing grades as it is redundant\r\n",
        "   \r\n",
        "    grad_cat = ' '.join(f for f in grade_cat.split())\r\n",
        "    preprocessed_project_grade_categories.append(grad_cat.strip())"
      ],
      "execution_count": 10,
      "outputs": [
        {
          "output_type": "stream",
          "text": [
            "100%|██████████| 109248/109248 [00:00<00:00, 522238.45it/s]\n"
          ],
          "name": "stderr"
        }
      ]
    },
    {
      "cell_type": "markdown",
      "metadata": {
        "id": "Q0mzeKqv4-Mk"
      },
      "source": [
        "### **1.5 Preprocessing of teacher prefix**\r\n"
      ]
    },
    {
      "cell_type": "code",
      "metadata": {
        "id": "VMLJHejZ4_VM"
      },
      "source": [
        "train_data['teacher_prefix'] = train_data['teacher_prefix'].fillna('null')\r\n"
      ],
      "execution_count": 11,
      "outputs": []
    },
    {
      "cell_type": "code",
      "metadata": {
        "id": "OuOgSHxB5CDc"
      },
      "source": [
        "\r\n",
        "def replace_cate(lst):          # Removing (.) in Mrs. \r\n",
        "    return lst.replace('.','')\r\n",
        "   \r\n",
        "\r\n",
        "train_data['teacher_prefix']= train_data['teacher_prefix'].astype(str).apply(replace_cate)"
      ],
      "execution_count": 12,
      "outputs": []
    },
    {
      "cell_type": "markdown",
      "metadata": {
        "id": "xT2raNsy5E76"
      },
      "source": [
        "### **1.6 Adding a new feature Number of words in title**\r\n"
      ]
    },
    {
      "cell_type": "code",
      "metadata": {
        "id": "yZ-WZBv45EAe"
      },
      "source": [
        "title_word_count = []\r\n"
      ],
      "execution_count": 13,
      "outputs": []
    },
    {
      "cell_type": "code",
      "metadata": {
        "id": "viEJh8Hm5Iqn"
      },
      "source": [
        "for a in train_data[\"project_title\"] :\r\n",
        "    b = len(a.split())\r\n",
        "    title_word_count.append(b)"
      ],
      "execution_count": 14,
      "outputs": []
    },
    {
      "cell_type": "code",
      "metadata": {
        "id": "L_qPQnOU5KIt"
      },
      "source": [
        "train_data[\"title_word_count\"] = title_word_count\r\n"
      ],
      "execution_count": 15,
      "outputs": []
    },
    {
      "cell_type": "code",
      "metadata": {
        "colab": {
          "base_uri": "https://localhost:8080/",
          "height": 501
        },
        "id": "8ycqKCdY5LnN",
        "outputId": "fa0f303f-2c6a-440f-954b-bbcb3c1a0694"
      },
      "source": [
        "train_data.head(5)\r\n"
      ],
      "execution_count": 16,
      "outputs": [
        {
          "output_type": "execute_result",
          "data": {
            "text/html": [
              "<div>\n",
              "<style scoped>\n",
              "    .dataframe tbody tr th:only-of-type {\n",
              "        vertical-align: middle;\n",
              "    }\n",
              "\n",
              "    .dataframe tbody tr th {\n",
              "        vertical-align: top;\n",
              "    }\n",
              "\n",
              "    .dataframe thead th {\n",
              "        text-align: right;\n",
              "    }\n",
              "</style>\n",
              "<table border=\"1\" class=\"dataframe\">\n",
              "  <thead>\n",
              "    <tr style=\"text-align: right;\">\n",
              "      <th></th>\n",
              "      <th>Unnamed: 0</th>\n",
              "      <th>id</th>\n",
              "      <th>teacher_id</th>\n",
              "      <th>teacher_prefix</th>\n",
              "      <th>school_state</th>\n",
              "      <th>project_submitted_datetime</th>\n",
              "      <th>project_grade_category</th>\n",
              "      <th>project_title</th>\n",
              "      <th>project_essay_1</th>\n",
              "      <th>project_essay_2</th>\n",
              "      <th>project_essay_3</th>\n",
              "      <th>project_essay_4</th>\n",
              "      <th>project_resource_summary</th>\n",
              "      <th>teacher_number_of_previously_posted_projects</th>\n",
              "      <th>project_is_approved</th>\n",
              "      <th>clean_categories</th>\n",
              "      <th>clean_subcategories</th>\n",
              "      <th>title_word_count</th>\n",
              "    </tr>\n",
              "  </thead>\n",
              "  <tbody>\n",
              "    <tr>\n",
              "      <th>0</th>\n",
              "      <td>160221</td>\n",
              "      <td>p253737</td>\n",
              "      <td>c90749f5d961ff158d4b4d1e7dc665fc</td>\n",
              "      <td>Mrs</td>\n",
              "      <td>IN</td>\n",
              "      <td>2016-12-05 13:43:57</td>\n",
              "      <td>Grades PreK-2</td>\n",
              "      <td>Educational Support for English Learners at Home</td>\n",
              "      <td>My students are English learners that are work...</td>\n",
              "      <td>\\\"The limits of your language are the limits o...</td>\n",
              "      <td>NaN</td>\n",
              "      <td>NaN</td>\n",
              "      <td>My students need opportunities to practice beg...</td>\n",
              "      <td>0</td>\n",
              "      <td>0</td>\n",
              "      <td>Literacy_Language</td>\n",
              "      <td>ESL Literacy</td>\n",
              "      <td>7</td>\n",
              "    </tr>\n",
              "    <tr>\n",
              "      <th>1</th>\n",
              "      <td>140945</td>\n",
              "      <td>p258326</td>\n",
              "      <td>897464ce9ddc600bced1151f324dd63a</td>\n",
              "      <td>Mr</td>\n",
              "      <td>FL</td>\n",
              "      <td>2016-10-25 09:22:10</td>\n",
              "      <td>Grades 6-8</td>\n",
              "      <td>Wanted: Projector for Hungry Learners</td>\n",
              "      <td>Our students arrive to our school eager to lea...</td>\n",
              "      <td>The projector we need for our school is very c...</td>\n",
              "      <td>NaN</td>\n",
              "      <td>NaN</td>\n",
              "      <td>My students need a projector to help with view...</td>\n",
              "      <td>7</td>\n",
              "      <td>1</td>\n",
              "      <td>History_Civics Health_Sports</td>\n",
              "      <td>Civics_Government TeamSports</td>\n",
              "      <td>5</td>\n",
              "    </tr>\n",
              "    <tr>\n",
              "      <th>2</th>\n",
              "      <td>21895</td>\n",
              "      <td>p182444</td>\n",
              "      <td>3465aaf82da834c0582ebd0ef8040ca0</td>\n",
              "      <td>Ms</td>\n",
              "      <td>AZ</td>\n",
              "      <td>2016-08-31 12:03:56</td>\n",
              "      <td>Grades 6-8</td>\n",
              "      <td>Soccer Equipment for AWESOME Middle School Stu...</td>\n",
              "      <td>\\r\\n\\\"True champions aren't always the ones th...</td>\n",
              "      <td>The students on the campus come to school know...</td>\n",
              "      <td>NaN</td>\n",
              "      <td>NaN</td>\n",
              "      <td>My students need shine guards, athletic socks,...</td>\n",
              "      <td>1</td>\n",
              "      <td>0</td>\n",
              "      <td>Health_Sports</td>\n",
              "      <td>Health_Wellness TeamSports</td>\n",
              "      <td>7</td>\n",
              "    </tr>\n",
              "    <tr>\n",
              "      <th>3</th>\n",
              "      <td>45</td>\n",
              "      <td>p246581</td>\n",
              "      <td>f3cb9bffbba169bef1a77b243e620b60</td>\n",
              "      <td>Mrs</td>\n",
              "      <td>KY</td>\n",
              "      <td>2016-10-06 21:16:17</td>\n",
              "      <td>Grades PreK-2</td>\n",
              "      <td>Techie Kindergarteners</td>\n",
              "      <td>I work at a unique school filled with both ESL...</td>\n",
              "      <td>My students live in high poverty conditions wi...</td>\n",
              "      <td>NaN</td>\n",
              "      <td>NaN</td>\n",
              "      <td>My students need to engage in Reading and Math...</td>\n",
              "      <td>4</td>\n",
              "      <td>1</td>\n",
              "      <td>Literacy_Language Math_Science</td>\n",
              "      <td>Literacy Mathematics</td>\n",
              "      <td>2</td>\n",
              "    </tr>\n",
              "    <tr>\n",
              "      <th>4</th>\n",
              "      <td>172407</td>\n",
              "      <td>p104768</td>\n",
              "      <td>be1f7507a41f8479dc06f047086a39ec</td>\n",
              "      <td>Mrs</td>\n",
              "      <td>TX</td>\n",
              "      <td>2016-07-11 01:10:09</td>\n",
              "      <td>Grades PreK-2</td>\n",
              "      <td>Interactive Math Tools</td>\n",
              "      <td>Our second grade classroom next year will be m...</td>\n",
              "      <td>For many students, math is a subject that does...</td>\n",
              "      <td>NaN</td>\n",
              "      <td>NaN</td>\n",
              "      <td>My students need hands on practice in mathemat...</td>\n",
              "      <td>1</td>\n",
              "      <td>1</td>\n",
              "      <td>Math_Science</td>\n",
              "      <td>Mathematics</td>\n",
              "      <td>3</td>\n",
              "    </tr>\n",
              "  </tbody>\n",
              "</table>\n",
              "</div>"
            ],
            "text/plain": [
              "   Unnamed: 0       id  ...           clean_subcategories title_word_count\n",
              "0      160221  p253737  ...                  ESL Literacy                7\n",
              "1      140945  p258326  ...  Civics_Government TeamSports                5\n",
              "2       21895  p182444  ...    Health_Wellness TeamSports                7\n",
              "3          45  p246581  ...          Literacy Mathematics                2\n",
              "4      172407  p104768  ...                   Mathematics                3\n",
              "\n",
              "[5 rows x 18 columns]"
            ]
          },
          "metadata": {
            "tags": []
          },
          "execution_count": 16
        }
      ]
    },
    {
      "cell_type": "markdown",
      "metadata": {
        "id": "3Lxrr02C5O59"
      },
      "source": [
        "### **1.7 Merging 4 essays into single essay**"
      ]
    },
    {
      "cell_type": "code",
      "metadata": {
        "id": "RPUyODsA5UHo"
      },
      "source": [
        "train_data[\"essay\"] = train_data[\"project_essay_1\"].map(str) +\\\r\n",
        "                        train_data[\"project_essay_2\"].map(str) + \\\r\n",
        "                        train_data[\"project_essay_3\"].map(str) + \\\r\n",
        "                        train_data[\"project_essay_4\"].map(str)"
      ],
      "execution_count": 17,
      "outputs": []
    },
    {
      "cell_type": "markdown",
      "metadata": {
        "id": "7jwM1GYB5WgN"
      },
      "source": [
        "### **1.8 Adding a new feature Number of words in essay**"
      ]
    },
    {
      "cell_type": "code",
      "metadata": {
        "id": "yd4dFSHf5Xao"
      },
      "source": [
        "essay_word_count=[]\r\n"
      ],
      "execution_count": 18,
      "outputs": []
    },
    {
      "cell_type": "code",
      "metadata": {
        "id": "Y26xpxv25Zb_"
      },
      "source": [
        "for ess in train_data[\"essay\"] :\r\n",
        "    c = len(ess.split())\r\n",
        "    essay_word_count.append(c)"
      ],
      "execution_count": 19,
      "outputs": []
    },
    {
      "cell_type": "code",
      "metadata": {
        "id": "fuuaajjt5ayP"
      },
      "source": [
        "train_data[\"essay_word_count\"] = essay_word_count\r\n"
      ],
      "execution_count": 20,
      "outputs": []
    },
    {
      "cell_type": "code",
      "metadata": {
        "colab": {
          "base_uri": "https://localhost:8080/",
          "height": 345
        },
        "id": "KLUDtQ3D5dj-",
        "outputId": "0dd49b3c-d50a-4cf2-a875-a000e3abcc0d"
      },
      "source": [
        "train_data.head(2)\r\n"
      ],
      "execution_count": 21,
      "outputs": [
        {
          "output_type": "execute_result",
          "data": {
            "text/html": [
              "<div>\n",
              "<style scoped>\n",
              "    .dataframe tbody tr th:only-of-type {\n",
              "        vertical-align: middle;\n",
              "    }\n",
              "\n",
              "    .dataframe tbody tr th {\n",
              "        vertical-align: top;\n",
              "    }\n",
              "\n",
              "    .dataframe thead th {\n",
              "        text-align: right;\n",
              "    }\n",
              "</style>\n",
              "<table border=\"1\" class=\"dataframe\">\n",
              "  <thead>\n",
              "    <tr style=\"text-align: right;\">\n",
              "      <th></th>\n",
              "      <th>Unnamed: 0</th>\n",
              "      <th>id</th>\n",
              "      <th>teacher_id</th>\n",
              "      <th>teacher_prefix</th>\n",
              "      <th>school_state</th>\n",
              "      <th>project_submitted_datetime</th>\n",
              "      <th>project_grade_category</th>\n",
              "      <th>project_title</th>\n",
              "      <th>project_essay_1</th>\n",
              "      <th>project_essay_2</th>\n",
              "      <th>project_essay_3</th>\n",
              "      <th>project_essay_4</th>\n",
              "      <th>project_resource_summary</th>\n",
              "      <th>teacher_number_of_previously_posted_projects</th>\n",
              "      <th>project_is_approved</th>\n",
              "      <th>clean_categories</th>\n",
              "      <th>clean_subcategories</th>\n",
              "      <th>title_word_count</th>\n",
              "      <th>essay</th>\n",
              "      <th>essay_word_count</th>\n",
              "    </tr>\n",
              "  </thead>\n",
              "  <tbody>\n",
              "    <tr>\n",
              "      <th>0</th>\n",
              "      <td>160221</td>\n",
              "      <td>p253737</td>\n",
              "      <td>c90749f5d961ff158d4b4d1e7dc665fc</td>\n",
              "      <td>Mrs</td>\n",
              "      <td>IN</td>\n",
              "      <td>2016-12-05 13:43:57</td>\n",
              "      <td>Grades PreK-2</td>\n",
              "      <td>Educational Support for English Learners at Home</td>\n",
              "      <td>My students are English learners that are work...</td>\n",
              "      <td>\\\"The limits of your language are the limits o...</td>\n",
              "      <td>NaN</td>\n",
              "      <td>NaN</td>\n",
              "      <td>My students need opportunities to practice beg...</td>\n",
              "      <td>0</td>\n",
              "      <td>0</td>\n",
              "      <td>Literacy_Language</td>\n",
              "      <td>ESL Literacy</td>\n",
              "      <td>7</td>\n",
              "      <td>My students are English learners that are work...</td>\n",
              "      <td>272</td>\n",
              "    </tr>\n",
              "    <tr>\n",
              "      <th>1</th>\n",
              "      <td>140945</td>\n",
              "      <td>p258326</td>\n",
              "      <td>897464ce9ddc600bced1151f324dd63a</td>\n",
              "      <td>Mr</td>\n",
              "      <td>FL</td>\n",
              "      <td>2016-10-25 09:22:10</td>\n",
              "      <td>Grades 6-8</td>\n",
              "      <td>Wanted: Projector for Hungry Learners</td>\n",
              "      <td>Our students arrive to our school eager to lea...</td>\n",
              "      <td>The projector we need for our school is very c...</td>\n",
              "      <td>NaN</td>\n",
              "      <td>NaN</td>\n",
              "      <td>My students need a projector to help with view...</td>\n",
              "      <td>7</td>\n",
              "      <td>1</td>\n",
              "      <td>History_Civics Health_Sports</td>\n",
              "      <td>Civics_Government TeamSports</td>\n",
              "      <td>5</td>\n",
              "      <td>Our students arrive to our school eager to lea...</td>\n",
              "      <td>221</td>\n",
              "    </tr>\n",
              "  </tbody>\n",
              "</table>\n",
              "</div>"
            ],
            "text/plain": [
              "   Unnamed: 0  ... essay_word_count\n",
              "0      160221  ...              272\n",
              "1      140945  ...              221\n",
              "\n",
              "[2 rows x 20 columns]"
            ]
          },
          "metadata": {
            "tags": []
          },
          "execution_count": 21
        }
      ]
    },
    {
      "cell_type": "markdown",
      "metadata": {
        "id": "WtVV13Fyb3dH"
      },
      "source": [
        "### **1.9 Splitting data into Train and cross validation(or test): Stratified Sampling**"
      ]
    },
    {
      "cell_type": "code",
      "metadata": {
        "id": "i-PyprDNb3dI"
      },
      "source": [
        "# train test split using sklearn.model selection\n",
        "\n",
        "from sklearn.model_selection import train_test_split\n",
        "\n",
        "X_train, X_test, y_train, y_test = train_test_split(train_data, train_data['project_is_approved'], test_size=0.33, stratify = train_data['project_is_approved'],random_state=0)\n",
        "X_train, X_cv, y_train, y_cv = train_test_split(X_train, y_train, test_size=0.33, stratify=y_train,random_state=0)"
      ],
      "execution_count": 23,
      "outputs": []
    },
    {
      "cell_type": "code",
      "metadata": {
        "id": "eJ7QIyAm8nhF"
      },
      "source": [
        "#Dropping Class label\r\n",
        "X_train.drop(['project_is_approved'], axis=1, inplace=True)\r\n",
        "X_test.drop(['project_is_approved'], axis=1, inplace=True)\r\n",
        "X_cv.drop(['project_is_approved'], axis=1, inplace=True)"
      ],
      "execution_count": 24,
      "outputs": []
    },
    {
      "cell_type": "code",
      "metadata": {
        "colab": {
          "base_uri": "https://localhost:8080/",
          "height": 378
        },
        "id": "oCjFHe0x83ds",
        "outputId": "bb785769-4d24-4b9a-da13-26230e07a601"
      },
      "source": [
        "X_train.head(2)\r\n"
      ],
      "execution_count": 25,
      "outputs": [
        {
          "output_type": "execute_result",
          "data": {
            "text/html": [
              "<div>\n",
              "<style scoped>\n",
              "    .dataframe tbody tr th:only-of-type {\n",
              "        vertical-align: middle;\n",
              "    }\n",
              "\n",
              "    .dataframe tbody tr th {\n",
              "        vertical-align: top;\n",
              "    }\n",
              "\n",
              "    .dataframe thead th {\n",
              "        text-align: right;\n",
              "    }\n",
              "</style>\n",
              "<table border=\"1\" class=\"dataframe\">\n",
              "  <thead>\n",
              "    <tr style=\"text-align: right;\">\n",
              "      <th></th>\n",
              "      <th>Unnamed: 0</th>\n",
              "      <th>id</th>\n",
              "      <th>teacher_id</th>\n",
              "      <th>teacher_prefix</th>\n",
              "      <th>school_state</th>\n",
              "      <th>project_submitted_datetime</th>\n",
              "      <th>project_grade_category</th>\n",
              "      <th>project_title</th>\n",
              "      <th>project_essay_1</th>\n",
              "      <th>project_essay_2</th>\n",
              "      <th>project_essay_3</th>\n",
              "      <th>project_essay_4</th>\n",
              "      <th>project_resource_summary</th>\n",
              "      <th>teacher_number_of_previously_posted_projects</th>\n",
              "      <th>clean_categories</th>\n",
              "      <th>clean_subcategories</th>\n",
              "      <th>title_word_count</th>\n",
              "      <th>essay</th>\n",
              "      <th>essay_word_count</th>\n",
              "    </tr>\n",
              "  </thead>\n",
              "  <tbody>\n",
              "    <tr>\n",
              "      <th>75742</th>\n",
              "      <td>118221</td>\n",
              "      <td>p186156</td>\n",
              "      <td>f50f55a2b44b65b54f38f03c5df21922</td>\n",
              "      <td>Mrs</td>\n",
              "      <td>TX</td>\n",
              "      <td>2017-03-01 16:21:46</td>\n",
              "      <td>Grades 9-12</td>\n",
              "      <td>I-Waste:  a Multi-Media Art Installation on El...</td>\n",
              "      <td>My students are creative human beings.  They a...</td>\n",
              "      <td>It's no secret that the arts are underfunded i...</td>\n",
              "      <td>NaN</td>\n",
              "      <td>NaN</td>\n",
              "      <td>My students need ipads for our annual art inst...</td>\n",
              "      <td>0</td>\n",
              "      <td>Music_Arts</td>\n",
              "      <td>VisualArts</td>\n",
              "      <td>8</td>\n",
              "      <td>My students are creative human beings.  They a...</td>\n",
              "      <td>229</td>\n",
              "    </tr>\n",
              "    <tr>\n",
              "      <th>61001</th>\n",
              "      <td>57644</td>\n",
              "      <td>p180433</td>\n",
              "      <td>9e0fb5827f551d7e6966f8b3985e387b</td>\n",
              "      <td>Ms</td>\n",
              "      <td>NY</td>\n",
              "      <td>2017-03-09 10:19:06</td>\n",
              "      <td>Grades 6-8</td>\n",
              "      <td>Authentic Listening and Speaking Activities fo...</td>\n",
              "      <td>The Hyde Park Central School District is locat...</td>\n",
              "      <td>One area my students struggle the most with is...</td>\n",
              "      <td>NaN</td>\n",
              "      <td>NaN</td>\n",
              "      <td>My students need a class set of headphones for...</td>\n",
              "      <td>0</td>\n",
              "      <td>Literacy_Language</td>\n",
              "      <td>ForeignLanguages</td>\n",
              "      <td>10</td>\n",
              "      <td>The Hyde Park Central School District is locat...</td>\n",
              "      <td>242</td>\n",
              "    </tr>\n",
              "  </tbody>\n",
              "</table>\n",
              "</div>"
            ],
            "text/plain": [
              "       Unnamed: 0  ... essay_word_count\n",
              "75742      118221  ...              229\n",
              "61001       57644  ...              242\n",
              "\n",
              "[2 rows x 19 columns]"
            ]
          },
          "metadata": {
            "tags": []
          },
          "execution_count": 25
        }
      ]
    },
    {
      "cell_type": "markdown",
      "metadata": {
        "id": "-24fH-cx-YIC"
      },
      "source": [
        "### **1.10 Preprocessesing training data - Text**\r\n",
        "\r\n"
      ]
    },
    {
      "cell_type": "code",
      "metadata": {
        "colab": {
          "base_uri": "https://localhost:8080/"
        },
        "id": "qIIttEjK-dw7",
        "outputId": "2f4b1a72-e387-4a30-f15c-2d2974e130d7"
      },
      "source": [
        "print(X_train['essay'].values[260])\r\n",
        "print(\"*\"*50)\r\n",
        "print(X_train['essay'].values[3000])\r\n",
        "print(\"*\"*50)"
      ],
      "execution_count": 26,
      "outputs": [
        {
          "output_type": "stream",
          "text": [
            "In a few weeks, I will be looking into a sea of eager, inquisitive faces and saying, \\\"Welcome to third grade.\\\"  My incoming third graders attend a public school and reside in a high poverty area located in East Harlem, NY. Many of them live in temporary housing shelters. \\r\\n\\r\\nSchool is their \\\"home\\\" and they come everyday.  With the challenges they face, they enjoy reading chapter books, writing poetry and learning about science. They also love to build things and participate in art activities.My school engages in a new computer initiative called IREADY which teaches and assesses their reading and math skills.  It provides students with an individual reading and math online curriculum based on their needs. \\r\\nA  classroom desktop computer will enable my students to go online,  learn and practice their literacy and math skills to prepare for the ELA and Math state tests.  It is essential for students to pass these state tests in order to attend the next grade.    A desktop computer will also allow students to research social studies and science concepts as well a draft and publish their writing pieces.nannan\n",
            "**************************************************\n",
            "Have you ever heard of a quiet preschool classroom? Well my class is the opposite of being quiet! My students live in a low to no income area in the city.  Our students are always ready to learn and help others.  Many of our students depend on our school lunches and snacks for a days meal.  We love to host fund raisers and collect donations for our families.  We know they try to do their best and with our help we can help their child succeed.Having a Chromebook will help bring technology into my classroom.   Our students come from homes that don't have iPad or computers.  I would like to use the Chromebook in my classroom to hep my students use various websites to learn about their ABCs and sites that would read to the children.  We only have one working computer in the class and our student fight to use the computer daily.  I with a Chromebook this can be mobile and shared by many students at one time.  I would like to give my students the very best and keep up with the technology we have all around us.  Please help my students get a Chromebook in our class.nannan\n",
            "**************************************************\n"
          ],
          "name": "stdout"
        }
      ]
    },
    {
      "cell_type": "code",
      "metadata": {
        "id": "9yUGECZn-urL"
      },
      "source": [
        "# https://stackoverflow.com/a/47091490/4084039\r\n",
        "import re\r\n",
        "\r\n",
        "def decontracted(phrase):\r\n",
        "    # specific\r\n",
        "    phrase = re.sub(r\"won't\", \"will not\", phrase)\r\n",
        "    phrase = re.sub(r\"can\\'t\", \"can not\", phrase)\r\n",
        "\r\n",
        "    # general\r\n",
        "    phrase = re.sub(r\"n\\'t\", \" not\", phrase)\r\n",
        "    phrase = re.sub(r\"\\'re\", \" are\", phrase)\r\n",
        "    phrase = re.sub(r\"\\'s\", \" is\", phrase)\r\n",
        "    phrase = re.sub(r\"\\'d\", \" would\", phrase)\r\n",
        "    phrase = re.sub(r\"\\'ll\", \" will\", phrase)\r\n",
        "    phrase = re.sub(r\"\\'t\", \" not\", phrase)\r\n",
        "    phrase = re.sub(r\"\\'ve\", \" have\", phrase)\r\n",
        "    phrase = re.sub(r\"\\'m\", \" am\", phrase)\r\n",
        "    return phrase"
      ],
      "execution_count": 27,
      "outputs": []
    },
    {
      "cell_type": "code",
      "metadata": {
        "colab": {
          "base_uri": "https://localhost:8080/"
        },
        "id": "_h0phoLu_oMr",
        "outputId": "cc05378e-6db6-46ec-fa1c-701ec15b8e57"
      },
      "source": [
        "val = decontracted(X_train['essay'].values[20000])\r\n",
        "print(val)\r\n",
        "print(\"*\"*50)"
      ],
      "execution_count": 28,
      "outputs": [
        {
          "output_type": "stream",
          "text": [
            "My school is located in the Appalachian Mountain region of VA. Over 50% of our students receive free or reduced price breakfast and lunch and may not eat dinner every evening.  Some are from secure families, who go to the movies together and get new shoes as their feet grow. Some of our children view our school as their one safe place.\\r\\nEach morning I greet them at my classroom door with a smile and they smile back ready to start a day of learning.  Thinking of their smiles gets me out of bed and to school many mornings.\\r\\nThis year I plan to use Nursery Rhymes and other familiar stories to introduce concept of word skills to my students. I will write out the rhymes on sentence strips and put them in the pocket chart. \\r\\nThe children will be able to reach the sentences, take them apart, put them back together and practice reading them. The Nursery Rhyme puzzles I have requested fit perfectly with the way I plan to teach the rhymes. \\r\\nThe 100 pocket chart will enable the students to practice counting with numbers and coins as they count their way to the 100th day of school.nannan\n",
            "**************************************************\n"
          ],
          "name": "stdout"
        }
      ]
    },
    {
      "cell_type": "code",
      "metadata": {
        "colab": {
          "base_uri": "https://localhost:8080/"
        },
        "id": "5GHdUs4R_srU",
        "outputId": "11043f69-be53-41ce-af5c-f778630b1cbf"
      },
      "source": [
        "# \\r \\n \\t remove from string python: http://texthandler.com/info/remove-line-breaks-python/\r\n",
        "val = val.replace('\\\\r', ' ')\r\n",
        "val = val.replace('\\\\\"', ' ')\r\n",
        "val = val.replace('\\\\n', ' ')\r\n",
        "print(val)"
      ],
      "execution_count": 29,
      "outputs": [
        {
          "output_type": "stream",
          "text": [
            "My school is located in the Appalachian Mountain region of VA. Over 50% of our students receive free or reduced price breakfast and lunch and may not eat dinner every evening.  Some are from secure families, who go to the movies together and get new shoes as their feet grow. Some of our children view our school as their one safe place.  Each morning I greet them at my classroom door with a smile and they smile back ready to start a day of learning.  Thinking of their smiles gets me out of bed and to school many mornings.  This year I plan to use Nursery Rhymes and other familiar stories to introduce concept of word skills to my students. I will write out the rhymes on sentence strips and put them in the pocket chart.   The children will be able to reach the sentences, take them apart, put them back together and practice reading them. The Nursery Rhyme puzzles I have requested fit perfectly with the way I plan to teach the rhymes.   The 100 pocket chart will enable the students to practice counting with numbers and coins as they count their way to the 100th day of school.nannan\n"
          ],
          "name": "stdout"
        }
      ]
    },
    {
      "cell_type": "code",
      "metadata": {
        "colab": {
          "base_uri": "https://localhost:8080/"
        },
        "id": "Uejon-Cj_wK1",
        "outputId": "2a6102c0-b4f1-4c52-deed-fee1135558c7"
      },
      "source": [
        "#remove spacial character: https://stackoverflow.com/a/5843547/4084039\r\n",
        "val = re.sub('[^A-Za-z0-9]+', ' ', val)\r\n",
        "print(val)"
      ],
      "execution_count": 30,
      "outputs": [
        {
          "output_type": "stream",
          "text": [
            "My school is located in the Appalachian Mountain region of VA Over 50 of our students receive free or reduced price breakfast and lunch and may not eat dinner every evening Some are from secure families who go to the movies together and get new shoes as their feet grow Some of our children view our school as their one safe place Each morning I greet them at my classroom door with a smile and they smile back ready to start a day of learning Thinking of their smiles gets me out of bed and to school many mornings This year I plan to use Nursery Rhymes and other familiar stories to introduce concept of word skills to my students I will write out the rhymes on sentence strips and put them in the pocket chart The children will be able to reach the sentences take them apart put them back together and practice reading them The Nursery Rhyme puzzles I have requested fit perfectly with the way I plan to teach the rhymes The 100 pocket chart will enable the students to practice counting with numbers and coins as they count their way to the 100th day of school nannan\n"
          ],
          "name": "stdout"
        }
      ]
    },
    {
      "cell_type": "code",
      "metadata": {
        "id": "hBgjcKBA_XMc"
      },
      "source": [
        "# https://gist.github.com/sebleier/554280\r\n",
        "# we are removing the words from the stop words list: 'no', 'nor', 'not'\r\n",
        "stopwords= ['i', 'me', 'my', 'myself', 'we', 'our', 'ours', 'ourselves', 'you', \"you're\", \"you've\",\\\r\n",
        "            \"you'll\", \"you'd\", 'your', 'yours', 'yourself', 'yourselves', 'he', 'him', 'his', 'himself', \\\r\n",
        "            'she', \"she's\", 'her', 'hers', 'herself', 'it', \"it's\", 'its', 'itself', 'they', 'them', 'their',\\\r\n",
        "            'theirs', 'themselves', 'what', 'which', 'who', 'whom', 'this', 'that', \"that'll\", 'these', 'those', \\\r\n",
        "            'am', 'is', 'are', 'was', 'were', 'be', 'been', 'being', 'have', 'has', 'had', 'having', 'do', 'does', \\\r\n",
        "            'did', 'doing', 'a', 'an', 'the', 'and', 'but', 'if', 'or', 'because', 'as', 'until', 'while', 'of', \\\r\n",
        "            'at', 'by', 'for', 'with', 'about', 'against', 'between', 'into', 'through', 'during', 'before', 'after',\\\r\n",
        "            'above', 'below', 'to', 'from', 'up', 'down', 'in', 'out', 'on', 'off', 'over', 'under', 'again', 'further',\\\r\n",
        "            'then', 'once', 'here', 'there', 'when', 'where', 'why', 'how', 'all', 'any', 'both', 'each', 'few', 'more',\\\r\n",
        "            'most', 'other', 'some', 'such', 'only', 'own', 'same', 'so', 'than', 'too', 'very', \\\r\n",
        "            's', 't', 'can', 'will', 'just', 'don', \"don't\", 'should', \"should've\", 'now', 'd', 'll', 'm', 'o', 're', \\\r\n",
        "            've', 'y', 'ain', 'aren', \"aren't\", 'couldn', \"couldn't\", 'didn', \"didn't\", 'doesn', \"doesn't\", 'hadn',\\\r\n",
        "            \"hadn't\", 'hasn', \"hasn't\", 'haven', \"haven't\", 'isn', \"isn't\", 'ma', 'mightn', \"mightn't\", 'mustn',\\\r\n",
        "            \"mustn't\", 'needn', \"needn't\", 'shan', \"shan't\", 'shouldn', \"shouldn't\", 'wasn', \"wasn't\", 'weren', \"weren't\", \\\r\n",
        "            'won', \"won't\", 'wouldn', \"wouldn't\"]"
      ],
      "execution_count": 31,
      "outputs": []
    },
    {
      "cell_type": "code",
      "metadata": {
        "colab": {
          "base_uri": "https://localhost:8080/"
        },
        "id": "w6Wnf8gX-0Hi",
        "outputId": "99e540dd-a5ba-4f85-d97b-e5cec3ecc493"
      },
      "source": [
        "preprocessed_essays_train = []\r\n",
        "# tqdm is for printing the status bar\r\n",
        "for sentence in tqdm(X_train['essay'].values):\r\n",
        "    val = ' '.join(e for e in val.split() if e.lower() not in stopwords)\r\n",
        "    val = decontracted(sentence)\r\n",
        "    val = val.replace('\\\\r', ' ')\r\n",
        "    val = val.replace('\\\\\"', ' ')\r\n",
        "    val = val.replace('\\\\n', ' ')\r\n",
        "    val = re.sub('[^A-Za-z0-9]+', ' ', val)\r\n",
        "   \r\n",
        "    preprocessed_essays_train.append(val.lower().strip())"
      ],
      "execution_count": 32,
      "outputs": [
        {
          "output_type": "stream",
          "text": [
            "100%|██████████| 49041/49041 [00:35<00:00, 1380.52it/s]\n"
          ],
          "name": "stderr"
        }
      ]
    },
    {
      "cell_type": "markdown",
      "metadata": {
        "id": "_Ch_Lt5ZAOkq"
      },
      "source": [
        "### **1.11 Preprocess test data -Text**\r\n"
      ]
    },
    {
      "cell_type": "code",
      "metadata": {
        "colab": {
          "base_uri": "https://localhost:8080/"
        },
        "id": "-_pbx0oaAEqU",
        "outputId": "90081c92-fafe-4d2a-aba4-92932d41a116"
      },
      "source": [
        "preprocessed_essays_test = []\r\n",
        "# tqdm is for printing the status bar\r\n",
        "for sentence in tqdm(X_test['essay'].values):\r\n",
        "    val = ' '.join(e for e in val.split() if e.lower() not in stopwords)\r\n",
        "    val = decontracted(sentence)\r\n",
        "    val = val.replace('\\\\r', ' ')\r\n",
        "    val = val.replace('\\\\\"', ' ')\r\n",
        "    val = val.replace('\\\\n', ' ')\r\n",
        "    val = re.sub('[^A-Za-z0-9]+', ' ', val)\r\n",
        "    \r\n",
        "    preprocessed_essays_test.append(val.lower().strip())"
      ],
      "execution_count": 33,
      "outputs": [
        {
          "output_type": "stream",
          "text": [
            "100%|██████████| 36052/36052 [00:26<00:00, 1378.32it/s]\n"
          ],
          "name": "stderr"
        }
      ]
    },
    {
      "cell_type": "markdown",
      "metadata": {
        "id": "OcjAxBGXAMfk"
      },
      "source": [
        "### **1.12 Preprocess cross validation data-Text**\r\n"
      ]
    },
    {
      "cell_type": "code",
      "metadata": {
        "colab": {
          "base_uri": "https://localhost:8080/"
        },
        "id": "0yF7ikzkAF6S",
        "outputId": "db68eac6-fe67-4445-ace4-ba33955803a8"
      },
      "source": [
        "preprocessed_essays_cv = []\r\n",
        "# tqdm is for printing the status bar\r\n",
        "for sentence in tqdm(X_cv['essay'].values):\r\n",
        "    val = ' '.join(e for e in val.split() if e.lower() not in stopwords)\r\n",
        "    val = decontracted(sentence)\r\n",
        "    val = val.replace('\\\\r', ' ')\r\n",
        "    val = val.replace('\\\\\"', ' ')\r\n",
        "    val = val.replace('\\\\n', ' ')\r\n",
        "    val = re.sub('[^A-Za-z0-9]+', ' ', val)\r\n",
        "    \r\n",
        "    preprocessed_essays_cv.append(val.lower().strip())"
      ],
      "execution_count": 34,
      "outputs": [
        {
          "output_type": "stream",
          "text": [
            "100%|██████████| 24155/24155 [00:17<00:00, 1368.45it/s]\n"
          ],
          "name": "stderr"
        }
      ]
    },
    {
      "cell_type": "markdown",
      "metadata": {
        "id": "DINcEjkJAodc"
      },
      "source": [
        "### **1.13 preprocessing of project title**\r\n"
      ]
    },
    {
      "cell_type": "code",
      "metadata": {
        "colab": {
          "base_uri": "https://localhost:8080/"
        },
        "id": "7Jxi8GYBAsDt",
        "outputId": "dd081154-bb7f-498d-92df-e30d5f2d2774"
      },
      "source": [
        "#printing some randomproject titles.\r\n",
        "print(train_data['project_title'].values[0])\r\n",
        "print(\"*\"*50)\r\n",
        "print(train_data['project_title'].values[275])\r\n",
        "print(\"*\"*50)\r\n",
        "print(train_data['project_title'].values[4000])\r\n",
        "print(\"*\"*50)"
      ],
      "execution_count": 35,
      "outputs": [
        {
          "output_type": "stream",
          "text": [
            "Educational Support for English Learners at Home\n",
            "**************************************************\n",
            "Healthy Snack Attacks\n",
            "**************************************************\n",
            "Inspire Summer Reading!\n",
            "**************************************************\n"
          ],
          "name": "stdout"
        }
      ]
    },
    {
      "cell_type": "code",
      "metadata": {
        "id": "oALrrxS1BBoV"
      },
      "source": [
        "title = decontracted(X_train['project_title'].values[2000])\r\n"
      ],
      "execution_count": 36,
      "outputs": []
    },
    {
      "cell_type": "markdown",
      "metadata": {
        "id": "5gVB6K22BZaj"
      },
      "source": [
        "### **1.14 Preprocessing of Project Title-Train**\r\n"
      ]
    },
    {
      "cell_type": "code",
      "metadata": {
        "colab": {
          "base_uri": "https://localhost:8080/"
        },
        "id": "CQ7Zv7OXBT_6",
        "outputId": "32bcd1db-cb45-4e2b-a983-d9425f5e841f"
      },
      "source": [
        "preprocessed_titles_train = []\r\n",
        "\r\n",
        "for titles in tqdm(X_train[\"project_title\"]):\r\n",
        "    title = ' '.join(f for f in title.split() if f not in stopwords)\r\n",
        "    title = decontracted(titles)\r\n",
        "    title = title.replace('\\\\r', ' ')\r\n",
        "    title = title.replace('\\\\\"', ' ')\r\n",
        "    title = title.replace('\\\\n', ' ')\r\n",
        "    title = re.sub('[^A-Za-z0-9]+', ' ', title)\r\n",
        "    \r\n",
        "    preprocessed_titles_train.append(title.lower().strip())"
      ],
      "execution_count": 37,
      "outputs": [
        {
          "output_type": "stream",
          "text": [
            "100%|██████████| 49041/49041 [00:01<00:00, 30979.78it/s]\n"
          ],
          "name": "stderr"
        }
      ]
    },
    {
      "cell_type": "markdown",
      "metadata": {
        "id": "-fdIJKa4BhQD"
      },
      "source": [
        "### **1.15 Preprocessing of Project Title-Test**\r\n"
      ]
    },
    {
      "cell_type": "code",
      "metadata": {
        "colab": {
          "base_uri": "https://localhost:8080/"
        },
        "id": "XHoHIv1SBM8N",
        "outputId": "aea4180a-a59b-4723-a056-4a3cff5344ee"
      },
      "source": [
        "preprocessed_titles_test = []\r\n",
        "\r\n",
        "for titles in tqdm(X_test[\"project_title\"]):\r\n",
        "    title = ' '.join(f for f in title.split() if f not in stopwords)\r\n",
        "    title = decontracted(titles)\r\n",
        "    title = title.replace('\\\\r', ' ')\r\n",
        "    title = title.replace('\\\\\"', ' ')\r\n",
        "    title = title.replace('\\\\n', ' ')\r\n",
        "    title = re.sub('[^A-Za-z0-9]+', ' ', title)\r\n",
        "    \r\n",
        "    preprocessed_titles_test.append(title.lower().strip())"
      ],
      "execution_count": 38,
      "outputs": [
        {
          "output_type": "stream",
          "text": [
            "100%|██████████| 36052/36052 [00:01<00:00, 31842.71it/s]\n"
          ],
          "name": "stderr"
        }
      ]
    },
    {
      "cell_type": "code",
      "metadata": {
        "colab": {
          "base_uri": "https://localhost:8080/",
          "height": 35
        },
        "id": "TuDWVagrBu70",
        "outputId": "800333f6-9edd-4737-a0fc-4298d8f4e13b"
      },
      "source": [
        "preprocessed_titles_test[50]\r\n"
      ],
      "execution_count": 39,
      "outputs": [
        {
          "output_type": "execute_result",
          "data": {
            "application/vnd.google.colaboratory.intrinsic+json": {
              "type": "string"
            },
            "text/plain": [
              "'getting organized in an alternative seating classroom'"
            ]
          },
          "metadata": {
            "tags": []
          },
          "execution_count": 39
        }
      ]
    },
    {
      "cell_type": "markdown",
      "metadata": {
        "id": "echo6zBsBy9G"
      },
      "source": [
        "### **1.16 Preprocessing of Project Title-CV**\r\n"
      ]
    },
    {
      "cell_type": "code",
      "metadata": {
        "colab": {
          "base_uri": "https://localhost:8080/"
        },
        "id": "jgHoO-QhB6-8",
        "outputId": "73468fe1-3933-4ef8-9735-cdb9e191724b"
      },
      "source": [
        "preprocessed_titles_cv = []\r\n",
        "\r\n",
        "for titles in tqdm(X_cv[\"project_title\"]):\r\n",
        "    title = ' '.join(f for f in title.split() if f not in stopwords)\r\n",
        "    title = decontracted(titles)\r\n",
        "    title = title.replace('\\\\r', ' ')\r\n",
        "    title = title.replace('\\\\\"', ' ')\r\n",
        "    title = title.replace('\\\\n', ' ')\r\n",
        "    title = re.sub('[^A-Za-z0-9]+', ' ', title)\r\n",
        "    \r\n",
        "    preprocessed_titles_cv.append(title.lower().strip())"
      ],
      "execution_count": 40,
      "outputs": [
        {
          "output_type": "stream",
          "text": [
            "100%|██████████| 24155/24155 [00:00<00:00, 32268.38it/s]\n"
          ],
          "name": "stderr"
        }
      ]
    },
    {
      "cell_type": "code",
      "metadata": {
        "colab": {
          "base_uri": "https://localhost:8080/",
          "height": 35
        },
        "id": "KbKyj7h6B_BU",
        "outputId": "9a245022-4514-4bd3-9b90-446e75fa6649"
      },
      "source": [
        "preprocessed_titles_cv[2546]\r\n"
      ],
      "execution_count": 41,
      "outputs": [
        {
          "output_type": "execute_result",
          "data": {
            "application/vnd.google.colaboratory.intrinsic+json": {
              "type": "string"
            },
            "text/plain": [
              "'techno reading'"
            ]
          },
          "metadata": {
            "tags": []
          },
          "execution_count": 41
        }
      ]
    },
    {
      "cell_type": "markdown",
      "metadata": {
        "id": "EnZwVNULb3dO"
      },
      "source": [
        "# **2. Make Data Model Ready: encoding eassay, and project_title**"
      ]
    },
    {
      "cell_type": "markdown",
      "metadata": {
        "id": "-SczZKiab3dR"
      },
      "source": [
        "## **2.1 Vectorizing text data**\r\n"
      ]
    },
    {
      "cell_type": "markdown",
      "metadata": {
        "id": "6YYm_JVeCzoS"
      },
      "source": [
        "### **2.1.1 Bag of words {ESSAY}**\r\n"
      ]
    },
    {
      "cell_type": "code",
      "metadata": {
        "colab": {
          "base_uri": "https://localhost:8080/"
        },
        "id": "4gSkM9QCnhBH",
        "outputId": "0cec7ca8-8cee-4e5e-f6e5-745cf2672db1"
      },
      "source": [
        "print(X_train.shape, y_train.shape)\n",
        "print(X_cv.shape, y_cv.shape)\n",
        "print(X_test.shape, y_test.shape)\n",
        "\n",
        "print(\"*\"*100)\n",
        "\n",
        "\n",
        "vectorizer_bow_essay = CountVectorizer(min_df=10)  #selecting all features\n",
        "vectorizer_bow_essay.fit(preprocessed_essays_train)\n",
        "\n",
        "text_bow_train = vectorizer_bow_essay.transform(preprocessed_essays_train)\n",
        "text_bow_test = vectorizer_bow_essay.transform(preprocessed_essays_test)\n",
        "text_bow_cv = vectorizer_bow_essay.transform(preprocessed_essays_cv)\n",
        "\n",
        "print(\"After vectorizations\")\n",
        "print(text_bow_train.shape, y_train.shape)\n",
        "print(text_bow_cv.shape, y_cv.shape)\n",
        "print(text_bow_test.shape, y_test.shape)\n",
        "print(\"*\"*100)\n"
      ],
      "execution_count": 42,
      "outputs": [
        {
          "output_type": "stream",
          "text": [
            "(49041, 19) (49041,)\n",
            "(24155, 19) (24155,)\n",
            "(36052, 19) (36052,)\n",
            "****************************************************************************************************\n",
            "After vectorizations\n",
            "(49041, 12184) (49041,)\n",
            "(24155, 12184) (24155,)\n",
            "(36052, 12184) (36052,)\n",
            "****************************************************************************************************\n"
          ],
          "name": "stdout"
        }
      ]
    },
    {
      "cell_type": "markdown",
      "metadata": {
        "id": "KF9AWw_xwzn2"
      },
      "source": [
        "### **2.1.2 Bag of words {Project_titles}**"
      ]
    },
    {
      "cell_type": "code",
      "metadata": {
        "colab": {
          "base_uri": "https://localhost:8080/"
        },
        "id": "OcxdboY1E49T",
        "outputId": "9178076b-8566-4b74-c681-75a0d7d71d00"
      },
      "source": [
        "print(X_train.shape, y_train.shape)\r\n",
        "print(X_cv.shape, y_cv.shape)\r\n",
        "print(X_test.shape, y_test.shape)\r\n",
        "\r\n",
        "print(\"*\"*100)\r\n",
        "\r\n",
        "vectorizer_bow_title = CountVectorizer(min_df=10)\r\n",
        "vectorizer_bow_title.fit(preprocessed_titles_train)\r\n",
        "title_bow_train = vectorizer_bow_title.transform(preprocessed_titles_train)\r\n",
        "title_bow_test = vectorizer_bow_title.transform(preprocessed_titles_test)\r\n",
        "title_bow_cv = vectorizer_bow_title.transform(preprocessed_titles_cv)\r\n",
        "\r\n",
        "print(\"After vectorizations\")\r\n",
        "print(title_bow_train.shape, y_train.shape)\r\n",
        "print(title_bow_cv.shape, y_cv.shape)\r\n",
        "print(title_bow_test.shape, y_test.shape)\r\n",
        "print(\"*\"*100)"
      ],
      "execution_count": 43,
      "outputs": [
        {
          "output_type": "stream",
          "text": [
            "(49041, 19) (49041,)\n",
            "(24155, 19) (24155,)\n",
            "(36052, 19) (36052,)\n",
            "****************************************************************************************************\n",
            "After vectorizations\n",
            "(49041, 2105) (49041,)\n",
            "(24155, 2105) (24155,)\n",
            "(36052, 2105) (36052,)\n",
            "****************************************************************************************************\n"
          ],
          "name": "stdout"
        }
      ]
    },
    {
      "cell_type": "markdown",
      "metadata": {
        "id": "i4A6gI74Gn2x"
      },
      "source": [
        "### **2.1.3 TF-IDF Vectorizer**"
      ]
    },
    {
      "cell_type": "markdown",
      "metadata": {
        "id": "FTnhZliYG5gj"
      },
      "source": [
        "### TF-IDF {Essays}"
      ]
    },
    {
      "cell_type": "code",
      "metadata": {
        "id": "QASD-SOxGnKi"
      },
      "source": [
        "vectorizer_tfidf_essay = TfidfVectorizer(min_df=10) #Considering All features\r\n",
        "vectorizer_tfidf_essay.fit(preprocessed_essays_train)\r\n",
        "\r\n",
        "text_tfidf_train = vectorizer_tfidf_essay.transform(preprocessed_essays_train)\r\n",
        "text_tfidf_test = vectorizer_tfidf_essay.transform(preprocessed_essays_test)\r\n",
        "text_tfidf_cv = vectorizer_tfidf_essay.transform(preprocessed_essays_cv)\r\n",
        "\r\n"
      ],
      "execution_count": 44,
      "outputs": []
    },
    {
      "cell_type": "markdown",
      "metadata": {
        "id": "10fP_kI5H9Cz"
      },
      "source": [
        "### TF-IDF {Project_title}"
      ]
    },
    {
      "cell_type": "code",
      "metadata": {
        "id": "JIv194ppGkbb"
      },
      "source": [
        "vectorizer_tfidf_titles = TfidfVectorizer(min_df=10)\r\n",
        "\r\n",
        "vectorizer_tfidf_titles.fit(preprocessed_titles_train)\r\n",
        "title_tfidf_train = vectorizer_tfidf_titles.transform(preprocessed_titles_train)\r\n",
        "title_tfidf_test = vectorizer_tfidf_titles.transform(preprocessed_titles_test)\r\n",
        "title_tfidf_cv = vectorizer_tfidf_titles.transform(preprocessed_titles_cv)\r\n",
        "\r\n",
        "\r\n"
      ],
      "execution_count": 45,
      "outputs": []
    },
    {
      "cell_type": "markdown",
      "metadata": {
        "id": "bGy86kgHb3dX"
      },
      "source": [
        "# **3. Make Data Model Ready: encoding numerical, categorical features**"
      ]
    },
    {
      "cell_type": "markdown",
      "metadata": {
        "id": "X-N8j2MJp5sc"
      },
      "source": [
        "## **3.1 Vectorizing Numerical features**\r\n",
        "\r\n",
        "### Various numerical feautures are :\r\n",
        "\r\n",
        "### a).Price\r\n",
        "\r\n",
        "### b).Quantity\r\n",
        "\r\n",
        "### c).Number of Projects previously proposed by Teacher\r\n",
        "\r\n",
        "### d).Essay word Count\r\n",
        "\r\n",
        "### e).Title word Count"
      ]
    },
    {
      "cell_type": "markdown",
      "metadata": {
        "id": "cgm_NTdqJXog"
      },
      "source": [
        "### **Price**"
      ]
    },
    {
      "cell_type": "code",
      "metadata": {
        "id": "EfXkofX1b3da",
        "colab": {
          "base_uri": "https://localhost:8080/",
          "height": 225
        },
        "outputId": "ae8ed53f-5d69-45e1-f6e7-5e404f9b56a8"
      },
      "source": [
        "price_data = resource_data.groupby('id').agg({'price':'sum', 'quantity':'sum'}).reset_index()\n",
        "price_data.head(6)"
      ],
      "execution_count": 46,
      "outputs": [
        {
          "output_type": "execute_result",
          "data": {
            "text/html": [
              "<div>\n",
              "<style scoped>\n",
              "    .dataframe tbody tr th:only-of-type {\n",
              "        vertical-align: middle;\n",
              "    }\n",
              "\n",
              "    .dataframe tbody tr th {\n",
              "        vertical-align: top;\n",
              "    }\n",
              "\n",
              "    .dataframe thead th {\n",
              "        text-align: right;\n",
              "    }\n",
              "</style>\n",
              "<table border=\"1\" class=\"dataframe\">\n",
              "  <thead>\n",
              "    <tr style=\"text-align: right;\">\n",
              "      <th></th>\n",
              "      <th>id</th>\n",
              "      <th>price</th>\n",
              "      <th>quantity</th>\n",
              "    </tr>\n",
              "  </thead>\n",
              "  <tbody>\n",
              "    <tr>\n",
              "      <th>0</th>\n",
              "      <td>p000001</td>\n",
              "      <td>459.56</td>\n",
              "      <td>7</td>\n",
              "    </tr>\n",
              "    <tr>\n",
              "      <th>1</th>\n",
              "      <td>p000002</td>\n",
              "      <td>515.89</td>\n",
              "      <td>21</td>\n",
              "    </tr>\n",
              "    <tr>\n",
              "      <th>2</th>\n",
              "      <td>p000003</td>\n",
              "      <td>298.97</td>\n",
              "      <td>4</td>\n",
              "    </tr>\n",
              "    <tr>\n",
              "      <th>3</th>\n",
              "      <td>p000004</td>\n",
              "      <td>1113.69</td>\n",
              "      <td>98</td>\n",
              "    </tr>\n",
              "    <tr>\n",
              "      <th>4</th>\n",
              "      <td>p000005</td>\n",
              "      <td>485.99</td>\n",
              "      <td>8</td>\n",
              "    </tr>\n",
              "    <tr>\n",
              "      <th>5</th>\n",
              "      <td>p000006</td>\n",
              "      <td>130.62</td>\n",
              "      <td>5</td>\n",
              "    </tr>\n",
              "  </tbody>\n",
              "</table>\n",
              "</div>"
            ],
            "text/plain": [
              "        id    price  quantity\n",
              "0  p000001   459.56         7\n",
              "1  p000002   515.89        21\n",
              "2  p000003   298.97         4\n",
              "3  p000004  1113.69        98\n",
              "4  p000005   485.99         8\n",
              "5  p000006   130.62         5"
            ]
          },
          "metadata": {
            "tags": []
          },
          "execution_count": 46
        }
      ]
    },
    {
      "cell_type": "code",
      "metadata": {
        "id": "OIDWxhO5Jcsh"
      },
      "source": [
        "# join two dataframes in python: \r\n",
        "X_train = pd.merge(X_train, price_data, on='id', how='left')\r\n",
        "X_test = pd.merge(X_test, price_data, on='id', how='left')\r\n",
        "X_cv = pd.merge(X_cv, price_data, on='id', how='left')"
      ],
      "execution_count": 47,
      "outputs": []
    },
    {
      "cell_type": "code",
      "metadata": {
        "colab": {
          "base_uri": "https://localhost:8080/"
        },
        "id": "Y0OT9mHlJiHg",
        "outputId": "e31d4fbc-e53d-41c1-85ad-f35d68b8a0f2"
      },
      "source": [
        "from sklearn.preprocessing import Normalizer\r\n",
        "\r\n",
        "normalizer = Normalizer()\r\n",
        "\r\n",
        "# normalizer.fit(X_train['price'].values)\r\n",
        "# this will rise an error Expected 2D array, got 1D array instead: \r\n",
        "# array=[105.22 215.96  96.01 ... 368.98  80.53 709.67].\r\n",
        "# Reshape your data either using \r\n",
        "# array.reshape(-1, 1) if your data has a single feature \r\n",
        "# array.reshape(1, -1)  if it contains a single sample.\r\n",
        "\r\n",
        "normalizer.fit(X_train['price'].values.reshape(1,-1))\r\n",
        "\r\n",
        "price_train = normalizer.transform(X_train['price'].values.reshape(1,-1))\r\n",
        "price_cv = normalizer.transform(X_cv['price'].values.reshape(1,-1))\r\n",
        "price_test = normalizer.transform(X_test['price'].values.reshape(1,-1))\r\n",
        "\r\n",
        "print(\"After vectorizations\")\r\n",
        "print(price_train.shape, y_train.shape)\r\n",
        "print(price_cv.shape, y_cv.shape)\r\n",
        "print(price_test.shape, y_test.shape)\r\n",
        "print(\"*\"*100)"
      ],
      "execution_count": 48,
      "outputs": [
        {
          "output_type": "stream",
          "text": [
            "After vectorizations\n",
            "(1, 49041) (49041,)\n",
            "(1, 24155) (24155,)\n",
            "(1, 36052) (36052,)\n",
            "****************************************************************************************************\n"
          ],
          "name": "stdout"
        }
      ]
    },
    {
      "cell_type": "markdown",
      "metadata": {
        "id": "7h6HJRSFJtkv"
      },
      "source": [
        "### **Quantity**"
      ]
    },
    {
      "cell_type": "code",
      "metadata": {
        "colab": {
          "base_uri": "https://localhost:8080/"
        },
        "id": "lPD20NxtJy8S",
        "outputId": "f0b3a7fd-995b-458e-f9e5-b951e1f9cc53"
      },
      "source": [
        "normalizer = Normalizer()\r\n",
        "\r\n",
        "# normalizer.fit(X_train['price'].values)\r\n",
        "# this will rise an error Expected 2D array, got 1D array instead: \r\n",
        "# array=[105.22 215.96  96.01 ... 368.98  80.53 709.67].\r\n",
        "# Reshape your data either using \r\n",
        "# array.reshape(-1, 1) if your data has a single feature \r\n",
        "# array.reshape(1, -1)  if it contains a single sample.\r\n",
        "\r\n",
        "normalizer.fit(X_train['quantity'].values.reshape(1,-1))\r\n",
        "\r\n",
        "quantity_train = normalizer.transform(X_train['quantity'].values.reshape(1,-1))\r\n",
        "quantity_cv = normalizer.transform(X_cv['quantity'].values.reshape(1,-1))\r\n",
        "quantity_test = normalizer.transform(X_test['quantity'].values.reshape(1,-1))\r\n",
        "\r\n",
        "print(\"After vectorizations\")\r\n",
        "print(quantity_train.shape, y_train.shape)\r\n",
        "print(quantity_cv.shape, y_cv.shape)\r\n",
        "print(quantity_test.shape, y_test.shape)\r\n",
        "print(\"*\"*100)"
      ],
      "execution_count": 49,
      "outputs": [
        {
          "output_type": "stream",
          "text": [
            "After vectorizations\n",
            "(1, 49041) (49041,)\n",
            "(1, 24155) (24155,)\n",
            "(1, 36052) (36052,)\n",
            "****************************************************************************************************\n"
          ],
          "name": "stdout"
        }
      ]
    },
    {
      "cell_type": "markdown",
      "metadata": {
        "id": "NfvULrv8J2ee"
      },
      "source": [
        "### **Projects previously proposed by Teacher**"
      ]
    },
    {
      "cell_type": "code",
      "metadata": {
        "colab": {
          "base_uri": "https://localhost:8080/"
        },
        "id": "xW8sPmqkJ8GR",
        "outputId": "a18b6a02-4312-4201-be79-97986b76833a"
      },
      "source": [
        "normalizer = Normalizer()\r\n",
        "\r\n",
        "# normalizer.fit(X_train['price'].values)\r\n",
        "# this will rise an error Expected 2D array, got 1D array instead: \r\n",
        "# array=[105.22 215.96  96.01 ... 368.98  80.53 709.67].\r\n",
        "# Reshape your data either using \r\n",
        "# array.reshape(-1, 1) if your data has a single feature \r\n",
        "# array.reshape(1, -1)  if it contains a single sample.\r\n",
        "\r\n",
        "normalizer.fit(X_train['teacher_number_of_previously_posted_projects'].values.reshape(1,-1))\r\n",
        "\r\n",
        "prev_projects_train = normalizer.transform(X_train['teacher_number_of_previously_posted_projects'].values.reshape(-1,1))\r\n",
        "prev_projects_cv = normalizer.transform(X_cv['teacher_number_of_previously_posted_projects'].values.reshape(-1,1))\r\n",
        "prev_projects_test = normalizer.transform(X_test['teacher_number_of_previously_posted_projects'].values.reshape(-1,1))\r\n",
        "\r\n",
        "print(\"After vectorizations\")\r\n",
        "print(prev_projects_train.shape, y_train.shape)\r\n",
        "print(prev_projects_cv.shape, y_cv.shape)\r\n",
        "print(prev_projects_test.shape, y_test.shape)\r\n",
        "print(\"*\"*100)"
      ],
      "execution_count": 50,
      "outputs": [
        {
          "output_type": "stream",
          "text": [
            "After vectorizations\n",
            "(49041, 1) (49041,)\n",
            "(24155, 1) (24155,)\n",
            "(36052, 1) (36052,)\n",
            "****************************************************************************************************\n"
          ],
          "name": "stdout"
        }
      ]
    },
    {
      "cell_type": "markdown",
      "metadata": {
        "id": "YtaOiHRxKCox"
      },
      "source": [
        "### **Title word count**\r\n"
      ]
    },
    {
      "cell_type": "code",
      "metadata": {
        "colab": {
          "base_uri": "https://localhost:8080/"
        },
        "id": "o71CzfcAJ_Ws",
        "outputId": "1dfda85e-4e36-45c9-8893-324e868168d0"
      },
      "source": [
        "normalizer = Normalizer()\r\n",
        "\r\n",
        "normalizer.fit(X_train['title_word_count'].values.reshape(1,-1))\r\n",
        "\r\n",
        "title_word_count_train = normalizer.transform(X_train['title_word_count'].values.reshape(1,-1))\r\n",
        "title_word_count_cv = normalizer.transform(X_cv['title_word_count'].values.reshape(1,-1))\r\n",
        "title_word_count_test = normalizer.transform(X_test['title_word_count'].values.reshape(1,-1))\r\n",
        "\r\n",
        "print(\"After vectorizations\")\r\n",
        "print(title_word_count_train.shape, y_train.shape)\r\n",
        "print(title_word_count_cv.shape, y_cv.shape)\r\n",
        "print(title_word_count_test.shape, y_test.shape)\r\n",
        "print(\"*\"*100)"
      ],
      "execution_count": 51,
      "outputs": [
        {
          "output_type": "stream",
          "text": [
            "After vectorizations\n",
            "(1, 49041) (49041,)\n",
            "(1, 24155) (24155,)\n",
            "(1, 36052) (36052,)\n",
            "****************************************************************************************************\n"
          ],
          "name": "stdout"
        }
      ]
    },
    {
      "cell_type": "markdown",
      "metadata": {
        "id": "LjV0_z55KKDo"
      },
      "source": [
        "### **Essay word count**\r\n"
      ]
    },
    {
      "cell_type": "code",
      "metadata": {
        "colab": {
          "base_uri": "https://localhost:8080/"
        },
        "id": "VwGoRxvXKNG3",
        "outputId": "06bef90e-169f-404f-e90e-ec858e795914"
      },
      "source": [
        "normalizer = Normalizer()\r\n",
        "\r\n",
        "normalizer.fit(X_train['essay_word_count'].values.reshape(1,-1))\r\n",
        "\r\n",
        "essay_word_count_train = normalizer.transform(X_train['essay_word_count'].values.reshape(1,-1))\r\n",
        "essay_word_count_cv = normalizer.transform(X_cv['essay_word_count'].values.reshape(1,-1))\r\n",
        "essay_word_count_test = normalizer.transform(X_test['essay_word_count'].values.reshape(1,-1))\r\n",
        "\r\n",
        "print(\"After vectorizations\")\r\n",
        "print(essay_word_count_train.shape, y_train.shape)\r\n",
        "print(essay_word_count_cv.shape, y_cv.shape)\r\n",
        "print(essay_word_count_test.shape, y_test.shape)"
      ],
      "execution_count": 52,
      "outputs": [
        {
          "output_type": "stream",
          "text": [
            "After vectorizations\n",
            "(1, 49041) (49041,)\n",
            "(1, 24155) (24155,)\n",
            "(1, 36052) (36052,)\n"
          ],
          "name": "stdout"
        }
      ]
    },
    {
      "cell_type": "markdown",
      "metadata": {
        "id": "XYFRT9QVpxy8"
      },
      "source": [
        "## **3.2 Vectorizing Categorical features**\r\n"
      ]
    },
    {
      "cell_type": "markdown",
      "metadata": {
        "id": "fXMt8bJ9K17p"
      },
      "source": [
        "### **Categories of Projects**"
      ]
    },
    {
      "cell_type": "code",
      "metadata": {
        "colab": {
          "base_uri": "https://localhost:8080/"
        },
        "id": "braeyapWpscI",
        "outputId": "7a0778db-b81f-436a-ae52-622f9f78c99e"
      },
      "source": [
        "vectorizer_proj = CountVectorizer(vocabulary=list(sorted_cat_dict.keys()), lowercase=False, binary=True)\r\n",
        "vectorizer_proj.fit(X_train['clean_categories'].values)\r\n",
        "\r\n",
        "categories_one_hot_train = vectorizer_proj.transform(X_train['clean_categories'].values)\r\n",
        "categories_one_hot_test = vectorizer_proj.transform(X_test['clean_categories'].values)\r\n",
        "categories_one_hot_cv = vectorizer_proj.transform(X_cv['clean_categories'].values)\r\n",
        "\r\n",
        "print(vectorizer_proj.get_feature_names())\r\n",
        "\r\n",
        "print(\"*\"*100)\r\n",
        "\r\n",
        "print(\"After vectorizations\")\r\n",
        "print(categories_one_hot_train.shape, y_train.shape)\r\n",
        "print(categories_one_hot_cv.shape, y_cv.shape)\r\n",
        "print(categories_one_hot_test.shape, y_test.shape)\r\n",
        "print(\"*\"*100)\r\n"
      ],
      "execution_count": 59,
      "outputs": [
        {
          "output_type": "stream",
          "text": [
            "['Warmth', 'Care_Hunger', 'History_Civics', 'Music_Arts', 'AppliedLearning', 'SpecialNeeds', 'Health_Sports', 'Math_Science', 'Literacy_Language']\n",
            "****************************************************************************************************\n",
            "After vectorizations\n",
            "(49041, 9) (49041,)\n",
            "(24155, 9) (24155,)\n",
            "(36052, 9) (36052,)\n",
            "****************************************************************************************************\n"
          ],
          "name": "stdout"
        }
      ]
    },
    {
      "cell_type": "markdown",
      "metadata": {
        "id": "YGZdhn4aLFMZ"
      },
      "source": [
        " ### **Subcategories**"
      ]
    },
    {
      "cell_type": "code",
      "metadata": {
        "colab": {
          "base_uri": "https://localhost:8080/"
        },
        "id": "hLnIbIPaLIbS",
        "outputId": "86cc9fe6-66cc-4f81-d425-75e75bc8b1b9"
      },
      "source": [
        "vectorizer_sub_proj = CountVectorizer(vocabulary=list(sorted_sub_cat_dict.keys()), lowercase=False, binary=True)\r\n",
        "vectorizer_sub_proj.fit(X_train['clean_subcategories'].values)\r\n",
        "\r\n",
        "sub_categories_one_hot_train = vectorizer_sub_proj.transform(X_train['clean_subcategories'].values)\r\n",
        "sub_categories_one_hot_test = vectorizer_sub_proj.transform(X_test['clean_subcategories'].values)\r\n",
        "sub_categories_one_hot_cv = vectorizer_sub_proj.transform(X_cv['clean_subcategories'].values)\r\n",
        "\r\n",
        "\r\n",
        "print(vectorizer_sub_proj.get_feature_names())\r\n",
        "print(\"*\"*100)\r\n",
        "\r\n",
        "print(\"After vectorizations\")\r\n",
        "print(sub_categories_one_hot_train.shape, y_train.shape)\r\n",
        "print(sub_categories_one_hot_cv.shape, y_cv.shape)\r\n",
        "print(sub_categories_one_hot_test.shape, y_test.shape)\r\n",
        "print(\"*\"*100)\r\n"
      ],
      "execution_count": 60,
      "outputs": [
        {
          "output_type": "stream",
          "text": [
            "['Economics', 'CommunityService', 'FinancialLiteracy', 'ParentInvolvement', 'Extracurricular', 'Civics_Government', 'ForeignLanguages', 'NutritionEducation', 'Warmth', 'Care_Hunger', 'SocialSciences', 'PerformingArts', 'CharacterEducation', 'TeamSports', 'Other', 'College_CareerPrep', 'Music', 'History_Geography', 'Health_LifeScience', 'EarlyDevelopment', 'ESL', 'Gym_Fitness', 'EnvironmentalScience', 'VisualArts', 'Health_Wellness', 'AppliedSciences', 'SpecialNeeds', 'Literature_Writing', 'Mathematics', 'Literacy']\n",
            "****************************************************************************************************\n",
            "After vectorizations\n",
            "(49041, 30) (49041,)\n",
            "(24155, 30) (24155,)\n",
            "(36052, 30) (36052,)\n",
            "****************************************************************************************************\n"
          ],
          "name": "stdout"
        }
      ]
    },
    {
      "cell_type": "markdown",
      "metadata": {
        "id": "UH0QrrdgMJ-9"
      },
      "source": [
        "### **School states**"
      ]
    },
    {
      "cell_type": "code",
      "metadata": {
        "id": "5MITRtgvMU64"
      },
      "source": [
        "my_counter = Counter()\r\n",
        "for state in train_data['school_state'].values:\r\n",
        "    my_counter.update(state.split())\r\n",
        "\r\n",
        "school_state_cat_dict = dict(my_counter)\r\n",
        "sorted_school_state_cat_dict = dict(sorted(school_state_cat_dict.items(), key=lambda kv: kv[1]))"
      ],
      "execution_count": 61,
      "outputs": []
    },
    {
      "cell_type": "code",
      "metadata": {
        "colab": {
          "base_uri": "https://localhost:8080/"
        },
        "id": "cIawnDSFMc3p",
        "outputId": "8a560bdb-67eb-4416-9fc9-71c474e40bb3"
      },
      "source": [
        "## Using count vectorizer to convert the values into one hot encoded features\r\n",
        "\r\n",
        "vectorizer_states = CountVectorizer(vocabulary=list(sorted_school_state_cat_dict.keys()), lowercase=False, binary=True)\r\n",
        "vectorizer_states.fit(X_train['school_state'].values)\r\n",
        "\r\n",
        "school_state_categories_one_hot_train = vectorizer_states.transform(X_train['school_state'].values)\r\n",
        "school_state_categories_one_hot_test = vectorizer_states.transform(X_test['school_state'].values)\r\n",
        "school_state_categories_one_hot_cv = vectorizer_states.transform(X_cv['school_state'].values)\r\n",
        "\r\n",
        "print(vectorizer_states.get_feature_names())\r\n",
        "\r\n",
        "print(\"*\"*100)\r\n",
        "\r\n",
        "print(\"After vectorizations\")\r\n",
        "print(school_state_categories_one_hot_train.shape, y_train.shape)\r\n",
        "print(school_state_categories_one_hot_cv.shape, y_cv.shape)\r\n",
        "print(school_state_categories_one_hot_test.shape, y_test.shape)\r\n",
        "print(\"*\"*100)\r\n"
      ],
      "execution_count": 62,
      "outputs": [
        {
          "output_type": "stream",
          "text": [
            "['VT', 'WY', 'ND', 'MT', 'RI', 'SD', 'NE', 'DE', 'AK', 'NH', 'WV', 'ME', 'HI', 'DC', 'NM', 'KS', 'IA', 'ID', 'AR', 'CO', 'MN', 'OR', 'KY', 'MS', 'NV', 'MD', 'CT', 'TN', 'UT', 'AL', 'WI', 'VA', 'AZ', 'NJ', 'OK', 'WA', 'MA', 'LA', 'OH', 'MO', 'IN', 'PA', 'MI', 'SC', 'GA', 'IL', 'NC', 'FL', 'NY', 'TX', 'CA']\n",
            "****************************************************************************************************\n",
            "After vectorizations\n",
            "(49041, 51) (49041,)\n",
            "(24155, 51) (24155,)\n",
            "(36052, 51) (36052,)\n",
            "****************************************************************************************************\n"
          ],
          "name": "stdout"
        }
      ]
    },
    {
      "cell_type": "markdown",
      "metadata": {
        "id": "i4K2IXx-Mjol"
      },
      "source": [
        "### **Project grade category**"
      ]
    },
    {
      "cell_type": "code",
      "metadata": {
        "id": "rCyBgD96MnDw"
      },
      "source": [
        "my_counter = Counter()\r\n",
        "for project_grade in preprocessed_project_grade_categories:\r\n",
        "    my_counter.update(project_grade.split())\r\n",
        "\r\n",
        "project_grade_cat_dict = dict(my_counter)\r\n",
        "sorted_project_grade_cat_dict = dict(sorted(project_grade_cat_dict.items(), key=lambda kv: kv[1]))"
      ],
      "execution_count": 63,
      "outputs": []
    },
    {
      "cell_type": "code",
      "metadata": {
        "colab": {
          "base_uri": "https://localhost:8080/"
        },
        "id": "3zQx-APCMsl5",
        "outputId": "8386fb1a-ef4c-4139-91b7-f26410c77707"
      },
      "source": [
        "## we use count vectorizer to convert the values into one hot encoded features\r\n",
        "\r\n",
        "vectorizer_grade = CountVectorizer(vocabulary=list(sorted_project_grade_cat_dict.keys()), lowercase=False, binary=True)\r\n",
        "vectorizer_grade.fit(X_train['project_grade_category'].values)\r\n",
        "\r\n",
        "project_grade_categories_one_hot_train = vectorizer_grade.transform(X_train['project_grade_category'].values)\r\n",
        "project_grade_categories_one_hot_test = vectorizer_grade.transform(X_test['project_grade_category'].values)\r\n",
        "project_grade_categories_one_hot_cv = vectorizer_grade.transform(X_cv['project_grade_category'].values)\r\n",
        "\r\n",
        "print(vectorizer_grade.get_feature_names())\r\n",
        "\r\n",
        "print(\"*\"*100)\r\n",
        "\r\n",
        "print(\"After vectorizations\")\r\n",
        "print(project_grade_categories_one_hot_train.shape, y_train.shape)\r\n",
        "print(project_grade_categories_one_hot_cv.shape, y_cv.shape)\r\n",
        "print(project_grade_categories_one_hot_test.shape, y_test.shape)\r\n",
        "print(\"*\"*100)\r\n"
      ],
      "execution_count": 64,
      "outputs": [
        {
          "output_type": "stream",
          "text": [
            "['9_12', '6_8', '3_5', 'PreK_2']\n",
            "****************************************************************************************************\n",
            "After vectorizations\n",
            "(49041, 4) (49041,)\n",
            "(24155, 4) (24155,)\n",
            "(36052, 4) (36052,)\n",
            "****************************************************************************************************\n"
          ],
          "name": "stdout"
        }
      ]
    },
    {
      "cell_type": "markdown",
      "metadata": {
        "id": "_EYwcXE4MxwR"
      },
      "source": [
        " ### **Teacher prefix**"
      ]
    },
    {
      "cell_type": "code",
      "metadata": {
        "colab": {
          "base_uri": "https://localhost:8080/"
        },
        "id": "Js2I0G0CM1IA",
        "outputId": "dcb1d9df-8636-4581-846c-fadc9f1d4042"
      },
      "source": [
        "vectorizer_teacher = CountVectorizer()\r\n",
        "vectorizer_teacher.fit(X_train['teacher_prefix'].values) # fit has to happen only on train data\r\n",
        "\r\n",
        "# we use the fitted CountVectorizer to convert the text to vector\r\n",
        "teacher_prefix_categories_one_hot_train = vectorizer_teacher.transform(X_train['teacher_prefix'].values)\r\n",
        "teacher_prefix_categories_one_hot_cv = vectorizer_teacher.transform(X_cv['teacher_prefix'].values)\r\n",
        "teacher_prefix_categories_one_hot_test = vectorizer_teacher.transform(X_test['teacher_prefix'].values)\r\n",
        "\r\n",
        "print(\"After vectorizations\")\r\n",
        "print(teacher_prefix_categories_one_hot_train.shape, y_train.shape)\r\n",
        "print(teacher_prefix_categories_one_hot_cv.shape, y_cv.shape)\r\n",
        "print(teacher_prefix_categories_one_hot_test.shape, y_test.shape)\r\n",
        "\r\n",
        "print(\"*\"*100)\r\n",
        "\r\n",
        "print(vectorizer_teacher.get_feature_names())\r\n"
      ],
      "execution_count": 65,
      "outputs": [
        {
          "output_type": "stream",
          "text": [
            "After vectorizations\n",
            "(49041, 6) (49041,)\n",
            "(24155, 6) (24155,)\n",
            "(36052, 6) (36052,)\n",
            "****************************************************************************************************\n",
            "['dr', 'mr', 'mrs', 'ms', 'null', 'teacher']\n"
          ],
          "name": "stdout"
        }
      ]
    },
    {
      "cell_type": "markdown",
      "metadata": {
        "id": "WqnZK178UOi8"
      },
      "source": [
        "## **Reshaping Data**\r\n"
      ]
    },
    {
      "cell_type": "code",
      "metadata": {
        "id": "QY0p-E6yUWR2"
      },
      "source": [
        "price_train = (X_train['price'].values.reshape(-1,1))\r\n",
        "price_cv = (X_cv['price'].values.reshape(-1,1))\r\n",
        "price_test = (X_test['price'].values.reshape(-1,1))\r\n",
        "\r\n",
        "quantity_train =(X_train['quantity'].values.reshape(-1,1))\r\n",
        "quantity_cv = (X_cv['quantity'].values.reshape(-1,1))\r\n",
        "quantity_test = (X_test['quantity'].values.reshape(-1,1))\r\n",
        "\r\n",
        "prev_projects_train = (X_train['teacher_number_of_previously_posted_projects'].values.reshape(-1,1))\r\n",
        "prev_projects_cv = (X_cv['teacher_number_of_previously_posted_projects'].values.reshape(-1,1))\r\n",
        "prev_projects_test = (X_test['teacher_number_of_previously_posted_projects'].values.reshape(-1,1))\r\n",
        "\r\n",
        "title_word_count_train = (X_train['title_word_count'].values.reshape(-1,1))\r\n",
        "title_word_count_cv = (X_cv['title_word_count'].values.reshape(-1,1))\r\n",
        "title_word_count_test = (X_test['title_word_count'].values.reshape(-1,1))\r\n",
        "\r\n",
        "\r\n",
        "essay_word_count_train = (X_train['essay_word_count'].values.reshape(-1,1))\r\n",
        "essay_word_count_cv = (X_cv['essay_word_count'].values.reshape(-1,1))\r\n",
        "essay_word_count_test = (X_test['essay_word_count'].values.reshape(-1,1))"
      ],
      "execution_count": 66,
      "outputs": []
    },
    {
      "cell_type": "code",
      "metadata": {
        "id": "mrr_LLjmrv6-"
      },
      "source": [
        "#For\r\n",
        "from scipy.sparse import hstack\r\n",
        "\r\n",
        "X_tr = hstack((categories_one_hot_train, sub_categories_one_hot_train, school_state_categories_one_hot_train, project_grade_categories_one_hot_train, teacher_prefix_categories_one_hot_train, price_train, quantity_train, prev_projects_train, title_word_count_train, essay_word_count_train, title_bow_train, text_bow_train)).tocsr()\r\n",
        "X_te = hstack((categories_one_hot_test, sub_categories_one_hot_test, school_state_categories_one_hot_test, project_grade_categories_one_hot_test, teacher_prefix_categories_one_hot_test, price_test, quantity_test, prev_projects_test, title_word_count_test, essay_word_count_test, title_bow_test, text_bow_test)).tocsr()\r\n",
        "X_cr = hstack((categories_one_hot_cv, sub_categories_one_hot_cv, school_state_categories_one_hot_cv, project_grade_categories_one_hot_cv, teacher_prefix_categories_one_hot_cv, price_cv, quantity_cv, prev_projects_cv, title_word_count_cv, essay_word_count_cv, title_bow_cv, text_bow_cv)).tocsr()"
      ],
      "execution_count": 205,
      "outputs": []
    },
    {
      "cell_type": "code",
      "metadata": {
        "id": "ANIJQ7ousT8u"
      },
      "source": [
        "#For Set 2\r\n",
        "from scipy.sparse import hstack\r\n",
        "\r\n",
        "X_tr_set2 = hstack((categories_one_hot_train, sub_categories_one_hot_train, school_state_categories_one_hot_train, project_grade_categories_one_hot_train, teacher_prefix_categories_one_hot_train, price_train, quantity_train, prev_projects_train, title_word_count_train, essay_word_count_train, text_tfidf_train, title_tfidf_train)).tocsr()\r\n",
        "X_te_set2 = hstack((categories_one_hot_test, sub_categories_one_hot_test, school_state_categories_one_hot_test, project_grade_categories_one_hot_test, teacher_prefix_categories_one_hot_test, price_test, quantity_test, prev_projects_test, title_word_count_test, essay_word_count_test, text_tfidf_test, title_tfidf_test)).tocsr()\r\n",
        "X_cr_set2 = hstack((categories_one_hot_cv, sub_categories_one_hot_cv, school_state_categories_one_hot_cv, project_grade_categories_one_hot_cv, teacher_prefix_categories_one_hot_cv, price_cv, quantity_cv, prev_projects_cv, title_word_count_cv, essay_word_count_cv, text_tfidf_cv, title_tfidf_cv)).tocsr()"
      ],
      "execution_count": 207,
      "outputs": []
    },
    {
      "cell_type": "code",
      "metadata": {
        "colab": {
          "base_uri": "https://localhost:8080/"
        },
        "id": "aOPUPpRIUlEV",
        "outputId": "f08eb0eb-23fb-4794-878c-2bed537983f7"
      },
      "source": [
        "print(\"Final Data matrix\")\r\n",
        "print(X_tr.shape, y_train.shape)\r\n",
        "print(X_cr.shape, y_cv.shape)\r\n",
        "print(X_te.shape, y_test.shape)\r\n",
        "print(\"*\"*100)"
      ],
      "execution_count": 208,
      "outputs": [
        {
          "output_type": "stream",
          "text": [
            "Final Data matrix\n",
            "(49041, 14394) (49041,)\n",
            "(24155, 14394) (24155,)\n",
            "(36052, 14394) (36052,)\n",
            "****************************************************************************************************\n"
          ],
          "name": "stdout"
        }
      ]
    },
    {
      "cell_type": "code",
      "metadata": {
        "colab": {
          "base_uri": "https://localhost:8080/"
        },
        "id": "0BrvCUNPsaKR",
        "outputId": "16be35c1-9071-487f-b92d-2e0c1e4c8871"
      },
      "source": [
        "print(\"Final Data matrix\")\r\n",
        "print(X_tr_set2.shape, y_train.shape)\r\n",
        "print(X_cr_set2.shape, y_cv.shape)\r\n",
        "print(X_te_set2.shape, y_test.shape)\r\n",
        "print(\"*\"*100)"
      ],
      "execution_count": 209,
      "outputs": [
        {
          "output_type": "stream",
          "text": [
            "Final Data matrix\n",
            "(49041, 14394) (49041,)\n",
            "(24155, 14394) (24155,)\n",
            "(36052, 14394) (36052,)\n",
            "****************************************************************************************************\n"
          ],
          "name": "stdout"
        }
      ]
    },
    {
      "cell_type": "markdown",
      "metadata": {
        "id": "yYHPYadYb3dh"
      },
      "source": [
        "# 4. **Appling NB on different kind of featurization as mentioned in the instructions**\n"
      ]
    },
    {
      "cell_type": "markdown",
      "metadata": {
        "id": "7x8PThkgUEx-"
      },
      "source": [
        "### **4.1 Set 1: categorical, numerical features + preprocessed_eassay (BOW)**"
      ]
    },
    {
      "cell_type": "code",
      "metadata": {
        "colab": {
          "base_uri": "https://localhost:8080/",
          "height": 337
        },
        "id": "Ehu0Mv-ms5js",
        "outputId": "fe7e5e63-82a1-473e-ef32-b289f6a57419"
      },
      "source": [
        "import matplotlib.pyplot as plt\r\n",
        "from sklearn.naive_bayes import MultinomialNB\r\n",
        "from sklearn.metrics import roc_auc_score\r\n",
        "import math\r\n",
        "train_auc = []\r\n",
        "cv_auc = []\r\n",
        "alpha =[0.00001,0.0005, 0.0001,0.005,0.001,0.05,0.01,0.1,0.5,1,5,10,50,100]\r\n",
        "\r\n",
        "\r\n",
        "for i  in   tqdm(alpha):\r\n",
        "    \r\n",
        "    \r\n",
        "    neigh = MultinomialNB(alpha=i)# takes the alpha from the i th list value\r\n",
        "    neigh.fit(X_tr, y_train)# fit the model\r\n",
        "# roc_auc_score(y_true, y_score) the 2nd parameter should be probability estimates of the positive class\r\n",
        "# not the predicted outputs\r\n",
        "    y_train_pred = neigh.predict_proba(X_tr)[:,1]#Return probability estimates for the set1x ,for the class label 1 or +ve.\r\n",
        "    y_cv_pred = neigh.predict_proba(X_cr)[:,1]#Return probability estimates for the setcvx,for the class label 1 or +ve .\r\n",
        "# roc curve\r\n",
        "#Compute Area Under the Receiver Operating Characteristic Curve (ROC AUC) from prediction scores.\r\n",
        "    train_auc.append(roc_auc_score(y_train,y_train_pred))\r\n",
        "    cv_auc.append(roc_auc_score(y_cv, y_cv_pred))\r\n",
        "plt.plot(alpha, train_auc, label='Train AUC')\r\n",
        "plt.plot(alpha, cv_auc, label='CV AUC')\r\n",
        "plt.xscale('log')# we take the log in the x axis\r\n",
        "plt.scatter(alpha, train_auc, label='Train AUC points')\r\n",
        "plt.scatter(alpha, cv_auc, label='CV AUC points')\r\n",
        "plt.xscale('log')\r\n",
        "plt.legend()\r\n",
        "plt.xlabel(\"alpha: hyperparameter\")\r\n",
        "plt.ylabel(\"AUC\")\r\n",
        "plt.title(\"ERROR PLOTS\")\r\n",
        "plt.show()"
      ],
      "execution_count": 210,
      "outputs": [
        {
          "output_type": "stream",
          "text": [
            "100%|██████████| 14/14 [00:02<00:00,  6.31it/s]\n"
          ],
          "name": "stderr"
        },
        {
          "output_type": "display_data",
          "data": {
            "image/png": "[encoded data removed]",
            "text/plain": [
              "<Figure size 432x288 with 1 Axes>"
            ]
          },
          "metadata": {
            "tags": []
          }
        }
      ]
    },
    {
      "cell_type": "code",
      "metadata": {
        "colab": {
          "base_uri": "https://localhost:8080/"
        },
        "id": "P9vyG1gCtLUl",
        "outputId": "76421c60-44ed-41d9-ca26-036a82c84057"
      },
      "source": [
        "\r\n",
        "score_t_cv = [x for x in cv_auc]\r\n",
        "opt_t_cv = alpha[score_t_cv.index(max(score_t_cv))]\r\n",
        "print(\"Maximum AUC score of cv is:\" + ' ' + str(max(score_t_cv)))\r\n",
        "print(\"Corresponding alpha value of cv is:\",opt_t_cv, '\\n')\r\n",
        "best_alp=opt_t_cv\r\n",
        "print(best_alp)"
      ],
      "execution_count": 211,
      "outputs": [
        {
          "output_type": "stream",
          "text": [
            "Maximum AUC score of cv is: 0.6288269438533163\n",
            "Corresponding alpha value of cv is: 1e-05 \n",
            "\n",
            "1e-05\n"
          ],
          "name": "stdout"
        }
      ]
    },
    {
      "cell_type": "markdown",
      "metadata": {
        "id": "pA6-pBSEvd_b"
      },
      "source": [
        "## **Train model using the best hyper-parameter value of alpha**\r\n"
      ]
    },
    {
      "cell_type": "code",
      "metadata": {
        "colab": {
          "base_uri": "https://localhost:8080/",
          "height": 333
        },
        "id": "DWJpAkv7tOoI",
        "outputId": "c685cab5-15ff-4023-c730-00f09c8d48c5"
      },
      "source": [
        "from sklearn.metrics import roc_curve, auc\r\n",
        "neigh = MultinomialNB(alpha=1e-05)\r\n",
        "neigh.fit(X_tr ,y_train)\r\n",
        "# roc_auc_score(y_true, y_score) the 2nd parameter should be probability estimates of the positive class\r\n",
        "# not the predicted outputs\r\n",
        "train_fpr, train_tpr, thresholds = roc_curve(y_train, neigh.predict_proba(X_tr)[:,1])\r\n",
        "test_fpr, test_tpr, thresholds = roc_curve(y_test, neigh.predict_proba(X_te)[:,1])\r\n",
        "plt.plot(train_fpr, train_tpr, label=\"train AUC =\"+str(auc(train_fpr, train_tpr)))\r\n",
        "plt.plot(test_fpr, test_tpr, label=\"test AUC =\"+str(auc(test_fpr, test_tpr)))\r\n",
        "plt.legend()\r\n",
        "plt.xlabel(\"True Positive Rate(TPR)\")\r\n",
        "plt.ylabel(\"False Positive Rate(FPR)\")\r\n",
        "plt.title(\"ROC PLOTS\")\r\n",
        "plt.show()\r\n",
        "print(\"*\"*100)"
      ],
      "execution_count": 216,
      "outputs": [
        {
          "output_type": "display_data",
          "data": {
            "image/png": "[encoded data removed]",
            "text/plain": [
              "<Figure size 432x288 with 1 Axes>"
            ]
          },
          "metadata": {
            "tags": []
          }
        },
        {
          "output_type": "stream",
          "text": [
            "****************************************************************************************************\n"
          ],
          "name": "stdout"
        }
      ]
    },
    {
      "cell_type": "code",
      "metadata": {
        "colab": {
          "base_uri": "https://localhost:8080/",
          "height": 315
        },
        "id": "8Jq7ldXhtzzm",
        "outputId": "9c957a25-e276-4c08-bf39-565f8bd7db76"
      },
      "source": [
        "#https://stackoverflow.com/questions/35572000/how-can-i-plot-a-confusion-matrix\r\n",
        "import seaborn as sns\r\n",
        "import matplotlib.pyplot as plt\r\n",
        "ax= plt.subplot()\r\n",
        "sns.heatmap(confusion_matrix(y_train, neigh.predict(X_tr )), annot=True, ax = ax,fmt='g');\r\n",
        "\r\n",
        "# labels, title and ticks\r\n",
        "ax.set_xlabel('Predicted labels');\r\n",
        "ax.set_ylabel('True labels');\r\n",
        "ax.set_title('Confusion Matrix');"
      ],
      "execution_count": 217,
      "outputs": [
        {
          "output_type": "display_data",
          "data": {
            "image/png": "[encoded data removed]",
            "text/plain": [
              "<Figure size 432x288 with 2 Axes>"
            ]
          },
          "metadata": {
            "tags": []
          }
        }
      ]
    },
    {
      "cell_type": "code",
      "metadata": {
        "colab": {
          "base_uri": "https://localhost:8080/",
          "height": 315
        },
        "id": "_cKZZsdJuPqR",
        "outputId": "b4e8dbc9-bfde-4072-98e4-35beab61c04a"
      },
      "source": [
        "#https://stackoverflow.com/questions/35572000/how-can-i-plot-a-confusion-matrix\r\n",
        "import seaborn as sns\r\n",
        "import matplotlib.pyplot as plt\r\n",
        "ax= plt.subplot()\r\n",
        "sns.heatmap(confusion_matrix(y_test, neigh.predict(X_te )), annot=True, ax = ax,fmt='g'); \r\n",
        "# labels, title and ticks\r\n",
        "ax.set_xlabel('Predicted labels');\r\n",
        "ax.set_ylabel('True labels');\r\n",
        "ax.set_title('Confusion Matrix');"
      ],
      "execution_count": 218,
      "outputs": [
        {
          "output_type": "display_data",
          "data": {
            "image/png": "[encoded data removed]",
            "text/plain": [
              "<Figure size 432x288 with 2 Axes>"
            ]
          },
          "metadata": {
            "tags": []
          }
        }
      ]
    },
    {
      "cell_type": "markdown",
      "metadata": {
        "id": "fNJNPMfXuguz"
      },
      "source": [
        "# **Set 2 : categorical, numerical features + project_title(TFIDF) + preprocessed_essay (TFIDF)**\r\n"
      ]
    },
    {
      "cell_type": "code",
      "metadata": {
        "colab": {
          "base_uri": "https://localhost:8080/",
          "height": 337
        },
        "id": "R5FQK_czuUVJ",
        "outputId": "96e9d852-56eb-4a55-ca81-3a48db56d50a"
      },
      "source": [
        "import matplotlib.pyplot as plt\r\n",
        "from sklearn.naive_bayes import MultinomialNB\r\n",
        "from sklearn.metrics import roc_auc_score\r\n",
        "import math\r\n",
        "train_aucr = []\r\n",
        "cv_aucr = []\r\n",
        "alpha =[0.00001,0.0005, 0.0001,0.005,0.001,0.05,0.01,0.1,0.5,1,5,10,50,100]\r\n",
        "\r\n",
        "\r\n",
        "for i  in   tqdm(alpha):\r\n",
        "    \r\n",
        "    \r\n",
        "    neigh = MultinomialNB(alpha=i)# takes the alpha from the i th list value\r\n",
        "    neigh.fit(X_tr_set2, y_train)# fit the model\r\n",
        "# roc_auc_score(y_true, y_score) the 2nd parameter should be probability estimates of the positive class\r\n",
        "# not the predicted outputs\r\n",
        "    y_train_pred = neigh.predict_proba(X_tr_set2)[:,1]#Return probability estimates for the set1x ,for the class label 1 or +ve.\r\n",
        "    y_cv_pred = neigh.predict_proba(X_cr_set2)[:,1]#Return probability estimates for the setcvx,for the class label 1 or +ve .\r\n",
        "# roc curve\r\n",
        "#Compute Area Under the Receiver Operating Characteristic Curve (ROC AUC) from prediction scores.\r\n",
        "    train_aucr.append(roc_auc_score(y_train,y_train_pred))\r\n",
        "    cv_aucr.append(roc_auc_score(y_cv, y_cv_pred))\r\n",
        "plt.plot(alpha, train_aucr, label='Train AUC')\r\n",
        "plt.plot(alpha, cv_aucr, label='CV AUC')\r\n",
        "plt.xscale('log')# we take the log in the x axis\r\n",
        "plt.scatter(alpha, train_aucr, label='Train AUC points')\r\n",
        "plt.scatter(alpha, cv_aucr, label='CV AUC points')\r\n",
        "plt.xscale('log')\r\n",
        "plt.legend()\r\n",
        "plt.xlabel(\"alpha: hyperparameter\")\r\n",
        "plt.ylabel(\"AUC\")\r\n",
        "plt.title(\"ERROR PLOTS\")\r\n",
        "plt.show()"
      ],
      "execution_count": 221,
      "outputs": [
        {
          "output_type": "stream",
          "text": [
            "100%|██████████| 14/14 [00:02<00:00,  6.63it/s]\n"
          ],
          "name": "stderr"
        },
        {
          "output_type": "display_data",
          "data": {
            "image/png": "[encoded data removed]",
            "text/plain": [
              "<Figure size 432x288 with 1 Axes>"
            ]
          },
          "metadata": {
            "tags": []
          }
        }
      ]
    },
    {
      "cell_type": "code",
      "metadata": {
        "colab": {
          "base_uri": "https://localhost:8080/"
        },
        "id": "oaBkSpm4uxW8",
        "outputId": "08f18872-e656-4d7d-c85d-612b6813f2ab"
      },
      "source": [
        "score = [x for x in cv_aucr]\r\n",
        "opt = alpha[score.index(max(score))]\r\n",
        "print(\"Maximum AUC score of cv is:\" + ' ' + str(max(score)))\r\n",
        "print(\"Corresponding alpha value of cv is:\",opt, '\\n')\r\n",
        "best_alpha=opt\r\n",
        "print(best_alpha)"
      ],
      "execution_count": 223,
      "outputs": [
        {
          "output_type": "stream",
          "text": [
            "Maximum AUC score of cv is: 0.6169090360976947\n",
            "Corresponding alpha value of cv is: 0.0005 \n",
            "\n",
            "0.0005\n"
          ],
          "name": "stdout"
        }
      ]
    },
    {
      "cell_type": "markdown",
      "metadata": {
        "id": "0VMNSed8vlFE"
      },
      "source": [
        "## **Train model using the best hyper-parameter value of alpha**\r\n"
      ]
    },
    {
      "cell_type": "code",
      "metadata": {
        "colab": {
          "base_uri": "https://localhost:8080/",
          "height": 333
        },
        "id": "X55kn8RNvAsS",
        "outputId": "0c20f481-718e-4bfd-87cd-57d7afcf7fde"
      },
      "source": [
        "from sklearn.metrics import roc_curve, auc\r\n",
        "neigh = MultinomialNB(alpha=0.0005)\r\n",
        "neigh.fit(X_tr_set2 ,y_train)\r\n",
        "# roc_auc_score(y_true, y_score) the 2nd parameter should be probability estimates of the positive class\r\n",
        "# not the predicted outputs\r\n",
        "train_fpr, train_tpr, thresholds = roc_curve(y_train, neigh.predict_proba(X_tr_set2)[:,1])\r\n",
        "test_fpr, test_tpr, thresholds = roc_curve(y_test, neigh.predict_proba(X_te_set2)[:,1])\r\n",
        "plt.plot(train_fpr, train_tpr, label=\"train AUC =\"+str(auc(train_fpr, train_tpr)))\r\n",
        "plt.plot(test_fpr, test_tpr, label=\"test AUC =\"+str(auc(test_fpr, test_tpr)))\r\n",
        "plt.legend()\r\n",
        "plt.xlabel(\"True Positive Rate(TPR)\")\r\n",
        "plt.ylabel(\"False Positive Rate(FPR)\")\r\n",
        "plt.title(\"ROC PLOTS\")\r\n",
        "plt.show()\r\n",
        "print(\"*\"*100)"
      ],
      "execution_count": 224,
      "outputs": [
        {
          "output_type": "display_data",
          "data": {
            "image/png": "[encoded data removed]",
            "text/plain": [
              "<Figure size 432x288 with 1 Axes>"
            ]
          },
          "metadata": {
            "tags": []
          }
        },
        {
          "output_type": "stream",
          "text": [
            "****************************************************************************************************\n"
          ],
          "name": "stdout"
        }
      ]
    },
    {
      "cell_type": "code",
      "metadata": {
        "colab": {
          "base_uri": "https://localhost:8080/",
          "height": 315
        },
        "id": "Z5fiXYrRvw6T",
        "outputId": "e02a4740-b169-408b-98e5-ae67a565da9e"
      },
      "source": [
        "ax= plt.subplot()\r\n",
        "sns.heatmap(confusion_matrix(y_train, neigh.predict(X_tr_set2 )), annot=True, ax = ax,fmt='g');\r\n",
        "\r\n",
        "ax.set_xlabel('Predicted labels');\r\n",
        "ax.set_ylabel('True labels');\r\n",
        "ax.set_title('Confusion Matrix');"
      ],
      "execution_count": 225,
      "outputs": [
        {
          "output_type": "display_data",
          "data": {
            "image/png": "[encoded data removed]",
            "text/plain": [
              "<Figure size 432x288 with 2 Axes>"
            ]
          },
          "metadata": {
            "tags": []
          }
        }
      ]
    },
    {
      "cell_type": "code",
      "metadata": {
        "colab": {
          "base_uri": "https://localhost:8080/",
          "height": 315
        },
        "id": "hQYo4GJrv3_I",
        "outputId": "50244a2d-6167-4823-de74-b6f7d90c0880"
      },
      "source": [
        "ax= plt.subplot()\r\n",
        "sns.heatmap(confusion_matrix(y_test, neigh.predict(X_te_set2 )), annot=True, ax = ax,fmt='g');\r\n",
        "ax.set_xlabel('Predicted labels');\r\n",
        "ax.set_ylabel('True labels');\r\n",
        "ax.set_title('Confusion Matrix');"
      ],
      "execution_count": 226,
      "outputs": [
        {
          "output_type": "display_data",
          "data": {
            "image/png": "[encoded data removed]",
            "text/plain": [
              "<Figure size 432x288 with 2 Axes>"
            ]
          },
          "metadata": {
            "tags": []
          }
        }
      ]
    },
    {
      "cell_type": "markdown",
      "metadata": {
        "id": "f8arTkvlwplI"
      },
      "source": [
        "# Top 20 features (negatives and positives)\r\n"
      ]
    },
    {
      "cell_type": "markdown",
      "metadata": {
        "id": "jmc9oVYXwyJJ"
      },
      "source": [
        "### **for BOW**"
      ]
    },
    {
      "cell_type": "code",
      "metadata": {
        "id": "WJnHyOp1x9DF"
      },
      "source": [
        "\r\n",
        "nb_bow = MultinomialNB(alpha = 1e-05,class_prior=[0.5,0.5])\r\n",
        "\r\n",
        "nb_bow.fit(X_tr, y_train)\r\n",
        "\r\n",
        "bow_features_names1 = []\r\n",
        "\r\n",
        "for a in vectorizer_proj.get_feature_names() :\r\n",
        "    bow_features_names1.append(a)\r\n",
        "\r\n",
        "for b in vectorizer_sub_proj.get_feature_names() :\r\n",
        "    bow_features_names1.append(b)\r\n",
        "\r\n",
        "for c in vectorizer_states.get_feature_names() :\r\n",
        "    bow_features_names1.append(c)\r\n",
        "\r\n",
        "for d in vectorizer_grade.get_feature_names() :\r\n",
        "    bow_features_names1.append(d)\r\n",
        "\r\n",
        "for e in vectorizer_teacher.get_feature_names() :\r\n",
        "    bow_features_names1.append(e)\r\n",
        "\r\n",
        "bow_features_names1.append(\"price\")\r\n",
        "\r\n",
        "bow_features_names1.append(\"quantity\")\r\n",
        "\r\n",
        "\r\n",
        "bow_features_names1.append(\"prev_proposed_projects\")\r\n",
        "\r\n",
        "bow_features_names1.append(\"title_word_count\")\r\n",
        "\r\n",
        "bow_features_names1.append(\"essay_word_count\")\r\n",
        "\r\n",
        "len(bow_features_names1)\r\n",
        "for f in vectorizer_bow_title.get_feature_names() :\r\n",
        "    bow_features_names1.append(f)\r\n",
        "for g in vectorizer_bow_essay.get_feature_names() :\r\n",
        "    bow_features_names1.append(g)"
      ],
      "execution_count": 252,
      "outputs": []
    },
    {
      "cell_type": "code",
      "metadata": {
        "colab": {
          "base_uri": "https://localhost:8080/",
          "height": 639
        },
        "id": "UI_9WKsJyrbj",
        "outputId": "890fc94e-0a78-4e68-c16c-31b67dedff7e"
      },
      "source": [
        "final_bow_features = pd.DataFrame({'feature_prob_estimates' : bow_features_probs, 'feature_names': bow_features_names1})\r\n",
        "a =final_bow_features.sort_values(by = ['feature_prob_estimates'], ascending = False)\r\n",
        "  # https://github.com/shashimanyam/NaiveBayes (hints have taken from here)\r\n",
        "a.head(20)"
      ],
      "execution_count": 257,
      "outputs": [
        {
          "output_type": "execute_result",
          "data": {
            "text/html": [
              "<div>\n",
              "<style scoped>\n",
              "    .dataframe tbody tr th:only-of-type {\n",
              "        vertical-align: middle;\n",
              "    }\n",
              "\n",
              "    .dataframe tbody tr th {\n",
              "        vertical-align: top;\n",
              "    }\n",
              "\n",
              "    .dataframe thead th {\n",
              "        text-align: right;\n",
              "    }\n",
              "</style>\n",
              "<table border=\"1\" class=\"dataframe\">\n",
              "  <thead>\n",
              "    <tr style=\"text-align: right;\">\n",
              "      <th></th>\n",
              "      <th>feature_prob_estimates</th>\n",
              "      <th>feature_names</th>\n",
              "    </tr>\n",
              "  </thead>\n",
              "  <tbody>\n",
              "    <tr>\n",
              "      <th>100</th>\n",
              "      <td>-0.895607</td>\n",
              "      <td>price</td>\n",
              "    </tr>\n",
              "    <tr>\n",
              "      <th>104</th>\n",
              "      <td>-1.289947</td>\n",
              "      <td>essay_word_count</td>\n",
              "    </tr>\n",
              "    <tr>\n",
              "      <th>101</th>\n",
              "      <td>-3.772599</td>\n",
              "      <td>quantity</td>\n",
              "    </tr>\n",
              "    <tr>\n",
              "      <th>13268</th>\n",
              "      <td>-4.400951</td>\n",
              "      <td>to</td>\n",
              "    </tr>\n",
              "    <tr>\n",
              "      <th>2847</th>\n",
              "      <td>-4.557382</td>\n",
              "      <td>and</td>\n",
              "    </tr>\n",
              "    <tr>\n",
              "      <th>13113</th>\n",
              "      <td>-4.640449</td>\n",
              "      <td>the</td>\n",
              "    </tr>\n",
              "    <tr>\n",
              "      <th>102</th>\n",
              "      <td>-4.854687</td>\n",
              "      <td>prev_proposed_projects</td>\n",
              "    </tr>\n",
              "    <tr>\n",
              "      <th>12700</th>\n",
              "      <td>-4.867208</td>\n",
              "      <td>students</td>\n",
              "    </tr>\n",
              "    <tr>\n",
              "      <th>9644</th>\n",
              "      <td>-5.126496</td>\n",
              "      <td>of</td>\n",
              "    </tr>\n",
              "    <tr>\n",
              "      <th>103</th>\n",
              "      <td>-5.167163</td>\n",
              "      <td>title_word_count</td>\n",
              "    </tr>\n",
              "    <tr>\n",
              "      <th>7724</th>\n",
              "      <td>-5.172107</td>\n",
              "      <td>in</td>\n",
              "    </tr>\n",
              "    <tr>\n",
              "      <th>9335</th>\n",
              "      <td>-5.280425</td>\n",
              "      <td>my</td>\n",
              "    </tr>\n",
              "    <tr>\n",
              "      <th>2981</th>\n",
              "      <td>-5.446836</td>\n",
              "      <td>are</td>\n",
              "    </tr>\n",
              "    <tr>\n",
              "      <th>13149</th>\n",
              "      <td>-5.484415</td>\n",
              "      <td>they</td>\n",
              "    </tr>\n",
              "    <tr>\n",
              "      <th>13118</th>\n",
              "      <td>-5.640526</td>\n",
              "      <td>their</td>\n",
              "    </tr>\n",
              "    <tr>\n",
              "      <th>14174</th>\n",
              "      <td>-5.656400</td>\n",
              "      <td>will</td>\n",
              "    </tr>\n",
              "    <tr>\n",
              "      <th>8122</th>\n",
              "      <td>-5.707055</td>\n",
              "      <td>is</td>\n",
              "    </tr>\n",
              "    <tr>\n",
              "      <th>13111</th>\n",
              "      <td>-5.807129</td>\n",
              "      <td>that</td>\n",
              "    </tr>\n",
              "    <tr>\n",
              "      <th>9780</th>\n",
              "      <td>-5.825393</td>\n",
              "      <td>our</td>\n",
              "    </tr>\n",
              "    <tr>\n",
              "      <th>6685</th>\n",
              "      <td>-5.828280</td>\n",
              "      <td>for</td>\n",
              "    </tr>\n",
              "  </tbody>\n",
              "</table>\n",
              "</div>"
            ],
            "text/plain": [
              "       feature_prob_estimates           feature_names\n",
              "100                 -0.895607                   price\n",
              "104                 -1.289947        essay_word_count\n",
              "101                 -3.772599                quantity\n",
              "13268               -4.400951                      to\n",
              "2847                -4.557382                     and\n",
              "13113               -4.640449                     the\n",
              "102                 -4.854687  prev_proposed_projects\n",
              "12700               -4.867208                students\n",
              "9644                -5.126496                      of\n",
              "103                 -5.167163        title_word_count\n",
              "7724                -5.172107                      in\n",
              "9335                -5.280425                      my\n",
              "2981                -5.446836                     are\n",
              "13149               -5.484415                    they\n",
              "13118               -5.640526                   their\n",
              "14174               -5.656400                    will\n",
              "8122                -5.707055                      is\n",
              "13111               -5.807129                    that\n",
              "9780                -5.825393                     our\n",
              "6685                -5.828280                     for"
            ]
          },
          "metadata": {
            "tags": []
          },
          "execution_count": 257
        }
      ]
    },
    {
      "cell_type": "code",
      "metadata": {
        "colab": {
          "base_uri": "https://localhost:8080/",
          "height": 639
        },
        "id": "mOSbv9Zlywz5",
        "outputId": "1ef15711-631c-4070-80e3-e7af16ad1ce2"
      },
      "source": [
        "bow_features_probs_pos = []\r\n",
        "for a in range(14394):\r\n",
        "    bow_features_probs_pos.append(nb.feature_log_prob_[1,a] )# negative feature probabilities\r\n",
        "final_bow_features = pd.DataFrame({'feature_prob_estimates_pos' : bow_features_probs_pos,'feature_names' : bow_features_names1})\r\n",
        "neg =final_bow_features.sort_values(by = ['feature_prob_estimates_pos'], ascending = False)\r\n",
        "neg.head(20)"
      ],
      "execution_count": 259,
      "outputs": [
        {
          "output_type": "execute_result",
          "data": {
            "text/html": [
              "<div>\n",
              "<style scoped>\n",
              "    .dataframe tbody tr th:only-of-type {\n",
              "        vertical-align: middle;\n",
              "    }\n",
              "\n",
              "    .dataframe tbody tr th {\n",
              "        vertical-align: top;\n",
              "    }\n",
              "\n",
              "    .dataframe thead th {\n",
              "        text-align: right;\n",
              "    }\n",
              "</style>\n",
              "<table border=\"1\" class=\"dataframe\">\n",
              "  <thead>\n",
              "    <tr style=\"text-align: right;\">\n",
              "      <th></th>\n",
              "      <th>feature_prob_estimates_pos</th>\n",
              "      <th>feature_names</th>\n",
              "    </tr>\n",
              "  </thead>\n",
              "  <tbody>\n",
              "    <tr>\n",
              "      <th>100</th>\n",
              "      <td>-1.073479</td>\n",
              "      <td>price</td>\n",
              "    </tr>\n",
              "    <tr>\n",
              "      <th>104</th>\n",
              "      <td>-1.181888</td>\n",
              "      <td>essay_word_count</td>\n",
              "    </tr>\n",
              "    <tr>\n",
              "      <th>101</th>\n",
              "      <td>-3.922466</td>\n",
              "      <td>quantity</td>\n",
              "    </tr>\n",
              "    <tr>\n",
              "      <th>102</th>\n",
              "      <td>-4.259604</td>\n",
              "      <td>prev_proposed_projects</td>\n",
              "    </tr>\n",
              "    <tr>\n",
              "      <th>13268</th>\n",
              "      <td>-4.293541</td>\n",
              "      <td>to</td>\n",
              "    </tr>\n",
              "    <tr>\n",
              "      <th>2847</th>\n",
              "      <td>-4.458706</td>\n",
              "      <td>and</td>\n",
              "    </tr>\n",
              "    <tr>\n",
              "      <th>13113</th>\n",
              "      <td>-4.523625</td>\n",
              "      <td>the</td>\n",
              "    </tr>\n",
              "    <tr>\n",
              "      <th>12700</th>\n",
              "      <td>-4.743542</td>\n",
              "      <td>students</td>\n",
              "    </tr>\n",
              "    <tr>\n",
              "      <th>9644</th>\n",
              "      <td>-5.028639</td>\n",
              "      <td>of</td>\n",
              "    </tr>\n",
              "    <tr>\n",
              "      <th>103</th>\n",
              "      <td>-5.092388</td>\n",
              "      <td>title_word_count</td>\n",
              "    </tr>\n",
              "    <tr>\n",
              "      <th>7724</th>\n",
              "      <td>-5.107240</td>\n",
              "      <td>in</td>\n",
              "    </tr>\n",
              "    <tr>\n",
              "      <th>9335</th>\n",
              "      <td>-5.159103</td>\n",
              "      <td>my</td>\n",
              "    </tr>\n",
              "    <tr>\n",
              "      <th>2981</th>\n",
              "      <td>-5.367243</td>\n",
              "      <td>are</td>\n",
              "    </tr>\n",
              "    <tr>\n",
              "      <th>13149</th>\n",
              "      <td>-5.405361</td>\n",
              "      <td>they</td>\n",
              "    </tr>\n",
              "    <tr>\n",
              "      <th>13118</th>\n",
              "      <td>-5.524323</td>\n",
              "      <td>their</td>\n",
              "    </tr>\n",
              "    <tr>\n",
              "      <th>14174</th>\n",
              "      <td>-5.528721</td>\n",
              "      <td>will</td>\n",
              "    </tr>\n",
              "    <tr>\n",
              "      <th>8122</th>\n",
              "      <td>-5.637254</td>\n",
              "      <td>is</td>\n",
              "    </tr>\n",
              "    <tr>\n",
              "      <th>6685</th>\n",
              "      <td>-5.677768</td>\n",
              "      <td>for</td>\n",
              "    </tr>\n",
              "    <tr>\n",
              "      <th>9780</th>\n",
              "      <td>-5.702097</td>\n",
              "      <td>our</td>\n",
              "    </tr>\n",
              "    <tr>\n",
              "      <th>7301</th>\n",
              "      <td>-5.752273</td>\n",
              "      <td>have</td>\n",
              "    </tr>\n",
              "  </tbody>\n",
              "</table>\n",
              "</div>"
            ],
            "text/plain": [
              "       feature_prob_estimates_pos           feature_names\n",
              "100                     -1.073479                   price\n",
              "104                     -1.181888        essay_word_count\n",
              "101                     -3.922466                quantity\n",
              "102                     -4.259604  prev_proposed_projects\n",
              "13268                   -4.293541                      to\n",
              "2847                    -4.458706                     and\n",
              "13113                   -4.523625                     the\n",
              "12700                   -4.743542                students\n",
              "9644                    -5.028639                      of\n",
              "103                     -5.092388        title_word_count\n",
              "7724                    -5.107240                      in\n",
              "9335                    -5.159103                      my\n",
              "2981                    -5.367243                     are\n",
              "13149                   -5.405361                    they\n",
              "13118                   -5.524323                   their\n",
              "14174                   -5.528721                    will\n",
              "8122                    -5.637254                      is\n",
              "6685                    -5.677768                     for\n",
              "9780                    -5.702097                     our\n",
              "7301                    -5.752273                    have"
            ]
          },
          "metadata": {
            "tags": []
          },
          "execution_count": 259
        }
      ]
    },
    {
      "cell_type": "markdown",
      "metadata": {
        "id": "e07E3JWm3Vr2"
      },
      "source": [
        "# **Conclusion**"
      ]
    },
    {
      "cell_type": "code",
      "metadata": {
        "colab": {
          "base_uri": "https://localhost:8080/"
        },
        "id": "0kR-D-Z60KVs",
        "outputId": "30cbb2aa-d7de-4984-b9b8-a0065852f0e4"
      },
      "source": [
        "from prettytable import PrettyTable\r\n",
        "tb = PrettyTable()\r\n",
        "tb.field_names= (\"Vectorizer\", \"Model\", \"HyperParameter\", \"AUC\")\r\n",
        "tb.add_row([\"BOW\", \"Naive Bayes\",1e-05, 63])\r\n",
        "tb.add_row([\"Tf-Idf\", \"Naive Bayes\", 0.0005, 62])\r\n",
        "print(tb.get_string(titles = \"KNN - Observations\"))"
      ],
      "execution_count": 261,
      "outputs": [
        {
          "output_type": "stream",
          "text": [
            "+------------+-------------+----------------+-----+\n",
            "| Vectorizer |    Model    | HyperParameter | AUC |\n",
            "+------------+-------------+----------------+-----+\n",
            "|    BOW     | Naive Bayes |     1e-05      |  63 |\n",
            "|   Tf-Idf   | Naive Bayes |     0.0005     |  62 |\n",
            "+------------+-------------+----------------+-----+\n"
          ],
          "name": "stdout"
        }
      ]
    }
  ]
}