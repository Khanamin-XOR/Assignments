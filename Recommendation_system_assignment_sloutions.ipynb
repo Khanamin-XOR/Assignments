{
  "nbformat": 4,
  "nbformat_minor": 0,
  "metadata": {
    "colab": {
      "name": "Recommendation_system_assignment.ipynb",
      "provenance": [],
      "collapsed_sections": []
    },
    "kernelspec": {
      "name": "python3",
      "display_name": "Python 3"
    }
  },
  "cells": [
    {
      "cell_type": "markdown",
      "metadata": {
        "id": "YeM0ZBWUVtXR"
      },
      "source": [
        "# <font color='red'>SGD Algorithm to predict movie ratings</font>"
      ]
    },
    {
      "cell_type": "markdown",
      "metadata": {
        "id": "M2vyJqSlmmjM"
      },
      "source": [
        "**There will be some functions that start with the word \"grader\" ex: grader_matrix(), grader_mean(), grader_dim() etc, you should not change those function definition.<br><br>Every Grader function has to return True.**"
      ]
    },
    {
      "cell_type": "markdown",
      "metadata": {
        "id": "AL6njTf8WBO0"
      },
      "source": [
        "<pre>\n",
        "1. Download the data from <a href='https://drive.google.com/open?id=1-1z7iDB52cB6_JpO7Dqa-eOYSs-mivpq'> here </a>\n",
        "2. The data will be of this format, each data point is represented as a triplet of user_id, movie_id and rating \n",
        "<table>\n",
        "<tr><th>user_id</th><th>movie_id</th><th>rating</th></tr>\n",
        "<tr><td>77</td><td>236</td><td>3</td></tr>\n",
        "<tr><td>471</td><td>208</td><td>5</td></tr>\n",
        "<tr><td>641</td><td>401</td><td>4</td></tr>\n",
        "<tr><td>31</td><td>298</td><td>4</td></tr>\n",
        "<tr><td>58</td><td>504</td><td>5</td></tr>\n",
        "<tr><td>235</td><td>727</td><td>5</td></tr>\n",
        "</table>"
      ]
    },
    {
      "cell_type": "markdown",
      "metadata": {
        "id": "73dhFsT0WSSB"
      },
      "source": [
        "## <font color='red'>Task 1</font>"
      ]
    },
    {
      "cell_type": "markdown",
      "metadata": {
        "id": "HY0frS6EWaEV"
      },
      "source": [
        "<font color='red'><b>Predict the rating for a given (user_id, movie_id) pair </b> </font>\n"
      ]
    },
    {
      "cell_type": "markdown",
      "metadata": {
        "id": "R-ISYxaVbT8L"
      },
      "source": [
        "Predicted rating $\\hat{y}_{ij}$ for user i, movied j pair is calcuated as $\\hat{y}_{ij} = \\mu + b_i + c_j + u_i^T v_j$ , here we will be finding the best values of $b_{i}$ and $c_{j}$ using SGD algorithm with the optimization problem for N users and M movies is defined as"
      ]
    },
    {
      "cell_type": "markdown",
      "metadata": {
        "id": "8Aj8SXeQWlZd"
      },
      "source": [
        "$$\n",
        "L = \\min_{ b, c, \\{ u_i \\}_{i=1}^N, \\{ v_j \\}_{j=1}^M}\n",
        "\\quad\n",
        "\\alpha \\Big(\n",
        "    \\sum_{j} \\sum_{k} v_{jk}^2 \n",
        "    + \\sum_{i} \\sum_{k} u_{ik}^2 \n",
        "    + \\sum_{i} b_i^2\n",
        "    + \\sum_{j} c_i^2\n",
        "    \\Big)\n",
        "+ \\sum_{i,j \\in \\mathcal{I}^{\\text{train}}}\n",
        "    (y_{ij} - \\mu - b_i - c_j - u_i^T v_j)^2\n",
        "$$"
      ]
    },
    {
      "cell_type": "markdown",
      "metadata": {
        "id": "2Q5bnWyZXrM7"
      },
      "source": [
        "<ul>\n",
        "<li><span class=\"math\">\\(\\mu\\)</span> : scalar mean rating</li>\n",
        "<li><span class=\"math\">\\(b_i\\)</span> : scalar bias term for user <span class=\"math\">\\(i\\)</span></li>\n",
        "<li><span class=\"math\">\\(c_j\\)</span> : scalar bias term for movie <span class=\"math\">\\(j\\)</span></li>\n",
        "<li><span class=\"math\">\\(u_i\\)</span> : K-dimensional vector for user <span class=\"math\">\\(i\\)</span></li>\n",
        "<li><span class=\"math\">\\(v_j\\)</span> : K-dimensional vector for movie <span class=\"math\">\\(j\\)</span></li>\n",
        "</ul>\n",
        "\n",
        " $ \\ $\n"
      ]
    },
    {
      "cell_type": "markdown",
      "metadata": {
        "id": "q1cf4CunbEr4"
      },
      "source": [
        "\n",
        "\n",
        "\n",
        "*.  We will be giving you some functions, please write code in that functions only.\n",
        "\n",
        "*.  After every function, we will be giving you expected output, please make sure that you get that output. \n",
        "\n",
        "\n",
        "\n"
      ]
    },
    {
      "cell_type": "markdown",
      "metadata": {
        "id": "ZWQyB5hfy3u7"
      },
      "source": [
        "1. Construct adjacency matrix with the given data, assuming its  <a href='https://en.wikipedia.org/wiki/Bipartite_graph'> weighted un-directed bi-partited graph</a> and the weight of each edge is the rating given by user to the movie\n",
        "\n",
        "<img src='https://i.imgur.com/rmUCGMb.jpg' width=200>\n",
        "\n",
        "   you can construct this matrix like $A[i][j]=r_{ij}$ here $i$ is user_id, $j$ is movie_id and $r_{ij}$ is rating given by user $i$ to the movie $j$\n",
        "\n",
        "   Hint : you can create adjacency matrix using <a href='https://docs.scipy.org/doc/scipy/reference/generated/scipy.sparse.csr_matrix.html'> csr_matrix</a>\n",
        "\n",
        "2. We will Apply SVD decomposition on the Adjaceny matrix <a href='https://stackoverflow.com/a/31528944/4084039'>link1</a>, <a href='https://machinelearningmastery.com/singular-value-decomposition-for-machine-learning/'> link2</a> and get three matrices $U, \\sum, V$ such that $U \\times \\sum \\times V^T = A$, <br> \n",
        "if $A$ is of dimensions $N \\times M$ then <br>\n",
        "U is of $N \\times k$, <br>\n",
        "$\\sum$ is of $k \\times k$ and <br>\n",
        "$V$ is $M \\times k$ dimensions. <br>\n",
        "\n",
        "   *.  So the matrix $U$ can be represented as matrix representation of users, where each row $u_{i}$ represents a k-dimensional vector for a user\n",
        "\n",
        "   *. So the matrix $V$ can be represented as matrix representation of movies, where each row $v_{j}$ represents a k-dimensional vector for a movie.\n",
        "3. Compute $\\mu$ , $\\mu$  represents the mean of all the rating given in the dataset.(write your code in <font color='blue'>def m_u()</font>)\n",
        "4. For each unique user initilize a bias value $B_{i}$ to zero, so if we have $N$ users $B$ will be a $N$ dimensional vector, the $i^{th}$ value of the $B$ will corresponds to the bias term for $i^{th}$ user (write your code in <font color='blue'>def initialize()</font>)\n",
        "\n",
        "5. For each unique movie initilize a bias value $C_{j}$ zero, so if we have $M$ movies $C$ will be a $M$ dimensional vector, the $j^{th}$ value of the $C$ will corresponds to the bias term for $j^{th}$ movie (write your code in <font color='blue'>def initialize()</font>)\n",
        "\n",
        "6. Compute dL/db_i (Write you code in <font color='blue'> def derivative_db()</font>)\n",
        "7. Compute dL/dc_j(write your code in <font color='blue'> def derivative_dc()</font>\n",
        "\n",
        "8. Print the mean squared error with predicted ratings.\n",
        "\n",
        "<pre>\n",
        "for each epoch:\n",
        "    for each pair of (user, movie):\n",
        "        b_i =  b_i - learning_rate * dL/db_i\n",
        "        c_j =  c_j - learning_rate * dL/dc_j\n",
        "predict the ratings with formula\n",
        "</pre>\n",
        "$\\hat{y}_{ij} = \\mu + b_i + c_j + \\text{dot_product}(u_i , v_j) $\n",
        "\n",
        "9. you can choose any learning rate and regularization term in the range $10^{-3}  \\text{ to } 10^2$  <br>\n",
        "  \n",
        "10. __bonus__: instead of using SVD decomposition you can learn the vectors $u_i$, $v_j$ with the help of SGD algo similar to $b_i$ and $c_j$ "
      ]
    },
    {
      "cell_type": "code",
      "metadata": {
        "id": "1VRY0BUe3GMm"
      },
      "source": [
        ""
      ],
      "execution_count": null,
      "outputs": []
    },
    {
      "cell_type": "markdown",
      "metadata": {
        "id": "3-aBnRepA6gy"
      },
      "source": [
        "<br>"
      ]
    },
    {
      "cell_type": "markdown",
      "metadata": {
        "id": "IP_6xMAZA4mE"
      },
      "source": [
        " # <font color='red'>Task 2 </font>"
      ]
    },
    {
      "cell_type": "markdown",
      "metadata": {
        "id": "-9HCN_3WA2au"
      },
      "source": [
        "As we know U is the learned matrix of user vectors, with its i-th row as the vector ui for user i. Each row of U can be seen as a \"feature vector\" for a particular user.\n",
        "\n",
        "The question we'd like to investigate is this: do our computed per-user features that are optimized for predicting movie ratings contain anything to do with gender?\n",
        "\n",
        "The provided data file <a href='https://drive.google.com/open?id=1PHFdJh_4gIPiLH5Q4UErH8GK71hTrzlY'>user_info.csv</a> contains an is_male column indicating which users in the dataset are male. Can you predict this signal given the features U?\n",
        "\n",
        "\n",
        "> __Note 1__ : there is no train test split in the data, the goal of this assignment is to give an intution about how to do matrix factorization with the help of SGD and application of truncated SVD. for better understanding of the collabarative fillerting please check netflix case study. <br><br>\n",
        "> __Note 2__ : Check if scaling of $U$, $V$ matrices improve the metric "
      ]
    },
    {
      "cell_type": "markdown",
      "metadata": {
        "id": "ovFCo1JCBIXM"
      },
      "source": [
        "<br>\n",
        "\n",
        "\n",
        "<br>"
      ]
    },
    {
      "cell_type": "markdown",
      "metadata": {
        "id": "iVJo-3njBQLf"
      },
      "source": [
        "<font color='red'> Reading the csv file </font>"
      ]
    },
    {
      "cell_type": "code",
      "metadata": {
        "id": "hEhmfRD637EW",
        "colab": {
          "base_uri": "https://localhost:8080/",
          "height": 195
        },
        "outputId": "c0c4601f-c9c9-4c9e-ac7a-20db3200e254"
      },
      "source": [
        "import pandas as pd\n",
        "data=pd.read_csv('ratings_train.csv')\n",
        "data.head()"
      ],
      "execution_count": 3,
      "outputs": [
        {
          "output_type": "execute_result",
          "data": {
            "text/html": [
              "<div>\n",
              "<style scoped>\n",
              "    .dataframe tbody tr th:only-of-type {\n",
              "        vertical-align: middle;\n",
              "    }\n",
              "\n",
              "    .dataframe tbody tr th {\n",
              "        vertical-align: top;\n",
              "    }\n",
              "\n",
              "    .dataframe thead th {\n",
              "        text-align: right;\n",
              "    }\n",
              "</style>\n",
              "<table border=\"1\" class=\"dataframe\">\n",
              "  <thead>\n",
              "    <tr style=\"text-align: right;\">\n",
              "      <th></th>\n",
              "      <th>user_id</th>\n",
              "      <th>item_id</th>\n",
              "      <th>rating</th>\n",
              "    </tr>\n",
              "  </thead>\n",
              "  <tbody>\n",
              "    <tr>\n",
              "      <th>0</th>\n",
              "      <td>772</td>\n",
              "      <td>36</td>\n",
              "      <td>3</td>\n",
              "    </tr>\n",
              "    <tr>\n",
              "      <th>1</th>\n",
              "      <td>471</td>\n",
              "      <td>228</td>\n",
              "      <td>5</td>\n",
              "    </tr>\n",
              "    <tr>\n",
              "      <th>2</th>\n",
              "      <td>641</td>\n",
              "      <td>401</td>\n",
              "      <td>4</td>\n",
              "    </tr>\n",
              "    <tr>\n",
              "      <th>3</th>\n",
              "      <td>312</td>\n",
              "      <td>98</td>\n",
              "      <td>4</td>\n",
              "    </tr>\n",
              "    <tr>\n",
              "      <th>4</th>\n",
              "      <td>58</td>\n",
              "      <td>504</td>\n",
              "      <td>5</td>\n",
              "    </tr>\n",
              "  </tbody>\n",
              "</table>\n",
              "</div>"
            ],
            "text/plain": [
              "   user_id  item_id  rating\n",
              "0      772       36       3\n",
              "1      471      228       5\n",
              "2      641      401       4\n",
              "3      312       98       4\n",
              "4       58      504       5"
            ]
          },
          "metadata": {
            "tags": []
          },
          "execution_count": 3
        }
      ]
    },
    {
      "cell_type": "code",
      "metadata": {
        "id": "66ibGJ74hCde",
        "colab": {
          "base_uri": "https://localhost:8080/"
        },
        "outputId": "80edad09-9fca-42aa-ed55-9800ec8e1829"
      },
      "source": [
        "data.shape"
      ],
      "execution_count": 4,
      "outputs": [
        {
          "output_type": "execute_result",
          "data": {
            "text/plain": [
              "(89992, 3)"
            ]
          },
          "metadata": {
            "tags": []
          },
          "execution_count": 4
        }
      ]
    },
    {
      "cell_type": "markdown",
      "metadata": {
        "id": "mvB8SDS_hW03"
      },
      "source": [
        "<font color='red'>Create your adjacency matrix </font>"
      ]
    },
    {
      "cell_type": "code",
      "metadata": {
        "id": "t44MNT40hZQW"
      },
      "source": [
        "from scipy.sparse import csr_matrix\n",
        "adjacency_matrix = csr_matrix((data.rating.values, (data.user_id.values, data.item_id.values)),)"
      ],
      "execution_count": 60,
      "outputs": []
    },
    {
      "cell_type": "code",
      "metadata": {
        "id": "-mCgC0WbhZTO",
        "colab": {
          "base_uri": "https://localhost:8080/"
        },
        "outputId": "3245c436-4db9-439b-c4da-e10359e88fff"
      },
      "source": [
        "adjacency_matrix.shape"
      ],
      "execution_count": 61,
      "outputs": [
        {
          "output_type": "execute_result",
          "data": {
            "text/plain": [
              "(943, 1681)"
            ]
          },
          "metadata": {
            "tags": []
          },
          "execution_count": 61
        }
      ]
    },
    {
      "cell_type": "markdown",
      "metadata": {
        "id": "4acJD4ujEtD6"
      },
      "source": [
        "<font color='cyan'>Grader function - 1</font>"
      ]
    },
    {
      "cell_type": "code",
      "metadata": {
        "colab": {
          "base_uri": "https://localhost:8080/"
        },
        "id": "_RN3q4-qp9Uh",
        "outputId": "85bbe287-d382-4c67-bcbe-8fe493cc3092"
      },
      "source": [
        "def grader_matrix(matrix):\n",
        "  assert(matrix.shape==(943,1681))\n",
        "  return True\n",
        "grader_matrix(adjacency_matrix)"
      ],
      "execution_count": 62,
      "outputs": [
        {
          "output_type": "execute_result",
          "data": {
            "text/plain": [
              "True"
            ]
          },
          "metadata": {
            "tags": []
          },
          "execution_count": 62
        }
      ]
    },
    {
      "cell_type": "markdown",
      "metadata": {
        "id": "gXDf1RCUBsYN"
      },
      "source": [
        "<font color='red'> SVD decompostion</font>"
      ]
    },
    {
      "cell_type": "markdown",
      "metadata": {
        "id": "OJPWI9VwD_ih"
      },
      "source": [
        "Sample code for SVD decompostion"
      ]
    },
    {
      "cell_type": "code",
      "metadata": {
        "id": "GATD35bmBszc",
        "colab": {
          "base_uri": "https://localhost:8080/"
        },
        "outputId": "a203d44f-2ec7-4950-f0d0-3c195ac7cbcb"
      },
      "source": [
        "from sklearn.utils.extmath import randomized_svd\n",
        "import numpy as np \n",
        "matrix = np.random.random((20, 10))\n",
        "U, Sigma, VT = randomized_svd(matrix, n_components=5,n_iter=5, random_state=None)\n",
        "print(U.shape)\n",
        "print(Sigma.shape)\n",
        "print(VT.T.shape)"
      ],
      "execution_count": 63,
      "outputs": [
        {
          "output_type": "stream",
          "text": [
            "(20, 5)\n",
            "(5,)\n",
            "(10, 5)\n"
          ],
          "name": "stdout"
        }
      ]
    },
    {
      "cell_type": "markdown",
      "metadata": {
        "id": "ePDgwALQEJoB"
      },
      "source": [
        "<font color='red'>Write your code for SVD decompostion</font>"
      ]
    },
    {
      "cell_type": "code",
      "metadata": {
        "id": "ZYnsKBmFEIg3",
        "colab": {
          "base_uri": "https://localhost:8080/"
        },
        "outputId": "82661479-9cd5-4840-bdb3-6451efe8de3a"
      },
      "source": [
        "# Please use adjacency_matrix as matrix for SVD decompostion\n",
        "# You can choose n_components as your choice\n",
        "\n",
        "U, Sigma, VT = randomized_svd(adjacency_matrix, n_components=5,n_iter=5, random_state=None)\n",
        "print(U.shape)\n",
        "print(Sigma.shape)\n",
        "print(VT.T.shape)"
      ],
      "execution_count": 101,
      "outputs": [
        {
          "output_type": "stream",
          "text": [
            "(943, 5)\n",
            "(5,)\n",
            "(1681, 5)\n"
          ],
          "name": "stdout"
        }
      ]
    },
    {
      "cell_type": "markdown",
      "metadata": {
        "id": "83Vh4NoO_JyU"
      },
      "source": [
        "<font color='red'>Compute mean of ratings</font>"
      ]
    },
    {
      "cell_type": "code",
      "metadata": {
        "id": "cBHuCn2QSEnl"
      },
      "source": [
        "def m_u(ratings):\n",
        "    '''In this function, we will compute mean for all the ratings'''\n",
        "    # you can use mean() function to do this\n",
        "    # check this (https://pandas.pydata.org/pandas-docs/stable/reference/api/pandas.DataFrame.mean.html) link for more details.\n",
        "    avg_rat= ratings.mean()\n",
        "\n",
        "    return avg_rat"
      ],
      "execution_count": 65,
      "outputs": []
    },
    {
      "cell_type": "code",
      "metadata": {
        "id": "iu1nn-1x3ebp",
        "colab": {
          "base_uri": "https://localhost:8080/"
        },
        "outputId": "38941df4-3d01-4bf5-825f-2d1a337f4fbd"
      },
      "source": [
        "mu=m_u(data['rating'])\n",
        "print(mu)"
      ],
      "execution_count": 66,
      "outputs": [
        {
          "output_type": "stream",
          "text": [
            "3.529480398257623\n"
          ],
          "name": "stdout"
        }
      ]
    },
    {
      "cell_type": "markdown",
      "metadata": {
        "id": "76ooYQIdG_tf"
      },
      "source": [
        "<font color='cyan'>Grader function -2 </font>"
      ]
    },
    {
      "cell_type": "code",
      "metadata": {
        "id": "TZy1m67oG9r9",
        "colab": {
          "base_uri": "https://localhost:8080/"
        },
        "outputId": "d2ccb0c7-ecf1-4355-f6fa-189b771cf591"
      },
      "source": [
        "def grader_mean(mu):\n",
        "  assert(np.round(mu,3)==3.529)\n",
        "  return True\n",
        "mu=m_u(data['rating'])\n",
        "grader_mean(mu)"
      ],
      "execution_count": 67,
      "outputs": [
        {
          "output_type": "execute_result",
          "data": {
            "text/plain": [
              "True"
            ]
          },
          "metadata": {
            "tags": []
          },
          "execution_count": 67
        }
      ]
    },
    {
      "cell_type": "markdown",
      "metadata": {
        "id": "qSvAW1X94g3G"
      },
      "source": [
        "<font color='red'>Initialize $B_{i}$ and $C_{j}$"
      ]
    },
    {
      "cell_type": "markdown",
      "metadata": {
        "id": "qsOl-4xq5aUG"
      },
      "source": [
        "Hint : Number of rows of adjacent matrix corresponds to user dimensions($B_{i}$), number of columns of adjacent matrix corresponds to movie dimensions ($C_{j}$)"
      ]
    },
    {
      "cell_type": "code",
      "metadata": {
        "id": "AyEJqPka4lBW"
      },
      "source": [
        "def initialize(dim):\n",
        "    '''In this function, we will initialize bias value 'B' and 'C'.'''\n",
        "    # initalize the value to zeros \n",
        "    # return output as a list of zeros \n",
        "    \n",
        "    \n",
        "\n",
        "    return np.zeros(dim)"
      ],
      "execution_count": 68,
      "outputs": []
    },
    {
      "cell_type": "code",
      "metadata": {
        "id": "Nlae9QAQ43Xz"
      },
      "source": [
        "dim= adjacency_matrix.shape[0]# give the number of dimensions for b_i (Here b_i corresponds to users)\n",
        "b_i=initialize(dim)"
      ],
      "execution_count": 69,
      "outputs": []
    },
    {
      "cell_type": "code",
      "metadata": {
        "id": "rwuopn4HoEbP"
      },
      "source": [
        "dim= adjacency_matrix.shape[1]# give the number of dimensions for c_j (Here c_j corresponds to movies)\n",
        "c_j=initialize(dim)\n"
      ],
      "execution_count": 70,
      "outputs": []
    },
    {
      "cell_type": "markdown",
      "metadata": {
        "id": "nfPJ3_h6JIkI"
      },
      "source": [
        "<font color='cyan'>Grader function -3 </font>"
      ]
    },
    {
      "cell_type": "code",
      "metadata": {
        "id": "dQhiNjw0Hz4m",
        "colab": {
          "base_uri": "https://localhost:8080/"
        },
        "outputId": "aae4d747-3aa6-4a34-d608-f8e6b037868f"
      },
      "source": [
        "def grader_dim(b_i,c_j):\n",
        "  assert(len(b_i)==943 and np.sum(b_i)==0)\n",
        "  assert(len(c_j)==1681 and np.sum(c_j)==0)\n",
        "  return True\n",
        "grader_dim(b_i,c_j)"
      ],
      "execution_count": 71,
      "outputs": [
        {
          "output_type": "execute_result",
          "data": {
            "text/plain": [
              "True"
            ]
          },
          "metadata": {
            "tags": []
          },
          "execution_count": 71
        }
      ]
    },
    {
      "cell_type": "markdown",
      "metadata": {
        "id": "DTDK4ZR18MrZ"
      },
      "source": [
        "<font color='red'>Compute dL/db_i</font>"
      ]
    },
    {
      "cell_type": "code",
      "metadata": {
        "id": "3NFzVC1N8S4L"
      },
      "source": [
        "def derivative_db(user_id,item_id,rating,U,V,mu,alpha):\n",
        "    '''In this function, we will compute dL/db_i'''\n",
        "    return (2*alpha*b_i[user_id])+((-1)*2*(rating-mu-b_i[user_id]-c_j[item_id]-np.dot(U[user_id], V.T[item_id])))\n"
      ],
      "execution_count": 72,
      "outputs": []
    },
    {
      "cell_type": "markdown",
      "metadata": {
        "id": "ilISrTeQ0f0v"
      },
      "source": [
        "<font color='cyan'>Grader function -4 </font>"
      ]
    },
    {
      "cell_type": "code",
      "metadata": {
        "id": "Wt5ixEVZ043U",
        "colab": {
          "base_uri": "https://localhost:8080/"
        },
        "outputId": "4407a141-f73b-4c71-d0a2-61396e75cbeb"
      },
      "source": [
        "def grader_db(value):\n",
        "    assert(np.round(value,3)==-0.931)\n",
        "    return True\n",
        "U1, Sigma, V1 = randomized_svd(adjacency_matrix, n_components=2,n_iter=5, random_state=24)\n",
        "# Please don't change random state\n",
        "# Here we are considering n_componets = 2 for our convinence\n",
        "alpha=0.01 \n",
        "value=derivative_db(312,98,4,U1,V1,mu,alpha)\n",
        "grader_db(value)"
      ],
      "execution_count": 73,
      "outputs": [
        {
          "output_type": "execute_result",
          "data": {
            "text/plain": [
              "True"
            ]
          },
          "metadata": {
            "tags": []
          },
          "execution_count": 73
        }
      ]
    },
    {
      "cell_type": "markdown",
      "metadata": {
        "id": "1Kp0hC_b9v60"
      },
      "source": [
        "<font color='red'>Compute dL/dc_j</font>"
      ]
    },
    {
      "cell_type": "code",
      "metadata": {
        "id": "FAtSYMrc9UqJ"
      },
      "source": [
        "def derivative_dc(user_id,item_id,rating,U,V,mu, alpha):\n",
        "    '''In this function, we will compute dL/dc_j'''\n",
        "    return (2*alpha*c_j[item_id])+((-1)*2*(rating-mu-b_i[user_id]-c_j[item_id]-np.dot(U[user_id], V.T[item_id])))\n"
      ],
      "execution_count": 75,
      "outputs": []
    },
    {
      "cell_type": "markdown",
      "metadata": {
        "id": "lxkAm8aH1SBF"
      },
      "source": [
        "<font color='cyan'>Grader function - 5 </font>"
      ]
    },
    {
      "cell_type": "code",
      "metadata": {
        "id": "RaIN9yie1US8",
        "colab": {
          "base_uri": "https://localhost:8080/"
        },
        "outputId": "7cdfac98-d48e-4277-9909-1cd21429a68a"
      },
      "source": [
        "def grader_dc(value):\n",
        "    assert(np.round(value,3)==-2.929)\n",
        "    return True\n",
        "U1, Sigma, V1 = randomized_svd(adjacency_matrix, n_components=2,n_iter=5, random_state=24)\n",
        "# Please don't change random state\n",
        "# Here we are considering n_componets = 2 for our convinence\n",
        "r=0.01 \n",
        "value=derivative_dc(58,504,5,U1,V1,mu,alpha)\n",
        "grader_dc(value)"
      ],
      "execution_count": 77,
      "outputs": [
        {
          "output_type": "execute_result",
          "data": {
            "text/plain": [
              "True"
            ]
          },
          "metadata": {
            "tags": []
          },
          "execution_count": 77
        }
      ]
    },
    {
      "cell_type": "markdown",
      "metadata": {
        "id": "lg5XNbDWCIKI"
      },
      "source": [
        "<font color='red'>Compute MSE (mean squared error) for predicted ratings</font>\n"
      ]
    },
    {
      "cell_type": "markdown",
      "metadata": {
        "id": "7WUjNy0TDQX6"
      },
      "source": [
        "for each epoch, print the MSE value"
      ]
    },
    {
      "cell_type": "markdown",
      "metadata": {
        "id": "D2pCy1AKCafw"
      },
      "source": [
        "<pre>\n",
        "for each epoch:\n",
        "\n",
        "    for each pair of (user, movie):\n",
        "\n",
        "        b_i =  b_i - learning_rate * dL/db_i\n",
        "\n",
        "        c_j =  c_j - learning_rate * dL/dc_j\n",
        "\n",
        "predict the ratings with formula\n",
        "</pre>\n",
        "\n",
        "$\\hat{y}_{ij} = \\mu + b_i + c_j + \\text{dot_product}(u_i , v_j) $"
      ]
    },
    {
      "cell_type": "code",
      "metadata": {
        "id": "kiKj-M6d2a-Y"
      },
      "source": [
        "from sklearn.metrics import mean_squared_error \n",
        "\n",
        "#Lest Create a pair wise input and define what we need for SGD\n",
        "input = [tuple(x) for x in data.values.tolist()]\n",
        "epochs = 200\n",
        "learning_rate = 1e-3\n",
        "aplha = 0.01\n",
        "MSE = []\n"
      ],
      "execution_count": 86,
      "outputs": []
    },
    {
      "cell_type": "code",
      "metadata": {
        "colab": {
          "base_uri": "https://localhost:8080/"
        },
        "id": "TgRHPzXCyEB3",
        "outputId": "f66eb15e-d65b-433e-9480-abfa775a984c"
      },
      "source": [
        "for epoch in range(epochs):\n",
        "  y = []\n",
        "  y_hat = []\n",
        "  for iter in range(len(input)):\n",
        "    b_i[input[iter][0]] = b_i[input[iter][0]] - learning_rate*derivative_db(input[iter][0], input[iter][1], input[iter][2], U, VT ,mu,aplha)\n",
        "    c_j[input[iter][1]] = c_j[input[iter][1]] - learning_rate*derivative_dc(input[iter][0], input[iter][1], input[iter][2], U, VT ,mu,aplha)\n",
        "\n",
        "  for i in range(len(input)):\n",
        "    y_p = mu + b_i[input[i][0]] + c_j[input[i][1]] + np.dot(U[input[i][0]], VT.T[input[i][1]])\n",
        "    y_hat.append(y_p)\n",
        "    y_true = input[i][2]\n",
        "    y.append(y_true)\n",
        "\n",
        "  mse = mean_squared_error(y,y_hat)\n",
        "  MSE.append(mse)  \n",
        "  print(\"Epoch\",epoch,\"MSE = \",mse)\n",
        "\n",
        "\n",
        "\n"
      ],
      "execution_count": 87,
      "outputs": [
        {
          "output_type": "stream",
          "text": [
            "Epoch 0 MSE =  0.8920005405960014\n",
            "Epoch 1 MSE =  0.8860656983706459\n",
            "Epoch 2 MSE =  0.881069929952155\n",
            "Epoch 3 MSE =  0.8768000560066997\n",
            "Epoch 4 MSE =  0.8731084739257269\n",
            "Epoch 5 MSE =  0.8698871272622019\n",
            "Epoch 6 MSE =  0.8670542580713271\n",
            "Epoch 7 MSE =  0.8645464803387007\n",
            "Epoch 8 MSE =  0.8623136834446271\n",
            "Epoch 9 MSE =  0.8603156071523524\n",
            "Epoch 10 MSE =  0.858519462308681\n",
            "Epoch 11 MSE =  0.8568982324841167\n",
            "Epoch 12 MSE =  0.8554294333428114\n",
            "Epoch 13 MSE =  0.8540941880615068\n",
            "Epoch 14 MSE =  0.8528765261147353\n",
            "Epoch 15 MSE =  0.8517628432031712\n",
            "Epoch 16 MSE =  0.850741479584524\n",
            "Epoch 17 MSE =  0.8498023868412751\n",
            "Epoch 18 MSE =  0.8489368616837594\n",
            "Epoch 19 MSE =  0.8481373312444626\n",
            "Epoch 20 MSE =  0.8473971783993367\n",
            "Epoch 21 MSE =  0.8467105985418795\n",
            "Epoch 22 MSE =  0.8460724813146858\n",
            "Epoch 23 MSE =  0.8454783123203296\n",
            "Epoch 24 MSE =  0.8449240909553121\n",
            "Epoch 25 MSE =  0.8444062613506521\n",
            "Epoch 26 MSE =  0.843921654038505\n",
            "Epoch 27 MSE =  0.8434674364506519\n",
            "Epoch 28 MSE =  0.8430410707304297\n",
            "Epoch 29 MSE =  0.8426402776324939\n",
            "Epoch 30 MSE =  0.8422630055148962\n",
            "Epoch 31 MSE =  0.8419074036100898\n",
            "Epoch 32 MSE =  0.8415717989067057\n",
            "Epoch 33 MSE =  0.8412546760904389\n",
            "Epoch 34 MSE =  0.8409546600864416\n",
            "Epoch 35 MSE =  0.8406705008219526\n",
            "Epoch 36 MSE =  0.8404010598901771\n",
            "Epoch 37 MSE =  0.840145298847489\n",
            "Epoch 38 MSE =  0.8399022689180855\n",
            "Epoch 39 MSE =  0.8396711019150072\n",
            "Epoch 40 MSE =  0.8394510022153165\n",
            "Epoch 41 MSE =  0.8392412396513175\n",
            "Epoch 42 MSE =  0.8390411431998295\n",
            "Epoch 43 MSE =  0.838850095368459\n",
            "Epoch 44 MSE =  0.8386675271920427\n",
            "Epoch 45 MSE =  0.8384929137644808\n",
            "Epoch 46 MSE =  0.8383257702413777\n",
            "Epoch 47 MSE =  0.8381656482575792\n",
            "Epoch 48 MSE =  0.8380121327110768\n",
            "Epoch 49 MSE =  0.8378648388710794\n",
            "Epoch 50 MSE =  0.8377234097734495\n",
            "Epoch 51 MSE =  0.8375875138713534\n",
            "Epoch 52 MSE =  0.8374568429129826\n",
            "Epoch 53 MSE =  0.837331110021645\n",
            "Epoch 54 MSE =  0.8372100479565232\n",
            "Epoch 55 MSE =  0.8370934075349798\n",
            "Epoch 56 MSE =  0.8369809561995405\n",
            "Epoch 57 MSE =  0.836872476714645\n",
            "Epoch 58 MSE =  0.836767765979964\n",
            "Epoch 59 MSE =  0.8366666339485704\n",
            "Epoch 60 MSE =  0.8365689026395664\n",
            "Epoch 61 MSE =  0.836474405235901\n",
            "Epoch 62 MSE =  0.8363829852591397\n",
            "Epoch 63 MSE =  0.8362944958138163\n",
            "Epoch 64 MSE =  0.8362087988947877\n",
            "Epoch 65 MSE =  0.8361257647517036\n",
            "Epoch 66 MSE =  0.836045271305312\n",
            "Epoch 67 MSE =  0.8359672036108569\n",
            "Epoch 68 MSE =  0.8358914533643205\n",
            "Epoch 69 MSE =  0.8358179184476671\n",
            "Epoch 70 MSE =  0.8357465025096469\n",
            "Epoch 71 MSE =  0.8356771145790395\n",
            "Epoch 72 MSE =  0.8356096687075304\n",
            "Epoch 73 MSE =  0.8355440836396747\n",
            "Epoch 74 MSE =  0.8354802825076532\n",
            "Epoch 75 MSE =  0.8354181925487298\n",
            "Epoch 76 MSE =  0.8353577448435259\n",
            "Epoch 77 MSE =  0.8352988740733915\n",
            "Epoch 78 MSE =  0.8352415182953158\n",
            "Epoch 79 MSE =  0.8351856187329559\n",
            "Epoch 80 MSE =  0.8351311195824954\n",
            "Epoch 81 MSE =  0.8350779678321486\n",
            "Epoch 82 MSE =  0.835026113094245\n",
            "Epoch 83 MSE =  0.834975507448903\n",
            "Epoch 84 MSE =  0.8349261052984077\n",
            "Epoch 85 MSE =  0.8348778632314597\n",
            "Epoch 86 MSE =  0.8348307398965584\n",
            "Epoch 87 MSE =  0.8347846958838218\n",
            "Epoch 88 MSE =  0.8347396936146158\n",
            "Epoch 89 MSE =  0.834695697238416\n",
            "Epoch 90 MSE =  0.8346526725363704\n",
            "Epoch 91 MSE =  0.8346105868310724\n",
            "Epoch 92 MSE =  0.834569408902097\n",
            "Epoch 93 MSE =  0.8345291089068898\n",
            "Epoch 94 MSE =  0.8344896583066232\n",
            "Epoch 95 MSE =  0.8344510297966726\n",
            "Epoch 96 MSE =  0.8344131972413898\n",
            "Epoch 97 MSE =  0.8343761356128717\n",
            "Epoch 98 MSE =  0.8343398209334546\n",
            "Epoch 99 MSE =  0.8343042302216728\n",
            "Epoch 100 MSE =  0.8342693414414531\n",
            "Epoch 101 MSE =  0.834235133454322\n",
            "Epoch 102 MSE =  0.8342015859744273\n",
            "Epoch 103 MSE =  0.8341686795261861\n",
            "Epoch 104 MSE =  0.8341363954043877\n",
            "Epoch 105 MSE =  0.8341047156365878\n",
            "Epoch 106 MSE =  0.8340736229476521\n",
            "Epoch 107 MSE =  0.8340431007263004\n",
            "Epoch 108 MSE =  0.8340131329935345\n",
            "Epoch 109 MSE =  0.8339837043728224\n",
            "Epoch 110 MSE =  0.833954800061932\n",
            "Epoch 111 MSE =  0.8339264058063102\n",
            "Epoch 112 MSE =  0.8338985078739096\n",
            "Epoch 113 MSE =  0.8338710930313781\n",
            "Epoch 114 MSE =  0.8338441485215227\n",
            "Epoch 115 MSE =  0.8338176620419729\n",
            "Epoch 116 MSE =  0.8337916217249713\n",
            "Epoch 117 MSE =  0.8337660161182231\n",
            "Epoch 118 MSE =  0.8337408341667412\n",
            "Epoch 119 MSE =  0.8337160651956286\n",
            "Epoch 120 MSE =  0.833691698893743\n",
            "Epoch 121 MSE =  0.8336677252981926\n",
            "Epoch 122 MSE =  0.8336441347796133\n",
            "Epoch 123 MSE =  0.8336209180281849\n",
            "Epoch 124 MSE =  0.8335980660403393\n",
            "Epoch 125 MSE =  0.8335755701061307\n",
            "Epoch 126 MSE =  0.833553421797219\n",
            "Epoch 127 MSE =  0.8335316129554398\n",
            "Epoch 128 MSE =  0.8335101356819266\n",
            "Epoch 129 MSE =  0.8334889823267535\n",
            "Epoch 130 MSE =  0.8334681454790716\n",
            "Epoch 131 MSE =  0.8334476179577097\n",
            "Epoch 132 MSE =  0.833427392802218\n",
            "Epoch 133 MSE =  0.8334074632643254\n",
            "Epoch 134 MSE =  0.833387822799795\n",
            "Epoch 135 MSE =  0.8333684650606517\n",
            "Epoch 136 MSE =  0.8333493838877631\n",
            "Epoch 137 MSE =  0.8333305733037568\n",
            "Epoch 138 MSE =  0.8333120275062568\n",
            "Epoch 139 MSE =  0.833293740861419\n",
            "Epoch 140 MSE =  0.8332757078977548\n",
            "Epoch 141 MSE =  0.833257923300225\n",
            "Epoch 142 MSE =  0.8332403819045926\n",
            "Epoch 143 MSE =  0.833223078692019\n",
            "Epoch 144 MSE =  0.8332060087838946\n",
            "Epoch 145 MSE =  0.8331891674368876\n",
            "Epoch 146 MSE =  0.833172550038206\n",
            "Epoch 147 MSE =  0.8331561521010564\n",
            "Epoch 148 MSE =  0.8331399692602954\n",
            "Epoch 149 MSE =  0.8331239972682589\n",
            "Epoch 150 MSE =  0.8331082319907672\n",
            "Epoch 151 MSE =  0.8330926694032897\n",
            "Epoch 152 MSE =  0.8330773055872697\n",
            "Epoch 153 MSE =  0.8330621367265943\n",
            "Epoch 154 MSE =  0.833047159104209\n",
            "Epoch 155 MSE =  0.833032369098865\n",
            "Epoch 156 MSE =  0.8330177631819977\n",
            "Epoch 157 MSE =  0.8330033379147249\n",
            "Epoch 158 MSE =  0.8329890899449666\n",
            "Epoch 159 MSE =  0.8329750160046717\n",
            "Epoch 160 MSE =  0.8329611129071566\n",
            "Epoch 161 MSE =  0.8329473775445415\n",
            "Epoch 162 MSE =  0.8329338068852878\n",
            "Epoch 163 MSE =  0.8329203979718255\n",
            "Epoch 164 MSE =  0.8329071479182721\n",
            "Epoch 165 MSE =  0.8328940539082363\n",
            "Epoch 166 MSE =  0.8328811131927012\n",
            "Epoch 167 MSE =  0.8328683230879884\n",
            "Epoch 168 MSE =  0.8328556809737945\n",
            "Epoch 169 MSE =  0.8328431842912994\n",
            "Epoch 170 MSE =  0.8328308305413437\n",
            "Epoch 171 MSE =  0.8328186172826713\n",
            "Epoch 172 MSE =  0.8328065421302332\n",
            "Epoch 173 MSE =  0.832794602753555\n",
            "Epoch 174 MSE =  0.8327827968751575\n",
            "Epoch 175 MSE =  0.8327711222690358\n",
            "Epoch 176 MSE =  0.8327595767591902\n",
            "Epoch 177 MSE =  0.8327481582182085\n",
            "Epoch 178 MSE =  0.8327368645658948\n",
            "Epoch 179 MSE =  0.8327256937679485\n",
            "Epoch 180 MSE =  0.8327146438346869\n",
            "Epoch 181 MSE =  0.8327037128198086\n",
            "Epoch 182 MSE =  0.832692898819202\n",
            "Epoch 183 MSE =  0.8326821999697903\n",
            "Epoch 184 MSE =  0.8326716144484185\n",
            "Epoch 185 MSE =  0.8326611404707727\n",
            "Epoch 186 MSE =  0.832650776290338\n",
            "Epoch 187 MSE =  0.8326405201973887\n",
            "Epoch 188 MSE =  0.8326303705180124\n",
            "Epoch 189 MSE =  0.8326203256131648\n",
            "Epoch 190 MSE =  0.8326103838777539\n",
            "Epoch 191 MSE =  0.8326005437397547\n",
            "Epoch 192 MSE =  0.8325908036593525\n",
            "Epoch 193 MSE =  0.8325811621281096\n",
            "Epoch 194 MSE =  0.8325716176681627\n",
            "Epoch 195 MSE =  0.8325621688314416\n",
            "Epoch 196 MSE =  0.8325528141989142\n",
            "Epoch 197 MSE =  0.8325435523798537\n",
            "Epoch 198 MSE =  0.8325343820111278\n",
            "Epoch 199 MSE =  0.8325253017565115\n"
          ],
          "name": "stdout"
        }
      ]
    },
    {
      "cell_type": "markdown",
      "metadata": {
        "id": "hTXYZFFUVSg5"
      },
      "source": [
        "<font color='red'>Plot epoch number vs MSE </font>\n",
        "\n",
        "* epoch number on X-axis\n",
        "* MSE on Y-axis"
      ]
    },
    {
      "cell_type": "code",
      "metadata": {
        "id": "igkkO3EvVRt6",
        "colab": {
          "base_uri": "https://localhost:8080/",
          "height": 313
        },
        "outputId": "df4f2a81-868a-4a74-e0b6-729778935b9a"
      },
      "source": [
        "import matplotlib.pyplot as plt\n",
        "x = list(range(0, 200))\n",
        "y = MSE\n",
        "plt.xlabel('ERROR')\n",
        "plt.ylabel('MSE')\n",
        "plt.title('MSE_GRAPH')\n",
        "plt.plot(x,y)"
      ],
      "execution_count": 90,
      "outputs": [
        {
          "output_type": "execute_result",
          "data": {
            "text/plain": [
              "[<matplotlib.lines.Line2D at 0x7fbd897ca5d0>]"
            ]
          },
          "metadata": {
            "tags": []
          },
          "execution_count": 90
        },
        {
          "output_type": "display_data",
          "data": {
            "image/png": "[encoded data removed]",
            "text/plain": [
              "<Figure size 432x288 with 1 Axes>"
            ]
          },
          "metadata": {
            "tags": [],
            "needs_background": "light"
          }
        }
      ]
    },
    {
      "cell_type": "markdown",
      "metadata": {
        "id": "NeWAGkT6C9kq"
      },
      "source": [
        "<br>"
      ]
    },
    {
      "cell_type": "markdown",
      "metadata": {
        "id": "lkIQOOo1C9o7"
      },
      "source": [
        "<font color='red'> Task 2</font>"
      ]
    },
    {
      "cell_type": "code",
      "metadata": {
        "id": "9kl4Ryi_7E_T"
      },
      "source": [
        "df = pd.read_csv('/content/drive/MyDrive/Truncated SVD/user_info.csv.txt')\n"
      ],
      "execution_count": 92,
      "outputs": []
    },
    {
      "cell_type": "code",
      "metadata": {
        "id": "c1FTc39gDdti",
        "colab": {
          "base_uri": "https://localhost:8080/",
          "height": 195
        },
        "outputId": "25168af9-7b91-4fa5-9db5-0f8d37dea444"
      },
      "source": [
        "df.head()"
      ],
      "execution_count": 93,
      "outputs": [
        {
          "output_type": "execute_result",
          "data": {
            "text/html": [
              "<div>\n",
              "<style scoped>\n",
              "    .dataframe tbody tr th:only-of-type {\n",
              "        vertical-align: middle;\n",
              "    }\n",
              "\n",
              "    .dataframe tbody tr th {\n",
              "        vertical-align: top;\n",
              "    }\n",
              "\n",
              "    .dataframe thead th {\n",
              "        text-align: right;\n",
              "    }\n",
              "</style>\n",
              "<table border=\"1\" class=\"dataframe\">\n",
              "  <thead>\n",
              "    <tr style=\"text-align: right;\">\n",
              "      <th></th>\n",
              "      <th>user_id</th>\n",
              "      <th>age</th>\n",
              "      <th>is_male</th>\n",
              "      <th>orig_user_id</th>\n",
              "    </tr>\n",
              "  </thead>\n",
              "  <tbody>\n",
              "    <tr>\n",
              "      <th>0</th>\n",
              "      <td>0</td>\n",
              "      <td>24</td>\n",
              "      <td>1</td>\n",
              "      <td>1</td>\n",
              "    </tr>\n",
              "    <tr>\n",
              "      <th>1</th>\n",
              "      <td>1</td>\n",
              "      <td>53</td>\n",
              "      <td>0</td>\n",
              "      <td>2</td>\n",
              "    </tr>\n",
              "    <tr>\n",
              "      <th>2</th>\n",
              "      <td>2</td>\n",
              "      <td>23</td>\n",
              "      <td>1</td>\n",
              "      <td>3</td>\n",
              "    </tr>\n",
              "    <tr>\n",
              "      <th>3</th>\n",
              "      <td>3</td>\n",
              "      <td>24</td>\n",
              "      <td>1</td>\n",
              "      <td>4</td>\n",
              "    </tr>\n",
              "    <tr>\n",
              "      <th>4</th>\n",
              "      <td>4</td>\n",
              "      <td>33</td>\n",
              "      <td>0</td>\n",
              "      <td>5</td>\n",
              "    </tr>\n",
              "  </tbody>\n",
              "</table>\n",
              "</div>"
            ],
            "text/plain": [
              "   user_id  age  is_male  orig_user_id\n",
              "0        0   24        1             1\n",
              "1        1   53        0             2\n",
              "2        2   23        1             3\n",
              "3        3   24        1             4\n",
              "4        4   33        0             5"
            ]
          },
          "metadata": {
            "tags": []
          },
          "execution_count": 93
        }
      ]
    },
    {
      "cell_type": "code",
      "metadata": {
        "colab": {
          "base_uri": "https://localhost:8080/"
        },
        "id": "k0FteD7j4Nam",
        "outputId": "480053f9-ac87-4051-8920-13528d7b6283"
      },
      "source": [
        "is_male = df['is_male']\n",
        "is_male.value_counts()"
      ],
      "execution_count": 94,
      "outputs": [
        {
          "output_type": "execute_result",
          "data": {
            "text/plain": [
              "1    670\n",
              "0    273\n",
              "Name: is_male, dtype: int64"
            ]
          },
          "metadata": {
            "tags": []
          },
          "execution_count": 94
        }
      ]
    },
    {
      "cell_type": "code",
      "metadata": {
        "colab": {
          "base_uri": "https://localhost:8080/"
        },
        "id": "vO13OJcd4TwL",
        "outputId": "22b2d64f-3d53-44d4-9dc5-21a389a0c972"
      },
      "source": [
        "print(len(is_male))\n"
      ],
      "execution_count": 95,
      "outputs": [
        {
          "output_type": "stream",
          "text": [
            "943\n"
          ],
          "name": "stdout"
        }
      ]
    },
    {
      "cell_type": "code",
      "metadata": {
        "colab": {
          "base_uri": "https://localhost:8080/"
        },
        "id": "-67qdiV45wnl",
        "outputId": "be00913a-af38-40bb-faf3-5fc73bf62ad7"
      },
      "source": [
        "U, Sigma, V = randomized_svd(adjacency_matrix, n_components=30,n_iter=5, random_state=None)\n",
        "print(U.shape)"
      ],
      "execution_count": 103,
      "outputs": [
        {
          "output_type": "stream",
          "text": [
            "(943, 30)\n"
          ],
          "name": "stdout"
        }
      ]
    },
    {
      "cell_type": "code",
      "metadata": {
        "colab": {
          "base_uri": "https://localhost:8080/",
          "height": 215
        },
        "id": "PHl6pXhV4YB3",
        "outputId": "abbc2da1-22df-4144-dcb7-c648059d26e2"
      },
      "source": [
        "user_vector = pd.DataFrame(data=U,index=np.arange(1, 944),columns=np.arange(1, 31))\n",
        "user_vector.head()"
      ],
      "execution_count": 104,
      "outputs": [
        {
          "output_type": "execute_result",
          "data": {
            "text/html": [
              "<div>\n",
              "<style scoped>\n",
              "    .dataframe tbody tr th:only-of-type {\n",
              "        vertical-align: middle;\n",
              "    }\n",
              "\n",
              "    .dataframe tbody tr th {\n",
              "        vertical-align: top;\n",
              "    }\n",
              "\n",
              "    .dataframe thead th {\n",
              "        text-align: right;\n",
              "    }\n",
              "</style>\n",
              "<table border=\"1\" class=\"dataframe\">\n",
              "  <thead>\n",
              "    <tr style=\"text-align: right;\">\n",
              "      <th></th>\n",
              "      <th>1</th>\n",
              "      <th>2</th>\n",
              "      <th>3</th>\n",
              "      <th>4</th>\n",
              "      <th>5</th>\n",
              "      <th>6</th>\n",
              "      <th>7</th>\n",
              "      <th>8</th>\n",
              "      <th>9</th>\n",
              "      <th>10</th>\n",
              "      <th>11</th>\n",
              "      <th>12</th>\n",
              "      <th>13</th>\n",
              "      <th>14</th>\n",
              "      <th>15</th>\n",
              "      <th>16</th>\n",
              "      <th>17</th>\n",
              "      <th>18</th>\n",
              "      <th>19</th>\n",
              "      <th>20</th>\n",
              "      <th>21</th>\n",
              "      <th>22</th>\n",
              "      <th>23</th>\n",
              "      <th>24</th>\n",
              "      <th>25</th>\n",
              "      <th>26</th>\n",
              "      <th>27</th>\n",
              "      <th>28</th>\n",
              "      <th>29</th>\n",
              "      <th>30</th>\n",
              "    </tr>\n",
              "  </thead>\n",
              "  <tbody>\n",
              "    <tr>\n",
              "      <th>1</th>\n",
              "      <td>0.066226</td>\n",
              "      <td>0.007889</td>\n",
              "      <td>-0.012531</td>\n",
              "      <td>-0.086165</td>\n",
              "      <td>0.024868</td>\n",
              "      <td>0.006654</td>\n",
              "      <td>0.080030</td>\n",
              "      <td>-0.027561</td>\n",
              "      <td>0.067410</td>\n",
              "      <td>0.021266</td>\n",
              "      <td>-0.027380</td>\n",
              "      <td>0.025663</td>\n",
              "      <td>-0.042339</td>\n",
              "      <td>0.039737</td>\n",
              "      <td>-0.015855</td>\n",
              "      <td>0.007101</td>\n",
              "      <td>0.075456</td>\n",
              "      <td>0.012709</td>\n",
              "      <td>-0.065071</td>\n",
              "      <td>-0.035225</td>\n",
              "      <td>-0.108391</td>\n",
              "      <td>0.062569</td>\n",
              "      <td>-0.011491</td>\n",
              "      <td>-0.069302</td>\n",
              "      <td>-0.017345</td>\n",
              "      <td>0.145371</td>\n",
              "      <td>-0.022152</td>\n",
              "      <td>-0.035662</td>\n",
              "      <td>-0.003211</td>\n",
              "      <td>-0.052481</td>\n",
              "    </tr>\n",
              "    <tr>\n",
              "      <th>2</th>\n",
              "      <td>0.013644</td>\n",
              "      <td>-0.048895</td>\n",
              "      <td>0.056554</td>\n",
              "      <td>0.015808</td>\n",
              "      <td>-0.012036</td>\n",
              "      <td>0.017733</td>\n",
              "      <td>0.010685</td>\n",
              "      <td>-0.010193</td>\n",
              "      <td>0.028472</td>\n",
              "      <td>-0.009523</td>\n",
              "      <td>0.059256</td>\n",
              "      <td>-0.030588</td>\n",
              "      <td>-0.010970</td>\n",
              "      <td>0.057549</td>\n",
              "      <td>0.009304</td>\n",
              "      <td>-0.031378</td>\n",
              "      <td>-0.004427</td>\n",
              "      <td>-0.016118</td>\n",
              "      <td>0.004135</td>\n",
              "      <td>0.011666</td>\n",
              "      <td>0.007866</td>\n",
              "      <td>0.016040</td>\n",
              "      <td>-0.019726</td>\n",
              "      <td>0.007507</td>\n",
              "      <td>0.009765</td>\n",
              "      <td>0.019433</td>\n",
              "      <td>-0.009459</td>\n",
              "      <td>-0.027309</td>\n",
              "      <td>-0.034435</td>\n",
              "      <td>-0.013972</td>\n",
              "    </tr>\n",
              "    <tr>\n",
              "      <th>3</th>\n",
              "      <td>0.005438</td>\n",
              "      <td>-0.025128</td>\n",
              "      <td>0.020028</td>\n",
              "      <td>0.032832</td>\n",
              "      <td>0.035080</td>\n",
              "      <td>0.001920</td>\n",
              "      <td>0.007693</td>\n",
              "      <td>-0.000998</td>\n",
              "      <td>-0.021200</td>\n",
              "      <td>-0.003268</td>\n",
              "      <td>0.000994</td>\n",
              "      <td>0.010534</td>\n",
              "      <td>0.001525</td>\n",
              "      <td>-0.020623</td>\n",
              "      <td>-0.000195</td>\n",
              "      <td>0.014999</td>\n",
              "      <td>0.011118</td>\n",
              "      <td>0.012011</td>\n",
              "      <td>-0.016484</td>\n",
              "      <td>0.005371</td>\n",
              "      <td>0.005973</td>\n",
              "      <td>0.002702</td>\n",
              "      <td>0.025922</td>\n",
              "      <td>0.017972</td>\n",
              "      <td>0.020418</td>\n",
              "      <td>0.015541</td>\n",
              "      <td>0.006483</td>\n",
              "      <td>-0.001157</td>\n",
              "      <td>0.006329</td>\n",
              "      <td>0.002067</td>\n",
              "    </tr>\n",
              "    <tr>\n",
              "      <th>4</th>\n",
              "      <td>0.005704</td>\n",
              "      <td>-0.018211</td>\n",
              "      <td>0.010898</td>\n",
              "      <td>0.021867</td>\n",
              "      <td>0.013920</td>\n",
              "      <td>-0.014183</td>\n",
              "      <td>0.012246</td>\n",
              "      <td>-0.009100</td>\n",
              "      <td>-0.012696</td>\n",
              "      <td>0.006092</td>\n",
              "      <td>-0.000182</td>\n",
              "      <td>-0.013487</td>\n",
              "      <td>-0.001707</td>\n",
              "      <td>-0.039363</td>\n",
              "      <td>-0.001879</td>\n",
              "      <td>0.010681</td>\n",
              "      <td>0.015897</td>\n",
              "      <td>0.021278</td>\n",
              "      <td>0.001689</td>\n",
              "      <td>-0.013622</td>\n",
              "      <td>-0.001743</td>\n",
              "      <td>-0.002416</td>\n",
              "      <td>-0.007157</td>\n",
              "      <td>0.007485</td>\n",
              "      <td>-0.012975</td>\n",
              "      <td>0.007634</td>\n",
              "      <td>-0.009362</td>\n",
              "      <td>0.006777</td>\n",
              "      <td>-0.012755</td>\n",
              "      <td>0.002211</td>\n",
              "    </tr>\n",
              "    <tr>\n",
              "      <th>5</th>\n",
              "      <td>0.034122</td>\n",
              "      <td>0.009005</td>\n",
              "      <td>-0.044054</td>\n",
              "      <td>-0.016047</td>\n",
              "      <td>0.004326</td>\n",
              "      <td>-0.021501</td>\n",
              "      <td>0.095616</td>\n",
              "      <td>0.079442</td>\n",
              "      <td>-0.017055</td>\n",
              "      <td>0.029698</td>\n",
              "      <td>0.019326</td>\n",
              "      <td>-0.046754</td>\n",
              "      <td>0.005817</td>\n",
              "      <td>0.043999</td>\n",
              "      <td>-0.000491</td>\n",
              "      <td>-0.000272</td>\n",
              "      <td>-0.017337</td>\n",
              "      <td>0.015367</td>\n",
              "      <td>0.040171</td>\n",
              "      <td>0.016454</td>\n",
              "      <td>-0.019934</td>\n",
              "      <td>0.004243</td>\n",
              "      <td>0.043309</td>\n",
              "      <td>0.024933</td>\n",
              "      <td>-0.047276</td>\n",
              "      <td>0.048096</td>\n",
              "      <td>0.071150</td>\n",
              "      <td>-0.006359</td>\n",
              "      <td>-0.008661</td>\n",
              "      <td>-0.019112</td>\n",
              "    </tr>\n",
              "  </tbody>\n",
              "</table>\n",
              "</div>"
            ],
            "text/plain": [
              "         1         2         3   ...        28        29        30\n",
              "1  0.066226  0.007889 -0.012531  ... -0.035662 -0.003211 -0.052481\n",
              "2  0.013644 -0.048895  0.056554  ... -0.027309 -0.034435 -0.013972\n",
              "3  0.005438 -0.025128  0.020028  ... -0.001157  0.006329  0.002067\n",
              "4  0.005704 -0.018211  0.010898  ...  0.006777 -0.012755  0.002211\n",
              "5  0.034122  0.009005 -0.044054  ... -0.006359 -0.008661 -0.019112\n",
              "\n",
              "[5 rows x 30 columns]"
            ]
          },
          "metadata": {
            "tags": []
          },
          "execution_count": 104
        }
      ]
    },
    {
      "cell_type": "code",
      "metadata": {
        "id": "cv2d7j6z4ri8"
      },
      "source": [
        "from sklearn.linear_model import SGDClassifier\n",
        "clf = SGDClassifier(loss=\"log\", penalty=\"l2\")\n",
        "clf.fit(user_vector,is_male)\n",
        "y_pred_gender = clf.predict(user_vector)\n"
      ],
      "execution_count": 113,
      "outputs": []
    },
    {
      "cell_type": "code",
      "metadata": {
        "colab": {
          "base_uri": "https://localhost:8080/",
          "height": 313
        },
        "id": "A5p32VR15SOg",
        "outputId": "12dca62d-87d6-422c-a18a-cfe87380d80e"
      },
      "source": [
        "from sklearn.metrics import confusion_matrix\n",
        "import seaborn as sns\n",
        "import matplotlib.pyplot as plt\n",
        "matrix = confusion_matrix(is_male, y_pred_gender)\n",
        "sns.heatmap(matrix, annot=True, annot_kws={'size':16}, fmt='g')\n",
        "plt.ylabel('True Label')\n",
        "plt.xlabel('Predicted Label')\n",
        "plt.title('Confusion Matrix')"
      ],
      "execution_count": 114,
      "outputs": [
        {
          "output_type": "execute_result",
          "data": {
            "text/plain": [
              "Text(0.5, 1.0, 'Confusion Matrix')"
            ]
          },
          "metadata": {
            "tags": []
          },
          "execution_count": 114
        },
        {
          "output_type": "display_data",
          "data": {
            "image/png": "[encoded data removed]",
            "text/plain": [
              "<Figure size 432x288 with 2 Axes>"
            ]
          },
          "metadata": {
            "tags": [],
            "needs_background": "light"
          }
        }
      ]
    },
    {
      "cell_type": "code",
      "metadata": {
        "id": "XQfK1sVz5W8Z"
      },
      "source": [
        "from sklearn.preprocessing import StandardScaler\n",
        "scaler = StandardScaler().fit_transform(user_vector)"
      ],
      "execution_count": 115,
      "outputs": []
    },
    {
      "cell_type": "code",
      "metadata": {
        "id": "sy7NCnCZ6iiN"
      },
      "source": [
        "clf = SGDClassifier(loss=\"log\", penalty=\"l2\")\n",
        "clf.fit(scaler,is_male)\n",
        "y_pred_gender = clf.predict(user_vector)\n"
      ],
      "execution_count": 117,
      "outputs": []
    },
    {
      "cell_type": "code",
      "metadata": {
        "colab": {
          "base_uri": "https://localhost:8080/",
          "height": 313
        },
        "id": "5pw8-bf56o75",
        "outputId": "5a1371e2-86a4-473c-a61c-9f81884a3e29"
      },
      "source": [
        "matrix = confusion_matrix(is_male, y_pred_gender)\n",
        "sns.heatmap(matrix, annot=True, annot_kws={'size':16}, fmt='g')\n",
        "plt.ylabel('True Label')\n",
        "plt.xlabel('Predicted Label')\n",
        "plt.title('Confusion Matrix')"
      ],
      "execution_count": 118,
      "outputs": [
        {
          "output_type": "execute_result",
          "data": {
            "text/plain": [
              "Text(0.5, 1.0, 'Confusion Matrix')"
            ]
          },
          "metadata": {
            "tags": []
          },
          "execution_count": 118
        },
        {
          "output_type": "display_data",
          "data": {
            "image/png": "[encoded data removed]",
            "text/plain": [
              "<Figure size 432x288 with 2 Axes>"
            ]
          },
          "metadata": {
            "tags": [],
            "needs_background": "light"
          }
        }
      ]
    }
  ]
}