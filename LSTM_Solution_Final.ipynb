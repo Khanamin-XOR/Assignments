{
  "nbformat": 4,
  "nbformat_minor": 0,
  "metadata": {
    "kernelspec": {
      "language": "python",
      "display_name": "Python 3",
      "name": "python3"
    },
    "language_info": {
      "name": "python",
      "version": "3.7.10",
      "mimetype": "text/x-python",
      "codemirror_mode": {
        "name": "ipython",
        "version": 3
      },
      "pygments_lexer": "ipython3",
      "nbconvert_exporter": "python",
      "file_extension": ".py"
    },
    "colab": {
      "name": "LSTM Solution Final.ipynb",
      "provenance": []
    }
  },
  "cells": [
    {
      "cell_type": "code",
      "metadata": {
        "id": "TB7shzuuYxyl",
        "execution": {
          "iopub.status.busy": "2021-08-14T20:18:28.741770Z",
          "iopub.execute_input": "2021-08-14T20:18:28.742298Z",
          "iopub.status.idle": "2021-08-14T20:18:35.623090Z",
          "shell.execute_reply.started": "2021-08-14T20:18:28.742190Z",
          "shell.execute_reply": "2021-08-14T20:18:35.621714Z"
        },
        "trusted": true
      },
      "source": [
        "import numpy as np\n",
        "import pandas as pd\n",
        "from keras.preprocessing.sequence import pad_sequences\n",
        "from keras.models import Sequential\n",
        "from keras.layers import Dense, Input , Dropout\n",
        "from keras.layers import Flatten\n",
        "from keras.layers import concatenate\n",
        "from keras.layers.embeddings import Embedding\n",
        "from keras.models import Model\n",
        "from sklearn.model_selection import train_test_split\n",
        "from keras.preprocessing.text import Tokenizer\n",
        "import matplotlib.pyplot as plt\n",
        "import pickle\n",
        "from keras.layers import LSTM\n",
        "from keras.preprocessing.text import text_to_word_sequence\n",
        "import tensorflow as tf\n",
        "from keras.callbacks import ModelCheckpoint,TensorBoard,ReduceLROnPlateau, EarlyStopping\n",
        "from keras.layers.normalization import BatchNormalization\n",
        "from sklearn.feature_extraction.text import TfidfVectorizer\n",
        "import seaborn as sns\n",
        "from keras.regularizers import l2\n",
        "from sklearn.metrics import roc_auc_score\n",
        "from keras.models import load_model\n",
        "from IPython.display import Image\n",
        "from scipy.sparse import hstack\n",
        "from keras.layers import Conv1D\n",
        "from sklearn.feature_extraction.text import CountVectorizer\n",
        "from prettytable import PrettyTable\n",
        "from keras.preprocessing import sequence\n",
        "from numpy import zeros\n",
        "from keras import regularizers\n",
        "from keras.layers import Conv1D\n",
        "from keras.initializers import he_normal\n",
        "from keras import optimizers\n"
      ],
      "execution_count": null,
      "outputs": []
    },
    {
      "cell_type": "markdown",
      "metadata": {
        "id": "M8rfOJFGhtsl"
      },
      "source": [
        "# 1. Loading the data"
      ]
    },
    {
      "cell_type": "code",
      "metadata": {
        "id": "Et3WjrlNebot",
        "execution": {
          "iopub.status.busy": "2021-08-14T20:18:35.629309Z",
          "iopub.execute_input": "2021-08-14T20:18:35.632006Z",
          "iopub.status.idle": "2021-08-14T20:18:37.885777Z",
          "shell.execute_reply.started": "2021-08-14T20:18:35.631950Z",
          "shell.execute_reply": "2021-08-14T20:18:37.884509Z"
        },
        "trusted": true
      },
      "source": [
        "import pandas as pd\n",
        "data =pd.read_csv(\"../input/preprocesseddonorchoose/preprocessed_data.csv\")"
      ],
      "execution_count": null,
      "outputs": []
    },
    {
      "cell_type": "code",
      "metadata": {
        "id": "7NjA-BKLe8jz",
        "execution": {
          "iopub.status.busy": "2021-08-14T20:18:37.888040Z",
          "iopub.execute_input": "2021-08-14T20:18:37.888456Z",
          "iopub.status.idle": "2021-08-14T20:18:37.925313Z",
          "shell.execute_reply.started": "2021-08-14T20:18:37.888424Z",
          "shell.execute_reply": "2021-08-14T20:18:37.923936Z"
        },
        "trusted": true,
        "outputId": "f1a4dd6a-14eb-4176-fa16-f644563e22c8"
      },
      "source": [
        "data.head()"
      ],
      "execution_count": null,
      "outputs": [
        {
          "output_type": "execute_result",
          "data": {
            "text/plain": [
              "  school_state teacher_prefix project_grade_category  \\\n",
              "0           ca            mrs          grades_prek_2   \n",
              "1           ut             ms             grades_3_5   \n",
              "2           ca            mrs          grades_prek_2   \n",
              "3           ga            mrs          grades_prek_2   \n",
              "4           wa            mrs             grades_3_5   \n",
              "\n",
              "   teacher_number_of_previously_posted_projects  project_is_approved  \\\n",
              "0                                            53                    1   \n",
              "1                                             4                    1   \n",
              "2                                            10                    1   \n",
              "3                                             2                    1   \n",
              "4                                             2                    1   \n",
              "\n",
              "    clean_categories                 clean_subcategories  \\\n",
              "0       math_science  appliedsciences health_lifescience   \n",
              "1       specialneeds                        specialneeds   \n",
              "2  literacy_language                            literacy   \n",
              "3    appliedlearning                    earlydevelopment   \n",
              "4  literacy_language                            literacy   \n",
              "\n",
              "                                               essay   price  \n",
              "0  i fortunate enough use fairy tale stem kits cl...  725.05  \n",
              "1  imagine 8 9 years old you third grade classroo...  213.03  \n",
              "2  having class 24 students comes diverse learner...  329.00  \n",
              "3  i recently read article giving students choice...  481.04  \n",
              "4  my students crave challenge eat obstacles brea...   17.74  "
            ],
            "text/html": [
              "<div>\n",
              "<style scoped>\n",
              "    .dataframe tbody tr th:only-of-type {\n",
              "        vertical-align: middle;\n",
              "    }\n",
              "\n",
              "    .dataframe tbody tr th {\n",
              "        vertical-align: top;\n",
              "    }\n",
              "\n",
              "    .dataframe thead th {\n",
              "        text-align: right;\n",
              "    }\n",
              "</style>\n",
              "<table border=\"1\" class=\"dataframe\">\n",
              "  <thead>\n",
              "    <tr style=\"text-align: right;\">\n",
              "      <th></th>\n",
              "      <th>school_state</th>\n",
              "      <th>teacher_prefix</th>\n",
              "      <th>project_grade_category</th>\n",
              "      <th>teacher_number_of_previously_posted_projects</th>\n",
              "      <th>project_is_approved</th>\n",
              "      <th>clean_categories</th>\n",
              "      <th>clean_subcategories</th>\n",
              "      <th>essay</th>\n",
              "      <th>price</th>\n",
              "    </tr>\n",
              "  </thead>\n",
              "  <tbody>\n",
              "    <tr>\n",
              "      <th>0</th>\n",
              "      <td>ca</td>\n",
              "      <td>mrs</td>\n",
              "      <td>grades_prek_2</td>\n",
              "      <td>53</td>\n",
              "      <td>1</td>\n",
              "      <td>math_science</td>\n",
              "      <td>appliedsciences health_lifescience</td>\n",
              "      <td>i fortunate enough use fairy tale stem kits cl...</td>\n",
              "      <td>725.05</td>\n",
              "    </tr>\n",
              "    <tr>\n",
              "      <th>1</th>\n",
              "      <td>ut</td>\n",
              "      <td>ms</td>\n",
              "      <td>grades_3_5</td>\n",
              "      <td>4</td>\n",
              "      <td>1</td>\n",
              "      <td>specialneeds</td>\n",
              "      <td>specialneeds</td>\n",
              "      <td>imagine 8 9 years old you third grade classroo...</td>\n",
              "      <td>213.03</td>\n",
              "    </tr>\n",
              "    <tr>\n",
              "      <th>2</th>\n",
              "      <td>ca</td>\n",
              "      <td>mrs</td>\n",
              "      <td>grades_prek_2</td>\n",
              "      <td>10</td>\n",
              "      <td>1</td>\n",
              "      <td>literacy_language</td>\n",
              "      <td>literacy</td>\n",
              "      <td>having class 24 students comes diverse learner...</td>\n",
              "      <td>329.00</td>\n",
              "    </tr>\n",
              "    <tr>\n",
              "      <th>3</th>\n",
              "      <td>ga</td>\n",
              "      <td>mrs</td>\n",
              "      <td>grades_prek_2</td>\n",
              "      <td>2</td>\n",
              "      <td>1</td>\n",
              "      <td>appliedlearning</td>\n",
              "      <td>earlydevelopment</td>\n",
              "      <td>i recently read article giving students choice...</td>\n",
              "      <td>481.04</td>\n",
              "    </tr>\n",
              "    <tr>\n",
              "      <th>4</th>\n",
              "      <td>wa</td>\n",
              "      <td>mrs</td>\n",
              "      <td>grades_3_5</td>\n",
              "      <td>2</td>\n",
              "      <td>1</td>\n",
              "      <td>literacy_language</td>\n",
              "      <td>literacy</td>\n",
              "      <td>my students crave challenge eat obstacles brea...</td>\n",
              "      <td>17.74</td>\n",
              "    </tr>\n",
              "  </tbody>\n",
              "</table>\n",
              "</div>"
            ]
          },
          "metadata": {
            "tags": []
          },
          "execution_count": 3
        }
      ]
    },
    {
      "cell_type": "code",
      "metadata": {
        "id": "Kqp9AcAte-pD",
        "execution": {
          "iopub.status.busy": "2021-08-14T20:18:37.927546Z",
          "iopub.execute_input": "2021-08-14T20:18:37.928274Z",
          "iopub.status.idle": "2021-08-14T20:18:37.945172Z",
          "shell.execute_reply.started": "2021-08-14T20:18:37.928229Z",
          "shell.execute_reply": "2021-08-14T20:18:37.943447Z"
        },
        "trusted": true,
        "outputId": "8c636a59-c055-465a-c5fe-4f40543fe45b"
      },
      "source": [
        "data.describe"
      ],
      "execution_count": null,
      "outputs": [
        {
          "output_type": "execute_result",
          "data": {
            "text/plain": [
              "<bound method NDFrame.describe of        school_state teacher_prefix project_grade_category  \\\n",
              "0                ca            mrs          grades_prek_2   \n",
              "1                ut             ms             grades_3_5   \n",
              "2                ca            mrs          grades_prek_2   \n",
              "3                ga            mrs          grades_prek_2   \n",
              "4                wa            mrs             grades_3_5   \n",
              "...             ...            ...                    ...   \n",
              "109243           hi            mrs            grades_9_12   \n",
              "109244           nm             ms          grades_prek_2   \n",
              "109245           il            mrs             grades_3_5   \n",
              "109246           hi            mrs            grades_9_12   \n",
              "109247           ca            mrs          grades_prek_2   \n",
              "\n",
              "        teacher_number_of_previously_posted_projects  project_is_approved  \\\n",
              "0                                                 53                    1   \n",
              "1                                                  4                    1   \n",
              "2                                                 10                    1   \n",
              "3                                                  2                    1   \n",
              "4                                                  2                    1   \n",
              "...                                              ...                  ...   \n",
              "109243                                             5                    1   \n",
              "109244                                             3                    1   \n",
              "109245                                             0                    1   \n",
              "109246                                             1                    1   \n",
              "109247                                             2                    1   \n",
              "\n",
              "         clean_categories                   clean_subcategories  \\\n",
              "0            math_science    appliedsciences health_lifescience   \n",
              "1            specialneeds                          specialneeds   \n",
              "2       literacy_language                              literacy   \n",
              "3         appliedlearning                      earlydevelopment   \n",
              "4       literacy_language                              literacy   \n",
              "...                   ...                                   ...   \n",
              "109243      health_sports                            teamsports   \n",
              "109244    appliedlearning                earlydevelopment other   \n",
              "109245       math_science  appliedsciences environmentalscience   \n",
              "109246       math_science                    health_lifescience   \n",
              "109247  literacy_language           literacy literature_writing   \n",
              "\n",
              "                                                    essay   price  \n",
              "0       i fortunate enough use fairy tale stem kits cl...  725.05  \n",
              "1       imagine 8 9 years old you third grade classroo...  213.03  \n",
              "2       having class 24 students comes diverse learner...  329.00  \n",
              "3       i recently read article giving students choice...  481.04  \n",
              "4       my students crave challenge eat obstacles brea...   17.74  \n",
              "...                                                   ...     ...  \n",
              "109243  our day starts 100 students athletes low incom...  143.36  \n",
              "109244  my students range age four five years old atte...  268.57  \n",
              "109245  we title 1 school 650 total students our eleme...  399.00  \n",
              "109246  i teach many different types students my class...  287.73  \n",
              "109247  my first graders eager learn world around they...    5.50  \n",
              "\n",
              "[109248 rows x 9 columns]>"
            ]
          },
          "metadata": {
            "tags": []
          },
          "execution_count": 4
        }
      ]
    },
    {
      "cell_type": "code",
      "metadata": {
        "id": "gLzbA5_WfDSX",
        "execution": {
          "iopub.status.busy": "2021-08-14T20:18:37.947516Z",
          "iopub.execute_input": "2021-08-14T20:18:37.948095Z",
          "iopub.status.idle": "2021-08-14T20:18:37.957688Z",
          "shell.execute_reply.started": "2021-08-14T20:18:37.948053Z",
          "shell.execute_reply": "2021-08-14T20:18:37.955916Z"
        },
        "trusted": true,
        "outputId": "f00d0c87-744e-4e07-f301-facb14ac5360"
      },
      "source": [
        "print(data.columns)\n",
        "print(data.shape)"
      ],
      "execution_count": null,
      "outputs": [
        {
          "output_type": "stream",
          "text": [
            "Index(['school_state', 'teacher_prefix', 'project_grade_category',\n",
            "       'teacher_number_of_previously_posted_projects', 'project_is_approved',\n",
            "       'clean_categories', 'clean_subcategories', 'essay', 'price'],\n",
            "      dtype='object')\n",
            "(109248, 9)\n"
          ],
          "name": "stdout"
        }
      ]
    },
    {
      "cell_type": "code",
      "metadata": {
        "id": "rH0LfgC-fUA9",
        "execution": {
          "iopub.status.busy": "2021-08-14T20:19:04.893646Z",
          "iopub.execute_input": "2021-08-14T20:19:04.894039Z",
          "iopub.status.idle": "2021-08-14T20:19:04.913932Z",
          "shell.execute_reply.started": "2021-08-14T20:19:04.894010Z",
          "shell.execute_reply": "2021-08-14T20:19:04.912449Z"
        },
        "trusted": true
      },
      "source": [
        "x = data.drop('project_is_approved',axis=1)"
      ],
      "execution_count": null,
      "outputs": []
    },
    {
      "cell_type": "code",
      "metadata": {
        "id": "D8mSHcH_gjFH",
        "execution": {
          "iopub.status.busy": "2021-08-14T20:19:06.270065Z",
          "iopub.execute_input": "2021-08-14T20:19:06.270441Z",
          "iopub.status.idle": "2021-08-14T20:19:06.276721Z",
          "shell.execute_reply.started": "2021-08-14T20:19:06.270397Z",
          "shell.execute_reply": "2021-08-14T20:19:06.275490Z"
        },
        "trusted": true
      },
      "source": [
        "y = data.project_is_approved.values"
      ],
      "execution_count": null,
      "outputs": []
    },
    {
      "cell_type": "code",
      "metadata": {
        "id": "XUrqgmiIgxfe",
        "execution": {
          "iopub.status.busy": "2021-08-14T20:19:07.643906Z",
          "iopub.execute_input": "2021-08-14T20:19:07.644286Z",
          "iopub.status.idle": "2021-08-14T20:19:07.651095Z",
          "shell.execute_reply.started": "2021-08-14T20:19:07.644254Z",
          "shell.execute_reply": "2021-08-14T20:19:07.649731Z"
        },
        "trusted": true,
        "outputId": "74fa43c0-ebf6-4c3d-8e7b-3116294dc1bb"
      },
      "source": [
        "print(x.shape,y.shape)"
      ],
      "execution_count": null,
      "outputs": [
        {
          "output_type": "stream",
          "text": [
            "(109248, 8) (109248,)\n"
          ],
          "name": "stdout"
        }
      ]
    },
    {
      "cell_type": "markdown",
      "metadata": {
        "id": "MYdSnO2PhyOb"
      },
      "source": [
        "# 2. Spliting data into train and test"
      ]
    },
    {
      "cell_type": "code",
      "metadata": {
        "id": "Hbu0WW1Tg040",
        "execution": {
          "iopub.status.busy": "2021-08-14T20:20:27.488058Z",
          "iopub.execute_input": "2021-08-14T20:20:27.488429Z",
          "iopub.status.idle": "2021-08-14T20:20:27.588136Z",
          "shell.execute_reply.started": "2021-08-14T20:20:27.488396Z",
          "shell.execute_reply": "2021-08-14T20:20:27.586921Z"
        },
        "trusted": true,
        "outputId": "26266cce-21f7-4319-e9d1-4b3d9d0abf75"
      },
      "source": [
        "from sklearn.model_selection import train_test_split\n",
        "X_train, X_test, y_train, y_test = train_test_split(x, y, test_size=0.20, stratify = y,random_state=0)\n",
        "print(X_train.shape,X_test.shape)\n",
        "print(y_train.shape,y_test.shape)\n"
      ],
      "execution_count": null,
      "outputs": [
        {
          "output_type": "stream",
          "text": [
            "(87398, 8) (21850, 8)\n",
            "(87398,) (21850,)\n"
          ],
          "name": "stdout"
        }
      ]
    },
    {
      "cell_type": "code",
      "metadata": {
        "execution": {
          "iopub.status.busy": "2021-08-14T20:20:27.935801Z",
          "iopub.execute_input": "2021-08-14T20:20:27.936203Z",
          "iopub.status.idle": "2021-08-14T20:20:27.974315Z",
          "shell.execute_reply.started": "2021-08-14T20:20:27.936173Z",
          "shell.execute_reply": "2021-08-14T20:20:27.972951Z"
        },
        "trusted": true,
        "id": "4P7hk58enKSC",
        "outputId": "7bc3ac1c-d687-4c6d-93f4-4ca98cb081c1"
      },
      "source": [
        "#class imalbalance\n",
        "import sklearn\n",
        "weights = sklearn.utils.class_weight.compute_class_weight('balanced',np.unique(y_train), y_train)\n",
        "print(weights)\n"
      ],
      "execution_count": null,
      "outputs": [
        {
          "output_type": "stream",
          "text": [
            "[3.30202509 0.58922119]\n"
          ],
          "name": "stdout"
        },
        {
          "output_type": "stream",
          "text": [
            "/opt/conda/lib/python3.7/site-packages/sklearn/utils/validation.py:70: FutureWarning: Pass classes=[0 1], y=[1 1 1 ... 0 1 1] as keyword args. From version 0.25 passing these as positional arguments will result in an error\n",
            "  FutureWarning)\n"
          ],
          "name": "stderr"
        }
      ]
    },
    {
      "cell_type": "code",
      "metadata": {
        "execution": {
          "iopub.status.busy": "2021-08-14T20:20:28.573688Z",
          "iopub.execute_input": "2021-08-14T20:20:28.574117Z",
          "iopub.status.idle": "2021-08-14T20:20:28.581628Z",
          "shell.execute_reply.started": "2021-08-14T20:20:28.574084Z",
          "shell.execute_reply": "2021-08-14T20:20:28.580154Z"
        },
        "trusted": true,
        "id": "hMHl3h2ynKSD"
      },
      "source": [
        "y_train = tf.keras.utils.to_categorical(y_train,2)\n",
        "y_test = tf.keras.utils.to_categorical(y_test,2)"
      ],
      "execution_count": null,
      "outputs": []
    },
    {
      "cell_type": "code",
      "metadata": {
        "execution": {
          "iopub.status.busy": "2021-08-14T20:20:33.376158Z",
          "iopub.execute_input": "2021-08-14T20:20:33.376541Z",
          "iopub.status.idle": "2021-08-14T20:20:33.381688Z",
          "shell.execute_reply.started": "2021-08-14T20:20:33.376512Z",
          "shell.execute_reply": "2021-08-14T20:20:33.380296Z"
        },
        "trusted": true,
        "id": "eEHTN9fdnKSE"
      },
      "source": [
        "weights = {0:3.30202509  ,1:0.58922119}"
      ],
      "execution_count": null,
      "outputs": []
    },
    {
      "cell_type": "markdown",
      "metadata": {
        "id": "RCBo6uyXiAA7"
      },
      "source": [
        "# 3.  Preparing data for Model-1"
      ]
    },
    {
      "cell_type": "markdown",
      "metadata": {
        "id": "Ibr4G923jtNT"
      },
      "source": [
        "## 3.1 Prepraing and Encoding Essay"
      ]
    },
    {
      "cell_type": "code",
      "metadata": {
        "id": "_bC8ag5ihQjh",
        "execution": {
          "iopub.status.busy": "2021-08-14T20:20:36.018519Z",
          "iopub.execute_input": "2021-08-14T20:20:36.018880Z",
          "iopub.status.idle": "2021-08-14T20:20:39.927647Z",
          "shell.execute_reply.started": "2021-08-14T20:20:36.018845Z",
          "shell.execute_reply": "2021-08-14T20:20:39.926436Z"
        },
        "trusted": true
      },
      "source": [
        "essay = data.essay.values.tolist()\n",
        "num_words_in_paragraph = [len(i.split()) for i in essay]\n",
        "num_of_words_in_essay = [i for j in [i.split() for i in essay] for i in j]"
      ],
      "execution_count": null,
      "outputs": []
    },
    {
      "cell_type": "code",
      "metadata": {
        "id": "0iUTPjp1vjLp",
        "execution": {
          "iopub.status.busy": "2021-08-14T20:20:41.488778Z",
          "iopub.execute_input": "2021-08-14T20:20:41.489343Z",
          "iopub.status.idle": "2021-08-14T20:20:43.044538Z",
          "shell.execute_reply.started": "2021-08-14T20:20:41.489313Z",
          "shell.execute_reply": "2021-08-14T20:20:43.040542Z"
        },
        "trusted": true,
        "outputId": "9f04e491-d9ff-4103-b522-37c2116ab0e2"
      },
      "source": [
        "print(\"The max number of words in a paragraph is : \",max(num_words_in_paragraph))\n",
        "print(\"*\"*50)\n",
        "print(\"Total no of word eassy is : \", len(num_of_words_in_essay))\n",
        "print(\"*\"*50)\n",
        "unique_words_in_essay = len(set(num_of_words_in_essay))\n",
        "print(\"No of Unique words in essay is :\", unique_words_in_essay)\n"
      ],
      "execution_count": null,
      "outputs": [
        {
          "output_type": "stream",
          "text": [
            "The max number of words in a paragraph is :  339\n",
            "**************************************************\n",
            "Total no of word eassy is :  16540843\n",
            "**************************************************\n",
            "No of Unique words in essay is : 56381\n"
          ],
          "name": "stdout"
        }
      ]
    },
    {
      "cell_type": "code",
      "metadata": {
        "id": "mMJsXzUvqKjG",
        "execution": {
          "iopub.status.busy": "2021-08-14T20:20:46.646165Z",
          "iopub.execute_input": "2021-08-14T20:20:46.646506Z",
          "iopub.status.idle": "2021-08-14T20:20:58.774354Z",
          "shell.execute_reply.started": "2021-08-14T20:20:46.646475Z",
          "shell.execute_reply": "2021-08-14T20:20:58.772905Z"
        },
        "trusted": true
      },
      "source": [
        "# https://www.tensorflow.org/api_docs/python/tf/keras/preprocessing/text/Tokenizer\n",
        "from keras.preprocessing.text import Tokenizer\n",
        "tokenizing = Tokenizer(num_words= len(num_of_words_in_essay) )\n",
        "tokenizing.fit_on_texts(X_train[\"essay\"])\n",
        "word_index = tokenizing.word_index"
      ],
      "execution_count": null,
      "outputs": []
    },
    {
      "cell_type": "code",
      "metadata": {
        "id": "IZTp6k840l4T",
        "execution": {
          "iopub.status.busy": "2021-08-14T20:20:58.776568Z",
          "iopub.execute_input": "2021-08-14T20:20:58.776997Z",
          "iopub.status.idle": "2021-08-14T20:21:10.031684Z",
          "shell.execute_reply.started": "2021-08-14T20:20:58.776944Z",
          "shell.execute_reply": "2021-08-14T20:21:10.030514Z"
        },
        "trusted": true
      },
      "source": [
        "# Encode training data and testing data into sequences\n",
        "Training_sequence = tokenizing.texts_to_sequences(X_train[\"essay\"].tolist())\n",
        "Testing_sequence = tokenizing.texts_to_sequences(X_test[\"essay\"].tolist())"
      ],
      "execution_count": null,
      "outputs": []
    },
    {
      "cell_type": "code",
      "metadata": {
        "id": "avjnh2bW0t8M",
        "execution": {
          "iopub.status.busy": "2021-08-14T20:21:10.034070Z",
          "iopub.execute_input": "2021-08-14T20:21:10.034536Z",
          "iopub.status.idle": "2021-08-14T20:21:10.055834Z",
          "shell.execute_reply.started": "2021-08-14T20:21:10.034493Z",
          "shell.execute_reply": "2021-08-14T20:21:10.054435Z"
        },
        "trusted": true,
        "outputId": "e4a716e8-cd85-43ae-ad6c-c8b8967222a1"
      },
      "source": [
        "# Get max training and testing sequence length\n",
        "Train_set_max_len = max([len(x) for x in Training_sequence])\n",
        "Test_set_max_len = max([len(x) for x in Testing_sequence])\n",
        "print(\"Max length of Training sequence for Essay is :\",Train_set_max_len)\n",
        "print(\"*\"*80)\n",
        "print(\"Max length of Testing sequence for Essay is :\",Test_set_max_len)"
      ],
      "execution_count": null,
      "outputs": [
        {
          "output_type": "stream",
          "text": [
            "Max length of Training sequence for Essay is : 339\n",
            "********************************************************************************\n",
            "Max length of Testing sequence for Essay is : 330\n"
          ],
          "name": "stdout"
        }
      ]
    },
    {
      "cell_type": "code",
      "metadata": {
        "id": "cAZ6y5Vn0xI4",
        "execution": {
          "iopub.status.busy": "2021-08-14T20:21:10.057724Z",
          "iopub.execute_input": "2021-08-14T20:21:10.058451Z",
          "iopub.status.idle": "2021-08-14T20:21:13.732569Z",
          "shell.execute_reply.started": "2021-08-14T20:21:10.058398Z",
          "shell.execute_reply": "2021-08-14T20:21:13.731221Z"
        },
        "trusted": true,
        "outputId": "d093a38f-8297-4402-bd96-469d0193b4ae"
      },
      "source": [
        "# Since There are diffrent len of squences  appling post padding;\n",
        "import tensorflow as tf\n",
        "max_seq_len = 340\n",
        "X_train_padding = tf.keras.preprocessing.sequence.pad_sequences(Training_sequence, maxlen = max_seq_len, padding = 'post')\n",
        "X_test_padding = tf.keras.preprocessing.sequence.pad_sequences(Testing_sequence, maxlen = max_seq_len, padding = 'post')\n",
        "print(\"After Padding Shape of Training data for Eassy :\", X_train_padding.shape)\n",
        "print(\"*\"*80)\n",
        "print(\"After Padding Shape of Testing data for Eassy :\", X_test_padding.shape)\n"
      ],
      "execution_count": null,
      "outputs": [
        {
          "output_type": "stream",
          "text": [
            "After Padding Shape of Training data for Eassy : (87398, 340)\n",
            "********************************************************************************\n",
            "After Padding Shape of Testing data for Eassy : (21850, 340)\n"
          ],
          "name": "stdout"
        }
      ]
    },
    {
      "cell_type": "code",
      "metadata": {
        "id": "Z5w9TK0M4G5A",
        "execution": {
          "iopub.status.busy": "2021-08-14T20:21:13.734190Z",
          "iopub.execute_input": "2021-08-14T20:21:13.734966Z",
          "iopub.status.idle": "2021-08-14T20:21:17.609110Z",
          "shell.execute_reply.started": "2021-08-14T20:21:13.734924Z",
          "shell.execute_reply": "2021-08-14T20:21:17.608060Z"
        },
        "trusted": true
      },
      "source": [
        "#Using pre_trained Glove_vectors\n",
        "import pickle\n",
        "with open('../input/vectors/glove_vectors', 'rb') as f:\n",
        "    model = pickle.load(f)\n",
        "    glove_words =  set(model.keys())"
      ],
      "execution_count": null,
      "outputs": []
    },
    {
      "cell_type": "code",
      "metadata": {
        "id": "9FDBmGtc6OeY",
        "execution": {
          "iopub.status.busy": "2021-08-14T20:21:17.611571Z",
          "iopub.execute_input": "2021-08-14T20:21:17.612168Z",
          "iopub.status.idle": "2021-08-14T20:21:17.803136Z",
          "shell.execute_reply.started": "2021-08-14T20:21:17.612125Z",
          "shell.execute_reply": "2021-08-14T20:21:17.801929Z"
        },
        "trusted": true
      },
      "source": [
        "# computing average word2vec for each review.\n",
        "import numpy as np\n",
        "embedding_matrix = np.zeros((len(word_index)+1,300))\n",
        "for word, index in word_index.items():\n",
        "  if word in glove_words:\n",
        "    embedding_vector = model[word]\n",
        "    embedding_matrix[index] = embedding_vector"
      ],
      "execution_count": null,
      "outputs": []
    },
    {
      "cell_type": "code",
      "metadata": {
        "id": "90pY1lPg-FBy",
        "execution": {
          "iopub.status.busy": "2021-08-14T20:21:17.805036Z",
          "iopub.execute_input": "2021-08-14T20:21:17.805518Z",
          "iopub.status.idle": "2021-08-14T20:21:17.811596Z",
          "shell.execute_reply.started": "2021-08-14T20:21:17.805442Z",
          "shell.execute_reply": "2021-08-14T20:21:17.810095Z"
        },
        "trusted": true,
        "outputId": "5d168858-8289-4876-ae35-e01f1bc62fb7"
      },
      "source": [
        "print(embedding_matrix.shape)"
      ],
      "execution_count": null,
      "outputs": [
        {
          "output_type": "stream",
          "text": [
            "(51803, 300)\n"
          ],
          "name": "stdout"
        }
      ]
    },
    {
      "cell_type": "markdown",
      "metadata": {
        "id": "iznafBhh-qfe"
      },
      "source": [
        "## 3.2 Prepraing and Encoding Categorical Features"
      ]
    },
    {
      "cell_type": "code",
      "metadata": {
        "id": "0HOUgXZQlH0E",
        "execution": {
          "iopub.status.busy": "2021-08-14T20:21:17.813528Z",
          "iopub.execute_input": "2021-08-14T20:21:17.814004Z",
          "iopub.status.idle": "2021-08-14T20:21:17.831887Z",
          "shell.execute_reply.started": "2021-08-14T20:21:17.813959Z",
          "shell.execute_reply": "2021-08-14T20:21:17.830587Z"
        },
        "trusted": true
      },
      "source": [
        "#https://stackoverflow.com/questions/21057621/sklearn-labelencoder-with-never-seen-before-values\n",
        "#This code has been taken from Stackoverflow discussion.\n",
        "from sklearn.preprocessing import LabelEncoder\n",
        "class LabelEncoderExt(object):\n",
        "    def __init__(self):\n",
        "        \"\"\"\n",
        "        It differs from LabelEncoder by handling new classes and providing a value for it [Unknown]\n",
        "        Unknown will be added in fit and transform will take care of new item. It gives unknown class id\n",
        "        \"\"\"\n",
        "        self.label_encoder = LabelEncoder()\n",
        "        # self.classes_ = self.label_encoder.classes_\n",
        "\n",
        "    def fit(self, data_list):\n",
        "        \"\"\"\n",
        "        This will fit the encoder for all the unique values and introduce unknown value\n",
        "        :param data_list: A list of string\n",
        "        :return: self\n",
        "        \"\"\"\n",
        "        self.label_encoder = self.label_encoder.fit(list(data_list) + ['Unknown'])\n",
        "        self.classes_ = self.label_encoder.classes_\n",
        "\n",
        "        return self\n",
        "\n",
        "    def transform(self, data_list):\n",
        "        \"\"\"\n",
        "        This will transform the data_list to id list where the new values get assigned to Unknown class\n",
        "        :param data_list:\n",
        "        :return:\n",
        "        \"\"\"\n",
        "        new_data_list = list(data_list)\n",
        "        for unique_item in np.unique(data_list):\n",
        "            if unique_item not in self.label_encoder.classes_:\n",
        "                new_data_list = ['Unknown' if x==unique_item else x for x in new_data_list]\n",
        "\n",
        "        return self.label_encoder.transform(new_data_list)"
      ],
      "execution_count": null,
      "outputs": []
    },
    {
      "cell_type": "markdown",
      "metadata": {
        "id": "def8-PoN-9_G"
      },
      "source": [
        "### 3.2.1 School State"
      ]
    },
    {
      "cell_type": "code",
      "metadata": {
        "id": "0t9S9hULmwA2",
        "execution": {
          "iopub.status.busy": "2021-08-14T20:21:20.285058Z",
          "iopub.execute_input": "2021-08-14T20:21:20.285586Z",
          "iopub.status.idle": "2021-08-14T20:21:20.585128Z",
          "shell.execute_reply.started": "2021-08-14T20:21:20.285519Z",
          "shell.execute_reply": "2021-08-14T20:21:20.583876Z"
        },
        "trusted": true,
        "outputId": "098c7f71-0e42-4a20-b4a3-40be7230f184"
      },
      "source": [
        "vectorizer = LabelEncoderExt()\n",
        "vectorizer.fit(X_train['school_state'].values)\n",
        "school_state_vocab = len(vectorizer.classes_) \n",
        "X_train_school_state = vectorizer.transform(X_train['school_state'].values)\n",
        "X_test_school_state = vectorizer.transform(X_test['school_state'].values)\n",
        "embedding_size_school = min(50, (school_state_vocab)//2+1)\n",
        "print(X_train_school_state.shape)\n",
        "print(\"*\"*50)\n",
        "print(X_test_school_state.shape)\n",
        "print(\"*\"*50)\n",
        "print(\"The vocabulary size : \", school_state_vocab)\n",
        "print(\"*\"*50)\n",
        "print(\"The Embedding Size for School State will be :\" ,embedding_size_school-1)\n",
        "#Heuristic given by Jermey Howard of Fast.Ai is to take half the number of unique values then add one."
      ],
      "execution_count": null,
      "outputs": [
        {
          "output_type": "stream",
          "text": [
            "(87398,)\n",
            "**************************************************\n",
            "(21850,)\n",
            "**************************************************\n",
            "The vocabulary size :  52\n",
            "**************************************************\n",
            "The Embedding Size for School State will be : 26\n"
          ],
          "name": "stdout"
        }
      ]
    },
    {
      "cell_type": "markdown",
      "metadata": {
        "id": "UvYXl1a6AJ2G"
      },
      "source": [
        "### 3.2.2 Teacher Prefix"
      ]
    },
    {
      "cell_type": "code",
      "metadata": {
        "id": "Z3g2M1dVpddw",
        "execution": {
          "iopub.status.busy": "2021-08-14T20:21:22.772536Z",
          "iopub.execute_input": "2021-08-14T20:21:22.772928Z",
          "iopub.status.idle": "2021-08-14T20:21:22.977715Z",
          "shell.execute_reply.started": "2021-08-14T20:21:22.772895Z",
          "shell.execute_reply": "2021-08-14T20:21:22.976325Z"
        },
        "trusted": true,
        "outputId": "90d69034-3c83-469b-cc65-e5bef85fdb24"
      },
      "source": [
        "vectorizer = LabelEncoderExt()\n",
        "vectorizer.fit(X_train['teacher_prefix'].values)\n",
        "teacher_prefix_vocab = len(vectorizer.classes_)\n",
        "X_train_teacher_prefix = vectorizer.transform(X_train['teacher_prefix'].values)\n",
        "X_test_teacher_prefix = vectorizer.transform(X_test['teacher_prefix'].values)\n",
        "embedding_size_teacher_prefix = min(50,(teacher_prefix_vocab)//2+1)\n",
        "print(X_train_teacher_prefix.shape)\n",
        "print(\"*\"*50)\n",
        "print(X_test_teacher_prefix.shape)\n",
        "print(\"*\"*50)\n",
        "print(\"The vocabulary size : \", teacher_prefix_vocab)\n",
        "print(\"*\"*50)\n",
        "print(\"The Embedding Size for Teacher prefix will be :\" ,embedding_size_teacher_prefix-1) \n",
        "#Heuristic given by Jermey Howard of Fast.Ai is to take half the number of unique values then add one."
      ],
      "execution_count": null,
      "outputs": [
        {
          "output_type": "stream",
          "text": [
            "(87398,)\n",
            "**************************************************\n",
            "(21850,)\n",
            "**************************************************\n",
            "The vocabulary size :  6\n",
            "**************************************************\n",
            "The Embedding Size for Teacher prefix will be : 3\n"
          ],
          "name": "stdout"
        }
      ]
    },
    {
      "cell_type": "markdown",
      "metadata": {
        "id": "M_nKMrnZBYEf"
      },
      "source": [
        "### 3.2.3 Project_grade_category"
      ]
    },
    {
      "cell_type": "code",
      "metadata": {
        "id": "W2ZZn5qKqNOr",
        "execution": {
          "iopub.status.busy": "2021-08-14T20:21:24.751247Z",
          "iopub.execute_input": "2021-08-14T20:21:24.751669Z",
          "iopub.status.idle": "2021-08-14T20:21:24.978992Z",
          "shell.execute_reply.started": "2021-08-14T20:21:24.751621Z",
          "shell.execute_reply": "2021-08-14T20:21:24.977685Z"
        },
        "trusted": true,
        "outputId": "6d6e63da-326a-42dd-bae9-0c413bd6819b"
      },
      "source": [
        "vectorizer = LabelEncoderExt()\n",
        "vectorizer.fit(X_train['project_grade_category'].values)\n",
        "project_grade_category_vocab = len(vectorizer.classes_)\n",
        "X_train_project_grade_category = vectorizer.transform(X_train['project_grade_category'].values)\n",
        "X_test_project_grade_category = vectorizer.transform(X_test['project_grade_category'].values)\n",
        "embedding_size_teacher_prefix = min(50,(project_grade_category_vocab)//2+1)\n",
        "print(X_train_teacher_prefix.shape)\n",
        "print(\"*\"*50)\n",
        "print(X_test_teacher_prefix.shape)\n",
        "print(\"*\"*50)\n",
        "print(\"The vocabulary size : \", teacher_prefix_vocab)\n",
        "print(\"*\"*50)\n",
        "print(\"The Embedding Size for Project Grade Category will be :\" ,embedding_size_teacher_prefix-1) \n",
        "#Heuristic given by Jermey Howard of Fast.Ai is to take half the number of unique values then add one."
      ],
      "execution_count": null,
      "outputs": [
        {
          "output_type": "stream",
          "text": [
            "(87398,)\n",
            "**************************************************\n",
            "(21850,)\n",
            "**************************************************\n",
            "The vocabulary size :  6\n",
            "**************************************************\n",
            "The Embedding Size for Project Grade Category will be : 2\n"
          ],
          "name": "stdout"
        }
      ]
    },
    {
      "cell_type": "markdown",
      "metadata": {
        "id": "PIOwPKuxBxt1"
      },
      "source": [
        "### 3.2.4 Clean_categories"
      ]
    },
    {
      "cell_type": "code",
      "metadata": {
        "id": "1MtLIaNjqnDi",
        "execution": {
          "iopub.status.busy": "2021-08-14T20:21:26.345176Z",
          "iopub.execute_input": "2021-08-14T20:21:26.345621Z",
          "iopub.status.idle": "2021-08-14T20:21:26.645188Z",
          "shell.execute_reply.started": "2021-08-14T20:21:26.345589Z",
          "shell.execute_reply": "2021-08-14T20:21:26.643804Z"
        },
        "trusted": true,
        "outputId": "3a008942-b6f7-49de-e0a5-ec39f83c0dec"
      },
      "source": [
        "vectorizer = LabelEncoderExt()\n",
        "vectorizer.fit(X_train['clean_categories'].values)\n",
        "clean_categories_vocab = len(vectorizer.classes_)\n",
        "X_train_clean_categories = vectorizer.transform(X_train['clean_categories'].values)\n",
        "X_test_clean_categories = vectorizer.transform(X_test['clean_categories'].values)\n",
        "embedding_size_teacher_prefix = min(50,(clean_categories_vocab)//2+1)\n",
        "print(X_train_clean_categories.shape)\n",
        "print(\"*\"*50)\n",
        "print(X_test_clean_categories.shape)\n",
        "print(\"*\"*50)\n",
        "print(\"The vocabulary size : \", clean_categories_vocab)\n",
        "print(\"*\"*50)\n",
        "print(\"The Embedding Size for Clean Category will be :\" ,embedding_size_teacher_prefix-1)\n",
        "#Heuristic given by Jermey Howard of Fast.Ai is to take half the number of unique values then add one."
      ],
      "execution_count": null,
      "outputs": [
        {
          "output_type": "stream",
          "text": [
            "(87398,)\n",
            "**************************************************\n",
            "(21850,)\n",
            "**************************************************\n",
            "The vocabulary size :  52\n",
            "**************************************************\n",
            "The Embedding Size for Clean Category will be : 26\n"
          ],
          "name": "stdout"
        }
      ]
    },
    {
      "cell_type": "markdown",
      "metadata": {
        "id": "2kRZoSkECHxN"
      },
      "source": [
        "### 3.2.5 Clean_subcategories"
      ]
    },
    {
      "cell_type": "code",
      "metadata": {
        "id": "9RlqEs_Bq5_o",
        "execution": {
          "iopub.status.busy": "2021-08-14T20:21:28.469448Z",
          "iopub.execute_input": "2021-08-14T20:21:28.469843Z",
          "iopub.status.idle": "2021-08-14T20:21:28.800624Z",
          "shell.execute_reply.started": "2021-08-14T20:21:28.469787Z",
          "shell.execute_reply": "2021-08-14T20:21:28.799237Z"
        },
        "trusted": true,
        "outputId": "16298d0b-590d-4c17-a284-70a9f42e6ead"
      },
      "source": [
        "vectorizer = LabelEncoderExt()\n",
        "vectorizer.fit(X_train['clean_subcategories'].values)\n",
        "clean_subcategories_vocab = len(vectorizer.classes_)\n",
        "X_train_clean_subcategories = vectorizer.transform(X_train['clean_subcategories'].values)\n",
        "X_test_clean_subcategories = vectorizer.transform(X_test['clean_subcategories'].values)\n",
        "embedding_size_teacher_prefix = min(50,(clean_subcategories_vocab)//2+1)\n",
        "print(X_train_clean_categories.shape)\n",
        "print(\"*\"*50)\n",
        "print(X_test_clean_categories.shape)\n",
        "print(\"*\"*50)\n",
        "print(\"The vocabulary size : \", clean_subcategories_vocab)\n",
        "print(\"*\"*50)\n",
        "print(\"The Embedding Size for Clean Sub Category will be:\" ,embedding_size_teacher_prefix-1)\n",
        "#Heuristic given by Jermey Howard of Fast.Ai is to take half the number of unique values then add one."
      ],
      "execution_count": null,
      "outputs": [
        {
          "output_type": "stream",
          "text": [
            "(87398,)\n",
            "**************************************************\n",
            "(21850,)\n",
            "**************************************************\n",
            "The vocabulary size :  394\n",
            "**************************************************\n",
            "The Embedding Size for Clean Sub Category will be: 49\n"
          ],
          "name": "stdout"
        }
      ]
    },
    {
      "cell_type": "markdown",
      "metadata": {
        "id": "i0MpvzYsCd19"
      },
      "source": [
        "## 3.3 Preparing and Encoding Numerical features"
      ]
    },
    {
      "cell_type": "markdown",
      "metadata": {
        "id": "nKAYjw2CCkGl"
      },
      "source": [
        "### 3.3.1 Price"
      ]
    },
    {
      "cell_type": "code",
      "metadata": {
        "id": "KoXeCsdZCUuC",
        "execution": {
          "iopub.status.busy": "2021-08-14T20:21:34.128923Z",
          "iopub.execute_input": "2021-08-14T20:21:34.129378Z",
          "iopub.status.idle": "2021-08-14T20:21:34.144426Z",
          "shell.execute_reply.started": "2021-08-14T20:21:34.129346Z",
          "shell.execute_reply": "2021-08-14T20:21:34.142628Z"
        },
        "trusted": true,
        "outputId": "c6d91e5e-22ee-4d60-d591-199eac07b9c3"
      },
      "source": [
        "from sklearn.preprocessing import Normalizer\n",
        "normalizer = Normalizer()\n",
        "normalizer.fit(data['price'].values.reshape(-1,1))\n",
        "price_train = normalizer.transform(X_train['price'].values.reshape(-1,1))\n",
        "price_test = normalizer.transform(X_test['price'].values.reshape(-1,1))\n",
        "print(price_train.shape)\n",
        "print(\"*\"*50)\n",
        "print(price_test.shape)"
      ],
      "execution_count": null,
      "outputs": [
        {
          "output_type": "stream",
          "text": [
            "(87398, 1)\n",
            "**************************************************\n",
            "(21850, 1)\n"
          ],
          "name": "stdout"
        }
      ]
    },
    {
      "cell_type": "markdown",
      "metadata": {
        "id": "9bae04vlD3wN"
      },
      "source": [
        "### 3.3.2 Teacher_number_of_previously_posted_projects"
      ]
    },
    {
      "cell_type": "code",
      "metadata": {
        "id": "DODsanY2DlZo",
        "execution": {
          "iopub.status.busy": "2021-08-14T20:21:36.918152Z",
          "iopub.execute_input": "2021-08-14T20:21:36.918524Z",
          "iopub.status.idle": "2021-08-14T20:21:36.931555Z",
          "shell.execute_reply.started": "2021-08-14T20:21:36.918493Z",
          "shell.execute_reply": "2021-08-14T20:21:36.929830Z"
        },
        "trusted": true,
        "outputId": "d38ee401-dad2-4dfc-af1f-48ed750add55"
      },
      "source": [
        "normalizer.fit(data['teacher_number_of_previously_posted_projects'].values.reshape(-1,1))\n",
        "train_teacher_number_of_previously_posted_projects = normalizer.transform(X_train['teacher_number_of_previously_posted_projects'].values.reshape(-1,1))\n",
        "test_teacher_number_of_previously_posted_projects = normalizer.transform(X_test['teacher_number_of_previously_posted_projects'].values.reshape(-1,1))\n",
        "print(train_teacher_number_of_previously_posted_projects.shape)\n",
        "print(\"*\"*50)\n",
        "print(test_teacher_number_of_previously_posted_projects.shape)"
      ],
      "execution_count": null,
      "outputs": [
        {
          "output_type": "stream",
          "text": [
            "(87398, 1)\n",
            "**************************************************\n",
            "(21850, 1)\n"
          ],
          "name": "stdout"
        }
      ]
    },
    {
      "cell_type": "markdown",
      "metadata": {
        "id": "P0-le2jHRX2a"
      },
      "source": [
        "### 3.3.3 Merging Numerical features"
      ]
    },
    {
      "cell_type": "code",
      "metadata": {
        "id": "Vl80Oor9RduC",
        "execution": {
          "iopub.status.busy": "2021-08-14T20:21:49.657521Z",
          "iopub.execute_input": "2021-08-14T20:21:49.657955Z",
          "iopub.status.idle": "2021-08-14T20:21:49.666613Z",
          "shell.execute_reply.started": "2021-08-14T20:21:49.657925Z",
          "shell.execute_reply": "2021-08-14T20:21:49.665215Z"
        },
        "trusted": true,
        "outputId": "d71f363d-3b2e-4510-9c9b-26156ca4dc6f"
      },
      "source": [
        "X_train_numerical = np.hstack((price_train, train_teacher_number_of_previously_posted_projects))\n",
        "X_test_numerical = np.hstack((price_test, test_teacher_number_of_previously_posted_projects))\n",
        "print(X_train_nummerical.shape)\n",
        "print(X_test_numerical.shape)"
      ],
      "execution_count": null,
      "outputs": [
        {
          "output_type": "stream",
          "text": [
            "(87398, 2)\n",
            "(21850, 2)\n"
          ],
          "name": "stdout"
        }
      ]
    },
    {
      "cell_type": "markdown",
      "metadata": {
        "id": "AH_p2iASFo0F"
      },
      "source": [
        "# 4. Building Model -1"
      ]
    },
    {
      "cell_type": "code",
      "metadata": {
        "id": "wbWG5zTYWZsj",
        "execution": {
          "iopub.status.busy": "2021-08-14T21:05:14.719033Z",
          "iopub.execute_input": "2021-08-14T21:05:14.719443Z",
          "iopub.status.idle": "2021-08-14T21:05:14.740343Z",
          "shell.execute_reply.started": "2021-08-14T21:05:14.719413Z",
          "shell.execute_reply": "2021-08-14T21:05:14.739164Z"
        },
        "trusted": true
      },
      "source": [
        "tf.keras.backend.clear_session()\n",
        "def model_1():\n",
        "  \n",
        "  # essay_input # the input shape will be the shape of the embedding matrix\n",
        "  input_1 = Input(shape=(340,), name='essay_input') #Using name to map inputs while calling  model.fit()\n",
        "  embd = Embedding(len(word_index)+1,300, weights=[embedding_matrix], input_length=340,trainable=False)(input_1)\n",
        "  lstm_unit = LSTM(128,kernel_regularizer=regularizers.l2(0.001),return_sequences=True,\n",
        "                  kernel_initializer='glorot_normal')(embd)\n",
        "  flatten_1 = Flatten()(lstm_unit)\n",
        "\n",
        "\n",
        "  # school_state\n",
        "  input_2 = Input(shape=(1,), name='school_state')\n",
        "  school_state = Embedding(output_dim=28 , input_dim=52, input_length=1)(input_2)\n",
        "  flatten_2 = Flatten()(school_state)\n",
        "\n",
        "\n",
        "  #teacher_prefix\n",
        "  input_3 = Input(shape=(1,), name='teacher_prefix')\n",
        "  teacher_prefix = Embedding(output_dim=4, input_dim=6, input_length=1)(input_3)\n",
        "  flatten_3 = Flatten()(teacher_prefix)\n",
        "\n",
        "\n",
        "  #clean_categories\n",
        "  input_4 = Input(shape=(1,), name='clean_categories')\n",
        "  clean_categories = Embedding(output_dim=28, input_dim=52, input_length=1)(input_4)\n",
        "  flatten_4 = Flatten()(clean_categories)\n",
        "\n",
        "\n",
        "  #clean_subcategories\n",
        "  input_5 = Input(shape=(1,), name='clean_subcategories')\n",
        "  clean_subcategories = Embedding(output_dim=50, input_dim=394, input_length=1)(input_5)\n",
        "  flatten_5 = Flatten()(clean_subcategories)\n",
        "\n",
        "\n",
        "\n",
        "  #project_grade_category\n",
        "  input_6 = Input(shape=(1,), name='project_grade_category')\n",
        "  project_grade_category = Embedding(output_dim=2, input_dim=5, input_length=1)(input_6)\n",
        "  flatten_6 = Flatten()(project_grade_category)\n",
        "\n",
        "  # numerical features\n",
        "  numeric_features = Input(shape=(2,) , name=\"numerical_features\")\n",
        "  numeric_dense = Dense(32, activation='swish' , kernel_initializer='glorot_normal')(numeric_features )\n",
        "\n",
        "\n",
        "  #Concating all the flatenned inputs\n",
        "  concat = concatenate([flatten_1 , flatten_2 , flatten_3 ,flatten_4 , flatten_5 , flatten_6 , numeric_dense])\n",
        "\n",
        "  #dense-block\n",
        "  dense_1 = Dense(64, activation='swish', name='dense_1',kernel_initializer='glorot_normal',\n",
        "                kernel_regularizer=regularizers.l2(0.001))(concat)\n",
        "  \n",
        "  dense_2 = Dense(32, activation='swish', name='dense_2',kernel_initializer='glorot_normal',\n",
        "                 kernel_regularizer=regularizers.l2(0.001))(dense_1)\n",
        "\n",
        "  dense_3 = Dense(16, activation='swish', name='dense_3',kernel_initializer='glorot_normal',\n",
        "                 kernel_regularizer=regularizers.l2(0.001))(dense_2)\n",
        "  \n",
        "  \n",
        "\n",
        "\n",
        "\n",
        "  \n",
        "\n",
        "\n",
        "\n",
        "  output = Dense(2, activation='softmax', name='output')(dense_3)\n",
        "\n",
        "  model = Model(inputs=[input_1, input_2 ,input_3,input_4,\n",
        "                       input_5,input_6 ,numeric_features],outputs=[output])\n",
        "  return model\n"
      ],
      "execution_count": null,
      "outputs": []
    },
    {
      "cell_type": "code",
      "metadata": {
        "id": "-VOm_lfEydn2",
        "execution": {
          "iopub.status.busy": "2021-08-14T21:05:15.429353Z",
          "iopub.execute_input": "2021-08-14T21:05:15.429688Z",
          "iopub.status.idle": "2021-08-14T21:05:16.079979Z",
          "shell.execute_reply.started": "2021-08-14T21:05:15.429662Z",
          "shell.execute_reply": "2021-08-14T21:05:16.078856Z"
        },
        "trusted": true,
        "outputId": "ab376619-f88c-435f-cb63-105ff8f3cad2"
      },
      "source": [
        "model_1 = model_1()\n",
        "model_1.summary()"
      ],
      "execution_count": null,
      "outputs": [
        {
          "output_type": "stream",
          "text": [
            "Model: \"model\"\n",
            "__________________________________________________________________________________________________\n",
            "Layer (type)                    Output Shape         Param #     Connected to                     \n",
            "==================================================================================================\n",
            "essay_input (InputLayer)        [(None, 340)]        0                                            \n",
            "__________________________________________________________________________________________________\n",
            "embedding (Embedding)           (None, 340, 300)     15540900    essay_input[0][0]                \n",
            "__________________________________________________________________________________________________\n",
            "school_state (InputLayer)       [(None, 1)]          0                                            \n",
            "__________________________________________________________________________________________________\n",
            "teacher_prefix (InputLayer)     [(None, 1)]          0                                            \n",
            "__________________________________________________________________________________________________\n",
            "clean_categories (InputLayer)   [(None, 1)]          0                                            \n",
            "__________________________________________________________________________________________________\n",
            "clean_subcategories (InputLayer [(None, 1)]          0                                            \n",
            "__________________________________________________________________________________________________\n",
            "project_grade_category (InputLa [(None, 1)]          0                                            \n",
            "__________________________________________________________________________________________________\n",
            "lstm (LSTM)                     (None, 340, 128)     219648      embedding[0][0]                  \n",
            "__________________________________________________________________________________________________\n",
            "embedding_1 (Embedding)         (None, 1, 28)        1456        school_state[0][0]               \n",
            "__________________________________________________________________________________________________\n",
            "embedding_2 (Embedding)         (None, 1, 4)         24          teacher_prefix[0][0]             \n",
            "__________________________________________________________________________________________________\n",
            "embedding_3 (Embedding)         (None, 1, 28)        1456        clean_categories[0][0]           \n",
            "__________________________________________________________________________________________________\n",
            "embedding_4 (Embedding)         (None, 1, 50)        19700       clean_subcategories[0][0]        \n",
            "__________________________________________________________________________________________________\n",
            "embedding_5 (Embedding)         (None, 1, 2)         10          project_grade_category[0][0]     \n",
            "__________________________________________________________________________________________________\n",
            "numerical_features (InputLayer) [(None, 2)]          0                                            \n",
            "__________________________________________________________________________________________________\n",
            "flatten (Flatten)               (None, 43520)        0           lstm[0][0]                       \n",
            "__________________________________________________________________________________________________\n",
            "flatten_1 (Flatten)             (None, 28)           0           embedding_1[0][0]                \n",
            "__________________________________________________________________________________________________\n",
            "flatten_2 (Flatten)             (None, 4)            0           embedding_2[0][0]                \n",
            "__________________________________________________________________________________________________\n",
            "flatten_3 (Flatten)             (None, 28)           0           embedding_3[0][0]                \n",
            "__________________________________________________________________________________________________\n",
            "flatten_4 (Flatten)             (None, 50)           0           embedding_4[0][0]                \n",
            "__________________________________________________________________________________________________\n",
            "flatten_5 (Flatten)             (None, 2)            0           embedding_5[0][0]                \n",
            "__________________________________________________________________________________________________\n",
            "dense (Dense)                   (None, 32)           96          numerical_features[0][0]         \n",
            "__________________________________________________________________________________________________\n",
            "concatenate (Concatenate)       (None, 43664)        0           flatten[0][0]                    \n",
            "                                                                 flatten_1[0][0]                  \n",
            "                                                                 flatten_2[0][0]                  \n",
            "                                                                 flatten_3[0][0]                  \n",
            "                                                                 flatten_4[0][0]                  \n",
            "                                                                 flatten_5[0][0]                  \n",
            "                                                                 dense[0][0]                      \n",
            "__________________________________________________________________________________________________\n",
            "dense_1 (Dense)                 (None, 64)           2794560     concatenate[0][0]                \n",
            "__________________________________________________________________________________________________\n",
            "dense_2 (Dense)                 (None, 32)           2080        dense_1[0][0]                    \n",
            "__________________________________________________________________________________________________\n",
            "dense_3 (Dense)                 (None, 16)           528         dense_2[0][0]                    \n",
            "__________________________________________________________________________________________________\n",
            "output (Dense)                  (None, 2)            34          dense_3[0][0]                    \n",
            "==================================================================================================\n",
            "Total params: 18,580,492\n",
            "Trainable params: 3,039,592\n",
            "Non-trainable params: 15,540,900\n",
            "__________________________________________________________________________________________________\n"
          ],
          "name": "stdout"
        }
      ]
    },
    {
      "cell_type": "markdown",
      "metadata": {
        "id": "pm5xBkX1Ubs8"
      },
      "source": [
        "## 4.1 Training Model-1"
      ]
    },
    {
      "cell_type": "code",
      "metadata": {
        "id": "4nZnEq4bYVzP",
        "execution": {
          "iopub.status.busy": "2021-08-14T21:05:18.802641Z",
          "iopub.execute_input": "2021-08-14T21:05:18.803067Z",
          "iopub.status.idle": "2021-08-14T21:05:18.817700Z",
          "shell.execute_reply.started": "2021-08-14T21:05:18.803036Z",
          "shell.execute_reply": "2021-08-14T21:05:18.816524Z"
        },
        "trusted": true
      },
      "source": [
        "from sklearn.metrics import roc_auc_score\n",
        "from tensorflow.keras.callbacks import  ModelCheckpoint, ReduceLROnPlateau, CSVLogger, TensorBoard, EarlyStopping\n",
        "                                          \n",
        "                                          #Wraps a python function into a TensorFlow op that executes it eagerly\n",
        "\n",
        "from sklearn.metrics import roc_auc_score\n",
        "\n",
        "def au_roc(y_true, y_pred):\n",
        "    return tf.py_function(roc_auc_score, (y_true, y_pred), tf.double)\n",
        "\n",
        "def train_model_1():\n",
        " \n",
        "\n",
        "  opt = tf.keras.optimizers.Adam(0.001)\n",
        "   \n",
        "   \n",
        "  metrics = [\"acc\",au_roc] \n",
        "                                                                             #using recall and Precsion \n",
        "  model_1.compile(loss=\"categorical_crossentropy\", optimizer=opt, metrics=metrics) \n",
        "  callbacks = [\n",
        "        ModelCheckpoint(\"/kaggle/working/model_1.h5\",monitor = \"val_au_roc\",save_best_only=True),\n",
        "        ReduceLROnPlateau(monitor='val_loss', factor=0.6,mode='min', patience=3), #Reducing learing rate by factor of(0.5),\n",
        "                                                                       # new_lr = lr * factor.\n",
        "        CSVLogger(\"/kaggle/working/data.csv\"),\n",
        "        EarlyStopping(monitor='val_au_roc', patience=10,mode= 'max',restore_best_weights=True) #stop traing is val_loss does not change\n",
        "    ]                                                                             #after 20 epochs.\n",
        "  history = model_1.fit({'essay_input': X_train_padding, 'school_state': X_train_school_state, \n",
        "                         'project_grade_category': X_train_project_grade_category,\n",
        "                         'clean_categories': X_train_clean_categories,\n",
        "                         'clean_subcategories':X_train_clean_subcategories, \n",
        "                         'teacher_prefix':X_train_teacher_prefix,\n",
        "                         'numerical_features' : X_train_numerical},y_train,\n",
        "                          epochs=10, batch_size=128,verbose=1, \n",
        "                          validation_data=({'essay_input': X_test_padding, 'school_state': X_test_school_state, \n",
        "                                            'project_grade_category': X_test_project_grade_category,\n",
        "                                            'clean_categories': X_test_clean_categories,\n",
        "                                            'clean_subcategories':X_test_clean_subcategories, \n",
        "                                            'teacher_prefix':X_test_teacher_prefix ,\n",
        "                                            'numerical_features' : X_test_numerical},y_test),\n",
        "                       callbacks=callbacks,\n",
        "                       class_weight = weights)\n",
        "                    \n",
        "  \n",
        "  tf.keras.models.save_model(model_1,'/kaggle/working/final_model_1.h5')\n",
        "  \n",
        "  \n",
        "  return history\n"
      ],
      "execution_count": null,
      "outputs": []
    },
    {
      "cell_type": "code",
      "metadata": {
        "id": "6Q-6a4VjwOyY",
        "execution": {
          "iopub.status.busy": "2021-08-14T21:05:20.549800Z",
          "iopub.execute_input": "2021-08-14T21:05:20.550292Z",
          "iopub.status.idle": "2021-08-14T21:12:30.203488Z",
          "shell.execute_reply.started": "2021-08-14T21:05:20.550250Z",
          "shell.execute_reply": "2021-08-14T21:12:30.202312Z"
        },
        "trusted": true,
        "outputId": "faddc643-7615-4cb9-a872-b11bc720d406"
      },
      "source": [
        "import sys\n",
        "if __name__ == '__main__':\n",
        "    config = tf.compat.v1.ConfigProto()\n",
        "    config.gpu_options.allow_growth = True\n",
        "    config.allow_soft_placement = True\n",
        "    sess = tf.compat.v1.Session(config=config)\n",
        "    tf.compat.v1.keras.backend.set_session(sess)\n",
        "\n",
        "    if len(sys.argv) > 1:\n",
        "        gpu = sys.argv[1]\n",
        "    device = '/device:GPU:0'   #using Gpu for paced training\n",
        "\n",
        "    with tf.device(device):\n",
        "        history_1 = train_model_1()"
      ],
      "execution_count": null,
      "outputs": [
        {
          "output_type": "stream",
          "text": [
            "Epoch 1/10\n",
            "683/683 [==============================] - 47s 63ms/step - loss: 0.9435 - acc: 0.5796 - au_roc: 0.6526 - val_loss: 0.6048 - val_acc: 0.7365 - val_au_roc: 0.7349\n",
            "Epoch 2/10\n",
            "683/683 [==============================] - 42s 62ms/step - loss: 0.6618 - acc: 0.7049 - au_roc: 0.7366 - val_loss: 0.6011 - val_acc: 0.7672 - val_au_roc: 0.7485\n",
            "Epoch 3/10\n",
            "683/683 [==============================] - 43s 62ms/step - loss: 0.6379 - acc: 0.7266 - au_roc: 0.7485 - val_loss: 0.5815 - val_acc: 0.7513 - val_au_roc: 0.7546\n",
            "Epoch 4/10\n",
            "683/683 [==============================] - 42s 62ms/step - loss: 0.6260 - acc: 0.7385 - au_roc: 0.7561 - val_loss: 0.6303 - val_acc: 0.7076 - val_au_roc: 0.7602\n",
            "Epoch 5/10\n",
            "683/683 [==============================] - 43s 63ms/step - loss: 0.6087 - acc: 0.7412 - au_roc: 0.7660 - val_loss: 0.5169 - val_acc: 0.8002 - val_au_roc: 0.7628\n",
            "Epoch 6/10\n",
            "683/683 [==============================] - 42s 62ms/step - loss: 0.5983 - acc: 0.7551 - au_roc: 0.7695 - val_loss: 0.5723 - val_acc: 0.7641 - val_au_roc: 0.7621\n",
            "Epoch 7/10\n",
            "683/683 [==============================] - 42s 62ms/step - loss: 0.5990 - acc: 0.7473 - au_roc: 0.7702 - val_loss: 0.6510 - val_acc: 0.6964 - val_au_roc: 0.7634\n",
            "Epoch 8/10\n",
            "683/683 [==============================] - 42s 62ms/step - loss: 0.5954 - acc: 0.7484 - au_roc: 0.7726 - val_loss: 0.5842 - val_acc: 0.7633 - val_au_roc: 0.7641\n",
            "Epoch 9/10\n",
            "683/683 [==============================] - 42s 62ms/step - loss: 0.5894 - acc: 0.7512 - au_roc: 0.7787 - val_loss: 0.5405 - val_acc: 0.7765 - val_au_roc: 0.7658\n",
            "Epoch 10/10\n",
            "683/683 [==============================] - 42s 62ms/step - loss: 0.5864 - acc: 0.7570 - au_roc: 0.7829 - val_loss: 0.5875 - val_acc: 0.7425 - val_au_roc: 0.7645\n"
          ],
          "name": "stdout"
        }
      ]
    },
    {
      "cell_type": "code",
      "metadata": {
        "id": "LIdEgbv19JVs",
        "execution": {
          "iopub.status.busy": "2021-08-14T21:12:34.088142Z",
          "iopub.execute_input": "2021-08-14T21:12:34.088532Z",
          "iopub.status.idle": "2021-08-14T21:12:34.259925Z",
          "shell.execute_reply.started": "2021-08-14T21:12:34.088493Z",
          "shell.execute_reply": "2021-08-14T21:12:34.258294Z"
        },
        "trusted": true,
        "outputId": "dbdddff2-0062-4c13-e56a-0c6e3bc6d3a8"
      },
      "source": [
        "import matplotlib.pyplot as plt\n",
        "\n",
        "epochs =10\n",
        "epochs_range = range(epochs)\n",
        "auc = history_1.history['au_roc']\n",
        "val_auc = history_1.history['val_au_roc']\n",
        "plt.figure(figsize=(8, 8))\n",
        "plt.subplot(1, 2, 1)\n",
        "plt.plot(epochs_range, auc, label='Training AUC')\n",
        "plt.plot(epochs_range, val_auc, label='Validation AUC')\n",
        "plt.legend(loc='lower right')\n",
        "plt.title('Training and Validation AUC')\n",
        "plt.show()"
      ],
      "execution_count": null,
      "outputs": [
        {
          "output_type": "display_data",
          "data": {
            "text/plain": [
              "<Figure size 576x576 with 1 Axes>"
            ],
            "image/png": "[encoded data removed]"
          },
          "metadata": {
            "tags": [],
            "needs_background": "light"
          }
        }
      ]
    },
    {
      "cell_type": "markdown",
      "metadata": {
        "id": "ZhRcuzbU6WTU"
      },
      "source": [
        "# 5. Building Model-2"
      ]
    },
    {
      "cell_type": "markdown",
      "metadata": {
        "id": "PILA98Qi69hs"
      },
      "source": [
        "## 5.1 Training the TF-IDF on the Train data for Essay"
      ]
    },
    {
      "cell_type": "code",
      "metadata": {
        "id": "jLzMmK89B0jf",
        "execution": {
          "iopub.status.busy": "2021-08-14T21:12:44.758046Z",
          "iopub.execute_input": "2021-08-14T21:12:44.758410Z",
          "iopub.status.idle": "2021-08-14T21:12:59.325639Z",
          "shell.execute_reply.started": "2021-08-14T21:12:44.758374Z",
          "shell.execute_reply": "2021-08-14T21:12:59.323518Z"
        },
        "trusted": true,
        "outputId": "cbbecc0e-685e-453c-aaaa-23500da6b0f4"
      },
      "source": [
        "from sklearn.feature_extraction.text import TfidfVectorizer\n",
        "vectorizer = TfidfVectorizer()\n",
        "tfidf = vectorizer.fit_transform(X_train[\"essay\"])\n",
        "scores = {'word': vectorizer.get_feature_names() , 'ranks': vectorizer.idf_}\n",
        "scores_data = pd.DataFrame(data=scores)\n",
        "print(\"Quantiles: 0-5-10-15-20-25-30-35-40-45-50-55-60-65-70-75-80-85-90-95-100\")\n",
        "print('*'*50)\n",
        "print(np.percentile(scores['ranks'],np.arange(0, 100, 5)))\n",
        "print('*'*50)\n",
        "print(np.percentile(scores['ranks'] , 100))"
      ],
      "execution_count": null,
      "outputs": [
        {
          "output_type": "stream",
          "text": [
            "Quantiles: 0-5-10-15-20-25-30-35-40-45-50-55-60-65-70-75-80-85-90-95-100\n",
            "**************************************************\n",
            "[ 1.00777624  6.31970072  7.61606519  8.4269954   9.12014258  9.67018892\n",
            " 10.07565403 10.43232897 10.76880121 10.99194476 11.27962683 11.27962683\n",
            " 11.27962683 11.68509194 11.68509194 11.68509194 11.68509194 11.68509194\n",
            " 11.68509194 11.68509194]\n",
            "**************************************************\n",
            "11.685091939370627\n"
          ],
          "name": "stdout"
        }
      ]
    },
    {
      "cell_type": "code",
      "metadata": {
        "id": "S-QdsbgaDAtm",
        "execution": {
          "iopub.status.busy": "2021-08-14T21:13:31.224251Z",
          "iopub.execute_input": "2021-08-14T21:13:31.224668Z",
          "iopub.status.idle": "2021-08-14T21:13:31.256128Z",
          "shell.execute_reply.started": "2021-08-14T21:13:31.224637Z",
          "shell.execute_reply": "2021-08-14T21:13:31.254947Z"
        },
        "trusted": true,
        "outputId": "8687f73f-4235-4095-c3b1-d950cc8d23fe"
      },
      "source": [
        "filter_data =   (scores_data['ranks']>=3) & (scores_data['ranks'] <=11.5)\n",
        "picked_data = scores_data[filter_data]\n",
        "print(picked_data.shape)"
      ],
      "execution_count": null,
      "outputs": [
        {
          "output_type": "stream",
          "text": [
            "(31365, 2)\n"
          ],
          "name": "stdout"
        }
      ]
    },
    {
      "cell_type": "code",
      "metadata": {
        "id": "WkWAbJ7GDdAc",
        "execution": {
          "iopub.status.busy": "2021-08-14T21:13:33.356656Z",
          "iopub.execute_input": "2021-08-14T21:13:33.357103Z",
          "iopub.status.idle": "2021-08-14T21:13:43.669305Z",
          "shell.execute_reply.started": "2021-08-14T21:13:33.357058Z",
          "shell.execute_reply": "2021-08-14T21:13:43.668092Z"
        },
        "trusted": true
      },
      "source": [
        "filtered_data = picked_data['word'].tolist()\n",
        "tokenizer = Tokenizer(num_words= len(num_of_words_in_essay) )\n",
        "tokenizer.fit_on_texts(filtered_data)\n",
        "filtered_essay_seq_train  = tokenizer.texts_to_sequences(X_train['essay'].values)\n",
        "filtered_essay_seq_test  = tokenizer.texts_to_sequences(X_test['essay'].values)\n",
        "filtered_essay_vocab_size = len(tokenizer.word_index)\n"
      ],
      "execution_count": null,
      "outputs": []
    },
    {
      "cell_type": "code",
      "metadata": {
        "id": "Rl_z8K7vEVcs",
        "execution": {
          "iopub.status.busy": "2021-08-14T21:13:45.054157Z",
          "iopub.execute_input": "2021-08-14T21:13:45.054492Z",
          "iopub.status.idle": "2021-08-14T21:13:45.074335Z",
          "shell.execute_reply.started": "2021-08-14T21:13:45.054463Z",
          "shell.execute_reply": "2021-08-14T21:13:45.072659Z"
        },
        "trusted": true,
        "outputId": "c6b8f485-34bc-4980-c7a8-3eb685542fcf"
      },
      "source": [
        "print(\"There are {} number of unique words in the entire text corpus\".format(filtered_essay_vocab_size))\n",
        "print('*'*50)\n",
        "filtered_Train_set_max_len = max([len(x) for x in filtered_essay_seq_train])\n",
        "filtered_Test_set_max_len = max([len(x) for x in filtered_essay_seq_test])\n",
        "print(\"Max length of Training sequence for Essay is :\",filtered_Train_set_max_len)\n",
        "print(\"*\"*80)\n",
        "print(\"Max length of Testing sequence for Essay is :\",filtered_Test_set_max_len)"
      ],
      "execution_count": null,
      "outputs": [
        {
          "output_type": "stream",
          "text": [
            "There are 31365 number of unique words in the entire text corpus\n",
            "**************************************************\n",
            "Max length of Training sequence for Essay is : 230\n",
            "********************************************************************************\n",
            "Max length of Testing sequence for Essay is : 226\n"
          ],
          "name": "stdout"
        }
      ]
    },
    {
      "cell_type": "markdown",
      "metadata": {
        "id": "7c9Zh1X3F21u"
      },
      "source": [
        "# 5.2 Padding the sequences"
      ]
    },
    {
      "cell_type": "code",
      "metadata": {
        "id": "WO4wcWZPE6VK",
        "execution": {
          "iopub.status.busy": "2021-08-14T21:13:51.495476Z",
          "iopub.execute_input": "2021-08-14T21:13:51.495902Z",
          "iopub.status.idle": "2021-08-14T21:13:53.641166Z",
          "shell.execute_reply.started": "2021-08-14T21:13:51.495869Z",
          "shell.execute_reply": "2021-08-14T21:13:53.639114Z"
        },
        "trusted": true,
        "outputId": "6b15c629-faa7-4bec-a8e4-500e718f154a"
      },
      "source": [
        "\n",
        "max_seq_len = 240\n",
        "X_train_pad = tf.keras.preprocessing.sequence.pad_sequences(filtered_essay_seq_train, maxlen = max_seq_len, padding = 'post')\n",
        "X_test_pad = tf.keras.preprocessing.sequence.pad_sequences(filtered_essay_seq_test, maxlen = max_seq_len, padding = 'post')\n",
        "print(\"After Padding Shape of Training data for Eassy :\", X_train_pad.shape)\n",
        "print(\"*\"*80)\n",
        "print(\"After Padding Shape of Testing data for Eassy :\", X_test_pad.shape)\n"
      ],
      "execution_count": null,
      "outputs": [
        {
          "output_type": "stream",
          "text": [
            "After Padding Shape of Training data for Eassy : (87398, 240)\n",
            "********************************************************************************\n",
            "After Padding Shape of Testing data for Eassy : (21850, 240)\n"
          ],
          "name": "stdout"
        }
      ]
    },
    {
      "cell_type": "code",
      "metadata": {
        "id": "fsHTLtLeGQWy",
        "execution": {
          "iopub.status.busy": "2021-08-14T21:13:59.265395Z",
          "iopub.execute_input": "2021-08-14T21:13:59.265761Z",
          "iopub.status.idle": "2021-08-14T21:13:59.391260Z",
          "shell.execute_reply.started": "2021-08-14T21:13:59.265732Z",
          "shell.execute_reply": "2021-08-14T21:13:59.390008Z"
        },
        "trusted": true,
        "outputId": "61bacde3-10c4-4d24-9719-6b3bef2baf2e"
      },
      "source": [
        "# computing word2vec embedding matrix for each review.\n",
        "embedding_matrix_new = np.zeros((filtered_essay_vocab_size+1,300))\n",
        "for word, index in tokenizer.word_index.items():\n",
        "  if word in glove_words:\n",
        "    embedding_vector = model[word]\n",
        "    embedding_matrix_new[index] = embedding_vector\n",
        "\n",
        "print(embedding_matrix_new.shape)"
      ],
      "execution_count": null,
      "outputs": [
        {
          "output_type": "stream",
          "text": [
            "(31366, 300)\n"
          ],
          "name": "stdout"
        }
      ]
    },
    {
      "cell_type": "markdown",
      "metadata": {
        "id": "sc1eVCXBG283"
      },
      "source": [
        "## Creating Model-2"
      ]
    },
    {
      "cell_type": "code",
      "metadata": {
        "id": "vRLRFS5bGuRa",
        "execution": {
          "iopub.status.busy": "2021-08-14T21:17:05.108184Z",
          "iopub.execute_input": "2021-08-14T21:17:05.108674Z",
          "iopub.status.idle": "2021-08-14T21:17:05.125564Z",
          "shell.execute_reply.started": "2021-08-14T21:17:05.108642Z",
          "shell.execute_reply": "2021-08-14T21:17:05.124323Z"
        },
        "trusted": true
      },
      "source": [
        "\n",
        "def model_2():\n",
        "  \n",
        "  # essay_input # the input shape will be the shape of the embedding matrix\n",
        "  input_1 = Input(shape=(240,), name='essay_input') #Using name to map inputs while calling  model.fit()\n",
        "  embd = Embedding(filtered_essay_vocab_size+1,300, weights=[embedding_matrix_new], input_length=240,trainable=False)(input_1)\n",
        "  lstm_unit = LSTM(128,kernel_regularizer=regularizers.l1(0.001),return_sequences=True)(embd)\n",
        "  flatten_1 = Flatten()(lstm_unit)\n",
        "\n",
        "\n",
        "  # school_state\n",
        "  input_2 = Input(shape=(1,), name='school_state')\n",
        "  school_state = Embedding(output_dim=28 , input_dim=52, input_length=1)(input_2)\n",
        "  flatten_2 = Flatten()(school_state)\n",
        "\n",
        "\n",
        "  #teacher_prefix\n",
        "  input_3 = Input(shape=(1,), name='teacher_prefix')\n",
        "  teacher_prefix = Embedding(output_dim=4, input_dim=6, input_length=1)(input_3)\n",
        "  flatten_3 = Flatten()(teacher_prefix)\n",
        "\n",
        "\n",
        "  #clean_categories\n",
        "  input_4 = Input(shape=(1,), name='clean_categories')\n",
        "  clean_categories = Embedding(output_dim=28, input_dim=52, input_length=1)(input_4)\n",
        "  flatten_4 = Flatten()(clean_categories)\n",
        "\n",
        "\n",
        "  #clean_subcategories\n",
        "  input_5 = Input(shape=(1,), name='clean_subcategories')\n",
        "  clean_subcategories = Embedding(output_dim=50, input_dim=394, input_length=1)(input_5)\n",
        "  flatten_5 = Flatten()(clean_subcategories)\n",
        "\n",
        "\n",
        "\n",
        "  #project_grade_category\n",
        "  input_6 = Input(shape=(1,), name='project_grade_category')\n",
        "  project_grade_category = Embedding(output_dim=3, input_dim=5, input_length=1)(input_6)\n",
        "  flatten_6 = Flatten()(project_grade_category)\n",
        "\n",
        "  # numerical features\n",
        "  numeric_features = Input(shape=(2,) , name=\"numerical_features\")\n",
        "  numeric_dense = Dense(32, activation='swish' , kernel_initializer='glorot_normal')(numeric_features )\n",
        "\n",
        "\n",
        "  #Concating all the flatenned inputs\n",
        "  concat = concatenate([flatten_1 , flatten_2 , flatten_3 ,flatten_4 , flatten_5 , flatten_6 , numeric_dense])\n",
        "\n",
        "  #dense-block\n",
        "  dense_1 = Dense(64, activation='swish', name='dense_1',kernel_initializer='glorot_normal',\n",
        "                kernel_regularizer=regularizers.l2(0.001))(concat)\n",
        "  \n",
        "  dense_2 = Dense(32, activation='swish', name='dense_2',kernel_initializer='glorot_normal',\n",
        "                 kernel_regularizer=regularizers.l2(0.001))(dense_1)\n",
        "\n",
        "  dense_3 = Dense(16, activation='swish', name='dense_3',kernel_initializer='glorot_normal',\n",
        "                 kernel_regularizer=regularizers.l2(0.001))(dense_2)\n",
        "  \n",
        "\n",
        "\n",
        "\n",
        "  output = Dense(2, activation='softmax', name='output')(dense_3)\n",
        "\n",
        "  model = Model(inputs=[input_1, input_2 ,input_3,input_4,\n",
        "                       input_5,input_6 ,numeric_features],outputs=[output])\n",
        "  return model\n"
      ],
      "execution_count": null,
      "outputs": []
    },
    {
      "cell_type": "code",
      "metadata": {
        "id": "9L4WaScKHD4c",
        "execution": {
          "iopub.status.busy": "2021-08-14T21:17:05.518156Z",
          "iopub.execute_input": "2021-08-14T21:17:05.518528Z",
          "iopub.status.idle": "2021-08-14T21:17:06.030202Z",
          "shell.execute_reply.started": "2021-08-14T21:17:05.518494Z",
          "shell.execute_reply": "2021-08-14T21:17:06.029068Z"
        },
        "trusted": true,
        "outputId": "f95d0464-8bbb-4d29-fa59-6b8b0ed4ea4f"
      },
      "source": [
        "model_2 = model_2()\n",
        "model_2.summary()"
      ],
      "execution_count": null,
      "outputs": [
        {
          "output_type": "stream",
          "text": [
            "Model: \"model_4\"\n",
            "__________________________________________________________________________________________________\n",
            "Layer (type)                    Output Shape         Param #     Connected to                     \n",
            "==================================================================================================\n",
            "essay_input (InputLayer)        [(None, 240)]        0                                            \n",
            "__________________________________________________________________________________________________\n",
            "embedding_30 (Embedding)        (None, 240, 300)     9409800     essay_input[0][0]                \n",
            "__________________________________________________________________________________________________\n",
            "school_state (InputLayer)       [(None, 1)]          0                                            \n",
            "__________________________________________________________________________________________________\n",
            "teacher_prefix (InputLayer)     [(None, 1)]          0                                            \n",
            "__________________________________________________________________________________________________\n",
            "clean_categories (InputLayer)   [(None, 1)]          0                                            \n",
            "__________________________________________________________________________________________________\n",
            "clean_subcategories (InputLayer [(None, 1)]          0                                            \n",
            "__________________________________________________________________________________________________\n",
            "project_grade_category (InputLa [(None, 1)]          0                                            \n",
            "__________________________________________________________________________________________________\n",
            "lstm_5 (LSTM)                   (None, 240, 128)     219648      embedding_30[0][0]               \n",
            "__________________________________________________________________________________________________\n",
            "embedding_31 (Embedding)        (None, 1, 28)        1456        school_state[0][0]               \n",
            "__________________________________________________________________________________________________\n",
            "embedding_32 (Embedding)        (None, 1, 4)         24          teacher_prefix[0][0]             \n",
            "__________________________________________________________________________________________________\n",
            "embedding_33 (Embedding)        (None, 1, 28)        1456        clean_categories[0][0]           \n",
            "__________________________________________________________________________________________________\n",
            "embedding_34 (Embedding)        (None, 1, 50)        19700       clean_subcategories[0][0]        \n",
            "__________________________________________________________________________________________________\n",
            "embedding_35 (Embedding)        (None, 1, 3)         15          project_grade_category[0][0]     \n",
            "__________________________________________________________________________________________________\n",
            "numerical_features (InputLayer) [(None, 2)]          0                                            \n",
            "__________________________________________________________________________________________________\n",
            "flatten_30 (Flatten)            (None, 30720)        0           lstm_5[0][0]                     \n",
            "__________________________________________________________________________________________________\n",
            "flatten_31 (Flatten)            (None, 28)           0           embedding_31[0][0]               \n",
            "__________________________________________________________________________________________________\n",
            "flatten_32 (Flatten)            (None, 4)            0           embedding_32[0][0]               \n",
            "__________________________________________________________________________________________________\n",
            "flatten_33 (Flatten)            (None, 28)           0           embedding_33[0][0]               \n",
            "__________________________________________________________________________________________________\n",
            "flatten_34 (Flatten)            (None, 50)           0           embedding_34[0][0]               \n",
            "__________________________________________________________________________________________________\n",
            "flatten_35 (Flatten)            (None, 3)            0           embedding_35[0][0]               \n",
            "__________________________________________________________________________________________________\n",
            "dense_5 (Dense)                 (None, 32)           96          numerical_features[0][0]         \n",
            "__________________________________________________________________________________________________\n",
            "concatenate_5 (Concatenate)     (None, 30865)        0           flatten_30[0][0]                 \n",
            "                                                                 flatten_31[0][0]                 \n",
            "                                                                 flatten_32[0][0]                 \n",
            "                                                                 flatten_33[0][0]                 \n",
            "                                                                 flatten_34[0][0]                 \n",
            "                                                                 flatten_35[0][0]                 \n",
            "                                                                 dense_5[0][0]                    \n",
            "__________________________________________________________________________________________________\n",
            "dense_1 (Dense)                 (None, 64)           1975424     concatenate_5[0][0]              \n",
            "__________________________________________________________________________________________________\n",
            "dense_2 (Dense)                 (None, 32)           2080        dense_1[0][0]                    \n",
            "__________________________________________________________________________________________________\n",
            "dense_3 (Dense)                 (None, 16)           528         dense_2[0][0]                    \n",
            "__________________________________________________________________________________________________\n",
            "output (Dense)                  (None, 2)            34          dense_3[0][0]                    \n",
            "==================================================================================================\n",
            "Total params: 11,630,261\n",
            "Trainable params: 2,220,461\n",
            "Non-trainable params: 9,409,800\n",
            "__________________________________________________________________________________________________\n"
          ],
          "name": "stdout"
        }
      ]
    },
    {
      "cell_type": "code",
      "metadata": {
        "id": "8oCVW_O6HIVk",
        "execution": {
          "iopub.status.busy": "2021-08-14T21:17:06.032265Z",
          "iopub.execute_input": "2021-08-14T21:17:06.032702Z",
          "iopub.status.idle": "2021-08-14T21:17:06.045264Z",
          "shell.execute_reply.started": "2021-08-14T21:17:06.032656Z",
          "shell.execute_reply": "2021-08-14T21:17:06.044078Z"
        },
        "trusted": true
      },
      "source": [
        "def train_model_2():\n",
        "   \n",
        "\n",
        "  opt = tf.keras.optimizers.Adam(0.001)\n",
        "    \n",
        "  metrics = [\"acc\",au_roc] \n",
        "                                                                        \n",
        "  model_2.compile(loss=\"categorical_crossentropy\", optimizer=opt, metrics=metrics) \n",
        "  callbacks = [\n",
        "        ModelCheckpoint(\"/kaggle/working/model_2.h5\",monitor = 'val_auc',save_best_only=True),\n",
        "        ReduceLROnPlateau(monitor='val_auc', factor=0.6,mode='max', patience=5), #Reducing learing rate by factor of(0.5),\n",
        "                                                                       # new_lr = lr * factor.\n",
        "        CSVLogger(\"/kaggle/working/data.csv\"),\n",
        "        TensorBoard(),\n",
        "        EarlyStopping(monitor='val_acc', patience=10,mode= 'max',restore_best_weights=True) #stop traing is val_loss does not change\n",
        "    ]                                                                             #after 20 epochs.\n",
        "  history = model_2.fit({'essay_input': X_train_pad, 'school_state': X_train_school_state, \n",
        "                         'project_grade_category': X_train_project_grade_category,\n",
        "                         'clean_categories': X_train_clean_categories,\n",
        "                         'clean_subcategories':X_train_clean_subcategories, \n",
        "                         'teacher_prefix':X_train_teacher_prefix,\n",
        "                         'numerical_features' : X_train_numerical},y_train,\n",
        "                          epochs=10, batch_size=128,verbose=1, \n",
        "                          validation_data=({'essay_input': X_test_pad, 'school_state': X_test_school_state, \n",
        "                                            'project_grade_category': X_test_project_grade_category,\n",
        "                                            'clean_categories': X_test_clean_categories,\n",
        "                                            'clean_subcategories':X_test_clean_subcategories, \n",
        "                                            'teacher_prefix':X_test_teacher_prefix ,\n",
        "                                            'numerical_features' : X_test_numerical},y_test),callbacks=callbacks)\n",
        "                    \n",
        "  \n",
        "  tf.keras.models.save_model(model_2,'/kaggle/working/final_model_2.h5')\n",
        "  \n",
        "  \n",
        "  return history\n"
      ],
      "execution_count": null,
      "outputs": []
    },
    {
      "cell_type": "code",
      "metadata": {
        "id": "xUm-gyzSHdcL",
        "execution": {
          "iopub.status.busy": "2021-08-14T21:17:06.635591Z",
          "iopub.execute_input": "2021-08-14T21:17:06.635995Z",
          "iopub.status.idle": "2021-08-14T21:22:18.986426Z",
          "shell.execute_reply.started": "2021-08-14T21:17:06.635962Z",
          "shell.execute_reply": "2021-08-14T21:22:18.985286Z"
        },
        "trusted": true,
        "outputId": "4a308305-320d-4060-f140-239d798dcd0d"
      },
      "source": [
        "if __name__ == '__main__':\n",
        "    config = tf.compat.v1.ConfigProto()\n",
        "    config.gpu_options.allow_growth = True\n",
        "    config.allow_soft_placement = True\n",
        "    sess = tf.compat.v1.Session(config=config)\n",
        "    tf.compat.v1.keras.backend.set_session(sess)\n",
        "\n",
        "    if len(sys.argv) > 1:\n",
        "        gpu = sys.argv[1]\n",
        "    device = '/device:GPU:0'   #using Gpu for paced training\n",
        "\n",
        "    with tf.device(device):\n",
        "        history_2 = train_model_2()"
      ],
      "execution_count": null,
      "outputs": [
        {
          "output_type": "stream",
          "text": [
            "Epoch 1/10\n",
            "683/683 [==============================] - 36s 48ms/step - loss: 1.6511 - acc: 0.8420 - au_roc: 0.6549 - val_loss: 0.4396 - val_acc: 0.8486 - val_au_roc: 0.7018\n",
            "Epoch 2/10\n",
            "683/683 [==============================] - 31s 45ms/step - loss: 0.4402 - acc: 0.8478 - au_roc: 0.7004 - val_loss: 0.4246 - val_acc: 0.8486 - val_au_roc: 0.7134\n",
            "Epoch 3/10\n",
            "683/683 [==============================] - 31s 45ms/step - loss: 0.4277 - acc: 0.8459 - au_roc: 0.7165 - val_loss: 0.4193 - val_acc: 0.8486 - val_au_roc: 0.7151\n",
            "Epoch 4/10\n",
            "683/683 [==============================] - 30s 44ms/step - loss: 0.4185 - acc: 0.8492 - au_roc: 0.7164 - val_loss: 0.4167 - val_acc: 0.8491 - val_au_roc: 0.7206\n",
            "Epoch 5/10\n",
            "683/683 [==============================] - 31s 45ms/step - loss: 0.4199 - acc: 0.8483 - au_roc: 0.7229 - val_loss: 0.4166 - val_acc: 0.8486 - val_au_roc: 0.7211\n",
            "Epoch 6/10\n",
            "683/683 [==============================] - 31s 45ms/step - loss: 0.4174 - acc: 0.8490 - au_roc: 0.7218 - val_loss: 0.4208 - val_acc: 0.8501 - val_au_roc: 0.7204\n",
            "Epoch 7/10\n",
            "683/683 [==============================] - 31s 45ms/step - loss: 0.4121 - acc: 0.8521 - au_roc: 0.7279 - val_loss: 0.4156 - val_acc: 0.8493 - val_au_roc: 0.7240\n",
            "Epoch 8/10\n",
            "683/683 [==============================] - 30s 44ms/step - loss: 0.4126 - acc: 0.8514 - au_roc: 0.7246 - val_loss: 0.4466 - val_acc: 0.8362 - val_au_roc: 0.7223\n",
            "Epoch 9/10\n",
            "683/683 [==============================] - 31s 45ms/step - loss: 0.4096 - acc: 0.8540 - au_roc: 0.7272 - val_loss: 0.4167 - val_acc: 0.8519 - val_au_roc: 0.7247\n",
            "Epoch 10/10\n",
            "683/683 [==============================] - 31s 45ms/step - loss: 0.4131 - acc: 0.8527 - au_roc: 0.7225 - val_loss: 0.4170 - val_acc: 0.8506 - val_au_roc: 0.7246\n"
          ],
          "name": "stdout"
        }
      ]
    },
    {
      "cell_type": "code",
      "metadata": {
        "id": "JGSUs-A7R_Ef",
        "execution": {
          "iopub.status.busy": "2021-08-14T21:22:42.073963Z",
          "iopub.execute_input": "2021-08-14T21:22:42.074377Z",
          "iopub.status.idle": "2021-08-14T21:22:42.253339Z",
          "shell.execute_reply.started": "2021-08-14T21:22:42.074346Z",
          "shell.execute_reply": "2021-08-14T21:22:42.252167Z"
        },
        "trusted": true,
        "outputId": "06fc070f-0b54-4609-b0c3-e97f9c355365"
      },
      "source": [
        "import matplotlib.pyplot as plt\n",
        "epochs =10\n",
        "epochs_range = range(epochs)\n",
        "auc = history_2.history['au_roc']\n",
        "val_auc = history_2.history['val_au_roc']\n",
        "plt.figure(figsize=(8, 8))\n",
        "plt.subplot(1, 2, 1)\n",
        "plt.plot(epochs_range, auc, label='Training AUC')\n",
        "plt.plot(epochs_range, val_auc, label='Validation AUC')\n",
        "plt.legend(loc='lower right')\n",
        "plt.title('Training and Validation AUC')\n",
        "plt.show()"
      ],
      "execution_count": null,
      "outputs": [
        {
          "output_type": "display_data",
          "data": {
            "text/plain": [
              "<Figure size 576x576 with 1 Axes>"
            ],
            "image/png": "[encoded data removed]"
          },
          "metadata": {
            "tags": [],
            "needs_background": "light"
          }
        }
      ]
    },
    {
      "cell_type": "markdown",
      "metadata": {
        "id": "4VytSZ1nPCTr"
      },
      "source": [
        "# 6 Prepraing data for Model-3"
      ]
    },
    {
      "cell_type": "markdown",
      "metadata": {
        "id": "QY2uYCu3PrLQ"
      },
      "source": [
        "## 6.1 One-hot Ecodings for Categorical features"
      ]
    },
    {
      "cell_type": "markdown",
      "metadata": {
        "id": "TXVcCesvPv27"
      },
      "source": [
        "### 6.1.1 School State"
      ]
    },
    {
      "cell_type": "code",
      "metadata": {
        "id": "Q_jxgJRhHi5K",
        "execution": {
          "iopub.status.busy": "2021-08-14T21:23:04.832335Z",
          "iopub.execute_input": "2021-08-14T21:23:04.832736Z",
          "iopub.status.idle": "2021-08-14T21:23:05.742880Z",
          "shell.execute_reply.started": "2021-08-14T21:23:04.832705Z",
          "shell.execute_reply": "2021-08-14T21:23:05.741552Z"
        },
        "trusted": true,
        "outputId": "7e8e5b1b-8427-481d-c639-6b0f7c73f187"
      },
      "source": [
        "from sklearn.feature_extraction.text import CountVectorizer\n",
        "vectorizer = CountVectorizer()\n",
        "vectorizer.fit(X_train['school_state'].values)\n",
        "school_state_vocab_one_hot = len(vectorizer.vocabulary_)\n",
        "\n",
        "\n",
        "X_train_school_state_hot = np.array(vectorizer.transform(X_train['school_state'].values).todense())\n",
        "X_test_school_state_hot = np.array(vectorizer.transform(X_test['school_state'].values).todense())\n",
        "\n",
        "print(\"X_train school_state categorical data shape : \", X_train_school_state_hot.shape)\n",
        "print(\"**\"*50)\n",
        "print(\"X_test school_state categorical data shape : \", X_test_school_state_hot.shape)\n",
        "print(\"**\"*50)\n",
        "print(\"The vocabulary size : \", school_state_vocab_one_hot)"
      ],
      "execution_count": null,
      "outputs": [
        {
          "output_type": "stream",
          "text": [
            "X_train school_state categorical data shape :  (87398, 51)\n",
            "****************************************************************************************************\n",
            "X_test school_state categorical data shape :  (21850, 51)\n",
            "****************************************************************************************************\n",
            "The vocabulary size :  51\n"
          ],
          "name": "stdout"
        }
      ]
    },
    {
      "cell_type": "markdown",
      "metadata": {
        "id": "5au1wjEsQSma"
      },
      "source": [
        "### 6.1.2 Teacher Prefix"
      ]
    },
    {
      "cell_type": "code",
      "metadata": {
        "id": "adINJP2qQR-Y",
        "execution": {
          "iopub.status.busy": "2021-08-14T21:23:08.893035Z",
          "iopub.execute_input": "2021-08-14T21:23:08.893406Z",
          "iopub.status.idle": "2021-08-14T21:23:09.775629Z",
          "shell.execute_reply.started": "2021-08-14T21:23:08.893374Z",
          "shell.execute_reply": "2021-08-14T21:23:09.774603Z"
        },
        "trusted": true,
        "outputId": "e99741b1-dbc3-448a-923e-642aebab093d"
      },
      "source": [
        "vectorizer = CountVectorizer()\n",
        "vectorizer.fit(X_train['teacher_prefix'].values)\n",
        "teacher_prefix_vocab_one_hot = len(vectorizer.vocabulary_)\n",
        "\n",
        "\n",
        "X_train_teacher_prefix_hot = np.array(vectorizer.transform(X_train['teacher_prefix'].values).todense())\n",
        "X_test_teacher_prefix_hot = np.array(vectorizer.transform(X_test['teacher_prefix'].values).todense())\n",
        "\n",
        "print(\"X_train_teacher_prefix_hot categorical data shape : \", X_train_teacher_prefix_hot.shape)\n",
        "print(\"**\"*50)\n",
        "print(\"X_train_teacher_prefix_hot categorical data shape : \", X_test_teacher_prefix_hot.shape)\n",
        "print(\"**\"*50)\n",
        "print(\"The vocabulary size  : \", teacher_prefix_vocab_one_hot)"
      ],
      "execution_count": null,
      "outputs": [
        {
          "output_type": "stream",
          "text": [
            "X_train_teacher_prefix_hot categorical data shape :  (87398, 5)\n",
            "****************************************************************************************************\n",
            "X_train_teacher_prefix_hot categorical data shape :  (21850, 5)\n",
            "****************************************************************************************************\n",
            "The vocabulary size  :  5\n"
          ],
          "name": "stdout"
        }
      ]
    },
    {
      "cell_type": "markdown",
      "metadata": {
        "id": "7lZlnnORQxtA"
      },
      "source": [
        "### 6.1.3 Project grade category"
      ]
    },
    {
      "cell_type": "code",
      "metadata": {
        "id": "Rt41g8rNQ1_A",
        "execution": {
          "iopub.status.busy": "2021-08-14T21:23:12.316702Z",
          "iopub.execute_input": "2021-08-14T21:23:12.317127Z",
          "iopub.status.idle": "2021-08-14T21:23:13.220111Z",
          "shell.execute_reply.started": "2021-08-14T21:23:12.317094Z",
          "shell.execute_reply": "2021-08-14T21:23:13.218681Z"
        },
        "trusted": true,
        "outputId": "9f8f6300-9aea-4185-876c-2ef39adca3ca"
      },
      "source": [
        "vectorizer = CountVectorizer()\n",
        "vectorizer.fit(X_train['project_grade_category'].values)\n",
        "project_grade_category_one_hot_vocab = len(vectorizer.vocabulary_)\n",
        "\n",
        "\n",
        "X_train_project_grade_category_hot = np.array(vectorizer.transform(X_train['project_grade_category'].values).todense())\n",
        "X_test_project_grade_category_hot = np.array(vectorizer.transform(X_test['project_grade_category'].values).todense())\n",
        "\n",
        "print(\"X_train_project_grade_category_hot categorical data shape : \", X_train_project_grade_category_hot.shape)\n",
        "print(\"**\"*50)\n",
        "print(\"X_test_project_grade_category_hot categorical data shape : \", X_test_project_grade_category_hot.shape)\n",
        "print(\"**\"*50)\n",
        "print(\"The vocabulary size  : \", project_grade_category_one_hot_vocab)"
      ],
      "execution_count": null,
      "outputs": [
        {
          "output_type": "stream",
          "text": [
            "X_train_project_grade_category_hot categorical data shape :  (87398, 4)\n",
            "****************************************************************************************************\n",
            "X_test_project_grade_category_hot categorical data shape :  (21850, 4)\n",
            "****************************************************************************************************\n",
            "The vocabulary size  :  4\n"
          ],
          "name": "stdout"
        }
      ]
    },
    {
      "cell_type": "markdown",
      "metadata": {
        "id": "rdQDSf4VRGjY"
      },
      "source": [
        "### 6.1.4 Clean_categories"
      ]
    },
    {
      "cell_type": "code",
      "metadata": {
        "id": "acXlYfoBRJka",
        "execution": {
          "iopub.status.busy": "2021-08-14T21:23:15.529068Z",
          "iopub.execute_input": "2021-08-14T21:23:15.529451Z",
          "iopub.status.idle": "2021-08-14T21:23:16.523176Z",
          "shell.execute_reply.started": "2021-08-14T21:23:15.529413Z",
          "shell.execute_reply": "2021-08-14T21:23:16.522023Z"
        },
        "trusted": true,
        "outputId": "48f28b15-032d-4843-a71f-853843b04b69"
      },
      "source": [
        "vectorizer = CountVectorizer()\n",
        "vectorizer.fit(X_train['clean_categories'].values)\n",
        "clean_categories_one_hot_vocab = len(vectorizer.vocabulary_)\n",
        "\n",
        "\n",
        "X_train_clean_categories_hot = np.array(vectorizer.transform(X_train['clean_categories'].values).todense())\n",
        "X_test_clean_categories_hot = np.array(vectorizer.transform(X_test['clean_categories'].values).todense())\n",
        "\n",
        "print(\"X_train_clean_categories_hot categorical data shape : \", X_train_clean_categories_hot.shape)\n",
        "print(\"**\"*50)\n",
        "print(\"X_test_clean_categories_hot categorical data shape : \", X_test_clean_categories_hot.shape)\n",
        "print(\"**\"*50)\n",
        "print(\"The vocabulary size  : \", clean_categories_one_hot_vocab)"
      ],
      "execution_count": null,
      "outputs": [
        {
          "output_type": "stream",
          "text": [
            "X_train_clean_categories_hot categorical data shape :  (87398, 9)\n",
            "****************************************************************************************************\n",
            "X_test_clean_categories_hot categorical data shape :  (21850, 9)\n",
            "****************************************************************************************************\n",
            "The vocabulary size  :  9\n"
          ],
          "name": "stdout"
        }
      ]
    },
    {
      "cell_type": "markdown",
      "metadata": {
        "id": "Us7L2c9cRWp8"
      },
      "source": [
        "### 6.1.5 Clean sub_categories"
      ]
    },
    {
      "cell_type": "code",
      "metadata": {
        "id": "ijHDlzajRZZc",
        "execution": {
          "iopub.status.busy": "2021-08-14T21:23:18.877508Z",
          "iopub.execute_input": "2021-08-14T21:23:18.877883Z",
          "iopub.status.idle": "2021-08-14T21:23:19.921808Z",
          "shell.execute_reply.started": "2021-08-14T21:23:18.877852Z",
          "shell.execute_reply": "2021-08-14T21:23:19.920638Z"
        },
        "trusted": true,
        "outputId": "8c94b1a7-7d85-4536-91f4-a04800dde1fa"
      },
      "source": [
        "vectorizer = CountVectorizer()\n",
        "vectorizer.fit(X_train['clean_subcategories'].values)\n",
        "clean_subcategories_one_hot_vocab = len(vectorizer.vocabulary_)\n",
        "\n",
        "\n",
        "X_train_clean_subcategories_hot = np.array(vectorizer.transform(X_train['clean_subcategories'].values).todense())\n",
        "X_test_clean_subcategories_hot = np.array(vectorizer.transform(X_test['clean_subcategories'].values).todense())\n",
        "\n",
        "print(\"X_train_clean_subcategories_hot categorical data shape : \", X_train_clean_subcategories_hot.shape)\n",
        "print(\"**\"*50)\n",
        "print(\"X_test_clean_subcategories_hot categorical data shape : \", X_test_clean_subcategories_hot.shape)\n",
        "print(\"**\"*50)\n",
        "print(\"The vocabulary size  : \", clean_subcategories_one_hot_vocab)"
      ],
      "execution_count": null,
      "outputs": [
        {
          "output_type": "stream",
          "text": [
            "X_train_clean_subcategories_hot categorical data shape :  (87398, 30)\n",
            "****************************************************************************************************\n",
            "X_test_clean_subcategories_hot categorical data shape :  (21850, 30)\n",
            "****************************************************************************************************\n",
            "The vocabulary size  :  30\n"
          ],
          "name": "stdout"
        }
      ]
    },
    {
      "cell_type": "code",
      "metadata": {
        "id": "lmCaEgcxSrjS",
        "execution": {
          "iopub.status.busy": "2021-08-14T21:23:36.433498Z",
          "iopub.execute_input": "2021-08-14T21:23:36.433892Z",
          "iopub.status.idle": "2021-08-14T21:23:36.495675Z",
          "shell.execute_reply.started": "2021-08-14T21:23:36.433859Z",
          "shell.execute_reply": "2021-08-14T21:23:36.494556Z"
        },
        "trusted": true
      },
      "source": [
        "X_train_non_text_features = np.hstack((X_train_school_state_hot, X_train_teacher_prefix_hot, \n",
        "                                    X_train_project_grade_category_hot, X_train_clean_categories_hot, \n",
        "                                    X_train_clean_subcategories_hot, X_train_numerical))"
      ],
      "execution_count": null,
      "outputs": []
    },
    {
      "cell_type": "code",
      "metadata": {
        "id": "MxpNT84WTNgt",
        "execution": {
          "iopub.status.busy": "2021-08-14T21:23:38.182495Z",
          "iopub.execute_input": "2021-08-14T21:23:38.182906Z",
          "iopub.status.idle": "2021-08-14T21:23:38.198320Z",
          "shell.execute_reply.started": "2021-08-14T21:23:38.182857Z",
          "shell.execute_reply": "2021-08-14T21:23:38.197010Z"
        },
        "trusted": true
      },
      "source": [
        "X_test_non_text_features = np.hstack((X_test_school_state_hot, X_test_teacher_prefix_hot, \n",
        "                                    X_test_project_grade_category_hot, X_test_clean_categories_hot, \n",
        "                                    X_test_clean_subcategories_hot, X_test_numerical))"
      ],
      "execution_count": null,
      "outputs": []
    },
    {
      "cell_type": "code",
      "metadata": {
        "id": "L4rThpi0TclG",
        "execution": {
          "iopub.status.busy": "2021-08-14T21:23:47.149348Z",
          "iopub.execute_input": "2021-08-14T21:23:47.149672Z",
          "iopub.status.idle": "2021-08-14T21:23:47.157200Z",
          "shell.execute_reply.started": "2021-08-14T21:23:47.149644Z",
          "shell.execute_reply": "2021-08-14T21:23:47.155903Z"
        },
        "trusted": true,
        "outputId": "e4536edb-950c-4cae-d2c9-c6ef8c66f581"
      },
      "source": [
        "print(\"Non-text features shape Train data : \", X_train_non_text_features.shape)\n",
        "print(\"**\"*50)\n",
        "print(\"Non-text features shape Test data : \", X_test_non_text_features.shape)\n"
      ],
      "execution_count": null,
      "outputs": [
        {
          "output_type": "stream",
          "text": [
            "Non-text features shape Train data :  (87398, 101)\n",
            "****************************************************************************************************\n",
            "Non-text features shape Test data :  (21850, 101)\n"
          ],
          "name": "stdout"
        }
      ]
    },
    {
      "cell_type": "code",
      "metadata": {
        "id": "6rUHSbRATq8R",
        "execution": {
          "iopub.status.busy": "2021-08-14T21:24:00.722964Z",
          "iopub.execute_input": "2021-08-14T21:24:00.723392Z",
          "iopub.status.idle": "2021-08-14T21:24:00.732282Z",
          "shell.execute_reply.started": "2021-08-14T21:24:00.723313Z",
          "shell.execute_reply": "2021-08-14T21:24:00.730633Z"
        },
        "trusted": true,
        "outputId": "ffbbf4c9-0e5e-44db-c440-bedb73674498"
      },
      "source": [
        "X_train_new = X_train_non_text_features.reshape(X_train_non_text_features.shape[0], 101, 1)\n",
        "X_test_new = X_test_non_text_features.reshape(X_test_non_text_features.shape[0],101,1)\n",
        "print(\"Non-text features shape Train data after reshaping : \", X_train_new.shape)\n",
        "print(\"**\"*50)\n",
        "print(\"Non-text features shape Test data after reshaping: \", X_test_new.shape)\n"
      ],
      "execution_count": null,
      "outputs": [
        {
          "output_type": "stream",
          "text": [
            "Non-text features shape Train data after reshaping :  (87398, 101, 1)\n",
            "****************************************************************************************************\n",
            "Non-text features shape Test data after reshaping:  (21850, 101, 1)\n"
          ],
          "name": "stdout"
        }
      ]
    },
    {
      "cell_type": "code",
      "metadata": {
        "id": "B5dtm5E6UMyt",
        "execution": {
          "iopub.status.busy": "2021-08-14T21:29:41.742345Z",
          "iopub.execute_input": "2021-08-14T21:29:41.742726Z",
          "iopub.status.idle": "2021-08-14T21:29:41.756946Z",
          "shell.execute_reply.started": "2021-08-14T21:29:41.742694Z",
          "shell.execute_reply": "2021-08-14T21:29:41.755337Z"
        },
        "trusted": true
      },
      "source": [
        "from keras.layers import Convolution1D\n",
        "\n",
        "def model_3():\n",
        "  \n",
        "  # essay_input # the input shape will be the shape of the embedding matrix\n",
        "  input_1 = Input(shape=(340,), name='essay_input') #Using name to map inputs while calling  model.fit()\n",
        "  embd = Embedding(len(word_index)+1,300, weights=[embedding_matrix], input_length=340,trainable=False)(input_1)\n",
        "  lstm_unit = LSTM(128,kernel_regularizer=regularizers.l2(0.001),return_sequences=True,\n",
        "                  kernel_initializer='glorot_normal')(embd)\n",
        "  flatten_1 = Flatten()(lstm_unit)\n",
        "\n",
        "\n",
        "  conv_input = Input(shape=(101, 1),name = 'conv_input')\n",
        "\n",
        "  # Creating the 1st convolution layer\n",
        "  conv_1 = Convolution1D(filters = 512, kernel_size = 3, strides = 1, padding = 'valid', \n",
        "                       activation = 'swish', kernel_regularizer=regularizers.l2(0.001),\n",
        "                       kernel_initializer = 'glorot_normal')(conv_input)\n",
        "  \n",
        "  # Creating the 2nd convolution layer \n",
        "  conv_2 = Convolution1D(filters = 128, kernel_size = 3, strides = 1, padding = 'valid', \n",
        "                       activation = 'swish',kernel_regularizer=regularizers.l2(0.001),\n",
        "                       kernel_initializer = 'glorot_normal')(conv_1)\n",
        "\n",
        "  # Flattening the data\n",
        "  convolution_flatten = Flatten()(conv_2)\n",
        "\n",
        "\n",
        "  #Concating all the flatenned inputs\n",
        "  concat = concatenate([flatten_1 , convolution_flatten])\n",
        "\n",
        "  #dense-block\n",
        "  dense_1 = Dense(64, activation='swish', name='dense_1',kernel_initializer='glorot_normal',\n",
        "                kernel_regularizer=regularizers.l2(0.001))(concat)\n",
        "  \n",
        "  dense_2 = Dense(32, activation='swish', name='dense_2',kernel_initializer='glorot_normal',\n",
        "                 kernel_regularizer=regularizers.l2(0.001))(dense_1)\n",
        "\n",
        "  dense_3 = Dense(16, activation='swish', name='dense_3',kernel_initializer='glorot_normal',\n",
        "                 kernel_regularizer=regularizers.l2(0.001))(dense_2)\n",
        "  \n",
        "\n",
        "\n",
        "  output = Dense(2, activation='softmax', name='output')(dense_3)\n",
        "\n",
        "  model = Model(inputs=[input_1,conv_input],outputs=[output])\n",
        "  return model\n"
      ],
      "execution_count": null,
      "outputs": []
    },
    {
      "cell_type": "code",
      "metadata": {
        "id": "8f5nlJyXU_Lq",
        "execution": {
          "iopub.status.busy": "2021-08-14T21:29:42.106593Z",
          "iopub.execute_input": "2021-08-14T21:29:42.106963Z",
          "iopub.status.idle": "2021-08-14T21:29:42.684380Z",
          "shell.execute_reply.started": "2021-08-14T21:29:42.106924Z",
          "shell.execute_reply": "2021-08-14T21:29:42.683329Z"
        },
        "trusted": true,
        "outputId": "3fd84bcd-b4b2-4543-baf9-b076b00d9cb0"
      },
      "source": [
        "model_3 = model_3()\n",
        "model_3.summary()"
      ],
      "execution_count": null,
      "outputs": [
        {
          "output_type": "stream",
          "text": [
            "Model: \"model_6\"\n",
            "__________________________________________________________________________________________________\n",
            "Layer (type)                    Output Shape         Param #     Connected to                     \n",
            "==================================================================================================\n",
            "essay_input (InputLayer)        [(None, 340)]        0                                            \n",
            "__________________________________________________________________________________________________\n",
            "conv_input (InputLayer)         [(None, 101, 1)]     0                                            \n",
            "__________________________________________________________________________________________________\n",
            "embedding_38 (Embedding)        (None, 340, 300)     15540900    essay_input[0][0]                \n",
            "__________________________________________________________________________________________________\n",
            "conv1d_4 (Conv1D)               (None, 99, 512)      2048        conv_input[0][0]                 \n",
            "__________________________________________________________________________________________________\n",
            "lstm_8 (LSTM)                   (None, 340, 128)     219648      embedding_38[0][0]               \n",
            "__________________________________________________________________________________________________\n",
            "conv1d_5 (Conv1D)               (None, 97, 128)      196736      conv1d_4[0][0]                   \n",
            "__________________________________________________________________________________________________\n",
            "flatten_40 (Flatten)            (None, 43520)        0           lstm_8[0][0]                     \n",
            "__________________________________________________________________________________________________\n",
            "flatten_41 (Flatten)            (None, 12416)        0           conv1d_5[0][0]                   \n",
            "__________________________________________________________________________________________________\n",
            "concatenate_8 (Concatenate)     (None, 55936)        0           flatten_40[0][0]                 \n",
            "                                                                 flatten_41[0][0]                 \n",
            "__________________________________________________________________________________________________\n",
            "dense_1 (Dense)                 (None, 64)           3579968     concatenate_8[0][0]              \n",
            "__________________________________________________________________________________________________\n",
            "dense_2 (Dense)                 (None, 32)           2080        dense_1[0][0]                    \n",
            "__________________________________________________________________________________________________\n",
            "dense_3 (Dense)                 (None, 16)           528         dense_2[0][0]                    \n",
            "__________________________________________________________________________________________________\n",
            "output (Dense)                  (None, 2)            34          dense_3[0][0]                    \n",
            "==================================================================================================\n",
            "Total params: 19,541,942\n",
            "Trainable params: 4,001,042\n",
            "Non-trainable params: 15,540,900\n",
            "__________________________________________________________________________________________________\n"
          ],
          "name": "stdout"
        }
      ]
    },
    {
      "cell_type": "code",
      "metadata": {
        "id": "VKm8B5hyVC_l",
        "execution": {
          "iopub.status.busy": "2021-08-14T21:29:48.064325Z",
          "iopub.execute_input": "2021-08-14T21:29:48.064767Z",
          "iopub.status.idle": "2021-08-14T21:29:48.076286Z",
          "shell.execute_reply.started": "2021-08-14T21:29:48.064735Z",
          "shell.execute_reply": "2021-08-14T21:29:48.074858Z"
        },
        "trusted": true
      },
      "source": [
        "from sklearn.metrics import roc_auc_score #Wraps a python function into a TensorFlow op that executes it eagerly\n",
        "def au_roc(y_true, y_pred):               #https://www.tensorflow.org/api_docs/python/tf/py_function\n",
        "  try:                                    #https://stackoverflow.com/questions/41032551/how-to-compute-receiving-operating-characteristic-roc-and-auc-in-keras\n",
        "      return tf.py_function(roc_auc_score, (y_true, y_pred), tf.double)\n",
        "  except ValueError:\n",
        "    pass\n",
        "\n",
        "def train_model_3():\n",
        "\n",
        "  opt = tf.keras.optimizers.Adam(0.001)\n",
        "    \n",
        "    \n",
        "  metrics = [\"acc\",au_roc] \n",
        "                                                                       \n",
        "  model_3.compile(loss=\"categorical_crossentropy\", optimizer=opt, metrics=metrics) \n",
        "  callbacks = [\n",
        "        ModelCheckpoint(\"/kaggle/working/model_3.h5\",monitor = 'val_loss',save_best_only=True),\n",
        "        ReduceLROnPlateau(monitor='val_loss', factor=0.6,mode='min', patience=3), #Reducing learing rate by factor of(0.6),\n",
        "                                                                       # new_lr = lr * factor.\n",
        "        CSVLogger(\"/kaggle/working/data.csv\"),\n",
        "        EarlyStopping(monitor='val_loss', patience=10,mode= 'min',restore_best_weights=True) #stop traing is val_loss does not change\n",
        "    ]                                                                             #after 20 epochs.\n",
        "  history = model_3.fit({'essay_input': X_train_padding, 'conv_input':X_train_new },y_train,\n",
        "                          epochs=10, batch_size=128,verbose=1, \n",
        "                          validation_data=({'essay_input': X_test_padding,'conv_input':X_test_new},y_test),\n",
        "                          callbacks=callbacks,class_weight = weights)\n",
        "                    \n",
        "  \n",
        "  tf.keras.models.save_model(model_3,'/kaggle/working/final_model_3.h5')\n",
        "  \n",
        "  \n",
        "  return history\n"
      ],
      "execution_count": null,
      "outputs": []
    },
    {
      "cell_type": "code",
      "metadata": {
        "id": "tmX_5MNBV60M",
        "execution": {
          "iopub.status.busy": "2021-08-14T21:29:48.730386Z",
          "iopub.execute_input": "2021-08-14T21:29:48.730762Z",
          "iopub.status.idle": "2021-08-14T21:37:18.438163Z",
          "shell.execute_reply.started": "2021-08-14T21:29:48.730730Z",
          "shell.execute_reply": "2021-08-14T21:37:18.436917Z"
        },
        "trusted": true,
        "outputId": "631826ff-e2a1-4692-a99c-95fe86e33909"
      },
      "source": [
        "if __name__ == '__main__':\n",
        "    config = tf.compat.v1.ConfigProto()\n",
        "    config.gpu_options.allow_growth = True\n",
        "    config.allow_soft_placement = True\n",
        "    sess = tf.compat.v1.Session(config=config)\n",
        "    tf.compat.v1.keras.backend.set_session(sess)\n",
        "\n",
        "    if len(sys.argv) > 1:\n",
        "        gpu = sys.argv[1]\n",
        "    device = '/device:GPU:0'   #using Gpu for paced training\n",
        "\n",
        "    with tf.device(device):\n",
        "        history_3 = train_model_3()"
      ],
      "execution_count": null,
      "outputs": [
        {
          "output_type": "stream",
          "text": [
            "Epoch 1/10\n",
            "683/683 [==============================] - 48s 67ms/step - loss: 0.8668 - acc: 0.6511 - au_roc: 0.6705 - val_loss: 0.5845 - val_acc: 0.7676 - val_au_roc: 0.7419\n",
            "Epoch 2/10\n",
            "683/683 [==============================] - 44s 65ms/step - loss: 0.6476 - acc: 0.7210 - au_roc: 0.7374 - val_loss: 0.5689 - val_acc: 0.7787 - val_au_roc: 0.7482\n",
            "Epoch 3/10\n",
            "683/683 [==============================] - 44s 65ms/step - loss: 0.6276 - acc: 0.7271 - au_roc: 0.7484 - val_loss: 0.6209 - val_acc: 0.7595 - val_au_roc: 0.7541\n",
            "Epoch 4/10\n",
            "683/683 [==============================] - 44s 65ms/step - loss: 0.6134 - acc: 0.7436 - au_roc: 0.7581 - val_loss: 0.6048 - val_acc: 0.7685 - val_au_roc: 0.7589\n",
            "Epoch 5/10\n",
            "683/683 [==============================] - 44s 65ms/step - loss: 0.6157 - acc: 0.7424 - au_roc: 0.7550 - val_loss: 0.6234 - val_acc: 0.7224 - val_au_roc: 0.7590\n",
            "Epoch 6/10\n",
            "683/683 [==============================] - 45s 66ms/step - loss: 0.6027 - acc: 0.7356 - au_roc: 0.7660 - val_loss: 0.5407 - val_acc: 0.7773 - val_au_roc: 0.7630\n",
            "Epoch 7/10\n",
            "683/683 [==============================] - 45s 65ms/step - loss: 0.5910 - acc: 0.7549 - au_roc: 0.7751 - val_loss: 0.5873 - val_acc: 0.7652 - val_au_roc: 0.7650\n",
            "Epoch 8/10\n",
            "683/683 [==============================] - 44s 65ms/step - loss: 0.5947 - acc: 0.7537 - au_roc: 0.7717 - val_loss: 0.5728 - val_acc: 0.7584 - val_au_roc: 0.7655\n",
            "Epoch 9/10\n",
            "683/683 [==============================] - 44s 65ms/step - loss: 0.5882 - acc: 0.7549 - au_roc: 0.7807 - val_loss: 0.6982 - val_acc: 0.6720 - val_au_roc: 0.7655\n",
            "Epoch 10/10\n",
            "683/683 [==============================] - 45s 65ms/step - loss: 0.5821 - acc: 0.7544 - au_roc: 0.7845 - val_loss: 0.5775 - val_acc: 0.7591 - val_au_roc: 0.7644\n"
          ],
          "name": "stdout"
        }
      ]
    },
    {
      "cell_type": "code",
      "metadata": {
        "execution": {
          "iopub.status.busy": "2021-08-14T21:39:09.892048Z",
          "iopub.execute_input": "2021-08-14T21:39:09.892435Z",
          "iopub.status.idle": "2021-08-14T21:39:09.900835Z",
          "shell.execute_reply.started": "2021-08-14T21:39:09.892402Z",
          "shell.execute_reply": "2021-08-14T21:39:09.899380Z"
        },
        "trusted": true,
        "id": "fQX7rqhxnKSZ",
        "outputId": "d2fae9e2-d292-4e21-d4ff-d88f4ec5063c"
      },
      "source": [
        "from prettytable import PrettyTable\n",
        "myTable = PrettyTable([\"Model\", \"Accuracy\",\"Validation Accuracy\",\"AUC\", \"Validation AUC\"])\n",
        "  \n",
        "# Add rows\n",
        "myTable.add_row([\"Model-1\", \"75.70\", \"74.25\", \"77.87\",'76.58'])\n",
        "myTable.add_row([\"Model-2\", \"85.27\", \"85.06\", \"72.25\",\"72.46\"])\n",
        "myTable.add_row([\"Model-3\", \"75.44\", \"75.91\", \"78.07\",'76.55'])\n",
        "\n",
        "  \n",
        "print(myTable)"
      ],
      "execution_count": null,
      "outputs": [
        {
          "output_type": "stream",
          "text": [
            "+---------+----------+---------------------+-------+----------------+\n",
            "|  Model  | Accuracy | Validation Accuracy |  AUC  | Validation AUC |\n",
            "+---------+----------+---------------------+-------+----------------+\n",
            "| Model-1 |  75.70   |        74.25        | 77.87 |     76.58      |\n",
            "| Model-2 |  85.27   |        85.06        | 72.25 |     72.46      |\n",
            "| Model-3 |  75.44   |        75.91        | 78.07 |     76.55      |\n",
            "+---------+----------+---------------------+-------+----------------+\n"
          ],
          "name": "stdout"
        }
      ]
    }
  ]
}